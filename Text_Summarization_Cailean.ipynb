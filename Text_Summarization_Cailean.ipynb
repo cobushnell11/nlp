{
  "nbformat": 4,
  "nbformat_minor": 0,
  "metadata": {
    "colab": {
      "provenance": []
    },
    "kernelspec": {
      "name": "python3",
      "display_name": "Python 3"
    },
    "language_info": {
      "name": "python"
    },
    "accelerator": "GPU"
  },
  "cells": [
    {
      "cell_type": "markdown",
      "source": [
        "# **In-Class Assignment: Text Summarization: Extraction**\n",
        "\n",
        "## *IS 5150*\n",
        "## Name: Cailean\n",
        "\n",
        "In the lecture we discussed that there are two main forms of text summarization:\n",
        "\n",
        "\n",
        "1.   Extraction-based summarization\n",
        "2.   Abstraction-based summarization\n",
        "\n",
        "In this in-class assignment, we will run through an example of an extraction-based summarization technique, as abstraction-based methods require much more data and compute power to produce successfully. We will work towards producing a simple summary of a video game description for *The Elder Scrolls V: Skyrim*. I provide the description below; but first we'll import all our dependencies.\n",
        "\n"
      ],
      "metadata": {
        "id": "3Bw0_6uiO6V_"
      }
    },
    {
      "cell_type": "code",
      "source": [
        "import re\n",
        "import gensim\n",
        "from gensim.summarization import summarize\n",
        "\n",
        "import nltk\n",
        "nltk.download('punkt')\n",
        "nltk.download('stopwords')\n",
        "import numpy as np\n",
        "\n",
        "import sklearn\n",
        "from sklearn.feature_extraction.text import TfidfVectorizer\n",
        "\n",
        "import pandas as pd\n",
        "\n",
        "import scipy\n",
        "from scipy.sparse.linalg import svds\n",
        "\n",
        "import matplotlib.pyplot as plt\n",
        "import networkx"
      ],
      "metadata": {
        "id": "92l2BsCBQLA-",
        "colab": {
          "base_uri": "https://localhost:8080/"
        },
        "outputId": "ff2f5298-8e62-4eb4-bc67-441687fe3ba1"
      },
      "execution_count": null,
      "outputs": [
        {
          "output_type": "stream",
          "name": "stderr",
          "text": [
            "[nltk_data] Downloading package punkt to /root/nltk_data...\n",
            "[nltk_data]   Unzipping tokenizers/punkt.zip.\n",
            "[nltk_data] Downloading package stopwords to /root/nltk_data...\n",
            "[nltk_data]   Unzipping corpora/stopwords.zip.\n"
          ]
        }
      ]
    },
    {
      "cell_type": "code",
      "execution_count": null,
      "metadata": {
        "id": "Auv_5mjQObOJ"
      },
      "outputs": [],
      "source": [
        "DOCUMENT = \"\"\"\n",
        "The Elder Scrolls V: Skyrim is an action role-playing video game developed by Bethesda Game Studios\n",
        "and published by Bethesda Softworks. It is the fifth main installment in The Elder Scrolls series,\n",
        "following The Elder Scrolls IV: Oblivion.\n",
        "The game's main story revolves around the player character's quest to defeat Alduin the World-Eater,\n",
        "a dragon who is prophesied to destroy the world. The game is set 200 years after the events of Oblivion\n",
        "and takes place in the fictional province of Skyrim. Over the course of the game, the player completes\n",
        "quests and develops the character by improving skills. The game continues the open-world tradition of\n",
        "its predecessors by allowing the player to travel anywhere in the game world at any time, and to ignore\n",
        "or postpone the main storyline indefinitely.\n",
        "The team opted for a unique and more diverse open world than Oblivion's Imperial Province of Cyrodiil,\n",
        "which game director and executive producer Todd Howard considered less interesting by comparison.\n",
        "The game was released to critical acclaim, with reviewers particularly mentioning the character advancement\n",
        "and setting, and is considered to be one of the greatest video games of all time.\n",
        "\n",
        "\n",
        "The Elder Scrolls V: Skyrim is an action role-playing game, playable from either a first or\n",
        "third-person perspective. The player may freely roam over the land of Skyrim which is an open world\n",
        "environment consisting of wilderness expanses, dungeons, cities, towns, fortresses, and villages.\n",
        "Players may navigate the game world more quickly by riding horses or by utilizing a fast-travel system\n",
        "which allows them to warp to previously discovered locations. The game's main quest can be completed or\n",
        "ignored at the player's preference after the first stage of the quest is finished. However, some quests\n",
        "rely on the main storyline being at least partially completed. Non-player characters (NPCs) populate the\n",
        "world and can be interacted with in a number of ways: the player may engage them in conversation,\n",
        "marry an eligible NPC, kill them or engage in a nonlethal \"brawl\". The player may\n",
        "choose to join factions which are organized groups of NPCs — for example, the Dark Brotherhood, a band\n",
        "of assassins. Each of the factions has an associated quest path to progress through. Each city and town\n",
        "in the game world has jobs that the player can engage in, such as farming.\n",
        "\n",
        "Players have the option to develop their character. At the beginning of the game, players create\n",
        "their character by selecting their sex and choosing between one of several races including humans,\n",
        "orcs, elves, and anthropomorphic cat or lizard-like creatures and then customizing their character's\n",
        "appearance. Over the course of the game, players improve their character's skills which are numerical\n",
        "representations of their ability in certain areas. There are eighteen skills divided evenly among the\n",
        "three schools of combat, magic, and stealth. When players have trained skills enough to meet the\n",
        "required experience, their character levels up. Health is depleted primarily when the player\n",
        "takes damage and the loss of all health results in death. Magicka is depleted by the use of spells,\n",
        "certain poisons and by being struck by lightning-based attacks. Stamina determines the player's\n",
        "effectiveness in combat and is depleted by sprinting, performing heavy \"power attacks\"\n",
        "and being struck by frost-based attacks. Skyrim is the first entry in The Elder Scrolls to\n",
        "include dragons in the game's wilderness. Like other creatures, dragons are generated randomly in\n",
        "the world and will engage in combat with NPCs, creatures and the player. Some dragons may attack\n",
        "cities and towns when in their proximity. The player character can absorb the souls of dragons\n",
        "in order to use powerful spells called \"dragon shouts\" or \"Thu'um\". A regeneration\n",
        "period limits the player's use of shouts in gameplay.\n",
        "\n",
        "Skyrim is set around 200 years after the events of The Elder Scrolls IV: Oblivion, although it is\n",
        "not a direct sequel. The game takes place in Skyrim, a province of the Empire on the continent of\n",
        "Tamriel, amid a civil war between two factions: the Stormcloaks, led by Ulfric Stormcloak, and the\n",
        "Imperial Legion, led by General Tullius. The player character is a Dragonborn, a mortal born with\n",
        "the soul and power of a dragon. Alduin, a large black dragon who returns to the land after being\n",
        "lost in time, serves as the game's primary antagonist. Alduin is the first dragon created by Akatosh,\n",
        "one of the series' gods, and is prophesied to destroy and consume the world.\n",
        "\"\"\""
      ]
    },
    {
      "cell_type": "markdown",
      "source": [
        "## **1) Basic Text Preprocessing**\n",
        "\n",
        "This text is already really clean, so our preprocessing will be pretty minimal. Let's go ahead and just remove extra lines and spaces using some basic regex string replacements."
      ],
      "metadata": {
        "id": "hmn33eg2RSFb"
      }
    },
    {
      "cell_type": "code",
      "source": [
        "DOCUMENT = re.sub(r'\\n|\\r', ' ', DOCUMENT)\n",
        "DOCUMENT = re.sub(r' +', ' ', DOCUMENT)\n",
        "DOCUMENT = DOCUMENT.strip()"
      ],
      "metadata": {
        "id": "Vg58eRANRdMj"
      },
      "execution_count": null,
      "outputs": []
    },
    {
      "cell_type": "markdown",
      "source": [
        "## **2) Gensim Built-In Summarizer**\n",
        "\n",
        "Gensim comes with its own pretrained summarizer, so we can check that out as a comparison before we go ahead and develop our own:"
      ],
      "metadata": {
        "id": "KReR29WsR_qp"
      }
    },
    {
      "cell_type": "code",
      "source": [
        "# print summary that limits the length of summary by proportion of the document\n",
        "print(summarize(DOCUMENT, ratio =0.2, split = False))"
      ],
      "metadata": {
        "id": "LFLaOInPSLjQ",
        "colab": {
          "base_uri": "https://localhost:8080/"
        },
        "outputId": "1eea399e-2dfb-4262-c044-dd160348f167"
      },
      "execution_count": null,
      "outputs": [
        {
          "output_type": "stream",
          "name": "stdout",
          "text": [
            "The game's main story revolves around the player character's quest to defeat Alduin the World-Eater, a dragon who is prophesied to destroy the world.\n",
            "Over the course of the game, the player completes quests and develops the character by improving skills.\n",
            "The game continues the open-world tradition of its predecessors by allowing the player to travel anywhere in the game world at any time, and to ignore or postpone the main storyline indefinitely.\n",
            "The player may freely roam over the land of Skyrim which is an open world environment consisting of wilderness expanses, dungeons, cities, towns, fortresses, and villages.\n",
            "Each city and town in the game world has jobs that the player can engage in, such as farming.\n",
            "Over the course of the game, players improve their character's skills which are numerical representations of their ability in certain areas.\n",
            "Like other creatures, dragons are generated randomly in the world and will engage in combat with NPCs, creatures and the player.\n"
          ]
        }
      ]
    },
    {
      "cell_type": "code",
      "source": [
        "# print summary that limits length based on word count\n",
        "\n",
        "print(summarize(DOCUMENT, word_count = 75, split = False))"
      ],
      "metadata": {
        "id": "K02imze_S9Iw",
        "colab": {
          "base_uri": "https://localhost:8080/"
        },
        "outputId": "de4475bc-a778-43a6-e9da-474c59ce118d"
      },
      "execution_count": null,
      "outputs": [
        {
          "output_type": "stream",
          "name": "stdout",
          "text": [
            "The game's main story revolves around the player character's quest to defeat Alduin the World-Eater, a dragon who is prophesied to destroy the world.\n",
            "Over the course of the game, the player completes quests and develops the character by improving skills.\n",
            "The player may freely roam over the land of Skyrim which is an open world environment consisting of wilderness expanses, dungeons, cities, towns, fortresses, and villages.\n"
          ]
        }
      ]
    },
    {
      "cell_type": "markdown",
      "source": [
        "**The first summary gives us about six sentences and the second gives us about three. What is the main difference between extraction and abstraction-based summarization techniques? In your opinion, does the extraction based summary do a good job in summarizing the point of the game?**"
      ],
      "metadata": {
        "id": "HoNyhmfoTQsF"
      }
    },
    {
      "cell_type": "markdown",
      "source": [
        "Extraction takes from the text, abstraction triest o distill the text down to the gist, but creates new sentences (NLG). so it does a decent job of providing information about characters and some aspects of game play."
      ],
      "metadata": {
        "id": "ZrUBExo2sMPi"
      }
    },
    {
      "cell_type": "markdown",
      "source": [
        "## **3) Utilizing Algorithms to Develop a Text Summarizer**\n",
        "\n",
        "We will now construct our own extraction-based summarizer using two different algorithms:\n",
        "\n",
        "\n",
        "\n",
        "1.   *Latent Semantic Indexing*\n",
        "2.   *TextRank*\n",
        "\n",
        "We begin this process by performing a bit of additional text preprocessing on our corpus:\n",
        "\n"
      ],
      "metadata": {
        "id": "qVUZRlw8Tr4r"
      }
    },
    {
      "cell_type": "code",
      "source": [
        "# sentence tokenize our document\n",
        "sentences = nltk.sent_tokenize(DOCUMENT)\n",
        "# find number of sentences\n",
        "len(sentences)"
      ],
      "metadata": {
        "id": "XapXuzzXVtaH",
        "colab": {
          "base_uri": "https://localhost:8080/"
        },
        "outputId": "657ec42a-00c5-4af9-be2b-21b03821c24d"
      },
      "execution_count": null,
      "outputs": [
        {
          "output_type": "execute_result",
          "data": {
            "text/plain": [
              "35"
            ]
          },
          "metadata": {},
          "execution_count": 6
        }
      ]
    },
    {
      "cell_type": "code",
      "source": [
        "stop_words = nltk.corpus.stopwords.words('english')                             # bring in nltk stopword list\n",
        "\n",
        "\n",
        "def normalize_document(doc):\n",
        "    doc = re.sub(r'[^a-zA-Z\\s]', '', doc, re.I|re.A)                             # lower case and remove special characters\\whitespaces\n",
        "    doc = doc.lower()\n",
        "    doc = doc.strip()\n",
        "    tokens = nltk.word_tokenize(doc)                                             # tokenize document\n",
        "    filtered_tokens = [token for token in tokens if token not in stop_words]     # filter stopwords out of document\n",
        "    doc = ' '.join(filtered_tokens)                                              # re-create document from filtered tokens\n",
        "    return doc\n",
        "\n",
        "normalize_corpus = np.vectorize(normalize_document)"
      ],
      "metadata": {
        "id": "tzZk709YUSbO"
      },
      "execution_count": null,
      "outputs": []
    },
    {
      "cell_type": "code",
      "source": [
        "norm_sentences = normalize_corpus(sentences)\n",
        "norm_sentences[:3]"
      ],
      "metadata": {
        "id": "yOrlL0S9VFqh",
        "colab": {
          "base_uri": "https://localhost:8080/"
        },
        "outputId": "21af9636-2efb-474b-fb1b-50cec238b597"
      },
      "execution_count": null,
      "outputs": [
        {
          "output_type": "execute_result",
          "data": {
            "text/plain": [
              "array(['elder scrolls v skyrim action roleplaying video game developed bethesda game studios published bethesda softworks',\n",
              "       'fifth main installment elder scrolls series following elder scrolls iv oblivion',\n",
              "       'games main story revolves around player characters quest defeat alduin worldeater dragon prophesied destroy world'],\n",
              "      dtype='<U183')"
            ]
          },
          "metadata": {},
          "execution_count": 11
        }
      ]
    },
    {
      "cell_type": "markdown",
      "source": [
        "> #### **A) Feature Engineering**\n",
        "\n",
        "We will use basic TF-IDF features weights to vectorize our corpus, using the `TdidfVectorizer` from `sklearn`."
      ],
      "metadata": {
        "id": "s-8EhT6hVKRe"
      }
    },
    {
      "cell_type": "code",
      "source": [
        "from sklearn.feature_extraction.text import TfidfVectorizer\n",
        "import pandas as pd\n",
        "\n",
        "tv = TfidfVectorizer(min_df=0., max_df=1., use_idf=True)\n",
        "dt_matrix = tv.fit_transform(norm_sentences)\n",
        "dt_matrix = dt_matrix.toarray()\n",
        "\n",
        "vocab = tv.get_feature_names_out()\n",
        "td_matrix = dt_matrix.T\n",
        "print(td_matrix.shape)\n",
        "pd.DataFrame(np.round(td_matrix, 2), index=vocab).head(10)"
      ],
      "metadata": {
        "id": "ROL2PLsAVZ0g",
        "colab": {
          "base_uri": "https://localhost:8080/",
          "height": 410
        },
        "outputId": "dd4c8664-36b6-40d0-b17d-c78f57f69c47"
      },
      "execution_count": null,
      "outputs": [
        {
          "output_type": "stream",
          "name": "stdout",
          "text": [
            "(270, 35)\n"
          ]
        },
        {
          "output_type": "execute_result",
          "data": {
            "text/plain": [
              "               0    1     2    3    4     5    6     7     8    9   ...   25  \\\n",
              "ability      0.00  0.0  0.00  0.0  0.0  0.00  0.0  0.00  0.00  0.0  ...  0.0   \n",
              "absorb       0.00  0.0  0.00  0.0  0.0  0.00  0.0  0.00  0.00  0.0  ...  0.0   \n",
              "acclaim      0.00  0.0  0.00  0.0  0.0  0.00  0.0  0.28  0.00  0.0  ...  0.0   \n",
              "action       0.25  0.0  0.00  0.0  0.0  0.00  0.0  0.00  0.32  0.0  ...  0.0   \n",
              "advancement  0.00  0.0  0.00  0.0  0.0  0.00  0.0  0.28  0.00  0.0  ...  0.0   \n",
              "akatosh      0.00  0.0  0.00  0.0  0.0  0.00  0.0  0.00  0.00  0.0  ...  0.0   \n",
              "alduin       0.00  0.0  0.25  0.0  0.0  0.00  0.0  0.00  0.00  0.0  ...  0.0   \n",
              "allowing     0.00  0.0  0.00  0.0  0.0  0.27  0.0  0.00  0.00  0.0  ...  0.0   \n",
              "allows       0.00  0.0  0.00  0.0  0.0  0.00  0.0  0.00  0.00  0.0  ...  0.0   \n",
              "although     0.00  0.0  0.00  0.0  0.0  0.00  0.0  0.00  0.00  0.0  ...  0.0   \n",
              "\n",
              "              26   27    28   29    30   31   32    33    34  \n",
              "ability      0.0  0.0  0.00  0.0  0.00  0.0  0.0  0.00  0.00  \n",
              "absorb       0.0  0.0  0.31  0.0  0.00  0.0  0.0  0.00  0.00  \n",
              "acclaim      0.0  0.0  0.00  0.0  0.00  0.0  0.0  0.00  0.00  \n",
              "action       0.0  0.0  0.00  0.0  0.00  0.0  0.0  0.00  0.00  \n",
              "advancement  0.0  0.0  0.00  0.0  0.00  0.0  0.0  0.00  0.00  \n",
              "akatosh      0.0  0.0  0.00  0.0  0.00  0.0  0.0  0.00  0.33  \n",
              "alduin       0.0  0.0  0.00  0.0  0.00  0.0  0.0  0.26  0.27  \n",
              "allowing     0.0  0.0  0.00  0.0  0.00  0.0  0.0  0.00  0.00  \n",
              "allows       0.0  0.0  0.00  0.0  0.00  0.0  0.0  0.00  0.00  \n",
              "although     0.0  0.0  0.00  0.0  0.33  0.0  0.0  0.00  0.00  \n",
              "\n",
              "[10 rows x 35 columns]"
            ],
            "text/html": [
              "\n",
              "  <div id=\"df-292c09c5-4ca8-4530-95c2-9553b51a4d5b\">\n",
              "    <div class=\"colab-df-container\">\n",
              "      <div>\n",
              "<style scoped>\n",
              "    .dataframe tbody tr th:only-of-type {\n",
              "        vertical-align: middle;\n",
              "    }\n",
              "\n",
              "    .dataframe tbody tr th {\n",
              "        vertical-align: top;\n",
              "    }\n",
              "\n",
              "    .dataframe thead th {\n",
              "        text-align: right;\n",
              "    }\n",
              "</style>\n",
              "<table border=\"1\" class=\"dataframe\">\n",
              "  <thead>\n",
              "    <tr style=\"text-align: right;\">\n",
              "      <th></th>\n",
              "      <th>0</th>\n",
              "      <th>1</th>\n",
              "      <th>2</th>\n",
              "      <th>3</th>\n",
              "      <th>4</th>\n",
              "      <th>5</th>\n",
              "      <th>6</th>\n",
              "      <th>7</th>\n",
              "      <th>8</th>\n",
              "      <th>9</th>\n",
              "      <th>...</th>\n",
              "      <th>25</th>\n",
              "      <th>26</th>\n",
              "      <th>27</th>\n",
              "      <th>28</th>\n",
              "      <th>29</th>\n",
              "      <th>30</th>\n",
              "      <th>31</th>\n",
              "      <th>32</th>\n",
              "      <th>33</th>\n",
              "      <th>34</th>\n",
              "    </tr>\n",
              "  </thead>\n",
              "  <tbody>\n",
              "    <tr>\n",
              "      <th>ability</th>\n",
              "      <td>0.00</td>\n",
              "      <td>0.0</td>\n",
              "      <td>0.00</td>\n",
              "      <td>0.0</td>\n",
              "      <td>0.0</td>\n",
              "      <td>0.00</td>\n",
              "      <td>0.0</td>\n",
              "      <td>0.00</td>\n",
              "      <td>0.00</td>\n",
              "      <td>0.0</td>\n",
              "      <td>...</td>\n",
              "      <td>0.0</td>\n",
              "      <td>0.0</td>\n",
              "      <td>0.0</td>\n",
              "      <td>0.00</td>\n",
              "      <td>0.0</td>\n",
              "      <td>0.00</td>\n",
              "      <td>0.0</td>\n",
              "      <td>0.0</td>\n",
              "      <td>0.00</td>\n",
              "      <td>0.00</td>\n",
              "    </tr>\n",
              "    <tr>\n",
              "      <th>absorb</th>\n",
              "      <td>0.00</td>\n",
              "      <td>0.0</td>\n",
              "      <td>0.00</td>\n",
              "      <td>0.0</td>\n",
              "      <td>0.0</td>\n",
              "      <td>0.00</td>\n",
              "      <td>0.0</td>\n",
              "      <td>0.00</td>\n",
              "      <td>0.00</td>\n",
              "      <td>0.0</td>\n",
              "      <td>...</td>\n",
              "      <td>0.0</td>\n",
              "      <td>0.0</td>\n",
              "      <td>0.0</td>\n",
              "      <td>0.31</td>\n",
              "      <td>0.0</td>\n",
              "      <td>0.00</td>\n",
              "      <td>0.0</td>\n",
              "      <td>0.0</td>\n",
              "      <td>0.00</td>\n",
              "      <td>0.00</td>\n",
              "    </tr>\n",
              "    <tr>\n",
              "      <th>acclaim</th>\n",
              "      <td>0.00</td>\n",
              "      <td>0.0</td>\n",
              "      <td>0.00</td>\n",
              "      <td>0.0</td>\n",
              "      <td>0.0</td>\n",
              "      <td>0.00</td>\n",
              "      <td>0.0</td>\n",
              "      <td>0.28</td>\n",
              "      <td>0.00</td>\n",
              "      <td>0.0</td>\n",
              "      <td>...</td>\n",
              "      <td>0.0</td>\n",
              "      <td>0.0</td>\n",
              "      <td>0.0</td>\n",
              "      <td>0.00</td>\n",
              "      <td>0.0</td>\n",
              "      <td>0.00</td>\n",
              "      <td>0.0</td>\n",
              "      <td>0.0</td>\n",
              "      <td>0.00</td>\n",
              "      <td>0.00</td>\n",
              "    </tr>\n",
              "    <tr>\n",
              "      <th>action</th>\n",
              "      <td>0.25</td>\n",
              "      <td>0.0</td>\n",
              "      <td>0.00</td>\n",
              "      <td>0.0</td>\n",
              "      <td>0.0</td>\n",
              "      <td>0.00</td>\n",
              "      <td>0.0</td>\n",
              "      <td>0.00</td>\n",
              "      <td>0.32</td>\n",
              "      <td>0.0</td>\n",
              "      <td>...</td>\n",
              "      <td>0.0</td>\n",
              "      <td>0.0</td>\n",
              "      <td>0.0</td>\n",
              "      <td>0.00</td>\n",
              "      <td>0.0</td>\n",
              "      <td>0.00</td>\n",
              "      <td>0.0</td>\n",
              "      <td>0.0</td>\n",
              "      <td>0.00</td>\n",
              "      <td>0.00</td>\n",
              "    </tr>\n",
              "    <tr>\n",
              "      <th>advancement</th>\n",
              "      <td>0.00</td>\n",
              "      <td>0.0</td>\n",
              "      <td>0.00</td>\n",
              "      <td>0.0</td>\n",
              "      <td>0.0</td>\n",
              "      <td>0.00</td>\n",
              "      <td>0.0</td>\n",
              "      <td>0.28</td>\n",
              "      <td>0.00</td>\n",
              "      <td>0.0</td>\n",
              "      <td>...</td>\n",
              "      <td>0.0</td>\n",
              "      <td>0.0</td>\n",
              "      <td>0.0</td>\n",
              "      <td>0.00</td>\n",
              "      <td>0.0</td>\n",
              "      <td>0.00</td>\n",
              "      <td>0.0</td>\n",
              "      <td>0.0</td>\n",
              "      <td>0.00</td>\n",
              "      <td>0.00</td>\n",
              "    </tr>\n",
              "    <tr>\n",
              "      <th>akatosh</th>\n",
              "      <td>0.00</td>\n",
              "      <td>0.0</td>\n",
              "      <td>0.00</td>\n",
              "      <td>0.0</td>\n",
              "      <td>0.0</td>\n",
              "      <td>0.00</td>\n",
              "      <td>0.0</td>\n",
              "      <td>0.00</td>\n",
              "      <td>0.00</td>\n",
              "      <td>0.0</td>\n",
              "      <td>...</td>\n",
              "      <td>0.0</td>\n",
              "      <td>0.0</td>\n",
              "      <td>0.0</td>\n",
              "      <td>0.00</td>\n",
              "      <td>0.0</td>\n",
              "      <td>0.00</td>\n",
              "      <td>0.0</td>\n",
              "      <td>0.0</td>\n",
              "      <td>0.00</td>\n",
              "      <td>0.33</td>\n",
              "    </tr>\n",
              "    <tr>\n",
              "      <th>alduin</th>\n",
              "      <td>0.00</td>\n",
              "      <td>0.0</td>\n",
              "      <td>0.25</td>\n",
              "      <td>0.0</td>\n",
              "      <td>0.0</td>\n",
              "      <td>0.00</td>\n",
              "      <td>0.0</td>\n",
              "      <td>0.00</td>\n",
              "      <td>0.00</td>\n",
              "      <td>0.0</td>\n",
              "      <td>...</td>\n",
              "      <td>0.0</td>\n",
              "      <td>0.0</td>\n",
              "      <td>0.0</td>\n",
              "      <td>0.00</td>\n",
              "      <td>0.0</td>\n",
              "      <td>0.00</td>\n",
              "      <td>0.0</td>\n",
              "      <td>0.0</td>\n",
              "      <td>0.26</td>\n",
              "      <td>0.27</td>\n",
              "    </tr>\n",
              "    <tr>\n",
              "      <th>allowing</th>\n",
              "      <td>0.00</td>\n",
              "      <td>0.0</td>\n",
              "      <td>0.00</td>\n",
              "      <td>0.0</td>\n",
              "      <td>0.0</td>\n",
              "      <td>0.27</td>\n",
              "      <td>0.0</td>\n",
              "      <td>0.00</td>\n",
              "      <td>0.00</td>\n",
              "      <td>0.0</td>\n",
              "      <td>...</td>\n",
              "      <td>0.0</td>\n",
              "      <td>0.0</td>\n",
              "      <td>0.0</td>\n",
              "      <td>0.00</td>\n",
              "      <td>0.0</td>\n",
              "      <td>0.00</td>\n",
              "      <td>0.0</td>\n",
              "      <td>0.0</td>\n",
              "      <td>0.00</td>\n",
              "      <td>0.00</td>\n",
              "    </tr>\n",
              "    <tr>\n",
              "      <th>allows</th>\n",
              "      <td>0.00</td>\n",
              "      <td>0.0</td>\n",
              "      <td>0.00</td>\n",
              "      <td>0.0</td>\n",
              "      <td>0.0</td>\n",
              "      <td>0.00</td>\n",
              "      <td>0.0</td>\n",
              "      <td>0.00</td>\n",
              "      <td>0.00</td>\n",
              "      <td>0.0</td>\n",
              "      <td>...</td>\n",
              "      <td>0.0</td>\n",
              "      <td>0.0</td>\n",
              "      <td>0.0</td>\n",
              "      <td>0.00</td>\n",
              "      <td>0.0</td>\n",
              "      <td>0.00</td>\n",
              "      <td>0.0</td>\n",
              "      <td>0.0</td>\n",
              "      <td>0.00</td>\n",
              "      <td>0.00</td>\n",
              "    </tr>\n",
              "    <tr>\n",
              "      <th>although</th>\n",
              "      <td>0.00</td>\n",
              "      <td>0.0</td>\n",
              "      <td>0.00</td>\n",
              "      <td>0.0</td>\n",
              "      <td>0.0</td>\n",
              "      <td>0.00</td>\n",
              "      <td>0.0</td>\n",
              "      <td>0.00</td>\n",
              "      <td>0.00</td>\n",
              "      <td>0.0</td>\n",
              "      <td>...</td>\n",
              "      <td>0.0</td>\n",
              "      <td>0.0</td>\n",
              "      <td>0.0</td>\n",
              "      <td>0.00</td>\n",
              "      <td>0.0</td>\n",
              "      <td>0.33</td>\n",
              "      <td>0.0</td>\n",
              "      <td>0.0</td>\n",
              "      <td>0.00</td>\n",
              "      <td>0.00</td>\n",
              "    </tr>\n",
              "  </tbody>\n",
              "</table>\n",
              "<p>10 rows × 35 columns</p>\n",
              "</div>\n",
              "      <button class=\"colab-df-convert\" onclick=\"convertToInteractive('df-292c09c5-4ca8-4530-95c2-9553b51a4d5b')\"\n",
              "              title=\"Convert this dataframe to an interactive table.\"\n",
              "              style=\"display:none;\">\n",
              "        \n",
              "  <svg xmlns=\"http://www.w3.org/2000/svg\" height=\"24px\"viewBox=\"0 0 24 24\"\n",
              "       width=\"24px\">\n",
              "    <path d=\"M0 0h24v24H0V0z\" fill=\"none\"/>\n",
              "    <path d=\"M18.56 5.44l.94 2.06.94-2.06 2.06-.94-2.06-.94-.94-2.06-.94 2.06-2.06.94zm-11 1L8.5 8.5l.94-2.06 2.06-.94-2.06-.94L8.5 2.5l-.94 2.06-2.06.94zm10 10l.94 2.06.94-2.06 2.06-.94-2.06-.94-.94-2.06-.94 2.06-2.06.94z\"/><path d=\"M17.41 7.96l-1.37-1.37c-.4-.4-.92-.59-1.43-.59-.52 0-1.04.2-1.43.59L10.3 9.45l-7.72 7.72c-.78.78-.78 2.05 0 2.83L4 21.41c.39.39.9.59 1.41.59.51 0 1.02-.2 1.41-.59l7.78-7.78 2.81-2.81c.8-.78.8-2.07 0-2.86zM5.41 20L4 18.59l7.72-7.72 1.47 1.35L5.41 20z\"/>\n",
              "  </svg>\n",
              "      </button>\n",
              "      \n",
              "  <style>\n",
              "    .colab-df-container {\n",
              "      display:flex;\n",
              "      flex-wrap:wrap;\n",
              "      gap: 12px;\n",
              "    }\n",
              "\n",
              "    .colab-df-convert {\n",
              "      background-color: #E8F0FE;\n",
              "      border: none;\n",
              "      border-radius: 50%;\n",
              "      cursor: pointer;\n",
              "      display: none;\n",
              "      fill: #1967D2;\n",
              "      height: 32px;\n",
              "      padding: 0 0 0 0;\n",
              "      width: 32px;\n",
              "    }\n",
              "\n",
              "    .colab-df-convert:hover {\n",
              "      background-color: #E2EBFA;\n",
              "      box-shadow: 0px 1px 2px rgba(60, 64, 67, 0.3), 0px 1px 3px 1px rgba(60, 64, 67, 0.15);\n",
              "      fill: #174EA6;\n",
              "    }\n",
              "\n",
              "    [theme=dark] .colab-df-convert {\n",
              "      background-color: #3B4455;\n",
              "      fill: #D2E3FC;\n",
              "    }\n",
              "\n",
              "    [theme=dark] .colab-df-convert:hover {\n",
              "      background-color: #434B5C;\n",
              "      box-shadow: 0px 1px 3px 1px rgba(0, 0, 0, 0.15);\n",
              "      filter: drop-shadow(0px 1px 2px rgba(0, 0, 0, 0.3));\n",
              "      fill: #FFFFFF;\n",
              "    }\n",
              "  </style>\n",
              "\n",
              "      <script>\n",
              "        const buttonEl =\n",
              "          document.querySelector('#df-292c09c5-4ca8-4530-95c2-9553b51a4d5b button.colab-df-convert');\n",
              "        buttonEl.style.display =\n",
              "          google.colab.kernel.accessAllowed ? 'block' : 'none';\n",
              "\n",
              "        async function convertToInteractive(key) {\n",
              "          const element = document.querySelector('#df-292c09c5-4ca8-4530-95c2-9553b51a4d5b');\n",
              "          const dataTable =\n",
              "            await google.colab.kernel.invokeFunction('convertToInteractive',\n",
              "                                                     [key], {});\n",
              "          if (!dataTable) return;\n",
              "\n",
              "          const docLinkHtml = 'Like what you see? Visit the ' +\n",
              "            '<a target=\"_blank\" href=https://colab.research.google.com/notebooks/data_table.ipynb>data table notebook</a>'\n",
              "            + ' to learn more about interactive tables.';\n",
              "          element.innerHTML = '';\n",
              "          dataTable['output_type'] = 'display_data';\n",
              "          await google.colab.output.renderOutput(dataTable, element);\n",
              "          const docLink = document.createElement('div');\n",
              "          docLink.innerHTML = docLinkHtml;\n",
              "          element.appendChild(docLink);\n",
              "        }\n",
              "      </script>\n",
              "    </div>\n",
              "  </div>\n",
              "  "
            ]
          },
          "metadata": {},
          "execution_count": 12
        }
      ]
    },
    {
      "cell_type": "markdown",
      "source": [
        "**Why are there 35 columns in this term-document matrix?**"
      ],
      "metadata": {
        "id": "jQ22-EvcViDq"
      }
    },
    {
      "cell_type": "markdown",
      "source": [
        "There are 35 sentences represented by the columns in matrix. each is a sentence/document vector."
      ],
      "metadata": {
        "id": "8XcHh1OGVmpv"
      }
    },
    {
      "cell_type": "markdown",
      "source": [
        "> #### **B) Latent Semantic Indexing (LSI)**\n",
        "\n",
        "Remember LSI from topic modeling? Well it can similarly be implemented for the purpose of document summarization, but instead of trying to find the top words within each topic, we are working at the sentence level to find the top (most salient) sentences within a corpus (in this case a collection of related sentences, each sentence is treated as a document).\n",
        "\n",
        "The process is very similar to topic modeling in using SVD to decompose the term-document matrix into several sub matrices, but in this case we will be using sentence-level tokens, tf-idf feature reprensetation, and producing a 'salience' score for each sentence by taking the square root of the dot product of the squared topic-topic matrix and the topic-document matrices -- produced via SVD.\n",
        "\n"
      ],
      "metadata": {
        "id": "_3FKO7mZV31G"
      }
    },
    {
      "cell_type": "code",
      "source": [
        "# set parameters of low_rank_svd, return decomposed matrices\n",
        "def low_rank_svd(matrix, singular_count = 2,):\n",
        "  u, s, vt = svds(matrix, k = singular_count)\n",
        "  return u, s, vt"
      ],
      "metadata": {
        "id": "gXkzt5rGX5hc"
      },
      "execution_count": null,
      "outputs": []
    },
    {
      "cell_type": "code",
      "source": [
        "# set number of sentences we want summary to contain\n",
        "num_sentences = 6\n",
        "num_topics = 3\n",
        "# num_topics = 3, since summary was taken from 3 diff sections of Wikipedia\n",
        "\n",
        "u, s, vt = low_rank_svd(td_matrix, singular_count = num_topics)\n",
        "print(u.shape, s.shape, vt.shape)\n",
        "term_topic_mat, singular_values, topic_document_mat = u, s, vt\n",
        "\n",
        "\n",
        "# apply svd to our term-document matrix\n",
        "# display matrix shapes"
      ],
      "metadata": {
        "id": "XvRsai2fYA9w",
        "colab": {
          "base_uri": "https://localhost:8080/"
        },
        "outputId": "89183d93-fca5-4604-9bbb-6880ac71c0e7"
      },
      "execution_count": null,
      "outputs": [
        {
          "output_type": "stream",
          "name": "stdout",
          "text": [
            "(270, 3) (3,) (3, 35)\n"
          ]
        }
      ]
    },
    {
      "cell_type": "code",
      "source": [
        "# set minimum value, set values below threshold to 0\n",
        "sv_threshold = 0.5\n",
        "min_sigma_value = max(singular_values) * sv_threshold\n",
        "singular_values[singular_values < min_sigma_value] = 0"
      ],
      "metadata": {
        "id": "WwkaGIeDYihR"
      },
      "execution_count": null,
      "outputs": []
    },
    {
      "cell_type": "code",
      "source": [
        "salience_scores = np.sqrt(np.dot(np.square(singular_values),                                      # calculate salience scores of sentences\n",
        "                                 np.square(topic_document_mat)))\n",
        "salience_scores"
      ],
      "metadata": {
        "id": "vCdLQ9uiZARc",
        "colab": {
          "base_uri": "https://localhost:8080/"
        },
        "outputId": "cbfa9750-0129-466f-8d53-a4bf030b7d42"
      },
      "execution_count": null,
      "outputs": [
        {
          "output_type": "execute_result",
          "data": {
            "text/plain": [
              "array([0.53291263, 0.61639562, 0.60427539, 0.52307109, 0.50141128,\n",
              "       0.32352969, 0.1506046 , 0.25383436, 0.60567083, 0.35902104,\n",
              "       0.22562997, 0.34608934, 0.15781555, 0.40522541, 0.24505982,\n",
              "       0.19874104, 0.39317895, 0.45392878, 0.31638528, 0.47353378,\n",
              "       0.18348908, 0.45731421, 0.13929749, 0.38932101, 0.36829067,\n",
              "       0.57822992, 0.40853736, 0.26260062, 0.38904585, 0.32776714,\n",
              "       0.67662776, 0.21866561, 0.34687796, 0.3234621 , 0.46107093])"
            ]
          },
          "metadata": {},
          "execution_count": 17
        }
      ]
    },
    {
      "cell_type": "code",
      "source": [
        "top_sentence_indices = (-salience_scores).argsort()[:num_sentences]                                # take 6 most salient sentences and sort them (in order of sequential appearance)\n",
        "top_sentence_indices.sort()"
      ],
      "metadata": {
        "id": "Lp4UdPX7ZJaP"
      },
      "execution_count": null,
      "outputs": []
    },
    {
      "cell_type": "code",
      "source": [
        "print('\\n'.join(np.array(sentences)[top_sentence_indices]))"
      ],
      "metadata": {
        "id": "qRkiv77gZULQ",
        "colab": {
          "base_uri": "https://localhost:8080/"
        },
        "outputId": "5662293f-22f1-41ee-b2a3-7b98bb110aaf"
      },
      "execution_count": null,
      "outputs": [
        {
          "output_type": "stream",
          "name": "stdout",
          "text": [
            "The Elder Scrolls V: Skyrim is an action role-playing video game developed by Bethesda Game Studios and published by Bethesda Softworks.\n",
            "It is the fifth main installment in The Elder Scrolls series, following The Elder Scrolls IV: Oblivion.\n",
            "The game's main story revolves around the player character's quest to defeat Alduin the World-Eater, a dragon who is prophesied to destroy the world.\n",
            "The Elder Scrolls V: Skyrim is an action role-playing game, playable from either a first or third-person perspective.\n",
            "Skyrim is the first entry in The Elder Scrolls to include dragons in the game's wilderness.\n",
            "Skyrim is set around 200 years after the events of The Elder Scrolls IV: Oblivion, although it is not a direct sequel.\n"
          ]
        }
      ]
    },
    {
      "cell_type": "markdown",
      "source": [
        "**Compare our LSI generated summary to the Gensim model. What are some differences between the two? Which would you say provides a better overview?**"
      ],
      "metadata": {
        "id": "Mepag_pGZkUj"
      }
    },
    {
      "cell_type": "markdown",
      "source": [
        "the main difference is that the lSI summary appears to mainly have pulled content related to gameplay, where the gensim model pulled information related to characters, plot and gamepaly."
      ],
      "metadata": {
        "id": "gWWQvQ_DZuFJ"
      }
    },
    {
      "cell_type": "markdown",
      "source": [
        "> #### **C) TextRank**\n",
        "\n",
        "Now let's implement `TextRank`, which is a graph-based method of ranking sentences for extraction-based document summarization. We will use this method to generate a summary, and also generate a visualization of our graph network to see how are sentences connect to one another!\n",
        "\n",
        "We will begin by creating our similarity matrix by performing a matrix multiplication of the document-term matrix against the transposed document-term matrix."
      ],
      "metadata": {
        "id": "Ir0BKXqmoKjS"
      }
    },
    {
      "cell_type": "code",
      "source": [
        "similarity_matrix = np.matmul(dt_matrix, dt_matrix.T)                                 # multiply the document-term matrix against the transposed document matrix\n",
        "print(similarity_matrix.shape)                                                        # print the shape\n",
        "np.round(similarity_matrix, 3)                                                        # round the decimal places to"
      ],
      "metadata": {
        "id": "NYN16ZA3oeLH",
        "colab": {
          "base_uri": "https://localhost:8080/"
        },
        "outputId": "e2d4059f-4f3d-448a-9bf9-9bb46200dd30"
      },
      "execution_count": null,
      "outputs": [
        {
          "output_type": "stream",
          "name": "stdout",
          "text": [
            "(35, 35)\n"
          ]
        },
        {
          "output_type": "execute_result",
          "data": {
            "text/plain": [
              "array([[1.   , 0.182, 0.   , ..., 0.   , 0.   , 0.   ],\n",
              "       [0.182, 1.   , 0.05 , ..., 0.   , 0.   , 0.084],\n",
              "       [0.   , 0.05 , 1.   , ..., 0.101, 0.165, 0.319],\n",
              "       ...,\n",
              "       [0.   , 0.   , 0.101, ..., 1.   , 0.066, 0.069],\n",
              "       [0.   , 0.   , 0.165, ..., 0.066, 1.   , 0.123],\n",
              "       [0.   , 0.084, 0.319, ..., 0.069, 0.123, 1.   ]])"
            ]
          },
          "metadata": {},
          "execution_count": 21
        }
      ]
    },
    {
      "cell_type": "code",
      "source": [
        "similarity_graph = networkx.from_numpy_array(similarity_matrix)                       # build the similarity graph\n",
        "similarity_graph"
      ],
      "metadata": {
        "id": "WJXbrLo3owso",
        "colab": {
          "base_uri": "https://localhost:8080/"
        },
        "outputId": "3e0184b4-c1ba-4b83-eccd-390c3fabf937"
      },
      "execution_count": null,
      "outputs": [
        {
          "output_type": "execute_result",
          "data": {
            "text/plain": [
              "<networkx.classes.graph.Graph at 0x7f37bded78d0>"
            ]
          },
          "metadata": {},
          "execution_count": 22
        }
      ]
    },
    {
      "cell_type": "code",
      "source": [
        "%matplotlib inline\n",
        "\n",
        "plt.figure(figsize=(12, 6))\n",
        "networkx.draw_networkx(similarity_graph, node_color='aqua')                         # view the similarity graph"
      ],
      "metadata": {
        "id": "OfJr607GpFbG",
        "colab": {
          "base_uri": "https://localhost:8080/",
          "height": 357
        },
        "outputId": "41699c97-02be-45a2-c968-3425d24296c9"
      },
      "execution_count": null,
      "outputs": [
        {
          "output_type": "display_data",
          "data": {
            "text/plain": [
              "<Figure size 864x432 with 1 Axes>"
            ],
            "image/png": "[encoded data removed]"
          },
          "metadata": {}
        }
      ]
    },
    {
      "cell_type": "markdown",
      "source": [
        "**What do the blue circles represent? What about the lines?**"
      ],
      "metadata": {
        "id": "Kl4rTvKhprCN"
      }
    },
    {
      "cell_type": "markdown",
      "source": [
        "They represent the sentences in the corpus. The lines represent sentences being connected to one another."
      ],
      "metadata": {
        "id": "zdM6X79WpwUW"
      }
    },
    {
      "cell_type": "markdown",
      "source": [
        "**Which sentences might you anticipate showing up in our top 10 most important sentences, and why?**"
      ],
      "metadata": {
        "id": "XeDXoJ8Epv37"
      }
    },
    {
      "cell_type": "markdown",
      "source": [
        "sentence 10, 26, or 5 are probably important sentences. they are connected to lots of the other sentences, whereas, sentences on the outsides (like 20) aren't as connected to others, and thus are probably not as important."
      ],
      "metadata": {
        "id": "YXE9SL0zp4Wt"
      }
    },
    {
      "cell_type": "code",
      "source": [
        "scores = networkx.pagerank(similarity_graph)                                              # extract sentence scores from graph\n",
        "ranked_sentences = sorted(((score, index) for index, score                                # rank the sentences by their score\n",
        "                                            in scores.items()),\n",
        "                          reverse=True)\n",
        "ranked_sentences[:10]"
      ],
      "metadata": {
        "id": "KGpxHuiNpinz",
        "colab": {
          "base_uri": "https://localhost:8080/"
        },
        "outputId": "744d6a3d-a260-4fe3-fed3-c7b363b257fa"
      },
      "execution_count": null,
      "outputs": [
        {
          "output_type": "execute_result",
          "data": {
            "text/plain": [
              "[(0.037297049797214744, 2),\n",
              " (0.034908435475375886, 25),\n",
              " (0.03460086870923607, 4),\n",
              " (0.03240744530656925, 8),\n",
              " (0.03218748996523769, 28),\n",
              " (0.031836734268801445, 11),\n",
              " (0.031566658693076226, 26),\n",
              " (0.03150616293402057, 3),\n",
              " (0.031376143577383796, 5),\n",
              " (0.031123481531894214, 16)]"
            ]
          },
          "metadata": {},
          "execution_count": 25
        }
      ]
    },
    {
      "cell_type": "code",
      "source": [
        "top_sentence_indices = [ranked_sentences[index][1]                                      # create list of top sentence indices for set number of sentences\n",
        "                        for index in range(num_sentences)]\n",
        "top_sentence_indices.sort()                                                             # sort sentences"
      ],
      "metadata": {
        "id": "vvpLCZeuqEix"
      },
      "execution_count": null,
      "outputs": []
    },
    {
      "cell_type": "code",
      "source": [
        "print('\\n'.join(np.array(sentences)[top_sentence_indices]))                             # join sentences in sequence, print"
      ],
      "metadata": {
        "id": "0YHCiWKeqYeV",
        "colab": {
          "base_uri": "https://localhost:8080/"
        },
        "outputId": "42b21008-cd95-40e8-894c-0014266f6847"
      },
      "execution_count": null,
      "outputs": [
        {
          "output_type": "stream",
          "name": "stdout",
          "text": [
            "The game's main story revolves around the player character's quest to defeat Alduin the World-Eater, a dragon who is prophesied to destroy the world.\n",
            "Over the course of the game, the player completes quests and develops the character by improving skills.\n",
            "The Elder Scrolls V: Skyrim is an action role-playing game, playable from either a first or third-person perspective.\n",
            "The game's main quest can be completed or ignored at the player's preference after the first stage of the quest is finished.\n",
            "Skyrim is the first entry in The Elder Scrolls to include dragons in the game's wilderness.\n",
            "The player character can absorb the souls of dragons in order to use powerful spells called \"dragon shouts\" or \"Thu'um\".\n"
          ]
        }
      ]
    },
    {
      "cell_type": "markdown",
      "source": [
        "**How would you compare this summary to the one produced with LSA? Which do you feel provides a more meaningful summary and why?**"
      ],
      "metadata": {
        "id": "A3XzqdGmqi_N"
      }
    },
    {
      "cell_type": "markdown",
      "source": [
        "LSA seemed more choppy. Like a string of sentences thrown together. The text rank plot actually sounds like a summary. It explains what the characters are supposed to do, offers details about the game, and it even lets you know that you can play as a first or third person perspective."
      ],
      "metadata": {
        "id": "UT4PdlLkqxKn"
      }
    }
  ]
}