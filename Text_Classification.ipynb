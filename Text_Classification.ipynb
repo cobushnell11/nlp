{
 "cells": [
  {
   "cell_type": "markdown",
   "metadata": {
    "id": "iN6wg1bxZEKS"
   },
   "source": [
    "# **Text Classification**\n",
    "\n",
    "In this notebook, I will be working with the `20 NewsGroup` dataset which is available through `sklearn`. This dataset contains approximately 18,000 newsgroup posts across 20 different categories/topics.\n",
    "\n",
    "I use various methods of feature extraction and engineering, as well as several different classification algorithms in order to develop the best performing classifier.\n",
    "\n",
    "Preprocessing and normalization will proceed in the typical fashion, however, I also consider what additional information should be stripped from each document in order to prevent data leakage. Finally, certain documents which are empty will be removed from the corpus as an additional corpus cleaning step."
   ]
  },
  {
   "cell_type": "code",
   "execution_count": null,
   "metadata": {
    "id": "VjQDgS1UY-f1"
   },
   "outputs": [],
   "source": [
    "from sklearn.datasets import fetch_20newsgroups\n",
    "import numpy as np\n",
    "import matplotlib.pyplot as plt\n",
    "import pandas as pd\n",
    "import warnings\n",
    "warnings.filterwarnings('ignore')\n",
    "\n",
    "from sklearn.model_selection import train_test_split, cross_val_score\n",
    "from sklearn.feature_extraction.text import CountVectorizer\n",
    "\n",
    "from collections import Counter\n",
    "\n",
    "%matplotlib inline"
   ]
  },
  {
   "cell_type": "markdown",
   "metadata": {
    "id": "Mvm71-4Jh5fp"
   },
   "source": [
    "## **1) Setting up the corpus: 20 NewsGroups**\n",
    "\n",
    "Here I set the `remove` parameter to strip all documents of `headers`, `footers`, and `quotes`. Why sort of information is typically contained in these sections, and why should they be removed before training our text classification model?\n",
    "\n",
    "\n",
    "Headers, footers, and quotes, may contain unnecessary numbers or punctuation (like page numbers). They will mess up the analysis if they are kept in. I break down the words to their simplest form."
   ]
  },
  {
   "cell_type": "code",
   "execution_count": null,
   "metadata": {
    "id": "9U18g7V8hraF"
   },
   "outputs": [],
   "source": [
    "data = fetch_20newsgroups(subset = 'all', shuffle = True,\n",
    "                         remove = ('headers', 'footers', 'quotes'))\n",
    "data_labels_map = dict(enumerate(data.target_names))\n",
    "\n",
    "# We need to remove hthe header footers and quotes, because they might indicate the catagory of article leading to data leakage."
   ]
  },
  {
   "cell_type": "markdown",
   "metadata": {
    "id": "lG-s9roYiumm"
   },
   "source": [
    "> #### **A) Build a dataframe to view the corpus containing the article text, target label value, and the target label:**"
   ]
  },
  {
   "cell_type": "code",
   "execution_count": null,
   "metadata": {
    "colab": {
     "base_uri": "https://localhost:8080/",
     "height": 380
    },
    "id": "1O4TtOmTi8PT",
    "outputId": "0fd0bf86-b245-4ecc-bcf2-f09b7cfe5e3f"
   },
   "outputs": [
    {
     "name": "stdout",
     "output_type": "stream",
     "text": [
      "(18846, 3)\n"
     ]
    },
    {
     "data": {
      "text/html": [
       "\n",
       "  <div id=\"df-bc9f4592-6896-4f24-b223-715af09f5d4d\">\n",
       "    <div class=\"colab-df-container\">\n",
       "      <div>\n",
       "<style scoped>\n",
       "    .dataframe tbody tr th:only-of-type {\n",
       "        vertical-align: middle;\n",
       "    }\n",
       "\n",
       "    .dataframe tbody tr th {\n",
       "        vertical-align: top;\n",
       "    }\n",
       "\n",
       "    .dataframe thead th {\n",
       "        text-align: right;\n",
       "    }\n",
       "</style>\n",
       "<table border=\"1\" class=\"dataframe\">\n",
       "  <thead>\n",
       "    <tr style=\"text-align: right;\">\n",
       "      <th></th>\n",
       "      <th>Article</th>\n",
       "      <th>Target Label</th>\n",
       "      <th>target name</th>\n",
       "    </tr>\n",
       "  </thead>\n",
       "  <tbody>\n",
       "    <tr>\n",
       "      <th>0</th>\n",
       "      <td>\\n\\nI am sure some bashers of Pens fans are pr...</td>\n",
       "      <td>10</td>\n",
       "      <td>rec.sport.hockey</td>\n",
       "    </tr>\n",
       "    <tr>\n",
       "      <th>1</th>\n",
       "      <td>My brother is in the market for a high-perform...</td>\n",
       "      <td>3</td>\n",
       "      <td>comp.sys.ibm.pc.hardware</td>\n",
       "    </tr>\n",
       "    <tr>\n",
       "      <th>2</th>\n",
       "      <td>\\n\\n\\n\\n\\tFinally you said what you dream abou...</td>\n",
       "      <td>17</td>\n",
       "      <td>talk.politics.mideast</td>\n",
       "    </tr>\n",
       "    <tr>\n",
       "      <th>3</th>\n",
       "      <td>\\nThink!\\n\\nIt's the SCSI card doing the DMA t...</td>\n",
       "      <td>3</td>\n",
       "      <td>comp.sys.ibm.pc.hardware</td>\n",
       "    </tr>\n",
       "    <tr>\n",
       "      <th>4</th>\n",
       "      <td>1)    I have an old Jasmine drive which I cann...</td>\n",
       "      <td>4</td>\n",
       "      <td>comp.sys.mac.hardware</td>\n",
       "    </tr>\n",
       "    <tr>\n",
       "      <th>5</th>\n",
       "      <td>\\n\\nBack in high school I worked as a lab assi...</td>\n",
       "      <td>12</td>\n",
       "      <td>sci.electronics</td>\n",
       "    </tr>\n",
       "    <tr>\n",
       "      <th>6</th>\n",
       "      <td>\\n\\nAE is in Dallas...try 214/241-6060 or 214/...</td>\n",
       "      <td>4</td>\n",
       "      <td>comp.sys.mac.hardware</td>\n",
       "    </tr>\n",
       "    <tr>\n",
       "      <th>7</th>\n",
       "      <td>\\n[stuff deleted]\\n\\nOk, here's the solution t...</td>\n",
       "      <td>10</td>\n",
       "      <td>rec.sport.hockey</td>\n",
       "    </tr>\n",
       "    <tr>\n",
       "      <th>8</th>\n",
       "      <td>\\n\\n\\nYeah, it's the second one.  And I believ...</td>\n",
       "      <td>10</td>\n",
       "      <td>rec.sport.hockey</td>\n",
       "    </tr>\n",
       "    <tr>\n",
       "      <th>9</th>\n",
       "      <td>\\nIf a Christian means someone who believes in...</td>\n",
       "      <td>19</td>\n",
       "      <td>talk.religion.misc</td>\n",
       "    </tr>\n",
       "  </tbody>\n",
       "</table>\n",
       "</div>\n",
       "      <button class=\"colab-df-convert\" onclick=\"convertToInteractive('df-bc9f4592-6896-4f24-b223-715af09f5d4d')\"\n",
       "              title=\"Convert this dataframe to an interactive table.\"\n",
       "              style=\"display:none;\">\n",
       "        \n",
       "  <svg xmlns=\"http://www.w3.org/2000/svg\" height=\"24px\"viewBox=\"0 0 24 24\"\n",
       "       width=\"24px\">\n",
       "    <path d=\"M0 0h24v24H0V0z\" fill=\"none\"/>\n",
       "    <path d=\"M18.56 5.44l.94 2.06.94-2.06 2.06-.94-2.06-.94-.94-2.06-.94 2.06-2.06.94zm-11 1L8.5 8.5l.94-2.06 2.06-.94-2.06-.94L8.5 2.5l-.94 2.06-2.06.94zm10 10l.94 2.06.94-2.06 2.06-.94-2.06-.94-.94-2.06-.94 2.06-2.06.94z\"/><path d=\"M17.41 7.96l-1.37-1.37c-.4-.4-.92-.59-1.43-.59-.52 0-1.04.2-1.43.59L10.3 9.45l-7.72 7.72c-.78.78-.78 2.05 0 2.83L4 21.41c.39.39.9.59 1.41.59.51 0 1.02-.2 1.41-.59l7.78-7.78 2.81-2.81c.8-.78.8-2.07 0-2.86zM5.41 20L4 18.59l7.72-7.72 1.47 1.35L5.41 20z\"/>\n",
       "  </svg>\n",
       "      </button>\n",
       "      \n",
       "  <style>\n",
       "    .colab-df-container {\n",
       "      display:flex;\n",
       "      flex-wrap:wrap;\n",
       "      gap: 12px;\n",
       "    }\n",
       "\n",
       "    .colab-df-convert {\n",
       "      background-color: #E8F0FE;\n",
       "      border: none;\n",
       "      border-radius: 50%;\n",
       "      cursor: pointer;\n",
       "      display: none;\n",
       "      fill: #1967D2;\n",
       "      height: 32px;\n",
       "      padding: 0 0 0 0;\n",
       "      width: 32px;\n",
       "    }\n",
       "\n",
       "    .colab-df-convert:hover {\n",
       "      background-color: #E2EBFA;\n",
       "      box-shadow: 0px 1px 2px rgba(60, 64, 67, 0.3), 0px 1px 3px 1px rgba(60, 64, 67, 0.15);\n",
       "      fill: #174EA6;\n",
       "    }\n",
       "\n",
       "    [theme=dark] .colab-df-convert {\n",
       "      background-color: #3B4455;\n",
       "      fill: #D2E3FC;\n",
       "    }\n",
       "\n",
       "    [theme=dark] .colab-df-convert:hover {\n",
       "      background-color: #434B5C;\n",
       "      box-shadow: 0px 1px 3px 1px rgba(0, 0, 0, 0.15);\n",
       "      filter: drop-shadow(0px 1px 2px rgba(0, 0, 0, 0.3));\n",
       "      fill: #FFFFFF;\n",
       "    }\n",
       "  </style>\n",
       "\n",
       "      <script>\n",
       "        const buttonEl =\n",
       "          document.querySelector('#df-bc9f4592-6896-4f24-b223-715af09f5d4d button.colab-df-convert');\n",
       "        buttonEl.style.display =\n",
       "          google.colab.kernel.accessAllowed ? 'block' : 'none';\n",
       "\n",
       "        async function convertToInteractive(key) {\n",
       "          const element = document.querySelector('#df-bc9f4592-6896-4f24-b223-715af09f5d4d');\n",
       "          const dataTable =\n",
       "            await google.colab.kernel.invokeFunction('convertToInteractive',\n",
       "                                                     [key], {});\n",
       "          if (!dataTable) return;\n",
       "\n",
       "          const docLinkHtml = 'Like what you see? Visit the ' +\n",
       "            '<a target=\"_blank\" href=https://colab.research.google.com/notebooks/data_table.ipynb>data table notebook</a>'\n",
       "            + ' to learn more about interactive tables.';\n",
       "          element.innerHTML = '';\n",
       "          dataTable['output_type'] = 'display_data';\n",
       "          await google.colab.output.renderOutput(dataTable, element);\n",
       "          const docLink = document.createElement('div');\n",
       "          docLink.innerHTML = docLinkHtml;\n",
       "          element.appendChild(docLink);\n",
       "        }\n",
       "      </script>\n",
       "    </div>\n",
       "  </div>\n",
       "  "
      ],
      "text/plain": [
       "                                             Article  Target Label  \\\n",
       "0  \\n\\nI am sure some bashers of Pens fans are pr...            10   \n",
       "1  My brother is in the market for a high-perform...             3   \n",
       "2  \\n\\n\\n\\n\\tFinally you said what you dream abou...            17   \n",
       "3  \\nThink!\\n\\nIt's the SCSI card doing the DMA t...             3   \n",
       "4  1)    I have an old Jasmine drive which I cann...             4   \n",
       "5  \\n\\nBack in high school I worked as a lab assi...            12   \n",
       "6  \\n\\nAE is in Dallas...try 214/241-6060 or 214/...             4   \n",
       "7  \\n[stuff deleted]\\n\\nOk, here's the solution t...            10   \n",
       "8  \\n\\n\\nYeah, it's the second one.  And I believ...            10   \n",
       "9  \\nIf a Christian means someone who believes in...            19   \n",
       "\n",
       "                target name  \n",
       "0          rec.sport.hockey  \n",
       "1  comp.sys.ibm.pc.hardware  \n",
       "2     talk.politics.mideast  \n",
       "3  comp.sys.ibm.pc.hardware  \n",
       "4     comp.sys.mac.hardware  \n",
       "5           sci.electronics  \n",
       "6     comp.sys.mac.hardware  \n",
       "7          rec.sport.hockey  \n",
       "8          rec.sport.hockey  \n",
       "9        talk.religion.misc  "
      ]
     },
     "execution_count": 3,
     "metadata": {},
     "output_type": "execute_result"
    }
   ],
   "source": [
    "corpus, target_labels, target_names = (data.data, data.target,\n",
    "                                       [data_labels_map[label] for label in data. target])\n",
    "\n",
    "data_df = pd.DataFrame({'Article': corpus, 'Target Label': target_labels, \"target name\": target_names})\n",
    "print(data_df.shape)\n",
    "data_df.head(10)"
   ]
  },
  {
   "cell_type": "markdown",
   "metadata": {
    "id": "xzXrJ53vjfw8"
   },
   "source": [
    "> #### **B) Preprocessing & Normalization**\n",
    "> Apart from the steps we have been covering in the semester so far regarding cleaning text specifically, what are some other steps to ensure data quality that are not text specific (e.g., what should you check for in any dataset?)\n",
    "\n",
    "The source you are getting your data from. Is is high quality data?"
   ]
  },
  {
   "cell_type": "code",
   "execution_count": null,
   "metadata": {
    "colab": {
     "base_uri": "https://localhost:8080/"
    },
    "id": "1abfmiCqjyo2",
    "outputId": "b86eff0c-8600-445c-ca02-acafe37952c9"
   },
   "outputs": [
    {
     "name": "stdout",
     "output_type": "stream",
     "text": [
      "Empty documents: 515\n"
     ]
    }
   ],
   "source": [
    "# find the number of documents that are completely blank (i.e, contain only blank spaces)\n",
    "total_nulls = data_df[data_df.Article.str.strip() == ''].shape[0]                              # find the number of documents that are completely blank (i.e, contain only blank spaces)\n",
    "print(\"Empty documents:\", total_nulls)\n"
   ]
  },
  {
   "cell_type": "code",
   "execution_count": null,
   "metadata": {
    "colab": {
     "base_uri": "https://localhost:8080/"
    },
    "id": "Hr0SwSs4j4Ld",
    "outputId": "7e09a2bc-8ab8-4e17-fa64-041510d4c63e"
   },
   "outputs": [
    {
     "data": {
      "text/plain": [
       "(18331, 3)"
      ]
     },
     "execution_count": 5,
     "metadata": {},
     "output_type": "execute_result"
    }
   ],
   "source": [
    "# drop rows where Article is completely blank\n",
    "data_df = data_df[~(data_df.Article.str.strip() == '')]                                        # drop rows where Article is completely blank\n",
    "data_df.shape"
   ]
  },
  {
   "cell_type": "code",
   "execution_count": null,
   "metadata": {
    "colab": {
     "base_uri": "https://localhost:8080/"
    },
    "id": "XLWNCYYRkshD",
    "outputId": "db6682bb-da00-4a83-e172-403b81b7ae82"
   },
   "outputs": [
    {
     "name": "stdout",
     "output_type": "stream",
     "text": [
      "Duplicate Rows : 47\n"
     ]
    }
   ],
   "source": [
    "# check for duplicated rows\n",
    "duplicate = data_df[data_df.duplicated()]                                                      # check for duplicated rows\n",
    "print(\"Duplicate Rows :\", len(duplicate))"
   ]
  },
  {
   "cell_type": "code",
   "execution_count": null,
   "metadata": {
    "colab": {
     "base_uri": "https://localhost:8080/"
    },
    "id": "BVHQVzJClsVa",
    "outputId": "d1fed370-1129-4ca1-f1f6-5b3d78a066c9"
   },
   "outputs": [
    {
     "data": {
      "text/plain": [
       "(18284, 3)"
      ]
     },
     "execution_count": 7,
     "metadata": {},
     "output_type": "execute_result"
    }
   ],
   "source": [
    "# drop duplicated rows\n",
    "data_df = data_df.drop_duplicates()                                                            # drop duplicated rows\n",
    "data_df.shape"
   ]
  },
  {
   "cell_type": "markdown",
   "metadata": {
    "id": "nFvnvrOomnB8"
   },
   "source": [
    "> #### **Normalize the corpus**"
   ]
  },
  {
   "cell_type": "code",
   "execution_count": null,
   "metadata": {
    "colab": {
     "base_uri": "https://localhost:8080/"
    },
    "id": "elcqyA-qmwA3",
    "outputId": "ce346b82-239a-4e15-ac3b-9c5ed6a6a449"
   },
   "outputs": [
    {
     "name": "stderr",
     "output_type": "stream",
     "text": [
      "[nltk_data] Downloading package stopwords to /root/nltk_data...\n",
      "[nltk_data]   Unzipping corpora/stopwords.zip.\n"
     ]
    },
    {
     "name": "stdout",
     "output_type": "stream",
     "text": [
      "Looking in indexes: https://pypi.org/simple, https://us-python.pkg.dev/colab-wheels/public/simple/\n",
      "Collecting contractions\n",
      "  Downloading contractions-0.1.72-py2.py3-none-any.whl (8.3 kB)\n",
      "Collecting textsearch>=0.0.21\n",
      "  Downloading textsearch-0.0.24-py2.py3-none-any.whl (7.6 kB)\n",
      "Collecting anyascii\n",
      "  Downloading anyascii-0.3.1-py3-none-any.whl (287 kB)\n",
      "\u001b[K     |████████████████████████████████| 287 kB 15.1 MB/s \n",
      "\u001b[?25hCollecting pyahocorasick\n",
      "  Downloading pyahocorasick-1.4.4-cp37-cp37m-manylinux_2_17_x86_64.manylinux2014_x86_64.whl (106 kB)\n",
      "\u001b[K     |████████████████████████████████| 106 kB 66.4 MB/s \n",
      "\u001b[?25hInstalling collected packages: pyahocorasick, anyascii, textsearch, contractions\n",
      "Successfully installed anyascii-0.3.1 contractions-0.1.72 pyahocorasick-1.4.4 textsearch-0.0.24\n"
     ]
    }
   ],
   "source": [
    "import nltk\n",
    "nltk.download('stopwords')\n",
    "from nltk.tokenize.toktok import ToktokTokenizer\n",
    "tokenizer = ToktokTokenizer()\n",
    "stopword_list = nltk.corpus.stopwords.words('english')\n",
    "from nltk.stem import WordNetLemmatizer\n",
    "wnl = WordNetLemmatizer()\n",
    "\n",
    "from pprint import pprint\n",
    "import numpy as np\n",
    "import re\n",
    "from bs4 import BeautifulSoup\n",
    "\n",
    "import spacy\n",
    "nlp = spacy.load('en_core_web_sm')                                                                                            # dependencies\n",
    "\n",
    "import unicodedata\n",
    "\n",
    "!pip install contractions\n",
    "import contractions\n",
    "\n",
    "def strip_html_tags(text):\n",
    "    soup = BeautifulSoup(text, \"html.parser\")\n",
    "    [s.extract() for s in soup(['iframe', 'script'])]                                                                         # html parsing\n",
    "    stripped_text = soup.get_text()\n",
    "    stripped_text = re.sub(r'[\\r|\\n|\\r\\n]+', '\\n', stripped_text)\n",
    "    return stripped_text\n",
    "\n",
    "def tokenize_text(text):                                                                                                      # text tokenization\n",
    "    sentences = nltk.sent_tokenize(text)\n",
    "    word_tokens = [nltk.word_tokenize(sentence) for sentence in sentences]\n",
    "    return word_tokens\n",
    "\n",
    "def remove_accented_chars(text):\n",
    "    text = unicodedata.normalize('NFKD', text).encode('ascii', 'ignore').decode('utf-8', 'ignore')                            # accent removal\n",
    "    return text\n",
    "\n",
    "def expand_contractions(text):                                                                                                # expand contractions\n",
    "    expanded_words = []\n",
    "    for word in text.split():\n",
    "        expanded_words.append(contractions.fix(word))\n",
    "        expanded_text = ' '.join(expanded_words)\n",
    "    return expanded_text\n",
    "\n",
    "def remove_special_characters(text, remove_digits=False):                                                                     # special character removal\n",
    "    pattern = r'[^a-zA-z0-9\\s]' if not remove_digits else r'[^a-zA-z\\s]'\n",
    "    text = re.sub(pattern, '', text)\n",
    "    return text\n",
    "\n",
    "def simple_stemmer(text):                                                                                                     # stemmer\n",
    "    ps = nltk.porter.PorterStemmer()\n",
    "    text = ' '.join([ps.stem(word) for word in text.split()])\n",
    "    return text\n",
    "\n",
    "def lemmatize_text(text):\n",
    "    text = nlp(text)                                                                                                          # lemmatizer\n",
    "    text = ' '.join([word.lemma_ if word.lemma_ != '-PRON-' else word.text for word in text])\n",
    "    return text\n",
    "\n",
    "def remove_stopwords(text, is_lower_case=False, stopwords=stopword_list):                                                     # stopword removal\n",
    "    tokens = tokenizer.tokenize(text)\n",
    "    tokens = [token.strip() for token in tokens]\n",
    "    if is_lower_case:\n",
    "        filtered_tokens = [token for token in tokens if token not in stopwords]\n",
    "    else:\n",
    "        filtered_tokens = [token for token in tokens if token.lower() not in stopwords]\n",
    "    filtered_text = ' '.join(filtered_tokens)\n",
    "    return filtered_text\n",
    "\n",
    "def normalize_corpus(corpus, html_stripping=True, contraction_expansion=True,                                                 # define normalize corpus function\n",
    "                     accented_char_removal=True, text_lower_case=True,\n",
    "                     text_lemmatization=True, special_char_removal=True,\n",
    "                     stopword_removal=True, remove_digits=True):\n",
    "\n",
    "    normalized_corpus = []\n",
    "    # normalize each document in the corpus\n",
    "    for doc in corpus:\n",
    "        # strip HTML\n",
    "        if html_stripping:\n",
    "            doc = strip_html_tags(doc)\n",
    "        # remove accented characters\n",
    "        if accented_char_removal:\n",
    "            doc = remove_accented_chars(doc)\n",
    "        # expand contractions\n",
    "        if contraction_expansion:\n",
    "            doc = expand_contractions(doc)\n",
    "        # lowercase the text\n",
    "        if text_lower_case:\n",
    "            doc = doc.lower()\n",
    "        # remove extra newlines\n",
    "        doc = re.sub(r'[\\r|\\n|\\r\\n]+', ' ',doc)\n",
    "        # lemmatize text\n",
    "        if text_lemmatization:\n",
    "            doc = lemmatize_text(doc)\n",
    "        # remove special characters and\\or digits\n",
    "        if special_char_removal:\n",
    "            # insert spaces between special characters to isolate them\n",
    "            special_char_pattern = re.compile(r'([{.(-)!}])')\n",
    "            doc = special_char_pattern.sub(\" \\\\1 \", doc)\n",
    "            doc = remove_special_characters(doc, remove_digits=remove_digits)\n",
    "        # remove extra whitespace\n",
    "        doc = re.sub(' +', ' ', doc)\n",
    "        # remove stopwords\n",
    "        if stopword_removal:\n",
    "            doc = remove_stopwords(doc, is_lower_case=text_lower_case)\n",
    "\n",
    "        normalized_corpus.append(doc)\n",
    "\n",
    "    return normalized_corpus"
   ]
  },
  {
   "cell_type": "code",
   "execution_count": null,
   "metadata": {
    "id": "22FAW0TNm5mS"
   },
   "outputs": [],
   "source": [
    "# apply to corpus"
   ]
  },
  {
   "cell_type": "code",
   "execution_count": null,
   "metadata": {
    "colab": {
     "base_uri": "https://localhost:8080/"
    },
    "id": "rbRz4fEk4LJ5",
    "outputId": "7366f681-fdd1-46a4-d10e-b91381107e43"
   },
   "outputs": [
    {
     "name": "stdout",
     "output_type": "stream",
     "text": [
      "Looking in indexes: https://pypi.org/simple, https://us-python.pkg.dev/colab-wheels/public/simple/\n",
      "Collecting xlsxwriter\n",
      "  Downloading XlsxWriter-3.0.3-py3-none-any.whl (149 kB)\n",
      "\u001b[K     |████████████████████████████████| 149 kB 12.5 MB/s \n",
      "\u001b[?25hInstalling collected packages: xlsxwriter\n",
      "Successfully installed xlsxwriter-3.0.3\n"
     ]
    }
   ],
   "source": [
    "!pip install xlsxwriter\n",
    "df = data_df.applymap(lambda x: x.encode('unicode_escape').\n",
    "                 decode('utf-8') if isinstance(x, str) else x)                        # this is going to help us write our cleaned dataframe to excel, deal with unicode"
   ]
  },
  {
   "cell_type": "code",
   "execution_count": null,
   "metadata": {
    "id": "xTueTgaawLIa"
   },
   "outputs": [],
   "source": [
    "# export cleaned corpus dataframe to excel, to save the cleaned version"
   ]
  },
  {
   "cell_type": "markdown",
   "metadata": {
    "id": "HZzmUZfRMlYB"
   },
   "source": [
    "> #### **Read in Cleaned Excel file**"
   ]
  },
  {
   "cell_type": "code",
   "execution_count": null,
   "metadata": {
    "colab": {
     "base_uri": "https://localhost:8080/",
     "height": 206
    },
    "id": "75Czy-2yMqjW",
    "outputId": "7f56760c-06c2-4c9f-abc6-14cf4f8b92a5"
   },
   "outputs": [
    {
     "data": {
      "text/html": [
       "\n",
       "  <div id=\"df-9d85d190-58a3-49a8-bdeb-23f01ab5a965\">\n",
       "    <div class=\"colab-df-container\">\n",
       "      <div>\n",
       "<style scoped>\n",
       "    .dataframe tbody tr th:only-of-type {\n",
       "        vertical-align: middle;\n",
       "    }\n",
       "\n",
       "    .dataframe tbody tr th {\n",
       "        vertical-align: top;\n",
       "    }\n",
       "\n",
       "    .dataframe thead th {\n",
       "        text-align: right;\n",
       "    }\n",
       "</style>\n",
       "<table border=\"1\" class=\"dataframe\">\n",
       "  <thead>\n",
       "    <tr style=\"text-align: right;\">\n",
       "      <th></th>\n",
       "      <th>Target Label</th>\n",
       "      <th>Target Name</th>\n",
       "      <th>Article</th>\n",
       "      <th>Clean Article</th>\n",
       "    </tr>\n",
       "  </thead>\n",
       "  <tbody>\n",
       "    <tr>\n",
       "      <th>0</th>\n",
       "      <td>10</td>\n",
       "      <td>rec.sport.hockey</td>\n",
       "      <td>\\n\\nI am sure some bashers of Pens fans are pr...</td>\n",
       "      <td>I sure basher pen fan pretty confused lack kin...</td>\n",
       "    </tr>\n",
       "    <tr>\n",
       "      <th>1</th>\n",
       "      <td>3</td>\n",
       "      <td>comp.sys.ibm.pc.hardware</td>\n",
       "      <td>My brother is in the market for a high-perform...</td>\n",
       "      <td>brother market high performance video card sup...</td>\n",
       "    </tr>\n",
       "    <tr>\n",
       "      <th>2</th>\n",
       "      <td>17</td>\n",
       "      <td>talk.politics.mideast</td>\n",
       "      <td>\\n\\n\\n\\n\\tFinally you said what you dream abou...</td>\n",
       "      <td>finally say dream mediterranean new area great...</td>\n",
       "    </tr>\n",
       "    <tr>\n",
       "      <th>3</th>\n",
       "      <td>3</td>\n",
       "      <td>comp.sys.ibm.pc.hardware</td>\n",
       "      <td>\\nThink!\\n\\nIt's the SCSI card doing the DMA t...</td>\n",
       "      <td>think scsi card dma transfer disk scsi card dm...</td>\n",
       "    </tr>\n",
       "    <tr>\n",
       "      <th>4</th>\n",
       "      <td>4</td>\n",
       "      <td>comp.sys.mac.hardware</td>\n",
       "      <td>1)    I have an old Jasmine drive which I cann...</td>\n",
       "      <td>I old jasmine drive I use new system understan...</td>\n",
       "    </tr>\n",
       "  </tbody>\n",
       "</table>\n",
       "</div>\n",
       "      <button class=\"colab-df-convert\" onclick=\"convertToInteractive('df-9d85d190-58a3-49a8-bdeb-23f01ab5a965')\"\n",
       "              title=\"Convert this dataframe to an interactive table.\"\n",
       "              style=\"display:none;\">\n",
       "        \n",
       "  <svg xmlns=\"http://www.w3.org/2000/svg\" height=\"24px\"viewBox=\"0 0 24 24\"\n",
       "       width=\"24px\">\n",
       "    <path d=\"M0 0h24v24H0V0z\" fill=\"none\"/>\n",
       "    <path d=\"M18.56 5.44l.94 2.06.94-2.06 2.06-.94-2.06-.94-.94-2.06-.94 2.06-2.06.94zm-11 1L8.5 8.5l.94-2.06 2.06-.94-2.06-.94L8.5 2.5l-.94 2.06-2.06.94zm10 10l.94 2.06.94-2.06 2.06-.94-2.06-.94-.94-2.06-.94 2.06-2.06.94z\"/><path d=\"M17.41 7.96l-1.37-1.37c-.4-.4-.92-.59-1.43-.59-.52 0-1.04.2-1.43.59L10.3 9.45l-7.72 7.72c-.78.78-.78 2.05 0 2.83L4 21.41c.39.39.9.59 1.41.59.51 0 1.02-.2 1.41-.59l7.78-7.78 2.81-2.81c.8-.78.8-2.07 0-2.86zM5.41 20L4 18.59l7.72-7.72 1.47 1.35L5.41 20z\"/>\n",
       "  </svg>\n",
       "      </button>\n",
       "      \n",
       "  <style>\n",
       "    .colab-df-container {\n",
       "      display:flex;\n",
       "      flex-wrap:wrap;\n",
       "      gap: 12px;\n",
       "    }\n",
       "\n",
       "    .colab-df-convert {\n",
       "      background-color: #E8F0FE;\n",
       "      border: none;\n",
       "      border-radius: 50%;\n",
       "      cursor: pointer;\n",
       "      display: none;\n",
       "      fill: #1967D2;\n",
       "      height: 32px;\n",
       "      padding: 0 0 0 0;\n",
       "      width: 32px;\n",
       "    }\n",
       "\n",
       "    .colab-df-convert:hover {\n",
       "      background-color: #E2EBFA;\n",
       "      box-shadow: 0px 1px 2px rgba(60, 64, 67, 0.3), 0px 1px 3px 1px rgba(60, 64, 67, 0.15);\n",
       "      fill: #174EA6;\n",
       "    }\n",
       "\n",
       "    [theme=dark] .colab-df-convert {\n",
       "      background-color: #3B4455;\n",
       "      fill: #D2E3FC;\n",
       "    }\n",
       "\n",
       "    [theme=dark] .colab-df-convert:hover {\n",
       "      background-color: #434B5C;\n",
       "      box-shadow: 0px 1px 3px 1px rgba(0, 0, 0, 0.15);\n",
       "      filter: drop-shadow(0px 1px 2px rgba(0, 0, 0, 0.3));\n",
       "      fill: #FFFFFF;\n",
       "    }\n",
       "  </style>\n",
       "\n",
       "      <script>\n",
       "        const buttonEl =\n",
       "          document.querySelector('#df-9d85d190-58a3-49a8-bdeb-23f01ab5a965 button.colab-df-convert');\n",
       "        buttonEl.style.display =\n",
       "          google.colab.kernel.accessAllowed ? 'block' : 'none';\n",
       "\n",
       "        async function convertToInteractive(key) {\n",
       "          const element = document.querySelector('#df-9d85d190-58a3-49a8-bdeb-23f01ab5a965');\n",
       "          const dataTable =\n",
       "            await google.colab.kernel.invokeFunction('convertToInteractive',\n",
       "                                                     [key], {});\n",
       "          if (!dataTable) return;\n",
       "\n",
       "          const docLinkHtml = 'Like what you see? Visit the ' +\n",
       "            '<a target=\"_blank\" href=https://colab.research.google.com/notebooks/data_table.ipynb>data table notebook</a>'\n",
       "            + ' to learn more about interactive tables.';\n",
       "          element.innerHTML = '';\n",
       "          dataTable['output_type'] = 'display_data';\n",
       "          await google.colab.output.renderOutput(dataTable, element);\n",
       "          const docLink = document.createElement('div');\n",
       "          docLink.innerHTML = docLinkHtml;\n",
       "          element.appendChild(docLink);\n",
       "        }\n",
       "      </script>\n",
       "    </div>\n",
       "  </div>\n",
       "  "
      ],
      "text/plain": [
       "   Target Label               Target Name  \\\n",
       "0            10          rec.sport.hockey   \n",
       "1             3  comp.sys.ibm.pc.hardware   \n",
       "2            17     talk.politics.mideast   \n",
       "3             3  comp.sys.ibm.pc.hardware   \n",
       "4             4     comp.sys.mac.hardware   \n",
       "\n",
       "                                             Article  \\\n",
       "0  \\n\\nI am sure some bashers of Pens fans are pr...   \n",
       "1  My brother is in the market for a high-perform...   \n",
       "2  \\n\\n\\n\\n\\tFinally you said what you dream abou...   \n",
       "3  \\nThink!\\n\\nIt's the SCSI card doing the DMA t...   \n",
       "4  1)    I have an old Jasmine drive which I cann...   \n",
       "\n",
       "                                       Clean Article  \n",
       "0  I sure basher pen fan pretty confused lack kin...  \n",
       "1  brother market high performance video card sup...  \n",
       "2  finally say dream mediterranean new area great...  \n",
       "3  think scsi card dma transfer disk scsi card dm...  \n",
       "4  I old jasmine drive I use new system understan...  "
      ]
     },
     "execution_count": 10,
     "metadata": {},
     "output_type": "execute_result"
    }
   ],
   "source": [
    "df = pd.read_excel(\"/content/Cleaned_news20.xlsx\")\n",
    "df.head()"
   ]
  },
  {
   "cell_type": "markdown",
   "metadata": {
    "id": "8D8-ncwpM-Tr"
   },
   "source": [
    "> #### **Do one more check to make sure there are no blank documents**"
   ]
  },
  {
   "cell_type": "code",
   "execution_count": null,
   "metadata": {
    "colab": {
     "base_uri": "https://localhost:8080/"
    },
    "id": "KfGYSmPdMvbx",
    "outputId": "9d6022f6-1b41-45a7-ee89-907531ce3d3c"
   },
   "outputs": [
    {
     "name": "stdout",
     "output_type": "stream",
     "text": [
      "<class 'pandas.core.frame.DataFrame'>\n",
      "RangeIndex: 18284 entries, 0 to 18283\n",
      "Data columns (total 4 columns):\n",
      " #   Column         Non-Null Count  Dtype \n",
      "---  ------         --------------  ----- \n",
      " 0   Target Label   18284 non-null  int64 \n",
      " 1   Target Name    18284 non-null  object\n",
      " 2   Article        18284 non-null  object\n",
      " 3   Clean Article  18261 non-null  object\n",
      "dtypes: int64(1), object(3)\n",
      "memory usage: 571.5+ KB\n"
     ]
    }
   ],
   "source": [
    "# replace blank entries with nans\n",
    "df = df.replace(r'^(\\s?)+$',np.nan, regex = True)\n",
    "\n",
    "# pull up df info\n",
    "df.info()"
   ]
  },
  {
   "cell_type": "markdown",
   "metadata": {
    "id": "cPHzXp7LNs5o"
   },
   "source": [
    "**Let's drop those nulls out.**"
   ]
  },
  {
   "cell_type": "code",
   "execution_count": null,
   "metadata": {
    "colab": {
     "base_uri": "https://localhost:8080/"
    },
    "id": "yT630Eq8NcrR",
    "outputId": "0ba08eb2-2f7b-4f4b-8245-062ee3b89a2a"
   },
   "outputs": [
    {
     "name": "stdout",
     "output_type": "stream",
     "text": [
      "<class 'pandas.core.frame.DataFrame'>\n",
      "RangeIndex: 18261 entries, 0 to 18260\n",
      "Data columns (total 4 columns):\n",
      " #   Column         Non-Null Count  Dtype \n",
      "---  ------         --------------  ----- \n",
      " 0   Target Label   18261 non-null  int64 \n",
      " 1   Target Name    18261 non-null  object\n",
      " 2   Article        18261 non-null  object\n",
      " 3   Clean Article  18261 non-null  object\n",
      "dtypes: int64(1), object(3)\n",
      "memory usage: 570.8+ KB\n"
     ]
    }
   ],
   "source": [
    "# drop nas\n",
    "df = df.dropna().reset_index(drop = True)\n",
    "df.info()"
   ]
  },
  {
   "cell_type": "markdown",
   "metadata": {
    "id": "a0X1YKTeN9oe"
   },
   "source": [
    "## **2) Building Train and Test Sets**\n",
    "\n",
    "My next step in developing a text classification model is to divide out the data into a training and test set. I use 66% of our data to train, and the remaining third as a test set."
   ]
  },
  {
   "cell_type": "code",
   "execution_count": null,
   "metadata": {
    "colab": {
     "base_uri": "https://localhost:8080/"
    },
    "id": "L-y7UeBiPExY",
    "outputId": "887e952a-2460-48cf-be26-36a8722cb110"
   },
   "outputs": [
    {
     "data": {
      "text/plain": [
       "((12234,), (6027,))"
      ]
     },
     "execution_count": 28,
     "metadata": {},
     "output_type": "execute_result"
    }
   ],
   "source": [
    "# produce training and test set corpora and labels\n",
    "train_corpus, test_corpus, train_label_nums, test_label_nums, train_label_names, test_label_names=\\\n",
    "                                                                train_test_split(np.array(df['Clean Article']), np.array(df['Target Label']),\n",
    "                                                                                 np.array(df['Target Name']), test_size = 0.33, random_state = 42)\n",
    "train_corpus.shape, test_corpus.shape"
   ]
  },
  {
   "cell_type": "markdown",
   "metadata": {
    "id": "zSZJpPP3Pi9g"
   },
   "source": [
    "**Let's examine the distribution of news article categories across the training and test sets**"
   ]
  },
  {
   "cell_type": "code",
   "execution_count": null,
   "metadata": {
    "colab": {
     "base_uri": "https://localhost:8080/",
     "height": 676
    },
    "id": "kU4azBBxPoD2",
    "outputId": "7d4de30c-eaa2-49ac-a8aa-b59b4976d546"
   },
   "outputs": [
    {
     "data": {
      "text/html": [
       "\n",
       "  <div id=\"df-00084de3-4944-4b95-8915-1a55707120b2\">\n",
       "    <div class=\"colab-df-container\">\n",
       "      <div>\n",
       "<style scoped>\n",
       "    .dataframe tbody tr th:only-of-type {\n",
       "        vertical-align: middle;\n",
       "    }\n",
       "\n",
       "    .dataframe tbody tr th {\n",
       "        vertical-align: top;\n",
       "    }\n",
       "\n",
       "    .dataframe thead th {\n",
       "        text-align: right;\n",
       "    }\n",
       "</style>\n",
       "<table border=\"1\" class=\"dataframe\">\n",
       "  <thead>\n",
       "    <tr style=\"text-align: right;\">\n",
       "      <th></th>\n",
       "      <th>Target Label</th>\n",
       "      <th>Train Count</th>\n",
       "      <th>Test Count</th>\n",
       "    </tr>\n",
       "  </thead>\n",
       "  <tbody>\n",
       "    <tr>\n",
       "      <th>16</th>\n",
       "      <td>talk.religion.misc</td>\n",
       "      <td>395</td>\n",
       "      <td>210</td>\n",
       "    </tr>\n",
       "    <tr>\n",
       "      <th>19</th>\n",
       "      <td>talk.politics.misc</td>\n",
       "      <td>518</td>\n",
       "      <td>238</td>\n",
       "    </tr>\n",
       "    <tr>\n",
       "      <th>3</th>\n",
       "      <td>alt.atheism</td>\n",
       "      <td>532</td>\n",
       "      <td>247</td>\n",
       "    </tr>\n",
       "    <tr>\n",
       "      <th>1</th>\n",
       "      <td>talk.politics.guns</td>\n",
       "      <td>597</td>\n",
       "      <td>289</td>\n",
       "    </tr>\n",
       "    <tr>\n",
       "      <th>11</th>\n",
       "      <td>misc.forsale</td>\n",
       "      <td>603</td>\n",
       "      <td>341</td>\n",
       "    </tr>\n",
       "    <tr>\n",
       "      <th>6</th>\n",
       "      <td>talk.politics.mideast</td>\n",
       "      <td>619</td>\n",
       "      <td>299</td>\n",
       "    </tr>\n",
       "    <tr>\n",
       "      <th>2</th>\n",
       "      <td>sci.med</td>\n",
       "      <td>621</td>\n",
       "      <td>337</td>\n",
       "    </tr>\n",
       "    <tr>\n",
       "      <th>17</th>\n",
       "      <td>rec.autos</td>\n",
       "      <td>630</td>\n",
       "      <td>306</td>\n",
       "    </tr>\n",
       "    <tr>\n",
       "      <th>4</th>\n",
       "      <td>comp.sys.ibm.pc.hardware</td>\n",
       "      <td>630</td>\n",
       "      <td>333</td>\n",
       "    </tr>\n",
       "    <tr>\n",
       "      <th>14</th>\n",
       "      <td>sci.crypt</td>\n",
       "      <td>632</td>\n",
       "      <td>330</td>\n",
       "    </tr>\n",
       "    <tr>\n",
       "      <th>0</th>\n",
       "      <td>comp.sys.mac.hardware</td>\n",
       "      <td>635</td>\n",
       "      <td>293</td>\n",
       "    </tr>\n",
       "    <tr>\n",
       "      <th>15</th>\n",
       "      <td>comp.os.ms-windows.misc</td>\n",
       "      <td>635</td>\n",
       "      <td>309</td>\n",
       "    </tr>\n",
       "    <tr>\n",
       "      <th>5</th>\n",
       "      <td>rec.sport.baseball</td>\n",
       "      <td>639</td>\n",
       "      <td>319</td>\n",
       "    </tr>\n",
       "    <tr>\n",
       "      <th>10</th>\n",
       "      <td>rec.motorcycles</td>\n",
       "      <td>639</td>\n",
       "      <td>328</td>\n",
       "    </tr>\n",
       "    <tr>\n",
       "      <th>8</th>\n",
       "      <td>sci.space</td>\n",
       "      <td>647</td>\n",
       "      <td>307</td>\n",
       "    </tr>\n",
       "    <tr>\n",
       "      <th>18</th>\n",
       "      <td>comp.windows.x</td>\n",
       "      <td>648</td>\n",
       "      <td>318</td>\n",
       "    </tr>\n",
       "    <tr>\n",
       "      <th>7</th>\n",
       "      <td>comp.graphics</td>\n",
       "      <td>649</td>\n",
       "      <td>305</td>\n",
       "    </tr>\n",
       "    <tr>\n",
       "      <th>12</th>\n",
       "      <td>rec.sport.hockey</td>\n",
       "      <td>653</td>\n",
       "      <td>322</td>\n",
       "    </tr>\n",
       "    <tr>\n",
       "      <th>9</th>\n",
       "      <td>sci.electronics</td>\n",
       "      <td>659</td>\n",
       "      <td>297</td>\n",
       "    </tr>\n",
       "    <tr>\n",
       "      <th>13</th>\n",
       "      <td>soc.religion.christian</td>\n",
       "      <td>669</td>\n",
       "      <td>306</td>\n",
       "    </tr>\n",
       "  </tbody>\n",
       "</table>\n",
       "</div>\n",
       "      <button class=\"colab-df-convert\" onclick=\"convertToInteractive('df-00084de3-4944-4b95-8915-1a55707120b2')\"\n",
       "              title=\"Convert this dataframe to an interactive table.\"\n",
       "              style=\"display:none;\">\n",
       "        \n",
       "  <svg xmlns=\"http://www.w3.org/2000/svg\" height=\"24px\"viewBox=\"0 0 24 24\"\n",
       "       width=\"24px\">\n",
       "    <path d=\"M0 0h24v24H0V0z\" fill=\"none\"/>\n",
       "    <path d=\"M18.56 5.44l.94 2.06.94-2.06 2.06-.94-2.06-.94-.94-2.06-.94 2.06-2.06.94zm-11 1L8.5 8.5l.94-2.06 2.06-.94-2.06-.94L8.5 2.5l-.94 2.06-2.06.94zm10 10l.94 2.06.94-2.06 2.06-.94-2.06-.94-.94-2.06-.94 2.06-2.06.94z\"/><path d=\"M17.41 7.96l-1.37-1.37c-.4-.4-.92-.59-1.43-.59-.52 0-1.04.2-1.43.59L10.3 9.45l-7.72 7.72c-.78.78-.78 2.05 0 2.83L4 21.41c.39.39.9.59 1.41.59.51 0 1.02-.2 1.41-.59l7.78-7.78 2.81-2.81c.8-.78.8-2.07 0-2.86zM5.41 20L4 18.59l7.72-7.72 1.47 1.35L5.41 20z\"/>\n",
       "  </svg>\n",
       "      </button>\n",
       "      \n",
       "  <style>\n",
       "    .colab-df-container {\n",
       "      display:flex;\n",
       "      flex-wrap:wrap;\n",
       "      gap: 12px;\n",
       "    }\n",
       "\n",
       "    .colab-df-convert {\n",
       "      background-color: #E8F0FE;\n",
       "      border: none;\n",
       "      border-radius: 50%;\n",
       "      cursor: pointer;\n",
       "      display: none;\n",
       "      fill: #1967D2;\n",
       "      height: 32px;\n",
       "      padding: 0 0 0 0;\n",
       "      width: 32px;\n",
       "    }\n",
       "\n",
       "    .colab-df-convert:hover {\n",
       "      background-color: #E2EBFA;\n",
       "      box-shadow: 0px 1px 2px rgba(60, 64, 67, 0.3), 0px 1px 3px 1px rgba(60, 64, 67, 0.15);\n",
       "      fill: #174EA6;\n",
       "    }\n",
       "\n",
       "    [theme=dark] .colab-df-convert {\n",
       "      background-color: #3B4455;\n",
       "      fill: #D2E3FC;\n",
       "    }\n",
       "\n",
       "    [theme=dark] .colab-df-convert:hover {\n",
       "      background-color: #434B5C;\n",
       "      box-shadow: 0px 1px 3px 1px rgba(0, 0, 0, 0.15);\n",
       "      filter: drop-shadow(0px 1px 2px rgba(0, 0, 0, 0.3));\n",
       "      fill: #FFFFFF;\n",
       "    }\n",
       "  </style>\n",
       "\n",
       "      <script>\n",
       "        const buttonEl =\n",
       "          document.querySelector('#df-00084de3-4944-4b95-8915-1a55707120b2 button.colab-df-convert');\n",
       "        buttonEl.style.display =\n",
       "          google.colab.kernel.accessAllowed ? 'block' : 'none';\n",
       "\n",
       "        async function convertToInteractive(key) {\n",
       "          const element = document.querySelector('#df-00084de3-4944-4b95-8915-1a55707120b2');\n",
       "          const dataTable =\n",
       "            await google.colab.kernel.invokeFunction('convertToInteractive',\n",
       "                                                     [key], {});\n",
       "          if (!dataTable) return;\n",
       "\n",
       "          const docLinkHtml = 'Like what you see? Visit the ' +\n",
       "            '<a target=\"_blank\" href=https://colab.research.google.com/notebooks/data_table.ipynb>data table notebook</a>'\n",
       "            + ' to learn more about interactive tables.';\n",
       "          element.innerHTML = '';\n",
       "          dataTable['output_type'] = 'display_data';\n",
       "          await google.colab.output.renderOutput(dataTable, element);\n",
       "          const docLink = document.createElement('div');\n",
       "          docLink.innerHTML = docLinkHtml;\n",
       "          element.appendChild(docLink);\n",
       "        }\n",
       "      </script>\n",
       "    </div>\n",
       "  </div>\n",
       "  "
      ],
      "text/plain": [
       "                Target Label  Train Count  Test Count\n",
       "16        talk.religion.misc          395         210\n",
       "19        talk.politics.misc          518         238\n",
       "3                alt.atheism          532         247\n",
       "1         talk.politics.guns          597         289\n",
       "11              misc.forsale          603         341\n",
       "6      talk.politics.mideast          619         299\n",
       "2                    sci.med          621         337\n",
       "17                 rec.autos          630         306\n",
       "4   comp.sys.ibm.pc.hardware          630         333\n",
       "14                 sci.crypt          632         330\n",
       "0      comp.sys.mac.hardware          635         293\n",
       "15   comp.os.ms-windows.misc          635         309\n",
       "5         rec.sport.baseball          639         319\n",
       "10           rec.motorcycles          639         328\n",
       "8                  sci.space          647         307\n",
       "18            comp.windows.x          648         318\n",
       "7              comp.graphics          649         305\n",
       "12          rec.sport.hockey          653         322\n",
       "9            sci.electronics          659         297\n",
       "13    soc.religion.christian          669         306"
      ]
     },
     "execution_count": 12,
     "metadata": {},
     "output_type": "execute_result"
    }
   ],
   "source": [
    "# create training dictionary of labels\n",
    "trd = dict(Counter(train_label_names))\n",
    "\n",
    "# create test set dictionary of labels\n",
    "tsd = dict(Counter(test_label_names))\n",
    "\n",
    "# display as dataframe\n",
    "(pd.DataFrame([[key, trd[key], tsd[key]] for key in trd], columns = ['Target Label', 'Train Count', 'Test Count']).sort_values(by = [\"Train Count\", \"Test Count\"]))"
   ]
  },
  {
   "cell_type": "markdown",
   "metadata": {
    "id": "NFw6zS4nQGkc"
   },
   "source": [
    "**Are the distributions of each category between the training and the test set roughly as expected given a 66-33 split on the data? Which category has the most observations, which has the least?**\n",
    "\n",
    "There is roughly the same class distribution of article categories across the training and the test set, hockey has the most articles and misc religion has the least."
   ]
  },
  {
   "cell_type": "markdown",
   "metadata": {
    "id": "SOBsry_uQ9oj"
   },
   "source": [
    "## **3) Classification with Bag of Words Features**\n",
    "> #### **Feature Engineering using Bag of Words Modeling**"
   ]
  },
  {
   "cell_type": "code",
   "execution_count": null,
   "metadata": {
    "id": "lb0ay3kSQfEV"
   },
   "outputs": [],
   "source": [
    "# set parameters of BoW\n",
    "cv = CountVectorizer(binary = False, min_df = 0.0, max_df = 1.0\n",
    "                    )\n",
    "# fit model to training corpus, build BOW features on train articles\n",
    "cv_train_features = cv.fit_transform(train_corpus)\n"
   ]
  },
  {
   "cell_type": "code",
   "execution_count": null,
   "metadata": {
    "id": "7h82N3LNSJ4m"
   },
   "outputs": [],
   "source": [
    "# transform test articles to BOW features = cv\n",
    "cv_test_features = cv.transform(test_corpus)"
   ]
  },
  {
   "cell_type": "markdown",
   "metadata": {
    "id": "IDGER5dwSjjZ"
   },
   "source": [
    "> #### **Fit Classifiers to BoW Features; Evaluate 5-fold Cross-Validated Accuracy**"
   ]
  },
  {
   "cell_type": "markdown",
   "metadata": {
    "id": "_UvIsqAmS0Om"
   },
   "source": [
    "**Naive Multinomial Bayes** - runs fast"
   ]
  },
  {
   "cell_type": "code",
   "execution_count": null,
   "metadata": {
    "id": "pDwTHwmD3XTD"
   },
   "outputs": [],
   "source": [
    "from sklearn.naive_bayes import MultinomialNB"
   ]
  },
  {
   "cell_type": "code",
   "execution_count": null,
   "metadata": {
    "colab": {
     "base_uri": "https://localhost:8080/"
    },
    "id": "mPppCBy1VfZ-",
    "outputId": "ef775660-0015-4f1c-9a37-dcb9e154ead5"
   },
   "outputs": [
    {
     "name": "stdout",
     "output_type": "stream",
     "text": [
      "CV Accuracy (5-fold): [0.67919902 0.67061708 0.67674704 0.68532897 0.66557645]\n",
      "Mean CV Accuracy: 0.6754937128280628\n",
      "Test Accuracy: 0.6943753111000498\n"
     ]
    }
   ],
   "source": [
    "mnb = MultinomialNB(alpha=1)                                                              # set model parameters\n",
    "mnb.fit(cv_train_features, train_label_names)                                             # fit model to training data features & labels (x,y)\n",
    "\n",
    "mnb_bow_cv_scores = cross_val_score(mnb, cv_train_features, train_label_names, cv=5)      # run 5-fold cross-validation\n",
    "mnb_bow_cv_mean_score = np.mean(mnb_bow_cv_scores)                                        # compute average cross-validated accuracy\n",
    "\n",
    "print('CV Accuracy (5-fold):', mnb_bow_cv_scores)                                         # print 5-fold accuracy\n",
    "print('Mean CV Accuracy:', mnb_bow_cv_mean_score)                                         # print average accuracy\n",
    "\n",
    "mnb_bow_test_score = mnb.score(cv_test_features, test_label_names)                        # calculate test set accuracy\n",
    "print('Test Accuracy:', mnb_bow_test_score)                                               # print test set accuracy"
   ]
  },
  {
   "cell_type": "markdown",
   "metadata": {
    "id": "bMgcruRETs6T"
   },
   "source": [
    "**How to calculate the baseline?**\n",
    "\n",
    "We take the number of articles in the majority class divided by the length of the dataframe.\n"
   ]
  },
  {
   "cell_type": "code",
   "execution_count": null,
   "metadata": {
    "colab": {
     "base_uri": "https://localhost:8080/"
    },
    "id": "6u3Vvg8zT9AI",
    "outputId": "3d211299-07c1-4c1d-c886-2b0c566b5a40"
   },
   "outputs": [
    {
     "name": "stdout",
     "output_type": "stream",
     "text": [
      "Baseline Accuracy =  0.05333771425442199\n"
     ]
    }
   ],
   "source": [
    "# print baseline accuracy calculation\n",
    "print(\"Baseline Accuracy = \", (670+304)/len(df))\n"
   ]
  },
  {
   "cell_type": "markdown",
   "metadata": {
    "id": "IHV03lKnUaBZ"
   },
   "source": [
    "**Logistic Regression** -- took about 3 minutes to run using regular runtime"
   ]
  },
  {
   "cell_type": "code",
   "execution_count": null,
   "metadata": {
    "id": "zEGWcHuQ3a2a"
   },
   "outputs": [],
   "source": [
    "from sklearn.linear_model import LogisticRegression"
   ]
  },
  {
   "cell_type": "code",
   "execution_count": null,
   "metadata": {
    "colab": {
     "base_uri": "https://localhost:8080/"
    },
    "id": "i31shbeXUcIp",
    "outputId": "97d2b7ed-6fa1-4d28-c488-23c05d7bc293"
   },
   "outputs": [
    {
     "name": "stdout",
     "output_type": "stream",
     "text": [
      "CV Accuracy (f-fold): [0.70208418 0.66857376 0.69718022 0.67184307 0.66680294]\n",
      "Mean CV Accuracy: 0.6812968371837826\n",
      "Test Accuracy: 0.6900613904098225\n"
     ]
    }
   ],
   "source": [
    "# train logistic regression model, print accuracies\n",
    "\n",
    "# set model parameters\n",
    "lr = LogisticRegression(penalty = 'l2', max_iter = 100, C = 1, random_state = 42)\n",
    "# fit model to training data features & labels (x,y)\n",
    "lr.fit(cv_train_features, train_label_names)\n",
    "\n",
    "# run 5-fold cross-validation\n",
    "lr_bow_cv_scores = cross_val_score(lr, cv_train_features, train_label_names, cv = 5)\n",
    "# compute average cross-validated accuracy\n",
    "lr_bow_cv_mean_score = np.mean(lr_bow_cv_scores)\n",
    "\n",
    "# print 5-fold accuracy\n",
    "print('CV Accuracy (f-fold):', lr_bow_cv_scores)\n",
    "# print average accuracy\n",
    "print('Mean CV Accuracy:', lr_bow_cv_mean_score)\n",
    "\n",
    "lr_bow_test_score = lr.score(cv_test_features, test_label_names)                        # calculate test set accuracy\n",
    "print('Test Accuracy:', lr_bow_test_score)                                               # print test set accuracy"
   ]
  },
  {
   "cell_type": "markdown",
   "metadata": {
    "id": "hmKWjT8GVxXc"
   },
   "source": [
    "**Was there a considerable difference in performance, yes or no? Does the difference in performance outweigh the difference in training time?**\n",
    "\n",
    "Not much better than MNB. Not when it is such a close margin."
   ]
  },
  {
   "cell_type": "markdown",
   "metadata": {
    "id": "RzknRsJbWBwt"
   },
   "source": [
    "**Support Vector Machines**"
   ]
  },
  {
   "cell_type": "code",
   "execution_count": null,
   "metadata": {
    "id": "65xdUZXD3c4H"
   },
   "outputs": [],
   "source": [
    "from sklearn.svm import LinearSVC"
   ]
  },
  {
   "cell_type": "code",
   "execution_count": null,
   "metadata": {
    "colab": {
     "base_uri": "https://localhost:8080/"
    },
    "id": "9MOsIceqWBHb",
    "outputId": "ee655c72-7bd9-47de-8d16-7f98c65f580d"
   },
   "outputs": [
    {
     "name": "stdout",
     "output_type": "stream",
     "text": [
      "CV Accuracy (f-fold): [0.6546792  0.64609726 0.66693911 0.6411933  0.64022895]\n",
      "Mean CV Accuracy: 0.649827562643663\n",
      "Test Accuracy: 0.6537249045959848\n"
     ]
    }
   ],
   "source": [
    "# train linear SVM, print accuracies\n",
    "# set model parameters\n",
    "svm = LinearSVC(penalty = 'l2', C = 1, random_state = 42)\n",
    "# fit model to training data features & labels (x,y)\n",
    "svm.fit(cv_train_features, train_label_names)\n",
    "\n",
    "# run 5-fold cross-validation\n",
    "svm_bow_cv_scores = cross_val_score(svm, cv_train_features, train_label_names, cv = 5)\n",
    "# compute average cross-validated accuracy\n",
    "svm_bow_cv_mean_score = np.mean(svm_bow_cv_scores)\n",
    "\n",
    "# print 5-fold accuracy\n",
    "print('CV Accuracy (f-fold):', svm_bow_cv_scores)\n",
    "# print average accuracy\n",
    "print('Mean CV Accuracy:', svm_bow_cv_mean_score)\n",
    "\n",
    "svm_bow_test_score = svm.score(cv_test_features, test_label_names)                        # calculate test set accuracy\n",
    "print('Test Accuracy:', svm_bow_test_score)                                               # print test set accuracy"
   ]
  },
  {
   "cell_type": "markdown",
   "metadata": {
    "id": "6ce6c-yXWphu"
   },
   "source": [
    "**The SVM trained considerably faster than the logistic regression; how does the accuracy compare?**\n",
    "\n",
    "In this case is lower, though it does train a lot faster. SVM faster than LR. Trade off between accuracy and run time."
   ]
  },
  {
   "cell_type": "markdown",
   "metadata": {
    "id": "XowykQr3Wz9k"
   },
   "source": [
    "**Random Forest Classifier** - took about 30 seconds to train"
   ]
  },
  {
   "cell_type": "code",
   "execution_count": null,
   "metadata": {
    "id": "WWUEptTC3fJl"
   },
   "outputs": [],
   "source": [
    "from sklearn.ensemble import RandomForestClassifier"
   ]
  },
  {
   "cell_type": "code",
   "execution_count": null,
   "metadata": {
    "colab": {
     "base_uri": "https://localhost:8080/"
    },
    "id": "VZLjt76TWzfd",
    "outputId": "7afd5d16-f336-4c0b-9f08-bea8b7dd28d4"
   },
   "outputs": [
    {
     "name": "stdout",
     "output_type": "stream",
     "text": [
      "CV Accuracy (f-fold): [0.53780139 0.51246424 0.52881079 0.53126277 0.49632052]\n",
      "Mean CV Accuracy: 0.5213319428298573\n",
      "Test Accuracy: 0.5314418450306952\n"
     ]
    }
   ],
   "source": [
    "# train random forest classifier, print accuracies\n",
    "# set model parameters\n",
    "rfc = RandomForestClassifier(n_estimators = 10, random_state = 42)\n",
    "# fit model to training data features & labels (x,y)\n",
    "rfc.fit(cv_train_features, train_label_names)\n",
    "\n",
    "# run 5-fold cross-validation\n",
    "rfc_bow_cv_scores = cross_val_score(rfc, cv_train_features, train_label_names, cv = 5)\n",
    "# compute average cross-validated accuracy\n",
    "rfc_bow_cv_mean_score = np.mean(rfc_bow_cv_scores)\n",
    "\n",
    "# print 5-fold accuracy\n",
    "print('CV Accuracy (f-fold):', rfc_bow_cv_scores)\n",
    "# print average accuracy\n",
    "print('Mean CV Accuracy:', rfc_bow_cv_mean_score)\n",
    "\n",
    "rfc_bow_test_score = rfc.score(cv_test_features, test_label_names)                        # calculate test set accuracy\n",
    "print('Test Accuracy:', rfc_bow_test_score)                                               # print test set accuracy"
   ]
  },
  {
   "cell_type": "markdown",
   "metadata": {
    "id": "ebFXvyeCu5po"
   },
   "source": [
    "**Gradient Boosting Machines** -- Took ~10 minutes to run; do outside of class"
   ]
  },
  {
   "cell_type": "code",
   "execution_count": null,
   "metadata": {
    "id": "S8XaPfD13hrm"
   },
   "outputs": [],
   "source": [
    "from sklearn.ensemble import GradientBoostingClassifier"
   ]
  },
  {
   "cell_type": "code",
   "execution_count": null,
   "metadata": {
    "colab": {
     "base_uri": "https://localhost:8080/"
    },
    "id": "6fLPFpOPu_B0",
    "outputId": "1768a176-9c37-4fae-8b53-e74000e29771"
   },
   "outputs": [
    {
     "name": "stdout",
     "output_type": "stream",
     "text": [
      "CV Accuracy (f-fold): [0.67919902 0.67061708 0.67674704 0.68532897 0.66557645]\n",
      "Mean CV Accuracy: 0.6754937128280628\n",
      "Test Accuracy: 0.5495271279243404\n"
     ]
    }
   ],
   "source": [
    "# train gradient boosting machine, print accuracies\n",
    "# set model parameters\n",
    "gbc = GradientBoostingClassifier(n_estimators = 10, random_state = 42)\n",
    "# fit model to training data features & labels (x,y)\n",
    "gbc.fit(cv_train_features, train_label_names)\n",
    "\n",
    "# run 5-fold cross-validation\n",
    "gbc_bow_cv_scores = cross_val_score(mnb, cv_train_features, train_label_names, cv = 5)\n",
    "# compute average cross-validated accuracy\n",
    "gbc_bow_cv_mean_score = np.mean(gbc_bow_cv_scores)\n",
    "\n",
    "# print 5-fold accuracy\n",
    "print('CV Accuracy (f-fold):', gbc_bow_cv_scores)\n",
    "# print average accuracy\n",
    "print('Mean CV Accuracy:', gbc_bow_cv_mean_score)\n",
    "\n",
    "gbc_bow_test_score = gbc.score(cv_test_features, test_label_names)                        # calculate test set accuracy\n",
    "print('Test Accuracy:', gbc_bow_test_score)                                               # print test set accuracy"
   ]
  },
  {
   "cell_type": "markdown",
   "metadata": {
    "id": "ZJkctEmlwhwE"
   },
   "source": [
    "**Which of the models had the best performance in correctly classifying article labels; which had the worst? Let's display the test set accuracies for each model in a table below:**\n",
    "\n",
    "MNB did the best, and Randrom forest performed the worst\n",
    "\n"
   ]
  },
  {
   "cell_type": "code",
   "execution_count": null,
   "metadata": {
    "colab": {
     "base_uri": "https://localhost:8080/",
     "height": 206
    },
    "id": "Zf1JMrcWwuwC",
    "outputId": "8f5387dd-4529-4d72-f9da-2d895900ce60"
   },
   "outputs": [
    {
     "data": {
      "text/html": [
       "\n",
       "  <div id=\"df-82a6f937-6625-43a8-9542-184135cff3e8\">\n",
       "    <div class=\"colab-df-container\">\n",
       "      <div>\n",
       "<style scoped>\n",
       "    .dataframe tbody tr th:only-of-type {\n",
       "        vertical-align: middle;\n",
       "    }\n",
       "\n",
       "    .dataframe tbody tr th {\n",
       "        vertical-align: top;\n",
       "    }\n",
       "\n",
       "    .dataframe thead th {\n",
       "        text-align: right;\n",
       "    }\n",
       "</style>\n",
       "<table border=\"1\" class=\"dataframe\">\n",
       "  <thead>\n",
       "    <tr style=\"text-align: right;\">\n",
       "      <th></th>\n",
       "      <th>Test Set Accuracy</th>\n",
       "    </tr>\n",
       "  </thead>\n",
       "  <tbody>\n",
       "    <tr>\n",
       "      <th>GBC</th>\n",
       "      <td>0.549527</td>\n",
       "    </tr>\n",
       "    <tr>\n",
       "      <th>RFC</th>\n",
       "      <td>0.531442</td>\n",
       "    </tr>\n",
       "    <tr>\n",
       "      <th>SVM</th>\n",
       "      <td>0.653725</td>\n",
       "    </tr>\n",
       "    <tr>\n",
       "      <th>LR</th>\n",
       "      <td>0.690061</td>\n",
       "    </tr>\n",
       "    <tr>\n",
       "      <th>MNB</th>\n",
       "      <td>0.694375</td>\n",
       "    </tr>\n",
       "  </tbody>\n",
       "</table>\n",
       "</div>\n",
       "      <button class=\"colab-df-convert\" onclick=\"convertToInteractive('df-82a6f937-6625-43a8-9542-184135cff3e8')\"\n",
       "              title=\"Convert this dataframe to an interactive table.\"\n",
       "              style=\"display:none;\">\n",
       "        \n",
       "  <svg xmlns=\"http://www.w3.org/2000/svg\" height=\"24px\"viewBox=\"0 0 24 24\"\n",
       "       width=\"24px\">\n",
       "    <path d=\"M0 0h24v24H0V0z\" fill=\"none\"/>\n",
       "    <path d=\"M18.56 5.44l.94 2.06.94-2.06 2.06-.94-2.06-.94-.94-2.06-.94 2.06-2.06.94zm-11 1L8.5 8.5l.94-2.06 2.06-.94-2.06-.94L8.5 2.5l-.94 2.06-2.06.94zm10 10l.94 2.06.94-2.06 2.06-.94-2.06-.94-.94-2.06-.94 2.06-2.06.94z\"/><path d=\"M17.41 7.96l-1.37-1.37c-.4-.4-.92-.59-1.43-.59-.52 0-1.04.2-1.43.59L10.3 9.45l-7.72 7.72c-.78.78-.78 2.05 0 2.83L4 21.41c.39.39.9.59 1.41.59.51 0 1.02-.2 1.41-.59l7.78-7.78 2.81-2.81c.8-.78.8-2.07 0-2.86zM5.41 20L4 18.59l7.72-7.72 1.47 1.35L5.41 20z\"/>\n",
       "  </svg>\n",
       "      </button>\n",
       "      \n",
       "  <style>\n",
       "    .colab-df-container {\n",
       "      display:flex;\n",
       "      flex-wrap:wrap;\n",
       "      gap: 12px;\n",
       "    }\n",
       "\n",
       "    .colab-df-convert {\n",
       "      background-color: #E8F0FE;\n",
       "      border: none;\n",
       "      border-radius: 50%;\n",
       "      cursor: pointer;\n",
       "      display: none;\n",
       "      fill: #1967D2;\n",
       "      height: 32px;\n",
       "      padding: 0 0 0 0;\n",
       "      width: 32px;\n",
       "    }\n",
       "\n",
       "    .colab-df-convert:hover {\n",
       "      background-color: #E2EBFA;\n",
       "      box-shadow: 0px 1px 2px rgba(60, 64, 67, 0.3), 0px 1px 3px 1px rgba(60, 64, 67, 0.15);\n",
       "      fill: #174EA6;\n",
       "    }\n",
       "\n",
       "    [theme=dark] .colab-df-convert {\n",
       "      background-color: #3B4455;\n",
       "      fill: #D2E3FC;\n",
       "    }\n",
       "\n",
       "    [theme=dark] .colab-df-convert:hover {\n",
       "      background-color: #434B5C;\n",
       "      box-shadow: 0px 1px 3px 1px rgba(0, 0, 0, 0.15);\n",
       "      filter: drop-shadow(0px 1px 2px rgba(0, 0, 0, 0.3));\n",
       "      fill: #FFFFFF;\n",
       "    }\n",
       "  </style>\n",
       "\n",
       "      <script>\n",
       "        const buttonEl =\n",
       "          document.querySelector('#df-82a6f937-6625-43a8-9542-184135cff3e8 button.colab-df-convert');\n",
       "        buttonEl.style.display =\n",
       "          google.colab.kernel.accessAllowed ? 'block' : 'none';\n",
       "\n",
       "        async function convertToInteractive(key) {\n",
       "          const element = document.querySelector('#df-82a6f937-6625-43a8-9542-184135cff3e8');\n",
       "          const dataTable =\n",
       "            await google.colab.kernel.invokeFunction('convertToInteractive',\n",
       "                                                     [key], {});\n",
       "          if (!dataTable) return;\n",
       "\n",
       "          const docLinkHtml = 'Like what you see? Visit the ' +\n",
       "            '<a target=\"_blank\" href=https://colab.research.google.com/notebooks/data_table.ipynb>data table notebook</a>'\n",
       "            + ' to learn more about interactive tables.';\n",
       "          element.innerHTML = '';\n",
       "          dataTable['output_type'] = 'display_data';\n",
       "          await google.colab.output.renderOutput(dataTable, element);\n",
       "          const docLink = document.createElement('div');\n",
       "          docLink.innerHTML = docLinkHtml;\n",
       "          element.appendChild(docLink);\n",
       "        }\n",
       "      </script>\n",
       "    </div>\n",
       "  </div>\n",
       "  "
      ],
      "text/plain": [
       "     Test Set Accuracy\n",
       "GBC           0.549527\n",
       "RFC           0.531442\n",
       "SVM           0.653725\n",
       "LR            0.690061\n",
       "MNB           0.694375"
      ]
     },
     "execution_count": 49,
     "metadata": {},
     "output_type": "execute_result"
    }
   ],
   "source": [
    "# produce table of test set accuracies by model type\n",
    "models = gbc_bow_test_score, rfc_bow_test_score, svm_bow_test_score, lr_bow_test_score, mnb_bow_test_score\n",
    "\n",
    "pd.DataFrame(data = models,\n",
    "             index = [\"GBC\", \"RFC\", \"SVM\", \"LR\", \"MNB\"],\n",
    "             columns = [\"Test Set Accuracy\"])"
   ]
  },
  {
   "cell_type": "markdown",
   "metadata": {
    "id": "Vb66pAZXx4eM"
   },
   "source": [
    "## **4) TF-IDF Feature Weights**\n",
    "\n",
    "Clearly none of the models achieved great performance in classifying the topics/categories of the news articles; but remember, BoW models produce very sparse representations of 0s and 1s best on term frequencies within and amongst documents. Let's construct more representative vectors by weighting words by their term frequency-inverse document frequency and then retrain our models."
   ]
  },
  {
   "cell_type": "code",
   "execution_count": null,
   "metadata": {
    "id": "Zd2CrNLQyw3T"
   },
   "outputs": [],
   "source": [
    "from sklearn.feature_extraction.text import TfidfVectorizer\n",
    "\n",
    "# set parameters of Tfidf Vectorizer\n",
    "tv = TfidfVectorizer(use_idf = True, min_df = 0.0, max_df = 1.0)\n",
    "# fit to training corpus to produce tfidf weights\n",
    "tv_train_features = tv.fit_transform(train_corpus)\n",
    "tv_test_features = tv.transform(test_corpus)"
   ]
  },
  {
   "cell_type": "code",
   "execution_count": null,
   "metadata": {
    "id": "fKK5vDYazQU1"
   },
   "outputs": [],
   "source": [
    "# transform test articles into features"
   ]
  },
  {
   "cell_type": "markdown",
   "metadata": {
    "id": "UpUgzrUqzFs4"
   },
   "source": [
    "**Mutlinomial Naive Bayes**"
   ]
  },
  {
   "cell_type": "code",
   "execution_count": null,
   "metadata": {
    "id": "c0KE2-aUzJlb",
    "outputId": "c30c002d-2511-48ef-8f99-50b4196922ab"
   },
   "outputs": [
    {
     "name": "stdout",
     "output_type": "stream",
     "text": [
      "cross validation Accuracy (f-fold): [0.72456069 0.71148345 0.72496935 0.72496935 0.71136549]\n",
      "Mean Cross validation Accuracy: 0.7194696661622138\n",
      "Test Accuracy: 0.696200431392069\n"
     ]
    }
   ],
   "source": [
    "# train mnb on tf-idf features, print accuracies\n",
    "# set model parameters\n",
    "mnb = MultinomialNB(alpha = 1)\n",
    "# fit model to training data features & labels (x,y)\n",
    "mnb.fit(tv_train_features, train_label_names)\n",
    "\n",
    "# run 5-fold cross-validation\n",
    "mnb_bow_tv_scores = cross_val_score(mnb, tv_train_features, train_label_names, cv = 5)\n",
    "# compute average cross-validated accuracy\n",
    "mnb_bow_tv_mean_score = np.mean(mnb_bow_tv_scores)\n",
    "\n",
    "# print 5-fold accuracy\n",
    "print('cross validation Accuracy (f-fold):', mnb_bow_tv_scores)\n",
    "# print average accuracy\n",
    "print('Mean Cross validation Accuracy:', mnb_bow_tv_mean_score)\n",
    "\n",
    "mnb_bow_test_score = mnb.score(cv_test_features, test_label_names)                        # calculate test set accuracy\n",
    "print('Test Accuracy:', mnb_bow_test_score)                                               # print test set accuracy"
   ]
  },
  {
   "cell_type": "markdown",
   "metadata": {
    "id": "jT5XfXMz0dwh"
   },
   "source": [
    "**Logistic Regression**"
   ]
  },
  {
   "cell_type": "code",
   "execution_count": null,
   "metadata": {
    "id": "VwBCTesM0igW",
    "outputId": "83fc5dd8-81e3-4bf6-8235-22d8f25c4826"
   },
   "outputs": [
    {
     "name": "stdout",
     "output_type": "stream",
     "text": [
      "CV Accuracy (5-fold): [0.75112383 0.74008991 0.74826318 0.74744585 0.73916599]\n",
      "Mean CV Accuracy: 0.7452177495697001\n",
      "Test Accuracy: 0.7469719595155135\n"
     ]
    }
   ],
   "source": [
    "lr = LogisticRegression(penalty='l2', max_iter=100, C=1, random_state=42, n_jobs=-1)                          # set n_jobs to -1 to run all CPUs in parallel\n",
    "lr.fit(tv_train_features, train_label_names)\n",
    "\n",
    "lr_tfidf_cv_scores = cross_val_score(lr, tv_train_features, train_label_names, cv=5, n_jobs=-1)\n",
    "lr_tfidf_cv_mean_score = np.mean(lr_tfidf_cv_scores)\n",
    "\n",
    "print('CV Accuracy (5-fold):', lr_tfidf_cv_scores)\n",
    "print('Mean CV Accuracy:', lr_tfidf_cv_mean_score)\n",
    "\n",
    "lr_tfidf_test_score = lr.score(tv_test_features, test_label_names)\n",
    "print('Test Accuracy:', lr_tfidf_test_score)"
   ]
  },
  {
   "cell_type": "markdown",
   "metadata": {
    "id": "raTs8mT90pjf"
   },
   "source": [
    "**Support Vector Machines**"
   ]
  },
  {
   "cell_type": "code",
   "execution_count": null,
   "metadata": {
    "id": "75GkZjSj0slo",
    "outputId": "29482961-7879-4a39-d3ec-294f48e13a16"
   },
   "outputs": [
    {
     "name": "stdout",
     "output_type": "stream",
     "text": [
      "CV Accuracy (f-fold): [0.6546792  0.64609726 0.66693911 0.6411933  0.64022895]\n",
      "Mean CV Accuracy: 0.649827562643663\n",
      "Test Accuracy: 0.7638958022233283\n"
     ]
    }
   ],
   "source": [
    "# train SVM, print accuracies\n",
    "# train linear SVM, print accuracies\n",
    "# set model parameters\n",
    "svm = LinearSVC(penalty = 'l2', C = 1, random_state = 42)\n",
    "# fit model to training data features & labels (x,y)\n",
    "svm.fit(tv_train_features, train_label_names)\n",
    "\n",
    "# run 5-fold cross-validation\n",
    "svm_bow_tv_scores = cross_val_score(svm, cv_train_features, train_label_names, cv = 5)\n",
    "# compute average cross-validated accuracy\n",
    "svm_bow_tv_mean_score = np.mean(svm_bow_tv_scores)\n",
    "\n",
    "# print 5-fold accuracy\n",
    "print('CV Accuracy (f-fold):', svm_bow_tv_scores)\n",
    "# print average accuracy\n",
    "print('Mean CV Accuracy:', svm_bow_tv_mean_score)\n",
    "\n",
    "svm_tfidf_test_score = svm.score(tv_test_features, test_label_names)\n",
    "print('Test Accuracy:', svm_tfidf_test_score)"
   ]
  },
  {
   "cell_type": "markdown",
   "metadata": {
    "id": "DI1QEspr295P"
   },
   "source": [
    "**Random Forest Classifier**"
   ]
  },
  {
   "cell_type": "code",
   "execution_count": null,
   "metadata": {
    "id": "IAxcpRF63mqH",
    "outputId": "c82e8e99-6253-4929-f49a-d9537e0b62fe"
   },
   "outputs": [
    {
     "name": "stdout",
     "output_type": "stream",
     "text": [
      "CV Accuracy (f-fold): [0.53780139 0.51246424 0.52881079 0.53126277 0.49632052]\n",
      "Mean CV Accuracy: 0.5213319428298573\n",
      "Test Accuracy: 0.536917205906753\n"
     ]
    }
   ],
   "source": [
    "# train rfc, print accuracies\n",
    "# train random forest classifier, print accuracies\n",
    "# set model parameters\n",
    "rfc = RandomForestClassifier(n_estimators = 10, random_state = 42)\n",
    "# fit model to training data features & labels (x,y)\n",
    "rfc.fit(tv_train_features, train_label_names)\n",
    "\n",
    "# run 5-fold cross-validation\n",
    "rfc_bow_tv_scores = cross_val_score(rfc, cv_train_features, train_label_names, cv = 5)\n",
    "# compute average cross-validated accuracy\n",
    "rfc_bow_tv_mean_score = np.mean(rfc_bow_tv_scores)\n",
    "\n",
    "# print 5-fold accuracy\n",
    "print('CV Accuracy (f-fold):', rfc_bow_tv_scores)\n",
    "# print average accuracy\n",
    "print('Mean CV Accuracy:', rfc_bow_tv_mean_score)\n",
    "\n",
    "rfc_tfidf_test_score = rfc.score(tv_test_features, test_label_names)\n",
    "print('Test Accuracy:', rfc_tfidf_test_score)"
   ]
  },
  {
   "cell_type": "markdown",
   "metadata": {
    "id": "XQ66bs3F31EU"
   },
   "source": [
    "**Gradient Boosting Classifier** -- run outside of class because this guy is real slow to train (took 10 min)"
   ]
  },
  {
   "cell_type": "code",
   "execution_count": null,
   "metadata": {
    "id": "Q5zP0b4v3x4l",
    "outputId": "86284c95-aaeb-46d7-edf7-837baa0546dc"
   },
   "outputs": [
    {
     "name": "stdout",
     "output_type": "stream",
     "text": [
      "CV Accuracy (5-fold): [0.56272987 0.53248876 0.55864324 0.56967716 0.54292723]\n",
      "Mean CV Accuracy: 0.5532932511016042\n",
      "Test Accuracy: 0.5437199269951883\n"
     ]
    }
   ],
   "source": [
    "gbc = GradientBoostingClassifier(n_estimators=10, random_state=42)\n",
    "gbc.fit(tv_train_features, train_label_names)\n",
    "\n",
    "gbc_tfidf_cv_scores = cross_val_score(gbc, tv_train_features, train_label_names, cv=5)\n",
    "gbc_tfidf_cv_mean_score = np.mean(gbc_tfidf_cv_scores)\n",
    "\n",
    "print('CV Accuracy (5-fold):', gbc_tfidf_cv_scores)\n",
    "print('Mean CV Accuracy:', gbc_tfidf_cv_mean_score)\n",
    "\n",
    "gbc_tfidf_test_score = gbc.score(tv_test_features, test_label_names)\n",
    "print('Test Accuracy:', gbc_tfidf_test_score)"
   ]
  },
  {
   "cell_type": "markdown",
   "metadata": {
    "id": "lW_pWkRB33dB"
   },
   "source": [
    "**Overall, is there an improvement in classifier performance using the TF-IDF feature vectors over the basic bag of words feature vectors?**\n",
    "\n",
    "Below I look at the model performance again."
   ]
  },
  {
   "cell_type": "code",
   "execution_count": null,
   "metadata": {
    "id": "c7_UhsBX4VSZ",
    "outputId": "d5829630-0faa-43bd-8958-123aa30a7175"
   },
   "outputs": [
    {
     "data": {
      "text/html": [
       "<div>\n",
       "<style scoped>\n",
       "    .dataframe tbody tr th:only-of-type {\n",
       "        vertical-align: middle;\n",
       "    }\n",
       "\n",
       "    .dataframe tbody tr th {\n",
       "        vertical-align: top;\n",
       "    }\n",
       "\n",
       "    .dataframe thead th {\n",
       "        text-align: right;\n",
       "    }\n",
       "</style>\n",
       "<table border=\"1\" class=\"dataframe\">\n",
       "  <thead>\n",
       "    <tr style=\"text-align: right;\">\n",
       "      <th></th>\n",
       "      <th>0</th>\n",
       "      <th>1</th>\n",
       "      <th>2</th>\n",
       "      <th>3</th>\n",
       "      <th>4</th>\n",
       "    </tr>\n",
       "  </thead>\n",
       "  <tbody>\n",
       "    <tr>\n",
       "      <th>Model</th>\n",
       "      <td>Naive Bayes</td>\n",
       "      <td>Logistic Regression</td>\n",
       "      <td>Linear SVM</td>\n",
       "      <td>Random Forest</td>\n",
       "      <td>Gradient Boosted Machines</td>\n",
       "    </tr>\n",
       "    <tr>\n",
       "      <th>CV Score (TF)</th>\n",
       "      <td>0.675494</td>\n",
       "      <td>0.675494</td>\n",
       "      <td>0.649828</td>\n",
       "      <td>0.521332</td>\n",
       "      <td>0.675494</td>\n",
       "    </tr>\n",
       "    <tr>\n",
       "      <th>Test Score (TF)</th>\n",
       "      <td>0.6962</td>\n",
       "      <td>0.694375</td>\n",
       "      <td>0.653725</td>\n",
       "      <td>0.531442</td>\n",
       "      <td>0.549195</td>\n",
       "    </tr>\n",
       "    <tr>\n",
       "      <th>CV Score (TF-IDF)</th>\n",
       "      <td>0.71947</td>\n",
       "      <td>0.745218</td>\n",
       "      <td>0.649828</td>\n",
       "      <td>0.521332</td>\n",
       "      <td>0.553293</td>\n",
       "    </tr>\n",
       "    <tr>\n",
       "      <th>Test Score (TF-IDF)</th>\n",
       "      <td>0.6962</td>\n",
       "      <td>0.746972</td>\n",
       "      <td>0.763896</td>\n",
       "      <td>0.536917</td>\n",
       "      <td>0.54372</td>\n",
       "    </tr>\n",
       "  </tbody>\n",
       "</table>\n",
       "</div>"
      ],
      "text/plain": [
       "                               0                    1           2  \\\n",
       "Model                Naive Bayes  Logistic Regression  Linear SVM   \n",
       "CV Score (TF)           0.675494             0.675494    0.649828   \n",
       "Test Score (TF)           0.6962             0.694375    0.653725   \n",
       "CV Score (TF-IDF)        0.71947             0.745218    0.649828   \n",
       "Test Score (TF-IDF)       0.6962             0.746972    0.763896   \n",
       "\n",
       "                                 3                          4  \n",
       "Model                Random Forest  Gradient Boosted Machines  \n",
       "CV Score (TF)             0.521332                   0.675494  \n",
       "Test Score (TF)           0.531442                   0.549195  \n",
       "CV Score (TF-IDF)         0.521332                   0.553293  \n",
       "Test Score (TF-IDF)       0.536917                    0.54372  "
      ]
     },
     "execution_count": 131,
     "metadata": {},
     "output_type": "execute_result"
    }
   ],
   "source": [
    "pd.DataFrame([['Naive Bayes', mnb_bow_cv_mean_score, mnb_bow_test_score,\n",
    "               mnb_bow_tv_mean_score, mnb_bow_test_score],\n",
    "              ['Logistic Regression', lr_bow_cv_mean_score, lr_bow_test_score,\n",
    "               lr_tfidf_cv_mean_score, lr_tfidf_test_score],\n",
    "              ['Linear SVM', svm_bow_cv_mean_score, svm_bow_test_score,\n",
    "               svm_bow_tv_mean_score, svm_tfidf_test_score],\n",
    "              ['Random Forest', rfc_bow_cv_mean_score, rfc_bow_test_score,\n",
    "               rfc_bow_tv_mean_score, rfc_tfidf_test_score],\n",
    "              ['Gradient Boosted Machines', gbc_bow_cv_mean_score, gbc_bow_test_score,\n",
    "               gbc_tfidf_cv_mean_score, gbc_tfidf_test_score]],\n",
    "             columns=['Model', 'CV Score (TF)', 'Test Score (TF)', 'CV Score (TF-IDF)', 'Test Score (TF-IDF)'],\n",
    "             ).T"
   ]
  },
  {
   "cell_type": "markdown",
   "metadata": {
    "id": "VcQq0USw6HMt"
   },
   "source": [
    "**Which model and method of feature engineering produced the highest test set and CV accuracies?**\n",
    "\n",
    "Linear SVM (TFIDF) performed the best.\n"
   ]
  },
  {
   "cell_type": "markdown",
   "metadata": {
    "id": "FWreY7678OYo"
   },
   "source": [
    "## **5) Word Embeddings with GloVe**\n",
    "\n",
    "Next I use a more modern method and utilize some pretrained GloVe embeddings to represent our documents in vector space, to see if I can further improve document classification accuracy."
   ]
  },
  {
   "cell_type": "code",
   "execution_count": null,
   "metadata": {
    "colab": {
     "base_uri": "https://localhost:8080/"
    },
    "id": "8Rss0G0C997z",
    "outputId": "2ef64f98-3793-451e-ceeb-f82404de613c"
   },
   "outputs": [
    {
     "name": "stdout",
     "output_type": "stream",
     "text": [
      "Looking in indexes: https://pypi.org/simple, https://us-python.pkg.dev/colab-wheels/public/simple/\n",
      "Requirement already satisfied: spacy in /usr/local/lib/python3.7/dist-packages (3.4.1)\n",
      "Requirement already satisfied: spacy-legacy<3.1.0,>=3.0.9 in /usr/local/lib/python3.7/dist-packages (from spacy) (3.0.10)\n",
      "Requirement already satisfied: requests<3.0.0,>=2.13.0 in /usr/local/lib/python3.7/dist-packages (from spacy) (2.23.0)\n",
      "Requirement already satisfied: numpy>=1.15.0 in /usr/local/lib/python3.7/dist-packages (from spacy) (1.21.6)\n",
      "Requirement already satisfied: packaging>=20.0 in /usr/local/lib/python3.7/dist-packages (from spacy) (21.3)\n",
      "Requirement already satisfied: jinja2 in /usr/local/lib/python3.7/dist-packages (from spacy) (2.11.3)\n",
      "Requirement already satisfied: pydantic!=1.8,!=1.8.1,<1.10.0,>=1.7.4 in /usr/local/lib/python3.7/dist-packages (from spacy) (1.9.2)\n",
      "Requirement already satisfied: wasabi<1.1.0,>=0.9.1 in /usr/local/lib/python3.7/dist-packages (from spacy) (0.10.1)\n",
      "Requirement already satisfied: spacy-loggers<2.0.0,>=1.0.0 in /usr/local/lib/python3.7/dist-packages (from spacy) (1.0.3)\n",
      "Requirement already satisfied: thinc<8.2.0,>=8.1.0 in /usr/local/lib/python3.7/dist-packages (from spacy) (8.1.3)\n",
      "Requirement already satisfied: srsly<3.0.0,>=2.4.3 in /usr/local/lib/python3.7/dist-packages (from spacy) (2.4.4)\n",
      "Requirement already satisfied: preshed<3.1.0,>=3.0.2 in /usr/local/lib/python3.7/dist-packages (from spacy) (3.0.7)\n",
      "Requirement already satisfied: catalogue<2.1.0,>=2.0.6 in /usr/local/lib/python3.7/dist-packages (from spacy) (2.0.8)\n",
      "Requirement already satisfied: typing-extensions<4.2.0,>=3.7.4 in /usr/local/lib/python3.7/dist-packages (from spacy) (4.1.1)\n",
      "Requirement already satisfied: murmurhash<1.1.0,>=0.28.0 in /usr/local/lib/python3.7/dist-packages (from spacy) (1.0.8)\n",
      "Requirement already satisfied: cymem<2.1.0,>=2.0.2 in /usr/local/lib/python3.7/dist-packages (from spacy) (2.0.6)\n",
      "Requirement already satisfied: tqdm<5.0.0,>=4.38.0 in /usr/local/lib/python3.7/dist-packages (from spacy) (4.64.1)\n",
      "Requirement already satisfied: typer<0.5.0,>=0.3.0 in /usr/local/lib/python3.7/dist-packages (from spacy) (0.4.2)\n",
      "Requirement already satisfied: pathy>=0.3.5 in /usr/local/lib/python3.7/dist-packages (from spacy) (0.6.2)\n",
      "Requirement already satisfied: langcodes<4.0.0,>=3.2.0 in /usr/local/lib/python3.7/dist-packages (from spacy) (3.3.0)\n",
      "Requirement already satisfied: setuptools in /usr/local/lib/python3.7/dist-packages (from spacy) (57.4.0)\n",
      "Requirement already satisfied: zipp>=0.5 in /usr/local/lib/python3.7/dist-packages (from catalogue<2.1.0,>=2.0.6->spacy) (3.9.0)\n",
      "Requirement already satisfied: pyparsing!=3.0.5,>=2.0.2 in /usr/local/lib/python3.7/dist-packages (from packaging>=20.0->spacy) (3.0.9)\n",
      "Requirement already satisfied: smart-open<6.0.0,>=5.2.1 in /usr/local/lib/python3.7/dist-packages (from pathy>=0.3.5->spacy) (5.2.1)\n",
      "Requirement already satisfied: chardet<4,>=3.0.2 in /usr/local/lib/python3.7/dist-packages (from requests<3.0.0,>=2.13.0->spacy) (3.0.4)\n",
      "Requirement already satisfied: certifi>=2017.4.17 in /usr/local/lib/python3.7/dist-packages (from requests<3.0.0,>=2.13.0->spacy) (2022.9.24)\n",
      "Requirement already satisfied: urllib3!=1.25.0,!=1.25.1,<1.26,>=1.21.1 in /usr/local/lib/python3.7/dist-packages (from requests<3.0.0,>=2.13.0->spacy) (1.24.3)\n",
      "Requirement already satisfied: idna<3,>=2.5 in /usr/local/lib/python3.7/dist-packages (from requests<3.0.0,>=2.13.0->spacy) (2.10)\n",
      "Requirement already satisfied: blis<0.8.0,>=0.7.8 in /usr/local/lib/python3.7/dist-packages (from thinc<8.2.0,>=8.1.0->spacy) (0.7.8)\n",
      "Requirement already satisfied: confection<1.0.0,>=0.0.1 in /usr/local/lib/python3.7/dist-packages (from thinc<8.2.0,>=8.1.0->spacy) (0.0.3)\n",
      "Requirement already satisfied: click<9.0.0,>=7.1.1 in /usr/local/lib/python3.7/dist-packages (from typer<0.5.0,>=0.3.0->spacy) (7.1.2)\n",
      "Requirement already satisfied: MarkupSafe>=0.23 in /usr/local/lib/python3.7/dist-packages (from jinja2->spacy) (2.0.1)\n",
      "Looking in indexes: https://pypi.org/simple, https://us-python.pkg.dev/colab-wheels/public/simple/\n",
      "Collecting en-core-web-lg==3.4.0\n",
      "  Downloading https://github.com/explosion/spacy-models/releases/download/en_core_web_lg-3.4.0/en_core_web_lg-3.4.0-py3-none-any.whl (587.7 MB)\n",
      "\u001b[K     |████████████████████████████████| 587.7 MB 9.4 kB/s \n",
      "\u001b[?25hRequirement already satisfied: spacy<3.5.0,>=3.4.0 in /usr/local/lib/python3.7/dist-packages (from en-core-web-lg==3.4.0) (3.4.1)\n",
      "Requirement already satisfied: spacy-loggers<2.0.0,>=1.0.0 in /usr/local/lib/python3.7/dist-packages (from spacy<3.5.0,>=3.4.0->en-core-web-lg==3.4.0) (1.0.3)\n",
      "Requirement already satisfied: typer<0.5.0,>=0.3.0 in /usr/local/lib/python3.7/dist-packages (from spacy<3.5.0,>=3.4.0->en-core-web-lg==3.4.0) (0.4.2)\n",
      "Requirement already satisfied: packaging>=20.0 in /usr/local/lib/python3.7/dist-packages (from spacy<3.5.0,>=3.4.0->en-core-web-lg==3.4.0) (21.3)\n",
      "Requirement already satisfied: pathy>=0.3.5 in /usr/local/lib/python3.7/dist-packages (from spacy<3.5.0,>=3.4.0->en-core-web-lg==3.4.0) (0.6.2)\n",
      "Requirement already satisfied: jinja2 in /usr/local/lib/python3.7/dist-packages (from spacy<3.5.0,>=3.4.0->en-core-web-lg==3.4.0) (2.11.3)\n",
      "Requirement already satisfied: setuptools in /usr/local/lib/python3.7/dist-packages (from spacy<3.5.0,>=3.4.0->en-core-web-lg==3.4.0) (57.4.0)\n",
      "Requirement already satisfied: typing-extensions<4.2.0,>=3.7.4 in /usr/local/lib/python3.7/dist-packages (from spacy<3.5.0,>=3.4.0->en-core-web-lg==3.4.0) (4.1.1)\n",
      "Requirement already satisfied: tqdm<5.0.0,>=4.38.0 in /usr/local/lib/python3.7/dist-packages (from spacy<3.5.0,>=3.4.0->en-core-web-lg==3.4.0) (4.64.1)\n",
      "Requirement already satisfied: preshed<3.1.0,>=3.0.2 in /usr/local/lib/python3.7/dist-packages (from spacy<3.5.0,>=3.4.0->en-core-web-lg==3.4.0) (3.0.7)\n",
      "Requirement already satisfied: cymem<2.1.0,>=2.0.2 in /usr/local/lib/python3.7/dist-packages (from spacy<3.5.0,>=3.4.0->en-core-web-lg==3.4.0) (2.0.6)\n",
      "Requirement already satisfied: murmurhash<1.1.0,>=0.28.0 in /usr/local/lib/python3.7/dist-packages (from spacy<3.5.0,>=3.4.0->en-core-web-lg==3.4.0) (1.0.8)\n",
      "Requirement already satisfied: pydantic!=1.8,!=1.8.1,<1.10.0,>=1.7.4 in /usr/local/lib/python3.7/dist-packages (from spacy<3.5.0,>=3.4.0->en-core-web-lg==3.4.0) (1.9.2)\n",
      "Requirement already satisfied: thinc<8.2.0,>=8.1.0 in /usr/local/lib/python3.7/dist-packages (from spacy<3.5.0,>=3.4.0->en-core-web-lg==3.4.0) (8.1.3)\n",
      "Requirement already satisfied: requests<3.0.0,>=2.13.0 in /usr/local/lib/python3.7/dist-packages (from spacy<3.5.0,>=3.4.0->en-core-web-lg==3.4.0) (2.23.0)\n",
      "Requirement already satisfied: numpy>=1.15.0 in /usr/local/lib/python3.7/dist-packages (from spacy<3.5.0,>=3.4.0->en-core-web-lg==3.4.0) (1.21.6)\n",
      "Requirement already satisfied: catalogue<2.1.0,>=2.0.6 in /usr/local/lib/python3.7/dist-packages (from spacy<3.5.0,>=3.4.0->en-core-web-lg==3.4.0) (2.0.8)\n",
      "Requirement already satisfied: spacy-legacy<3.1.0,>=3.0.9 in /usr/local/lib/python3.7/dist-packages (from spacy<3.5.0,>=3.4.0->en-core-web-lg==3.4.0) (3.0.10)\n",
      "Requirement already satisfied: srsly<3.0.0,>=2.4.3 in /usr/local/lib/python3.7/dist-packages (from spacy<3.5.0,>=3.4.0->en-core-web-lg==3.4.0) (2.4.4)\n",
      "Requirement already satisfied: langcodes<4.0.0,>=3.2.0 in /usr/local/lib/python3.7/dist-packages (from spacy<3.5.0,>=3.4.0->en-core-web-lg==3.4.0) (3.3.0)\n",
      "Requirement already satisfied: wasabi<1.1.0,>=0.9.1 in /usr/local/lib/python3.7/dist-packages (from spacy<3.5.0,>=3.4.0->en-core-web-lg==3.4.0) (0.10.1)\n",
      "Requirement already satisfied: zipp>=0.5 in /usr/local/lib/python3.7/dist-packages (from catalogue<2.1.0,>=2.0.6->spacy<3.5.0,>=3.4.0->en-core-web-lg==3.4.0) (3.9.0)\n",
      "Requirement already satisfied: pyparsing!=3.0.5,>=2.0.2 in /usr/local/lib/python3.7/dist-packages (from packaging>=20.0->spacy<3.5.0,>=3.4.0->en-core-web-lg==3.4.0) (3.0.9)\n",
      "Requirement already satisfied: smart-open<6.0.0,>=5.2.1 in /usr/local/lib/python3.7/dist-packages (from pathy>=0.3.5->spacy<3.5.0,>=3.4.0->en-core-web-lg==3.4.0) (5.2.1)\n",
      "Requirement already satisfied: chardet<4,>=3.0.2 in /usr/local/lib/python3.7/dist-packages (from requests<3.0.0,>=2.13.0->spacy<3.5.0,>=3.4.0->en-core-web-lg==3.4.0) (3.0.4)\n",
      "Requirement already satisfied: certifi>=2017.4.17 in /usr/local/lib/python3.7/dist-packages (from requests<3.0.0,>=2.13.0->spacy<3.5.0,>=3.4.0->en-core-web-lg==3.4.0) (2022.9.24)\n",
      "Requirement already satisfied: idna<3,>=2.5 in /usr/local/lib/python3.7/dist-packages (from requests<3.0.0,>=2.13.0->spacy<3.5.0,>=3.4.0->en-core-web-lg==3.4.0) (2.10)\n",
      "Requirement already satisfied: urllib3!=1.25.0,!=1.25.1,<1.26,>=1.21.1 in /usr/local/lib/python3.7/dist-packages (from requests<3.0.0,>=2.13.0->spacy<3.5.0,>=3.4.0->en-core-web-lg==3.4.0) (1.24.3)\n",
      "Requirement already satisfied: confection<1.0.0,>=0.0.1 in /usr/local/lib/python3.7/dist-packages (from thinc<8.2.0,>=8.1.0->spacy<3.5.0,>=3.4.0->en-core-web-lg==3.4.0) (0.0.3)\n",
      "Requirement already satisfied: blis<0.8.0,>=0.7.8 in /usr/local/lib/python3.7/dist-packages (from thinc<8.2.0,>=8.1.0->spacy<3.5.0,>=3.4.0->en-core-web-lg==3.4.0) (0.7.8)\n",
      "Requirement already satisfied: click<9.0.0,>=7.1.1 in /usr/local/lib/python3.7/dist-packages (from typer<0.5.0,>=0.3.0->spacy<3.5.0,>=3.4.0->en-core-web-lg==3.4.0) (7.1.2)\n",
      "Requirement already satisfied: MarkupSafe>=0.23 in /usr/local/lib/python3.7/dist-packages (from jinja2->spacy<3.5.0,>=3.4.0->en-core-web-lg==3.4.0) (2.0.1)\n",
      "Installing collected packages: en-core-web-lg\n",
      "Successfully installed en-core-web-lg-3.4.0\n",
      "\u001b[38;5;2m✔ Download and installation successful\u001b[0m\n",
      "You can now load the package via spacy.load('en_core_web_lg')\n"
     ]
    }
   ],
   "source": [
    "!pip install spacy\n",
    "\n",
    "try:\n",
    "  spacy.load('en_core_web_lg')\n",
    "except:\n",
    "  !python -m spacy download en_core_web_lg\n",
    "\n",
    "import spacy\n",
    "nlp = spacy.load('en_core_web_lg')                                                                      # get spacy installed, imported and load glove embeddings model"
   ]
  },
  {
   "cell_type": "markdown",
   "metadata": {
    "id": "FST4elhhAdRJ"
   },
   "source": [
    "*Took about 4 minutes to produce word embeddings for training and test set*"
   ]
  },
  {
   "cell_type": "code",
   "execution_count": null,
   "metadata": {
    "id": "8kA6O8Py9Omf"
   },
   "outputs": [],
   "source": [
    "train_nlp = [nlp(item) for item in train_corpus]                                                        # fit glove embeddings model to training set\n",
    "train_glove_features = np.array([item.vector for item in train_nlp])                                    # assign training features to array\n",
    "\n",
    "test_nlp = [nlp(item) for item in test_corpus]                                                          # fit glove embeddings model to test set\n",
    "test_glove_features = np.array([item.vector for item in test_nlp])                                      # assign test geatures to array"
   ]
  },
  {
   "cell_type": "code",
   "execution_count": null,
   "metadata": {
    "colab": {
     "base_uri": "https://localhost:8080/"
    },
    "id": "twWV7DmL51T8",
    "outputId": "286f37f6-9a2e-4c42-8308-61ad3400229e"
   },
   "outputs": [
    {
     "data": {
      "text/plain": [
       "[nan, nan, nan, nan, nan, nan, nan, nan, nan, nan, nan, nan, nan, nan, nan]"
      ]
     },
     "execution_count": 24,
     "metadata": {},
     "output_type": "execute_result"
    }
   ],
   "source": [
    "[item for item in train_corpus if isinstance(item, float)]"
   ]
  },
  {
   "cell_type": "code",
   "execution_count": null,
   "metadata": {
    "id": "Bjw7HbE1-cHH"
   },
   "outputs": [],
   "source": []
  },
  {
   "cell_type": "markdown",
   "metadata": {
    "id": "86T3yFv6-qrH"
   },
   "source": [
    "**Now let's retrain the Linear SVM (best performing) with the GloVe Embeddings to see if the accuracy improves:**"
   ]
  },
  {
   "cell_type": "code",
   "execution_count": null,
   "metadata": {
    "colab": {
     "base_uri": "https://localhost:8080/"
    },
    "id": "1eTr7k0b-ye6",
    "outputId": "f6e082b6-8173-4d28-d202-66404055b88a"
   },
   "outputs": [
    {
     "name": "stdout",
     "output_type": "stream",
     "text": [
      "CV Accuracy (5-fold): [0.58684103 0.56763384 0.6040049  0.6040049  0.56173344]\n",
      "Mean CV Accuracy: 0.5848436234934495\n",
      "Test Accuracy: 0.5591504894640783\n"
     ]
    }
   ],
   "source": [
    "# train SVM, print accuracies\n",
    "svm = LinearSVC(penalty='l2', C=1, random_state=42)\n",
    "svm.fit(train_glove_features, train_label_names)\n",
    "\n",
    "svm_glove_cv_scores = cross_val_score(svm, train_glove_features, train_label_names, cv=5)\n",
    "svm_glove_cv_mean_score = np.mean(svm_glove_cv_scores)\n",
    "\n",
    "print('CV Accuracy (5-fold):', svm_glove_cv_scores)\n",
    "print('Mean CV Accuracy:', svm_glove_cv_mean_score)\n",
    "\n",
    "svm_glove_test_score = svm.score(test_glove_features, test_label_names)\n",
    "print('Test Accuracy:', svm_glove_test_score)"
   ]
  },
  {
   "cell_type": "markdown",
   "metadata": {
    "id": "n3xNwt-hCEAR"
   },
   "source": [
    "**Did accuracy improve using word embeddings? Yes or No? Is this surprising?**\n",
    "\n",
    "Surprisingly, no. I would have thought using word embeddings improved overall performance, however, that doesn't seem to be the case. Perhaps, this has to do with the dimensionality reduction."
   ]
  },
  {
   "cell_type": "markdown",
   "metadata": {
    "id": "XaGfu5viDJ0k"
   },
   "source": [
    "## **6) Model Tuning**\n",
    "\n",
    "Let's take the best performing model with TF-IDF features and perform some tuning."
   ]
  },
  {
   "cell_type": "code",
   "execution_count": null,
   "metadata": {
    "id": "SYsL_WdODb11",
    "outputId": "d7f5e552-3bdd-4325-f4b8-06b0f23357d6"
   },
   "outputs": [
    {
     "name": "stdout",
     "output_type": "stream",
     "text": [
      "Fitting 5 folds for each of 8 candidates, totalling 40 fits\n",
      "[CV] END .............svm__C=0.01, tfidf__ngram_range=(1, 1); total time=   3.4s\n",
      "[CV] END .............svm__C=0.01, tfidf__ngram_range=(1, 1); total time=   2.8s\n",
      "[CV] END .............svm__C=0.01, tfidf__ngram_range=(1, 1); total time=   2.2s\n",
      "[CV] END .............svm__C=0.01, tfidf__ngram_range=(1, 1); total time=   2.3s\n",
      "[CV] END .............svm__C=0.01, tfidf__ngram_range=(1, 1); total time=   2.4s\n",
      "[CV] END .............svm__C=0.01, tfidf__ngram_range=(1, 2); total time=  11.5s\n",
      "[CV] END .............svm__C=0.01, tfidf__ngram_range=(1, 2); total time=   8.2s\n",
      "[CV] END .............svm__C=0.01, tfidf__ngram_range=(1, 2); total time=   8.4s\n",
      "[CV] END .............svm__C=0.01, tfidf__ngram_range=(1, 2); total time=   8.3s\n",
      "[CV] END .............svm__C=0.01, tfidf__ngram_range=(1, 2); total time=   7.7s\n",
      "[CV] END ..............svm__C=0.1, tfidf__ngram_range=(1, 1); total time=   1.9s\n",
      "[CV] END ..............svm__C=0.1, tfidf__ngram_range=(1, 1); total time=   1.9s\n",
      "[CV] END ..............svm__C=0.1, tfidf__ngram_range=(1, 1); total time=   2.2s\n",
      "[CV] END ..............svm__C=0.1, tfidf__ngram_range=(1, 1); total time=   2.1s\n",
      "[CV] END ..............svm__C=0.1, tfidf__ngram_range=(1, 1); total time=   2.0s\n",
      "[CV] END ..............svm__C=0.1, tfidf__ngram_range=(1, 2); total time=   9.7s\n",
      "[CV] END ..............svm__C=0.1, tfidf__ngram_range=(1, 2); total time=   8.9s\n",
      "[CV] END ..............svm__C=0.1, tfidf__ngram_range=(1, 2); total time=   8.7s\n",
      "[CV] END ..............svm__C=0.1, tfidf__ngram_range=(1, 2); total time=   8.9s\n",
      "[CV] END ..............svm__C=0.1, tfidf__ngram_range=(1, 2); total time=  12.4s\n",
      "[CV] END ................svm__C=1, tfidf__ngram_range=(1, 1); total time=   6.5s\n",
      "[CV] END ................svm__C=1, tfidf__ngram_range=(1, 1); total time=   4.7s\n",
      "[CV] END ................svm__C=1, tfidf__ngram_range=(1, 1); total time=   4.0s\n",
      "[CV] END ................svm__C=1, tfidf__ngram_range=(1, 1); total time=   6.2s\n",
      "[CV] END ................svm__C=1, tfidf__ngram_range=(1, 1); total time=   4.4s\n",
      "[CV] END ................svm__C=1, tfidf__ngram_range=(1, 2); total time=  14.8s\n",
      "[CV] END ................svm__C=1, tfidf__ngram_range=(1, 2); total time=  16.9s\n",
      "[CV] END ................svm__C=1, tfidf__ngram_range=(1, 2); total time=  18.8s\n",
      "[CV] END ................svm__C=1, tfidf__ngram_range=(1, 2); total time=  16.9s\n",
      "[CV] END ................svm__C=1, tfidf__ngram_range=(1, 2); total time=  16.2s\n",
      "[CV] END ................svm__C=5, tfidf__ngram_range=(1, 1); total time=   7.7s\n",
      "[CV] END ................svm__C=5, tfidf__ngram_range=(1, 1); total time=   4.4s\n",
      "[CV] END ................svm__C=5, tfidf__ngram_range=(1, 1); total time=   3.8s\n",
      "[CV] END ................svm__C=5, tfidf__ngram_range=(1, 1); total time=   4.5s\n",
      "[CV] END ................svm__C=5, tfidf__ngram_range=(1, 1); total time=   4.1s\n",
      "[CV] END ................svm__C=5, tfidf__ngram_range=(1, 2); total time=  28.2s\n",
      "[CV] END ................svm__C=5, tfidf__ngram_range=(1, 2); total time=  24.6s\n",
      "[CV] END ................svm__C=5, tfidf__ngram_range=(1, 2); total time=  24.2s\n",
      "[CV] END ................svm__C=5, tfidf__ngram_range=(1, 2); total time=  24.6s\n",
      "[CV] END ................svm__C=5, tfidf__ngram_range=(1, 2); total time=  28.6s\n"
     ]
    }
   ],
   "source": [
    "from sklearn.pipeline import Pipeline\n",
    "from sklearn.model_selection import GridSearchCV\n",
    "\n",
    "svm_pipeline = Pipeline([('tfidf', TfidfVectorizer()),\n",
    "                        ('svm', LinearSVC(random_state=42))                                                 # set pipeline to use tf-idf features with SVM model\n",
    "                       ])\n",
    "\n",
    "param_grid = {'tfidf__ngram_range': [(1, 1), (1, 2)],                                                       # set parameter value range for grid to search\n",
    "              'svm__C': [0.01, 0.1, 1, 5]\n",
    "}\n",
    "\n",
    "gs_svm = GridSearchCV(svm_pipeline, param_grid, cv=5, verbose=2)                                            # set parameters of cross-validated grid search\n",
    "gs_svm = gs_svm.fit(train_corpus, train_label_names)                                                        # fit on training data"
   ]
  },
  {
   "cell_type": "code",
   "execution_count": null,
   "metadata": {
    "id": "onQ4c90VVfaO"
   },
   "outputs": [],
   "source": [
    "from sklearn.pipeline import Pipeline\n",
    "from sklearn.model_selection import GridSearchCV"
   ]
  },
  {
   "cell_type": "markdown",
   "metadata": {
    "id": "jMcOxJbuEN7E"
   },
   "source": [
    "**If we want to see the parameters of the best performing models**"
   ]
  },
  {
   "cell_type": "code",
   "execution_count": null,
   "metadata": {
    "id": "6vM-SGlHET4B",
    "outputId": "50055053-bcd9-4949-d673-d9a5f0027fa5"
   },
   "outputs": [
    {
     "data": {
      "text/plain": [
       "{'memory': None,\n",
       " 'steps': [('tfidf', TfidfVectorizer(ngram_range=(1, 2))),\n",
       "  ('svm', LinearSVC(C=5, random_state=42))],\n",
       " 'verbose': False,\n",
       " 'tfidf': TfidfVectorizer(ngram_range=(1, 2)),\n",
       " 'svm': LinearSVC(C=5, random_state=42),\n",
       " 'tfidf__analyzer': 'word',\n",
       " 'tfidf__binary': False,\n",
       " 'tfidf__decode_error': 'strict',\n",
       " 'tfidf__dtype': numpy.float64,\n",
       " 'tfidf__encoding': 'utf-8',\n",
       " 'tfidf__input': 'content',\n",
       " 'tfidf__lowercase': True,\n",
       " 'tfidf__max_df': 1.0,\n",
       " 'tfidf__max_features': None,\n",
       " 'tfidf__min_df': 1,\n",
       " 'tfidf__ngram_range': (1, 2),\n",
       " 'tfidf__norm': 'l2',\n",
       " 'tfidf__preprocessor': None,\n",
       " 'tfidf__smooth_idf': True,\n",
       " 'tfidf__stop_words': None,\n",
       " 'tfidf__strip_accents': None,\n",
       " 'tfidf__sublinear_tf': False,\n",
       " 'tfidf__token_pattern': '(?u)\\\\b\\\\w\\\\w+\\\\b',\n",
       " 'tfidf__tokenizer': None,\n",
       " 'tfidf__use_idf': True,\n",
       " 'tfidf__vocabulary': None,\n",
       " 'svm__C': 5,\n",
       " 'svm__class_weight': None,\n",
       " 'svm__dual': True,\n",
       " 'svm__fit_intercept': True,\n",
       " 'svm__intercept_scaling': 1,\n",
       " 'svm__loss': 'squared_hinge',\n",
       " 'svm__max_iter': 1000,\n",
       " 'svm__multi_class': 'ovr',\n",
       " 'svm__penalty': 'l2',\n",
       " 'svm__random_state': 42,\n",
       " 'svm__tol': 0.0001,\n",
       " 'svm__verbose': 0}"
      ]
     },
     "execution_count": 141,
     "metadata": {},
     "output_type": "execute_result"
    }
   ],
   "source": [
    "# get parameters of best performing model\n",
    "gs_svm.best_estimator_.get_params()"
   ]
  },
  {
   "cell_type": "markdown",
   "metadata": {
    "id": "XYK7eUEdEUlf"
   },
   "source": [
    "**How much of a lift was there from grid searching?**\n",
    "\n",
    "It was a relatively small bump (like two percentage points)."
   ]
  },
  {
   "cell_type": "code",
   "execution_count": 3,
   "metadata": {
    "id": "ASaWkX0qEdTn",
    "outputId": "4da614a5-aa3f-4dfa-82ed-58d3e9e84113"
   },
   "outputs": [],
   "source": [
    "# print accuracy of best performing model\n",
    "best_svm_test_score = gs_svm.score(test_corpus, test_label_names)\n",
    "print(\"Test Accuracy:\", best_svm_test_score)"
   ]
  },
  {
   "cell_type": "markdown",
   "metadata": {
    "id": "ca-DUAsdE3Ox"
   },
   "source": [
    "## **7) Model Performance Evaluation**\n",
    "\n",
    "Finally, I examine some other metrics of classification performance: precision, recall, and f1-score. Remember, accuracy isn't the only metric that matters, and it doesn't tell the whole story. We can examine the precision, recall, and f-1 for each individual class to see which categories were most accurately predicted!"
   ]
  },
  {
   "cell_type": "code",
   "execution_count": null,
   "metadata": {
    "id": "9Qn1KNV8FbRP"
   },
   "outputs": [],
   "source": [
    "from sklearn.metrics import classification_report, confusion_matrix\n",
    "import sklearn.metrics as metrics"
   ]
  },
  {
   "cell_type": "code",
   "execution_count": null,
   "metadata": {
    "id": "STF3Zvg-GCQj"
   },
   "outputs": [],
   "source": [
    "def get_metrics(true_labels, predicted_labels):\n",
    "    print('Accuracy:', np.round(\n",
    "                        metrics.accuracy_score(true_labels,\n",
    "                                               predicted_labels),\n",
    "                        4))\n",
    "    print('Precision:', np.round(\n",
    "                        metrics.precision_score(true_labels,\n",
    "                                               predicted_labels,\n",
    "                                               average='weighted'),\n",
    "                        4))\n",
    "    print('Recall:', np.round(\n",
    "                        metrics.recall_score(true_labels,\n",
    "                                               predicted_labels,\n",
    "                                               average='weighted'),\n",
    "                        4))\n",
    "    print('F1 Score:', np.round(\n",
    "                        metrics.f1_score(true_labels,\n",
    "                                               predicted_labels,\n",
    "                                               average='weighted'),\n",
    "                        4))\n",
    "\n",
    "def display_classification_report(true_labels, predicted_labels, classes=[1,0]):\n",
    "\n",
    "    report = metrics.classification_report(y_true=true_labels,\n",
    "                                           y_pred=predicted_labels,\n",
    "                                           labels=classes)\n",
    "    print(report)\n",
    "\n",
    "def display_confusion_matrix(true_labels, predicted_labels, classes=[1,0]):\n",
    "\n",
    "    total_classes = len(classes)\n",
    "    level_labels = [total_classes*[0], list(range(total_classes))]\n",
    "\n",
    "    cm = metrics.confusion_matrix(y_true=true_labels, y_pred=predicted_labels,\n",
    "                                  labels=classes)\n",
    "    cm_frame = pd.DataFrame(data=cm,\n",
    "                            columns=pd.MultiIndex(levels=[['Predicted:'], classes],\n",
    "                                                  labels=level_labels),\n",
    "                            index=pd.MultiIndex(levels=[['Actual:'], classes],\n",
    "                                                labels=level_labels))\n",
    "    print(cm_frame)"
   ]
  },
  {
   "cell_type": "code",
   "execution_count": null,
   "metadata": {
    "id": "pALIgZzfH8jl",
    "outputId": "d5174895-6903-46a6-a7b8-d39d02a01e1c"
   },
   "outputs": [
    {
     "name": "stdout",
     "output_type": "stream",
     "text": [
      "Accuracy: 0.7831\n",
      "Precision: 0.7812\n",
      "Recall: 0.7831\n",
      "F1 Score: 0.7811\n"
     ]
    }
   ],
   "source": [
    "# get metrics for svm prdictions on test set\n",
    "svm_predictions = gs_svm.predict(test_corpus)\n",
    "unique_classes = list(set(test_label_names))\n",
    "\n",
    "get_metrics(test_label_names, svm_predictions)"
   ]
  },
  {
   "cell_type": "code",
   "execution_count": null,
   "metadata": {
    "id": "RDOMlC6UJUZn",
    "outputId": "ecd729eb-2f4d-4747-f35b-490e151b4baf"
   },
   "outputs": [
    {
     "name": "stdout",
     "output_type": "stream",
     "text": [
      "                          precision    recall  f1-score   support\n",
      "\n",
      "        rec.sport.hockey       0.88      0.93      0.90       304\n",
      "      talk.politics.guns       0.75      0.76      0.76       293\n",
      "      talk.politics.misc       0.73      0.70      0.72       252\n",
      "      rec.sport.baseball       0.87      0.87      0.87       327\n",
      "            misc.forsale       0.76      0.79      0.78       314\n",
      "         rec.motorcycles       0.78      0.78      0.78       310\n",
      "               sci.space       0.85      0.84      0.84       324\n",
      "               rec.autos       0.74      0.81      0.78       306\n",
      "comp.sys.ibm.pc.hardware       0.71      0.71      0.71       325\n",
      "             alt.atheism       0.71      0.62      0.66       266\n",
      "          comp.windows.x       0.82      0.87      0.85       297\n",
      " comp.os.ms-windows.misc       0.74      0.74      0.74       296\n",
      "           comp.graphics       0.77      0.73      0.75       336\n",
      "  soc.religion.christian       0.76      0.85      0.80       329\n",
      "                 sci.med       0.83      0.84      0.84       326\n",
      "               sci.crypt       0.87      0.84      0.85       311\n",
      "      talk.religion.misc       0.58      0.40      0.47       188\n",
      "         sci.electronics       0.73      0.75      0.74       316\n",
      "   comp.sys.mac.hardware       0.75      0.79      0.77       289\n",
      "   talk.politics.mideast       0.87      0.83      0.85       318\n",
      "\n",
      "                accuracy                           0.78      6027\n",
      "               macro avg       0.78      0.77      0.77      6027\n",
      "            weighted avg       0.78      0.78      0.78      6027\n",
      "\n"
     ]
    }
   ],
   "source": [
    "# show classification report by category/topic label\n",
    "\n",
    "display_classification_report(test_label_names, svm_predictions, classes = unique_classes)"
   ]
  },
  {
   "cell_type": "markdown",
   "metadata": {
    "id": "hpKAjswrJtaJ"
   },
   "source": [
    "**Assume that there's roughly equal cost to false positives or negatives for any given class, but there is an uneven class distribution. What is the most important metric among accuracy, recall, precision, and f1-score?**\n",
    "\n",
    "f-1 score should be prioritized. (Accuracy can't handed uneven class distribution well, and if the cost of FP and FN are roughly similar, there is no addition benefit of using recall or percision.\n"
   ]
  },
  {
   "cell_type": "markdown",
   "metadata": {
    "id": "FiMLajWQJ_Ol"
   },
   "source": [
    "**With that in mind, which class did the model best predict, and which did it worst predict?**\n",
    "\n",
    "f-1 score should be prioritized. Hockey was most accurately caputured in predictions, and misc religious was least accurately captured in prediction by our model.\n"
   ]
  },
  {
   "cell_type": "markdown",
   "metadata": {
    "id": "p72Uf_yhKkqH"
   },
   "source": [
    "**Let's produce a confusion matrix to examine where the model was making mistakes...**"
   ]
  },
  {
   "cell_type": "code",
   "execution_count": null,
   "metadata": {
    "id": "42AyESJFKqlp",
    "outputId": "a452c8d3-30a0-4675-abb2-8bdadd907ce3"
   },
   "outputs": [
    {
     "data": {
      "text/html": [
       "<div>\n",
       "<style scoped>\n",
       "    .dataframe tbody tr th:only-of-type {\n",
       "        vertical-align: middle;\n",
       "    }\n",
       "\n",
       "    .dataframe tbody tr th {\n",
       "        vertical-align: top;\n",
       "    }\n",
       "\n",
       "    .dataframe thead th {\n",
       "        text-align: right;\n",
       "    }\n",
       "</style>\n",
       "<table border=\"1\" class=\"dataframe\">\n",
       "  <thead>\n",
       "    <tr style=\"text-align: right;\">\n",
       "      <th></th>\n",
       "      <th>Label Name</th>\n",
       "      <th>Label Number</th>\n",
       "    </tr>\n",
       "  </thead>\n",
       "  <tbody>\n",
       "    <tr>\n",
       "      <th>0</th>\n",
       "      <td>alt.atheism</td>\n",
       "      <td>0</td>\n",
       "    </tr>\n",
       "    <tr>\n",
       "      <th>1</th>\n",
       "      <td>comp.graphics</td>\n",
       "      <td>1</td>\n",
       "    </tr>\n",
       "    <tr>\n",
       "      <th>2</th>\n",
       "      <td>comp.os.ms-windows.misc</td>\n",
       "      <td>2</td>\n",
       "    </tr>\n",
       "    <tr>\n",
       "      <th>3</th>\n",
       "      <td>comp.sys.ibm.pc.hardware</td>\n",
       "      <td>3</td>\n",
       "    </tr>\n",
       "    <tr>\n",
       "      <th>4</th>\n",
       "      <td>comp.sys.mac.hardware</td>\n",
       "      <td>4</td>\n",
       "    </tr>\n",
       "    <tr>\n",
       "      <th>5</th>\n",
       "      <td>comp.windows.x</td>\n",
       "      <td>5</td>\n",
       "    </tr>\n",
       "    <tr>\n",
       "      <th>6</th>\n",
       "      <td>misc.forsale</td>\n",
       "      <td>6</td>\n",
       "    </tr>\n",
       "    <tr>\n",
       "      <th>7</th>\n",
       "      <td>rec.autos</td>\n",
       "      <td>7</td>\n",
       "    </tr>\n",
       "    <tr>\n",
       "      <th>8</th>\n",
       "      <td>rec.motorcycles</td>\n",
       "      <td>8</td>\n",
       "    </tr>\n",
       "    <tr>\n",
       "      <th>9</th>\n",
       "      <td>rec.sport.baseball</td>\n",
       "      <td>9</td>\n",
       "    </tr>\n",
       "    <tr>\n",
       "      <th>10</th>\n",
       "      <td>rec.sport.hockey</td>\n",
       "      <td>10</td>\n",
       "    </tr>\n",
       "    <tr>\n",
       "      <th>11</th>\n",
       "      <td>sci.crypt</td>\n",
       "      <td>11</td>\n",
       "    </tr>\n",
       "    <tr>\n",
       "      <th>12</th>\n",
       "      <td>sci.electronics</td>\n",
       "      <td>12</td>\n",
       "    </tr>\n",
       "    <tr>\n",
       "      <th>13</th>\n",
       "      <td>sci.med</td>\n",
       "      <td>13</td>\n",
       "    </tr>\n",
       "    <tr>\n",
       "      <th>14</th>\n",
       "      <td>sci.space</td>\n",
       "      <td>14</td>\n",
       "    </tr>\n",
       "    <tr>\n",
       "      <th>15</th>\n",
       "      <td>soc.religion.christian</td>\n",
       "      <td>15</td>\n",
       "    </tr>\n",
       "    <tr>\n",
       "      <th>16</th>\n",
       "      <td>talk.politics.guns</td>\n",
       "      <td>16</td>\n",
       "    </tr>\n",
       "    <tr>\n",
       "      <th>17</th>\n",
       "      <td>talk.politics.mideast</td>\n",
       "      <td>17</td>\n",
       "    </tr>\n",
       "    <tr>\n",
       "      <th>18</th>\n",
       "      <td>talk.politics.misc</td>\n",
       "      <td>18</td>\n",
       "    </tr>\n",
       "    <tr>\n",
       "      <th>19</th>\n",
       "      <td>talk.religion.misc</td>\n",
       "      <td>19</td>\n",
       "    </tr>\n",
       "  </tbody>\n",
       "</table>\n",
       "</div>"
      ],
      "text/plain": [
       "                  Label Name  Label Number\n",
       "0                alt.atheism             0\n",
       "1              comp.graphics             1\n",
       "2    comp.os.ms-windows.misc             2\n",
       "3   comp.sys.ibm.pc.hardware             3\n",
       "4      comp.sys.mac.hardware             4\n",
       "5             comp.windows.x             5\n",
       "6               misc.forsale             6\n",
       "7                  rec.autos             7\n",
       "8            rec.motorcycles             8\n",
       "9         rec.sport.baseball             9\n",
       "10          rec.sport.hockey            10\n",
       "11                 sci.crypt            11\n",
       "12           sci.electronics            12\n",
       "13                   sci.med            13\n",
       "14                 sci.space            14\n",
       "15    soc.religion.christian            15\n",
       "16        talk.politics.guns            16\n",
       "17     talk.politics.mideast            17\n",
       "18        talk.politics.misc            18\n",
       "19        talk.religion.misc            19"
      ]
     },
     "execution_count": 155,
     "metadata": {},
     "output_type": "execute_result"
    }
   ],
   "source": [
    "label_data_map = {v:k for k, v in data_labels_map.items()}\n",
    "label_map_df = pd.DataFrame(list(label_data_map.items()), columns=['Label Name', 'Label Number'])\n",
    "label_map_df"
   ]
  },
  {
   "cell_type": "code",
   "execution_count": null,
   "metadata": {
    "id": "Xy4AEcXOLuBG",
    "outputId": "130b9357-7546-436d-ddcd-cabb46fce5d8"
   },
   "outputs": [
    {
     "data": {
      "text/plain": [
       "<function matplotlib.pyplot.show(close=None, block=None)>"
      ]
     },
     "execution_count": 157,
     "metadata": {},
     "output_type": "execute_result"
    },
    {
     "data": {
      "image/png": "[encoded data removed]",
      "text/plain": [
       "<Figure size 432x288 with 2 Axes>"
      ]
     },
     "metadata": {
      "needs_background": "light"
     },
     "output_type": "display_data"
    }
   ],
   "source": [
    "# generate confusion matrix with seaborn\n",
    "import seaborn as sns\n",
    "conf = confusion_matrix(test_label_names, svm_predictions)\n",
    "sns.heatmap(conf, annot = True, fmt = 'g')\n",
    "sns.set(rc = {'figure.figsize':(30,30)})\n",
    "plt.xlabel('predicted class')\n",
    "plt.ylabel('actual class')\n",
    "plt.show"
   ]
  },
  {
   "cell_type": "markdown",
   "metadata": {
    "id": "9XElXkTeMvzJ"
   },
   "source": [
    "**Which two categories were most commonly missclassified as one another? Does it make sense that these two categories could be mislabeled as one another, why or why not?**\n",
    "\n",
    "It was actually about christianity, but the model predicted it was in misc/religion. It makes sense that those two could easily be mislabeled given the similarities in topics."
   ]
  },
  {
   "cell_type": "code",
   "execution_count": null,
   "metadata": {
    "id": "IXrB0XGfNFIi",
    "outputId": "d6a5b062-47e2-453b-d6b8-2c1996c81a83"
   },
   "outputs": [
    {
     "data": {
      "text/html": [
       "<div>\n",
       "<style scoped>\n",
       "    .dataframe tbody tr th:only-of-type {\n",
       "        vertical-align: middle;\n",
       "    }\n",
       "\n",
       "    .dataframe tbody tr th {\n",
       "        vertical-align: top;\n",
       "    }\n",
       "\n",
       "    .dataframe thead th {\n",
       "        text-align: right;\n",
       "    }\n",
       "</style>\n",
       "<table border=\"1\" class=\"dataframe\">\n",
       "  <thead>\n",
       "    <tr style=\"text-align: right;\">\n",
       "      <th></th>\n",
       "      <th>Label Name</th>\n",
       "      <th>Label Number</th>\n",
       "    </tr>\n",
       "  </thead>\n",
       "  <tbody>\n",
       "    <tr>\n",
       "      <th>15</th>\n",
       "      <td>soc.religion.christian</td>\n",
       "      <td>15</td>\n",
       "    </tr>\n",
       "    <tr>\n",
       "      <th>19</th>\n",
       "      <td>talk.religion.misc</td>\n",
       "      <td>19</td>\n",
       "    </tr>\n",
       "  </tbody>\n",
       "</table>\n",
       "</div>"
      ],
      "text/plain": [
       "                Label Name  Label Number\n",
       "15  soc.religion.christian            15\n",
       "19      talk.religion.misc            19"
      ]
     },
     "execution_count": 159,
     "metadata": {},
     "output_type": "execute_result"
    }
   ],
   "source": [
    "# show column labels\n",
    "label_map_df[label_map_df['Label Number'].isin([15,19])]"
   ]
  },
  {
   "cell_type": "markdown",
   "metadata": {
    "id": "iHDdQPfIVfaU"
   },
   "source": [
    "since tfidf vetorizes on frequency on their vocabulary, (and we would expect vocab overlap on these two catagories since the both deal with religion), it isn't surprising that it got mislabeled."
   ]
  }
 ],
 "metadata": {
  "accelerator": "GPU",
  "colab": {
   "collapsed_sections": [
    "ca-DUAsdE3Ox"
   ],
   "provenance": []
  },
  "gpuClass": "standard",
  "kernelspec": {
   "display_name": "Python 3 (ipykernel)",
   "language": "python",
   "name": "python3"
  },
  "language_info": {
   "codemirror_mode": {
    "name": "ipython",
    "version": 3
   },
   "file_extension": ".py",
   "mimetype": "text/x-python",
   "name": "python",
   "nbconvert_exporter": "python",
   "pygments_lexer": "ipython3",
   "version": "3.9.13"
  }
 },
 "nbformat": 4,
 "nbformat_minor": 1
}
