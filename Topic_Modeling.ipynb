{
 "cells": [
  {
   "cell_type": "markdown",
   "metadata": {
    "id": "dYOHte7NlGJR"
   },
   "source": [
    "# **In-Class Assignment: Topic Modeling**\n",
    "\n",
    "## *IS 5150*\n",
    "## Name: Cailean\n",
    "\n",
    "Key-phrase extraction relatively simple and easy to implement, but doesn't always yield the most useful information in regards to determining a document's overall theme/topic. Topic modeling is a more sophisticated approach to extracting topics/themes from a corpus, and there are several unsupervised approaches that can accomplish this text mining task:\n",
    "\n",
    "*   Latent Semantic Indexing\n",
    "*   Latent Dirichlet Allocation\n",
    "\n",
    "\n",
    "In this notebook, I implement the above methods on a corpus of research papers from the NeurIPS conference to try and extract meaningful topic labels for these papers."
   ]
  },
  {
   "cell_type": "code",
   "execution_count": null,
   "metadata": {
    "colab": {
     "base_uri": "https://localhost:8080/"
    },
    "id": "giM7h9Q9r4wN",
    "outputId": "dcbca2ec-5335-4454-c9ab-506bd3b247f0"
   },
   "outputs": [
    {
     "name": "stderr",
     "output_type": "stream",
     "text": [
      "[nltk_data] Downloading package stopwords to /root/nltk_data...\n",
      "[nltk_data]   Unzipping corpora/stopwords.zip.\n",
      "[nltk_data] Downloading package wordnet to /root/nltk_data...\n",
      "[nltk_data] Downloading package omw-1.4 to /root/nltk_data...\n"
     ]
    }
   ],
   "source": [
    "# load all dependencies\n",
    "\n",
    "import nltk\n",
    "nltk.download(['stopwords', 'wordnet', 'omw-1.4'])  #stopwords, wordnet, omw-1.4\n",
    "import gensim\n",
    "\n",
    "import os\n",
    "import numpy as np\n",
    "import pandas as pd\n",
    "import matplotlib.pyplot as plt"
   ]
  },
  {
   "cell_type": "markdown",
   "metadata": {
    "id": "vS2-VuCrr4gS"
   },
   "source": [
    "## **1) Data Retrieval**\n",
    "\n",
    "Download the dataset directly using the following commands:"
   ]
  },
  {
   "cell_type": "code",
   "execution_count": null,
   "metadata": {
    "colab": {
     "base_uri": "https://localhost:8080/"
    },
    "id": "E_TCas0xk2qc",
    "outputId": "7800327c-1954-48d3-dea5-f9fd53001edb"
   },
   "outputs": [
    {
     "name": "stdout",
     "output_type": "stream",
     "text": [
      "--2022-11-03 01:05:56--  https://cs.nyu.edu/~roweis/data/nips12raw_str602.tgz\n",
      "Resolving cs.nyu.edu (cs.nyu.edu)... 216.165.22.203\n",
      "Connecting to cs.nyu.edu (cs.nyu.edu)|216.165.22.203|:443... connected.\n",
      "HTTP request sent, awaiting response... 200 OK\n",
      "Length: 12851423 (12M) [application/x-gzip]\n",
      "Saving to: ‘nips12raw_str602.tgz’\n",
      "\n",
      "nips12raw_str602.tg 100%[===================>]  12.26M  9.11MB/s    in 1.3s    \n",
      "\n",
      "2022-11-03 01:05:57 (9.11 MB/s) - ‘nips12raw_str602.tgz’ saved [12851423/12851423]\n",
      "\n"
     ]
    }
   ],
   "source": [
    "!wget https://cs.nyu.edu/~roweis/data/nips12raw_str602.tgz"
   ]
  },
  {
   "cell_type": "markdown",
   "metadata": {
    "id": "KSZTp9edn0ym"
   },
   "source": [
    "#### **A) Data Extraction**\n",
    "\n",
    "Uncompress this tgz file and extract the different text files within each of the subfolders, like so:"
   ]
  },
  {
   "cell_type": "code",
   "execution_count": null,
   "metadata": {
    "id": "HkvnO5VBn5GZ"
   },
   "outputs": [],
   "source": [
    "!tar -xzf nips12raw_str602.tgz"
   ]
  },
  {
   "cell_type": "code",
   "execution_count": null,
   "metadata": {
    "id": "C5lhQiF7oAny"
   },
   "outputs": [],
   "source": [
    "DATA_PATH = '/content/nipstxt'\n",
    "print(os.listdir(DATA_PATH))"
   ]
  },
  {
   "cell_type": "code",
   "execution_count": null,
   "metadata": {
    "colab": {
     "base_uri": "https://localhost:8080/"
    },
    "id": "VHORRD_AoLO8",
    "outputId": "95d07c3a-bd70-43dc-e09d-91c4bc5c404e"
   },
   "outputs": [
    {
     "data": {
      "text/plain": [
       "1740"
      ]
     },
     "execution_count": 5,
     "metadata": {},
     "output_type": "execute_result"
    }
   ],
   "source": [
    "folders = [\"nips{0:02}\".format(i) for i in range(0,13)]\n",
    "                                                                                                                              # Read all texts into a list\n",
    "papers = []\n",
    "for folder in folders:\n",
    "    file_names = os.listdir(DATA_PATH + '/' + folder )\n",
    "    for file_name in file_names:\n",
    "        with open(DATA_PATH + '/' + folder + '/' + file_name, encoding='utf-8', errors='ignore', mode='r+') as f:\n",
    "            data = f.read()\n",
    "        papers.append(data)\n",
    "len(papers)"
   ]
  },
  {
   "cell_type": "markdown",
   "metadata": {
    "id": "UzPAZtyyqKZg"
   },
   "source": [
    "**If using Jupyter notebooks/labs using this instead**"
   ]
  },
  {
   "cell_type": "code",
   "execution_count": null,
   "metadata": {
    "id": "lrU9i_XvqOR_"
   },
   "outputs": [],
   "source": [
    "# \"\"\"\n",
    "# folders = [\"nips{0:02}\".format(i) for i in range(0,13)]\n",
    "# # Read all texts into a list.\n",
    "# papers = []\n",
    "# for folder in folders:\n",
    "#     file_names = os.listdir(DATA_PATH + folder)\n",
    "#     for file_name in file_names:\n",
    "#         with open(DATA_PATH + folder + '/' + file_name, encoding='utf-8', errors='ignore', mode='r+') as f:\n",
    "#             data = f.read()\n",
    "#         papers.append(data)\n",
    "# len(papers)\n",
    "# \"\"\""
   ]
  },
  {
   "cell_type": "code",
   "execution_count": null,
   "metadata": {
    "colab": {
     "base_uri": "https://localhost:8080/"
    },
    "id": "VlhVBNxBoOSg",
    "outputId": "6e839293-e337-45c7-a6c7-5bd5385c2b21"
   },
   "outputs": [
    {
     "name": "stdout",
     "output_type": "stream",
     "text": [
      "201 \n",
      "NEW HARDWARE FOR MASSIVE NEURAL NETWORKS \n",
      "D. D. Coon and A. G. U. Perera \n",
      "Applied Technology Laboratory \n",
      "University of Pittsburgh \n",
      "Pittsburgh, PA 15260. \n",
      "ABSTRACT \n",
      "Transient phenomena associated with forward biased silicon p+ - n - n + struc- \n",
      "tures at 4.2K show remarkable similarities with biological neurons. The devices play \n",
      "a role similar to the two-terminal switching elements in Hodgkin-Huxley equivalent \n",
      "circuit diagrams. The devices provide simpler and more realistic neuron emulation \n",
      "than transistors or op-amps. They have such low power and current requirements \n",
      "that they could be used in massive neural networks. Some observed properties of \n",
      "simple circuits containing the devices include action potentials, refractory periods, \n",
      "threshold behavior, excitation, inhibition, summation over synaptic inputs, synaptic \n",
      "weights, temporal integration, memory, network connectivity modification based on \n",
      "experience, pacemaker activity, firing thresholds, coupling to sensors with grade\n"
     ]
    }
   ],
   "source": [
    "print(papers[0][:1000])"
   ]
  },
  {
   "cell_type": "markdown",
   "metadata": {
    "id": "YOJaEvsTrXPp"
   },
   "source": [
    "## **2) Basic Text Preprocessing**\n",
    "\n",
    "I create a separate normalize_corpus function here, because I don't need to do all the steps we normally would. This is going to save us some time in its execution."
   ]
  },
  {
   "cell_type": "code",
   "execution_count": null,
   "metadata": {
    "colab": {
     "base_uri": "https://localhost:8080/"
    },
    "id": "fQty16iyrjYO",
    "outputId": "ae1c2b43-5eef-4442-ae68-78bbe8b17854"
   },
   "outputs": [
    {
     "name": "stdout",
     "output_type": "stream",
     "text": [
      "1740\n",
      "CPU times: user 27.5 s, sys: 180 ms, total: 27.7 s\n",
      "Wall time: 28.1 s\n"
     ]
    }
   ],
   "source": [
    "%%time\n",
    "\n",
    "stop_words = nltk.corpus.stopwords.words('english')\n",
    "wtk = nltk.tokenize.RegexpTokenizer(r'\\w+')\n",
    "wnl = nltk.stem.wordnet.WordNetLemmatizer()\n",
    "\n",
    "def normalize_corpus(papers):\n",
    "    norm_papers = []\n",
    "    for paper in papers:\n",
    "        paper = paper.lower() # set paper to lowercase\n",
    "        paper_tokens = [token.strip() for token in wtk.tokenize(paper)] # tokenize paper and strip extra whitespaces\n",
    "        paper_tokens = [wnl.lemmatize(token) for token in paper_tokens if not token.isnumeric()]  # lemmatize tokens\n",
    "        paper_tokens = [token for token in paper_tokens if len(token) > 1] # remove tokens shorter than 1 character or shorter\n",
    "        paper_tokens = [token for token in paper_tokens if token not in stop_words] # remove stopwords\n",
    "        paper_tokens = list(filter(None, paper_tokens))\n",
    "        if paper_tokens:\n",
    "            norm_papers.append(paper_tokens)\n",
    "\n",
    "    return norm_papers\n",
    "\n",
    "norm_papers = normalize_corpus(papers)\n",
    "print(len(norm_papers))"
   ]
  },
  {
   "cell_type": "code",
   "execution_count": null,
   "metadata": {
    "colab": {
     "base_uri": "https://localhost:8080/"
    },
    "id": "80oqa0q_so2E",
    "outputId": "122399c7-bf69-4a43-c597-3d58fb27c114"
   },
   "outputs": [
    {
     "name": "stdout",
     "output_type": "stream",
     "text": [
      "['new', 'hardware', 'massive', 'neural', 'network', 'coon', 'perera', 'applied', 'technology', 'laboratory', 'university', 'pittsburgh', 'pittsburgh', 'pa', 'abstract', 'transient', 'phenomenon', 'associated', 'forward', 'biased', 'silicon', 'struc', 'tures', '2k', 'show', 'remarkable', 'similarity', 'biological', 'neuron', 'device', 'play', 'role', 'similar', 'two', 'terminal', 'switching', 'element', 'hodgkin', 'huxley', 'equivalent', 'circuit', 'diagram', 'device', 'provide', 'simpler', 'realistic', 'neuron', 'emulation', 'transistor', 'op', 'amp', 'low', 'power', 'current', 'requirement', 'could', 'used', 'massive', 'neural', 'network', 'observed', 'property', 'simple', 'circuit', 'containing', 'device', 'include', 'action', 'potential', 'refractory', 'period', 'threshold', 'behavior', 'excitation', 'inhibition', 'summation', 'synaptic', 'input', 'synaptic', 'weight', 'temporal', 'integration', 'memory', 'network', 'connectivity', 'modification', 'based', 'experience', 'pacemaker', 'activity', 'firing', 'threshold', 'coupling', 'sensor', 'graded', 'sig', 'nal', 'output', 'dependence', 'firing']\n"
     ]
    }
   ],
   "source": [
    "print(norm_papers[0][:100])"
   ]
  },
  {
   "cell_type": "markdown",
   "metadata": {
    "id": "BHmzLnLgw27M"
   },
   "source": [
    "## 3) **Feature Engineering**\n",
    "\n",
    "Before performing any sort of vectorization, I narrow down the pool of words to more common n-grams; specifically bigrams that have occurred in the text at least 20 times. This is going to cut down on the number of words to vectorize."
   ]
  },
  {
   "cell_type": "code",
   "execution_count": null,
   "metadata": {
    "id": "SYj9tAklxSRN"
   },
   "outputs": [],
   "source": [
    "# ~ number of words in corpus\n",
    "len(set(norm_papers[2]))*1740"
   ]
  },
  {
   "cell_type": "code",
   "execution_count": null,
   "metadata": {
    "colab": {
     "base_uri": "https://localhost:8080/"
    },
    "id": "nbjAjkiEyGZr",
    "outputId": "fa35da88-4eb4-4e2a-8b9f-cba62356b6ec"
   },
   "outputs": [
    {
     "name": "stdout",
     "output_type": "stream",
     "text": [
      "['new', 'hardware', 'massive', 'neural_network', 'coon', 'perera', 'applied', 'technology', 'laboratory', 'university_pittsburgh', 'pittsburgh_pa', 'abstract', 'transient', 'phenomenon', 'associated', 'forward', 'biased', 'silicon', 'struc', 'tures', '2k', 'show', 'remarkable', 'similarity', 'biological', 'neuron', 'device', 'play_role', 'similar', 'two', 'terminal', 'switching', 'element', 'hodgkin_huxley', 'equivalent', 'circuit_diagram', 'device', 'provide', 'simpler', 'realistic', 'neuron', 'emulation', 'transistor', 'op', 'amp', 'low_power', 'current', 'requirement', 'could', 'used']\n"
     ]
    }
   ],
   "source": [
    "bigram = gensim.models.Phrases(norm_papers, min_count=20, threshold=20, delimiter=b'_')                     # higher threshold fewer phrases.\n",
    "bigram_model = gensim.models.phrases.Phraser(bigram)\n",
    "\n",
    "print(bigram_model[norm_papers[0]][:50])"
   ]
  },
  {
   "cell_type": "markdown",
   "metadata": {
    "id": "9j-Zj5eyyasp"
   },
   "source": [
    "> #### **A) Extract bigrams from full corpus to create a condensed vocab set of high frequency phrases**"
   ]
  },
  {
   "cell_type": "code",
   "execution_count": null,
   "metadata": {
    "colab": {
     "base_uri": "https://localhost:8080/"
    },
    "id": "xuZh08G6ynKU",
    "outputId": "494b911f-bef9-46ca-8689-02dee504173e"
   },
   "outputs": [
    {
     "name": "stdout",
     "output_type": "stream",
     "text": [
      "Sample word to number mappings: [(0, '100fa'), (1, '10ma'), (2, '2k'), (3, '2o3'), (4, '2o6'), (5, '80er10667'), (6, 'ability'), (7, 'abruptly'), (8, 'abstract'), (9, 'ac'), (10, 'acad_sci'), (11, 'accomplished'), (12, 'accomplishes'), (13, 'accumulation'), (14, 'acheivable')]\n",
      "Total Vocabulary Size: 78892\n"
     ]
    }
   ],
   "source": [
    "norm_corpus_bigrams = [bigram_model[doc] for doc in norm_papers]\n",
    "\n",
    "dictionary = gensim.corpora.Dictionary(norm_corpus_bigrams)                                                   # Create a dictionary representation of the documents\n",
    "print('Sample word to number mappings:', list(dictionary.items())[:15])                                       # print out sample of dictionary\n",
    "print('Total Vocabulary Size:', len(dictionary))                                                              # print total vocab size"
   ]
  },
  {
   "cell_type": "markdown",
   "metadata": {
    "id": "YRIMxjdczZQ8"
   },
   "source": [
    "> #### **B) Prune the vocab set by removing words that occur in fewer than 20 documents or more than 60% of documents**"
   ]
  },
  {
   "cell_type": "markdown",
   "metadata": {
    "id": "xN9Tyjshzmd7"
   },
   "source": [
    "**What is the logic behind this step?**"
   ]
  },
  {
   "cell_type": "markdown",
   "metadata": {
    "id": "tDYOem-wITMQ"
   },
   "source": [
    "We don't need to include very frequent or very infrequent words/bigrams; those typically don't add much value to the meaning of the text."
   ]
  },
  {
   "cell_type": "code",
   "execution_count": null,
   "metadata": {
    "colab": {
     "base_uri": "https://localhost:8080/"
    },
    "id": "VYM9JtFdzreH",
    "outputId": "af2ec3df-28af-4656-f7c4-58cc600608be"
   },
   "outputs": [
    {
     "name": "stdout",
     "output_type": "stream",
     "text": [
      "Total Vocabulary Size: 7756\n"
     ]
    }
   ],
   "source": [
    "dictionary.filter_extremes(no_below=20, no_above=0.60)\n",
    "print('Total Vocabulary Size:', len(dictionary))"
   ]
  },
  {
   "cell_type": "markdown",
   "metadata": {
    "id": "Isv8rZq-bwgz"
   },
   "source": [
    "> #### **C) Bag of Words Vectorization**\n",
    "\n",
    "Great! Now with a much more reasonable vocab size, I won't have so many dimensions. Let's create the BOW corpus from the dictionary of bigrams."
   ]
  },
  {
   "cell_type": "code",
   "execution_count": null,
   "metadata": {
    "colab": {
     "base_uri": "https://localhost:8080/"
    },
    "id": "oqOi5rH3cSwp",
    "outputId": "25010868-06bb-4d5b-dc40-2f4c794bf910"
   },
   "outputs": [
    {
     "name": "stdout",
     "output_type": "stream",
     "text": [
      "[(1, 3), (4, 1), (9, 1), (14, 11), (15, 1), (17, 1), (18, 2), (21, 1), (26, 1), (27, 1), (28, 3), (30, 4), (31, 1), (35, 1), (41, 10), (42, 7), (45, 1), (46, 2), (50, 1), (52, 1), (54, 2), (55, 2), (60, 4), (64, 1), (73, 1), (82, 6), (84, 1), (86, 1), (93, 1), (94, 3), (95, 5), (96, 3), (98, 5), (100, 1), (102, 3), (107, 4), (109, 1), (110, 3), (113, 1), (121, 7), (122, 2), (126, 1), (131, 1), (134, 2), (136, 3), (146, 1), (150, 1), (153, 1), (154, 1), (155, 1)]\n"
     ]
    }
   ],
   "source": [
    "bow_corpus = [dictionary.doc2bow(text) for text in norm_corpus_bigrams]\n",
    "print(bow_corpus[1][:50])"
   ]
  },
  {
   "cell_type": "markdown",
   "metadata": {
    "id": "v3OnHoEqcYpd"
   },
   "source": [
    "**What does each tuple represent here?**"
   ]
  },
  {
   "cell_type": "markdown",
   "metadata": {
    "id": "rPMinIQ_cbPn"
   },
   "source": [
    "A word index and its frequency in document 01."
   ]
  },
  {
   "cell_type": "code",
   "execution_count": null,
   "metadata": {
    "colab": {
     "base_uri": "https://localhost:8080/"
    },
    "id": "UhDkAkoccm4Q",
    "outputId": "aefc39c9-47ea-4dc4-a649-ab4cb25809cc"
   },
   "outputs": [
    {
     "name": "stdout",
     "output_type": "stream",
     "text": [
      "[('acad_sci', 1), ('according', 1), ('addition', 1), ('american_institute', 1), ('application', 2), ('approximation', 2), ('assume', 2), ('assumption', 5), ('available', 1), ('average', 4), ('averaged', 1), ('best', 3), ('binocular', 1), ('cannot', 1), ('center', 2), ('change', 6), ('class', 1), ('compared', 1), ('complex', 1), ('component', 3), ('computation', 5), ('computed', 4), ('computing', 3), ('consider', 1), ('consistent', 1), ('constant', 5), ('constraint', 8), ('contain', 1), ('corresponding', 4), ('could', 1), ('critical', 1), ('dark', 2), ('define', 1), ('density', 1), ('difference', 1), ('discussed', 1), ('due', 2), ('ed', 3), ('effect', 3), ('effective', 1), ('either', 1), ('equation', 2), ('et_al', 1), ('evolution', 1), ('experiment', 1), ('explicit', 1), ('eye', 1), ('fact', 1), ('fairly', 1), ('find', 3)]\n"
     ]
    }
   ],
   "source": [
    "print([(dictionary[idx], freq) for idx, freq in bow_corpus[1][:50]])"
   ]
  },
  {
   "cell_type": "markdown",
   "metadata": {
    "id": "cKW4g_CadM64"
   },
   "source": [
    "## **4) Topic Modeling with Latent Semantic Indexing (LSI)**\n",
    "\n",
    "I use latent semantic indexing first to generate a topic model. I set the total number of topics to 10 and then examine which words are most influential for each topic."
   ]
  },
  {
   "cell_type": "code",
   "execution_count": null,
   "metadata": {
    "colab": {
     "base_uri": "https://localhost:8080/"
    },
    "id": "i4J6zIxVdQrU",
    "outputId": "493d51ec-3b1d-4488-c445-14c88fa25e44"
   },
   "outputs": [
    {
     "name": "stdout",
     "output_type": "stream",
     "text": [
      "CPU times: user 4min 55s, sys: 1min 50s, total: 6min 46s\n",
      "Wall time: 3min 53s\n"
     ]
    }
   ],
   "source": [
    "%%time\n",
    "TOTAL_TOPICS = 10\n",
    "lsi_bow = gensim.models.LsiModel(bow_corpus, id2word=dictionary, num_topics=TOTAL_TOPICS,\n",
    "                                 onepass=True, chunksize=1740, power_iters=1000)"
   ]
  },
  {
   "cell_type": "markdown",
   "metadata": {
    "id": "v_TTfsRihQ8P"
   },
   "source": [
    "> #### **A) Print topics (top 20 words per 10 topics)**"
   ]
  },
  {
   "cell_type": "code",
   "execution_count": null,
   "metadata": {
    "colab": {
     "base_uri": "https://localhost:8080/"
    },
    "id": "vkKo5ZjtdgQs",
    "outputId": "917033ad-f2e8-4a45-fb47-f255081e9e2b"
   },
   "outputs": [
    {
     "name": "stdout",
     "output_type": "stream",
     "text": [
      "Topic #1:\n",
      "0.215*\"unit\" + 0.212*\"state\" + 0.187*\"training\" + 0.177*\"neuron\" + 0.162*\"pattern\" + 0.145*\"image\" + 0.140*\"vector\" + 0.125*\"feature\" + 0.122*\"cell\" + 0.110*\"layer\" + 0.101*\"task\" + 0.097*\"class\" + 0.091*\"probability\" + 0.089*\"signal\" + 0.087*\"step\" + 0.086*\"response\" + 0.085*\"representation\" + 0.083*\"noise\" + 0.082*\"rule\" + 0.081*\"distribution\"\n",
      "\n",
      "Topic #2:\n",
      "0.487*\"neuron\" + 0.396*\"cell\" + -0.257*\"state\" + 0.191*\"response\" + -0.187*\"training\" + 0.170*\"stimulus\" + 0.117*\"activity\" + -0.109*\"class\" + 0.099*\"spike\" + 0.097*\"pattern\" + 0.096*\"circuit\" + 0.096*\"synaptic\" + -0.095*\"vector\" + 0.090*\"signal\" + 0.090*\"firing\" + 0.088*\"visual\" + -0.084*\"classifier\" + -0.083*\"action\" + -0.078*\"word\" + 0.078*\"cortical\"\n",
      "\n",
      "Topic #3:\n",
      "-0.627*\"state\" + 0.395*\"image\" + -0.219*\"neuron\" + 0.209*\"feature\" + -0.188*\"action\" + 0.137*\"unit\" + 0.131*\"object\" + -0.130*\"control\" + 0.129*\"training\" + -0.109*\"policy\" + 0.103*\"classifier\" + 0.090*\"class\" + -0.081*\"step\" + -0.081*\"dynamic\" + 0.080*\"classification\" + 0.078*\"layer\" + 0.076*\"recognition\" + -0.074*\"reinforcement_learning\" + 0.069*\"representation\" + 0.068*\"pattern\"\n",
      "\n",
      "Topic #4:\n",
      "0.686*\"unit\" + -0.433*\"image\" + 0.182*\"pattern\" + 0.131*\"layer\" + 0.123*\"hidden_unit\" + 0.121*\"net\" + 0.114*\"training\" + -0.112*\"feature\" + 0.109*\"activation\" + 0.107*\"rule\" + -0.097*\"neuron\" + 0.078*\"word\" + -0.070*\"pixel\" + 0.070*\"connection\" + -0.067*\"object\" + -0.065*\"state\" + -0.060*\"distribution\" + -0.059*\"face\" + 0.057*\"architecture\" + -0.055*\"estimate\"\n",
      "\n",
      "Topic #5:\n",
      "-0.428*\"image\" + -0.348*\"state\" + 0.266*\"neuron\" + -0.264*\"unit\" + 0.181*\"training\" + 0.174*\"class\" + -0.168*\"object\" + 0.167*\"classifier\" + -0.147*\"action\" + -0.122*\"visual\" + 0.117*\"vector\" + 0.115*\"node\" + 0.105*\"distribution\" + -0.103*\"motion\" + -0.099*\"feature\" + 0.097*\"classification\" + -0.097*\"control\" + -0.095*\"task\" + -0.087*\"cell\" + -0.083*\"representation\"\n",
      "\n",
      "Topic #6:\n",
      "0.660*\"cell\" + -0.508*\"neuron\" + -0.213*\"image\" + -0.103*\"chip\" + -0.097*\"unit\" + 0.093*\"response\" + -0.090*\"object\" + 0.083*\"rat\" + 0.076*\"distribution\" + -0.070*\"circuit\" + 0.069*\"probability\" + 0.064*\"stimulus\" + -0.061*\"memory\" + -0.058*\"analog\" + -0.058*\"activation\" + 0.055*\"class\" + -0.053*\"bit\" + -0.052*\"net\" + 0.051*\"cortical\" + 0.050*\"firing\"\n",
      "\n",
      "Topic #7:\n",
      "-0.353*\"word\" + 0.281*\"unit\" + -0.272*\"training\" + -0.257*\"classifier\" + -0.177*\"recognition\" + 0.159*\"distribution\" + -0.152*\"feature\" + -0.144*\"state\" + -0.142*\"pattern\" + 0.141*\"vector\" + -0.128*\"cell\" + -0.128*\"task\" + 0.122*\"approximation\" + 0.121*\"variable\" + 0.110*\"equation\" + -0.107*\"classification\" + 0.106*\"noise\" + -0.103*\"class\" + 0.101*\"matrix\" + -0.098*\"neuron\"\n",
      "\n",
      "Topic #8:\n",
      "0.303*\"pattern\" + -0.243*\"signal\" + -0.236*\"control\" + -0.202*\"training\" + 0.181*\"rule\" + 0.178*\"state\" + -0.167*\"noise\" + 0.166*\"class\" + -0.162*\"word\" + 0.155*\"cell\" + 0.154*\"feature\" + -0.147*\"motion\" + -0.140*\"task\" + 0.127*\"node\" + 0.124*\"neuron\" + -0.116*\"target\" + -0.114*\"circuit\" + 0.114*\"probability\" + 0.110*\"classifier\" + 0.109*\"image\"\n",
      "\n",
      "Topic #9:\n",
      "0.472*\"node\" + 0.254*\"circuit\" + -0.214*\"word\" + 0.201*\"chip\" + -0.190*\"neuron\" + -0.172*\"stimulus\" + 0.160*\"classifier\" + 0.152*\"current\" + -0.147*\"feature\" + 0.146*\"voltage\" + -0.145*\"distribution\" + 0.141*\"control\" + 0.124*\"rule\" + 0.110*\"layer\" + 0.105*\"analog\" + 0.091*\"tree\" + -0.084*\"response\" + -0.080*\"state\" + -0.079*\"probability\" + -0.079*\"estimate\"\n",
      "\n",
      "Topic #10:\n",
      "0.518*\"word\" + -0.254*\"training\" + 0.236*\"vector\" + -0.222*\"task\" + -0.194*\"pattern\" + -0.156*\"classifier\" + 0.149*\"node\" + 0.146*\"recognition\" + -0.139*\"control\" + 0.138*\"sequence\" + -0.126*\"rule\" + 0.125*\"circuit\" + 0.123*\"cell\" + -0.113*\"action\" + -0.105*\"neuron\" + 0.094*\"hmm\" + 0.093*\"character\" + 0.088*\"chip\" + 0.088*\"matrix\" + 0.085*\"structure\"\n",
      "\n"
     ]
    }
   ],
   "source": [
    "for topic_id, topic in lsi_bow.print_topics(num_topics=10, num_words=20):\n",
    "    print('Topic #'+str(topic_id+1)+':')\n",
    "    print(topic)\n",
    "    print()"
   ]
  },
  {
   "cell_type": "markdown",
   "metadata": {
    "id": "FKBuDXSLf9QP"
   },
   "source": [
    "**Like a correlation coefficient, the larger the associated weight, the stronger the influence of a word within a topic. But what does it mean for a topic to have words with positive and negative weights?**\n",
    "\n",
    "Two main ideas being captured within one topic, when we have both positive and negative values."
   ]
  },
  {
   "cell_type": "code",
   "execution_count": null,
   "metadata": {
    "colab": {
     "base_uri": "https://localhost:8080/"
    },
    "id": "jIHed9G7fp6o",
    "outputId": "a0fa8af8-c0d0-45c3-b59e-c60efe2e32f5"
   },
   "outputs": [
    {
     "name": "stdout",
     "output_type": "stream",
     "text": [
      "Topic #1:\n",
      "==================================================\n",
      "Direction 1: [('unit', 0.215), ('state', 0.212), ('training', 0.187), ('neuron', 0.177), ('pattern', 0.162), ('image', 0.145), ('vector', 0.14), ('feature', 0.125), ('cell', 0.122), ('layer', 0.11), ('task', 0.101), ('class', 0.097), ('probability', 0.091), ('signal', 0.089), ('step', 0.087), ('response', 0.086), ('representation', 0.085), ('noise', 0.083), ('rule', 0.082), ('distribution', 0.081)]\n",
      "--------------------------------------------------\n",
      "Direction 2: []\n",
      "--------------------------------------------------\n",
      "\n",
      "Topic #2:\n",
      "==================================================\n",
      "Direction 1: [('neuron', 0.487), ('cell', 0.396), ('response', 0.191), ('stimulus', 0.17), ('activity', 0.117), ('spike', 0.099), ('pattern', 0.097), ('circuit', 0.096), ('synaptic', 0.096), ('signal', 0.09), ('firing', 0.09), ('visual', 0.088), ('cortical', 0.078)]\n",
      "--------------------------------------------------\n",
      "Direction 2: [('state', -0.257), ('training', -0.187), ('class', -0.109), ('vector', -0.095), ('classifier', -0.084), ('action', -0.083), ('word', -0.078)]\n",
      "--------------------------------------------------\n",
      "\n",
      "Topic #3:\n",
      "==================================================\n",
      "Direction 1: [('image', 0.395), ('feature', 0.209), ('unit', 0.137), ('object', 0.131), ('training', 0.129), ('classifier', 0.103), ('class', 0.09), ('classification', 0.08), ('layer', 0.078), ('recognition', 0.076), ('representation', 0.069), ('pattern', 0.068)]\n",
      "--------------------------------------------------\n",
      "Direction 2: [('state', -0.627), ('neuron', -0.219), ('action', -0.188), ('control', -0.13), ('policy', -0.109), ('step', -0.081), ('dynamic', -0.081), ('reinforcement_learning', -0.074)]\n",
      "--------------------------------------------------\n",
      "\n",
      "Topic #4:\n",
      "==================================================\n",
      "Direction 1: [('unit', 0.686), ('pattern', 0.182), ('layer', 0.131), ('hidden_unit', 0.123), ('net', 0.121), ('training', 0.114), ('activation', 0.109), ('rule', 0.107), ('word', 0.078), ('connection', 0.07), ('architecture', 0.057)]\n",
      "--------------------------------------------------\n",
      "Direction 2: [('image', -0.433), ('feature', -0.112), ('neuron', -0.097), ('pixel', -0.07), ('object', -0.067), ('state', -0.065), ('distribution', -0.06), ('face', -0.059), ('estimate', -0.055)]\n",
      "--------------------------------------------------\n",
      "\n",
      "Topic #5:\n",
      "==================================================\n",
      "Direction 1: [('neuron', 0.266), ('training', 0.181), ('class', 0.174), ('classifier', 0.167), ('vector', 0.117), ('node', 0.115), ('distribution', 0.105), ('classification', 0.097)]\n",
      "--------------------------------------------------\n",
      "Direction 2: [('image', -0.428), ('state', -0.348), ('unit', -0.264), ('object', -0.168), ('action', -0.147), ('visual', -0.122), ('motion', -0.103), ('feature', -0.099), ('control', -0.097), ('task', -0.095), ('cell', -0.087), ('representation', -0.083)]\n",
      "--------------------------------------------------\n",
      "\n",
      "Topic #6:\n",
      "==================================================\n",
      "Direction 1: [('cell', 0.66), ('response', 0.093), ('rat', 0.083), ('distribution', 0.076), ('probability', 0.069), ('stimulus', 0.064), ('class', 0.055), ('cortical', 0.051), ('firing', 0.05)]\n",
      "--------------------------------------------------\n",
      "Direction 2: [('neuron', -0.508), ('image', -0.213), ('chip', -0.103), ('unit', -0.097), ('object', -0.09), ('circuit', -0.07), ('memory', -0.061), ('analog', -0.058), ('activation', -0.058), ('bit', -0.053), ('net', -0.052)]\n",
      "--------------------------------------------------\n",
      "\n",
      "Topic #7:\n",
      "==================================================\n",
      "Direction 1: [('unit', 0.281), ('distribution', 0.159), ('vector', 0.141), ('approximation', 0.122), ('variable', 0.121), ('equation', 0.11), ('noise', 0.106), ('matrix', 0.101)]\n",
      "--------------------------------------------------\n",
      "Direction 2: [('word', -0.353), ('training', -0.272), ('classifier', -0.257), ('recognition', -0.177), ('feature', -0.152), ('state', -0.144), ('pattern', -0.142), ('cell', -0.128), ('task', -0.128), ('classification', -0.107), ('class', -0.103), ('neuron', -0.098)]\n",
      "--------------------------------------------------\n",
      "\n",
      "Topic #8:\n",
      "==================================================\n",
      "Direction 1: [('pattern', 0.303), ('rule', 0.181), ('state', 0.178), ('class', 0.166), ('cell', 0.155), ('feature', 0.154), ('node', 0.127), ('neuron', 0.124), ('probability', 0.114), ('classifier', 0.11), ('image', 0.109)]\n",
      "--------------------------------------------------\n",
      "Direction 2: [('signal', -0.243), ('control', -0.236), ('training', -0.202), ('noise', -0.167), ('word', -0.162), ('motion', -0.147), ('task', -0.14), ('target', -0.116), ('circuit', -0.114)]\n",
      "--------------------------------------------------\n",
      "\n",
      "Topic #9:\n",
      "==================================================\n",
      "Direction 1: [('node', 0.472), ('circuit', 0.254), ('chip', 0.201), ('classifier', 0.16), ('current', 0.152), ('voltage', 0.146), ('control', 0.141), ('rule', 0.124), ('layer', 0.11), ('analog', 0.105), ('tree', 0.091)]\n",
      "--------------------------------------------------\n",
      "Direction 2: [('word', -0.214), ('neuron', -0.19), ('stimulus', -0.172), ('feature', -0.147), ('distribution', -0.145), ('response', -0.084), ('state', -0.08), ('probability', -0.079), ('estimate', -0.079)]\n",
      "--------------------------------------------------\n",
      "\n",
      "Topic #10:\n",
      "==================================================\n",
      "Direction 1: [('word', 0.518), ('vector', 0.236), ('node', 0.149), ('recognition', 0.146), ('sequence', 0.138), ('circuit', 0.125), ('cell', 0.123), ('hmm', 0.094), ('character', 0.093), ('chip', 0.088), ('matrix', 0.088), ('structure', 0.085)]\n",
      "--------------------------------------------------\n",
      "Direction 2: [('training', -0.254), ('task', -0.222), ('pattern', -0.194), ('classifier', -0.156), ('control', -0.139), ('rule', -0.126), ('action', -0.113), ('neuron', -0.105)]\n",
      "--------------------------------------------------\n",
      "\n"
     ]
    }
   ],
   "source": [
    "for n in range(TOTAL_TOPICS):\n",
    "    print('Topic #'+str(n+1)+':')\n",
    "    print('='*50)\n",
    "    d1 = []\n",
    "    d2 = []\n",
    "    for term, wt in lsi_bow.show_topic(n, topn=20):\n",
    "        if wt >= 0:\n",
    "            d1.append((term, round(wt, 3)))\n",
    "        else:\n",
    "            d2.append((term, round(wt, 3)))\n",
    "\n",
    "    print('Direction 1:', d1)\n",
    "    print('-'*50)\n",
    "    print('Direction 2:', d2)\n",
    "    print('-'*50)\n",
    "    print()"
   ]
  },
  {
   "cell_type": "markdown",
   "metadata": {
    "id": "Sua0a-vYgS1f"
   },
   "source": [
    "**Spend some time examining the different words amongst topics 1-10 and their 2 subtopics; what are some themes/possible topics that emerge?**"
   ]
  },
  {
   "cell_type": "markdown",
   "metadata": {
    "id": "r8hs0uJpgfAO"
   },
   "source": [
    "Can indicate two distrinct sub-topics (two directions) within one topic."
   ]
  },
  {
   "cell_type": "markdown",
   "metadata": {
    "id": "pQi3GP2zhEuC"
   },
   "source": [
    "> #### **B) Apply SVD to decompose our term-document matrix into term-topic, topic-topic, and topic-document matrices**"
   ]
  },
  {
   "cell_type": "code",
   "execution_count": null,
   "metadata": {
    "colab": {
     "base_uri": "https://localhost:8080/"
    },
    "id": "YC7J-spAh4Mg",
    "outputId": "d7950c4a-be6b-4305-92e9-4557a1d7e4b4"
   },
   "outputs": [
    {
     "name": "stderr",
     "output_type": "stream",
     "text": [
      "/usr/local/lib/python3.7/dist-packages/gensim/matutils.py:502: FutureWarning: arrays to stack must be passed as a \"sequence\" type such as list or tuple. Support for non-sequence iterables such as generators is deprecated as of NumPy 1.16 and will raise an error in the future.\n",
      "  result = np.column_stack(sparse2full(doc, num_terms) for doc in corpus)\n"
     ]
    },
    {
     "data": {
      "text/plain": [
       "((7756, 10), (10,), (10, 1740))"
      ]
     },
     "execution_count": 24,
     "metadata": {},
     "output_type": "execute_result"
    }
   ],
   "source": [
    "term_topic = lsi_bow.projection.u\n",
    "singular_values = lsi_bow.projection.s\n",
    "topic_document = (gensim.matutils.corpus2dense(lsi_bow[bow_corpus], len(singular_values)).T / singular_values).T\n",
    "term_topic.shape, singular_values.shape, topic_document.shape"
   ]
  },
  {
   "cell_type": "markdown",
   "metadata": {
    "id": "oBXuuY_-iQ-1"
   },
   "source": [
    "> #### **C) Transpose to Document Topic Matrix**"
   ]
  },
  {
   "cell_type": "code",
   "execution_count": null,
   "metadata": {
    "colab": {
     "base_uri": "https://localhost:8080/",
     "height": 520
    },
    "id": "Q73z0V0GiVPt",
    "outputId": "dfee6487-1af2-4799-dd10-15f777e0772d"
   },
   "outputs": [
    {
     "data": {
      "text/html": [
       "\n",
       "  <div id=\"df-72a5665c-cbf1-4497-a7ea-c4cbd040fba4\">\n",
       "    <div class=\"colab-df-container\">\n",
       "      <div>\n",
       "<style scoped>\n",
       "    .dataframe tbody tr th:only-of-type {\n",
       "        vertical-align: middle;\n",
       "    }\n",
       "\n",
       "    .dataframe tbody tr th {\n",
       "        vertical-align: top;\n",
       "    }\n",
       "\n",
       "    .dataframe thead th {\n",
       "        text-align: right;\n",
       "    }\n",
       "</style>\n",
       "<table border=\"1\" class=\"dataframe\">\n",
       "  <thead>\n",
       "    <tr style=\"text-align: right;\">\n",
       "      <th></th>\n",
       "      <th>T1</th>\n",
       "      <th>T2</th>\n",
       "      <th>T3</th>\n",
       "      <th>T4</th>\n",
       "      <th>T5</th>\n",
       "      <th>T6</th>\n",
       "      <th>T7</th>\n",
       "      <th>T8</th>\n",
       "      <th>T9</th>\n",
       "      <th>T10</th>\n",
       "    </tr>\n",
       "  </thead>\n",
       "  <tbody>\n",
       "    <tr>\n",
       "      <th>0</th>\n",
       "      <td>0.023</td>\n",
       "      <td>0.028</td>\n",
       "      <td>-0.018</td>\n",
       "      <td>-0.015</td>\n",
       "      <td>0.006</td>\n",
       "      <td>-0.032</td>\n",
       "      <td>-0.009</td>\n",
       "      <td>-0.011</td>\n",
       "      <td>0.049</td>\n",
       "      <td>0.021</td>\n",
       "    </tr>\n",
       "    <tr>\n",
       "      <th>1</th>\n",
       "      <td>0.041</td>\n",
       "      <td>-0.014</td>\n",
       "      <td>-0.017</td>\n",
       "      <td>0.032</td>\n",
       "      <td>-0.018</td>\n",
       "      <td>-0.003</td>\n",
       "      <td>0.062</td>\n",
       "      <td>-0.005</td>\n",
       "      <td>-0.001</td>\n",
       "      <td>0.021</td>\n",
       "    </tr>\n",
       "    <tr>\n",
       "      <th>2</th>\n",
       "      <td>0.016</td>\n",
       "      <td>0.017</td>\n",
       "      <td>-0.013</td>\n",
       "      <td>-0.008</td>\n",
       "      <td>0.024</td>\n",
       "      <td>-0.028</td>\n",
       "      <td>0.000</td>\n",
       "      <td>0.019</td>\n",
       "      <td>-0.008</td>\n",
       "      <td>-0.006</td>\n",
       "    </tr>\n",
       "    <tr>\n",
       "      <th>3</th>\n",
       "      <td>0.035</td>\n",
       "      <td>-0.002</td>\n",
       "      <td>-0.017</td>\n",
       "      <td>0.008</td>\n",
       "      <td>0.016</td>\n",
       "      <td>-0.017</td>\n",
       "      <td>0.032</td>\n",
       "      <td>0.022</td>\n",
       "      <td>0.050</td>\n",
       "      <td>0.029</td>\n",
       "    </tr>\n",
       "    <tr>\n",
       "      <th>4</th>\n",
       "      <td>0.022</td>\n",
       "      <td>-0.004</td>\n",
       "      <td>-0.033</td>\n",
       "      <td>-0.008</td>\n",
       "      <td>-0.029</td>\n",
       "      <td>0.008</td>\n",
       "      <td>-0.009</td>\n",
       "      <td>0.007</td>\n",
       "      <td>-0.016</td>\n",
       "      <td>0.003</td>\n",
       "    </tr>\n",
       "    <tr>\n",
       "      <th>5</th>\n",
       "      <td>0.017</td>\n",
       "      <td>0.020</td>\n",
       "      <td>-0.007</td>\n",
       "      <td>-0.013</td>\n",
       "      <td>0.003</td>\n",
       "      <td>0.030</td>\n",
       "      <td>0.009</td>\n",
       "      <td>-0.009</td>\n",
       "      <td>0.035</td>\n",
       "      <td>0.017</td>\n",
       "    </tr>\n",
       "    <tr>\n",
       "      <th>6</th>\n",
       "      <td>0.020</td>\n",
       "      <td>0.034</td>\n",
       "      <td>-0.019</td>\n",
       "      <td>-0.003</td>\n",
       "      <td>0.017</td>\n",
       "      <td>-0.042</td>\n",
       "      <td>-0.012</td>\n",
       "      <td>0.014</td>\n",
       "      <td>0.002</td>\n",
       "      <td>-0.012</td>\n",
       "    </tr>\n",
       "    <tr>\n",
       "      <th>7</th>\n",
       "      <td>0.045</td>\n",
       "      <td>-0.007</td>\n",
       "      <td>-0.002</td>\n",
       "      <td>0.030</td>\n",
       "      <td>0.024</td>\n",
       "      <td>0.007</td>\n",
       "      <td>-0.027</td>\n",
       "      <td>0.009</td>\n",
       "      <td>0.019</td>\n",
       "      <td>-0.049</td>\n",
       "    </tr>\n",
       "    <tr>\n",
       "      <th>8</th>\n",
       "      <td>0.029</td>\n",
       "      <td>0.052</td>\n",
       "      <td>0.001</td>\n",
       "      <td>0.021</td>\n",
       "      <td>0.003</td>\n",
       "      <td>0.055</td>\n",
       "      <td>-0.041</td>\n",
       "      <td>0.052</td>\n",
       "      <td>0.019</td>\n",
       "      <td>-0.013</td>\n",
       "    </tr>\n",
       "    <tr>\n",
       "      <th>9</th>\n",
       "      <td>0.017</td>\n",
       "      <td>-0.002</td>\n",
       "      <td>-0.009</td>\n",
       "      <td>-0.011</td>\n",
       "      <td>0.017</td>\n",
       "      <td>-0.002</td>\n",
       "      <td>0.027</td>\n",
       "      <td>0.009</td>\n",
       "      <td>-0.002</td>\n",
       "      <td>0.005</td>\n",
       "    </tr>\n",
       "    <tr>\n",
       "      <th>10</th>\n",
       "      <td>0.027</td>\n",
       "      <td>-0.007</td>\n",
       "      <td>0.027</td>\n",
       "      <td>-0.041</td>\n",
       "      <td>-0.016</td>\n",
       "      <td>-0.008</td>\n",
       "      <td>0.036</td>\n",
       "      <td>-0.006</td>\n",
       "      <td>0.005</td>\n",
       "      <td>0.006</td>\n",
       "    </tr>\n",
       "    <tr>\n",
       "      <th>11</th>\n",
       "      <td>0.023</td>\n",
       "      <td>0.003</td>\n",
       "      <td>0.006</td>\n",
       "      <td>-0.031</td>\n",
       "      <td>-0.016</td>\n",
       "      <td>-0.004</td>\n",
       "      <td>0.028</td>\n",
       "      <td>-0.021</td>\n",
       "      <td>0.046</td>\n",
       "      <td>0.021</td>\n",
       "    </tr>\n",
       "    <tr>\n",
       "      <th>12</th>\n",
       "      <td>0.027</td>\n",
       "      <td>0.055</td>\n",
       "      <td>-0.018</td>\n",
       "      <td>-0.004</td>\n",
       "      <td>-0.006</td>\n",
       "      <td>0.083</td>\n",
       "      <td>-0.011</td>\n",
       "      <td>0.039</td>\n",
       "      <td>-0.004</td>\n",
       "      <td>0.014</td>\n",
       "    </tr>\n",
       "    <tr>\n",
       "      <th>13</th>\n",
       "      <td>0.037</td>\n",
       "      <td>0.007</td>\n",
       "      <td>-0.001</td>\n",
       "      <td>0.007</td>\n",
       "      <td>0.034</td>\n",
       "      <td>-0.029</td>\n",
       "      <td>0.002</td>\n",
       "      <td>-0.004</td>\n",
       "      <td>0.003</td>\n",
       "      <td>-0.026</td>\n",
       "    </tr>\n",
       "    <tr>\n",
       "      <th>14</th>\n",
       "      <td>0.034</td>\n",
       "      <td>-0.013</td>\n",
       "      <td>0.009</td>\n",
       "      <td>-0.010</td>\n",
       "      <td>0.037</td>\n",
       "      <td>-0.002</td>\n",
       "      <td>0.032</td>\n",
       "      <td>0.028</td>\n",
       "      <td>0.017</td>\n",
       "      <td>0.085</td>\n",
       "    </tr>\n",
       "  </tbody>\n",
       "</table>\n",
       "</div>\n",
       "      <button class=\"colab-df-convert\" onclick=\"convertToInteractive('df-72a5665c-cbf1-4497-a7ea-c4cbd040fba4')\"\n",
       "              title=\"Convert this dataframe to an interactive table.\"\n",
       "              style=\"display:none;\">\n",
       "        \n",
       "  <svg xmlns=\"http://www.w3.org/2000/svg\" height=\"24px\"viewBox=\"0 0 24 24\"\n",
       "       width=\"24px\">\n",
       "    <path d=\"M0 0h24v24H0V0z\" fill=\"none\"/>\n",
       "    <path d=\"M18.56 5.44l.94 2.06.94-2.06 2.06-.94-2.06-.94-.94-2.06-.94 2.06-2.06.94zm-11 1L8.5 8.5l.94-2.06 2.06-.94-2.06-.94L8.5 2.5l-.94 2.06-2.06.94zm10 10l.94 2.06.94-2.06 2.06-.94-2.06-.94-.94-2.06-.94 2.06-2.06.94z\"/><path d=\"M17.41 7.96l-1.37-1.37c-.4-.4-.92-.59-1.43-.59-.52 0-1.04.2-1.43.59L10.3 9.45l-7.72 7.72c-.78.78-.78 2.05 0 2.83L4 21.41c.39.39.9.59 1.41.59.51 0 1.02-.2 1.41-.59l7.78-7.78 2.81-2.81c.8-.78.8-2.07 0-2.86zM5.41 20L4 18.59l7.72-7.72 1.47 1.35L5.41 20z\"/>\n",
       "  </svg>\n",
       "      </button>\n",
       "      \n",
       "  <style>\n",
       "    .colab-df-container {\n",
       "      display:flex;\n",
       "      flex-wrap:wrap;\n",
       "      gap: 12px;\n",
       "    }\n",
       "\n",
       "    .colab-df-convert {\n",
       "      background-color: #E8F0FE;\n",
       "      border: none;\n",
       "      border-radius: 50%;\n",
       "      cursor: pointer;\n",
       "      display: none;\n",
       "      fill: #1967D2;\n",
       "      height: 32px;\n",
       "      padding: 0 0 0 0;\n",
       "      width: 32px;\n",
       "    }\n",
       "\n",
       "    .colab-df-convert:hover {\n",
       "      background-color: #E2EBFA;\n",
       "      box-shadow: 0px 1px 2px rgba(60, 64, 67, 0.3), 0px 1px 3px 1px rgba(60, 64, 67, 0.15);\n",
       "      fill: #174EA6;\n",
       "    }\n",
       "\n",
       "    [theme=dark] .colab-df-convert {\n",
       "      background-color: #3B4455;\n",
       "      fill: #D2E3FC;\n",
       "    }\n",
       "\n",
       "    [theme=dark] .colab-df-convert:hover {\n",
       "      background-color: #434B5C;\n",
       "      box-shadow: 0px 1px 3px 1px rgba(0, 0, 0, 0.15);\n",
       "      filter: drop-shadow(0px 1px 2px rgba(0, 0, 0, 0.3));\n",
       "      fill: #FFFFFF;\n",
       "    }\n",
       "  </style>\n",
       "\n",
       "      <script>\n",
       "        const buttonEl =\n",
       "          document.querySelector('#df-72a5665c-cbf1-4497-a7ea-c4cbd040fba4 button.colab-df-convert');\n",
       "        buttonEl.style.display =\n",
       "          google.colab.kernel.accessAllowed ? 'block' : 'none';\n",
       "\n",
       "        async function convertToInteractive(key) {\n",
       "          const element = document.querySelector('#df-72a5665c-cbf1-4497-a7ea-c4cbd040fba4');\n",
       "          const dataTable =\n",
       "            await google.colab.kernel.invokeFunction('convertToInteractive',\n",
       "                                                     [key], {});\n",
       "          if (!dataTable) return;\n",
       "\n",
       "          const docLinkHtml = 'Like what you see? Visit the ' +\n",
       "            '<a target=\"_blank\" href=https://colab.research.google.com/notebooks/data_table.ipynb>data table notebook</a>'\n",
       "            + ' to learn more about interactive tables.';\n",
       "          element.innerHTML = '';\n",
       "          dataTable['output_type'] = 'display_data';\n",
       "          await google.colab.output.renderOutput(dataTable, element);\n",
       "          const docLink = document.createElement('div');\n",
       "          docLink.innerHTML = docLinkHtml;\n",
       "          element.appendChild(docLink);\n",
       "        }\n",
       "      </script>\n",
       "    </div>\n",
       "  </div>\n",
       "  "
      ],
      "text/plain": [
       "       T1     T2     T3     T4     T5     T6     T7     T8     T9    T10\n",
       "0   0.023  0.028 -0.018 -0.015  0.006 -0.032 -0.009 -0.011  0.049  0.021\n",
       "1   0.041 -0.014 -0.017  0.032 -0.018 -0.003  0.062 -0.005 -0.001  0.021\n",
       "2   0.016  0.017 -0.013 -0.008  0.024 -0.028  0.000  0.019 -0.008 -0.006\n",
       "3   0.035 -0.002 -0.017  0.008  0.016 -0.017  0.032  0.022  0.050  0.029\n",
       "4   0.022 -0.004 -0.033 -0.008 -0.029  0.008 -0.009  0.007 -0.016  0.003\n",
       "5   0.017  0.020 -0.007 -0.013  0.003  0.030  0.009 -0.009  0.035  0.017\n",
       "6   0.020  0.034 -0.019 -0.003  0.017 -0.042 -0.012  0.014  0.002 -0.012\n",
       "7   0.045 -0.007 -0.002  0.030  0.024  0.007 -0.027  0.009  0.019 -0.049\n",
       "8   0.029  0.052  0.001  0.021  0.003  0.055 -0.041  0.052  0.019 -0.013\n",
       "9   0.017 -0.002 -0.009 -0.011  0.017 -0.002  0.027  0.009 -0.002  0.005\n",
       "10  0.027 -0.007  0.027 -0.041 -0.016 -0.008  0.036 -0.006  0.005  0.006\n",
       "11  0.023  0.003  0.006 -0.031 -0.016 -0.004  0.028 -0.021  0.046  0.021\n",
       "12  0.027  0.055 -0.018 -0.004 -0.006  0.083 -0.011  0.039 -0.004  0.014\n",
       "13  0.037  0.007 -0.001  0.007  0.034 -0.029  0.002 -0.004  0.003 -0.026\n",
       "14  0.034 -0.013  0.009 -0.010  0.037 -0.002  0.032  0.028  0.017  0.085"
      ]
     },
     "execution_count": 25,
     "metadata": {},
     "output_type": "execute_result"
    }
   ],
   "source": [
    "document_topics = pd.DataFrame(np.round(topic_document.T, 3),\n",
    "                               columns=['T'+str(i) for i in range(1, TOTAL_TOPICS+1)])\n",
    "document_topics.head(15)"
   ]
  },
  {
   "cell_type": "code",
   "execution_count": null,
   "metadata": {
    "colab": {
     "base_uri": "https://localhost:8080/"
    },
    "id": "VmGZ-Xqjiuow",
    "outputId": "03350edc-ef57-42eb-91f6-07223fbf8ef8"
   },
   "outputs": [
    {
     "name": "stdout",
     "output_type": "stream",
     "text": [
      "Document #8:\n",
      "Dominant Topics (top 3): ['T6', 'T2', 'T8']\n",
      "Paper Summary:\n",
      "709 \n",
      "TIME-SEQUENTIAL SELF-ORGANIZATION OF HIERARCHICAL \n",
      "NEURAL NETWORKS \n",
      "Ronald H. Silverman \n",
      "Cornell University Medical College, New York, NY 10021 \n",
      "Andrew S. Noetzel \n",
      "Polytechnic University, Brooklyn, NY 11201 \n",
      "ABSTRACT \n",
      "Self-organization of multi-layered networks can be realized \n",
      "by time-sequential organization of successive neural layers. \n",
      "Lateral inhibition operating in the surround of firing cells in \n",
      "each layer provides for unsupervised capture of excitation \n",
      "patterns presented by the pre\n",
      "\n",
      "Document #150:\n",
      "Dominant Topics (top 3): ['T4', 'T7', 'T1']\n",
      "Paper Summary:\n",
      "519 \n",
      "A BACK-PROPAGATION ALGORrFHM \n",
      "WITH OFFIMAL USE OF HIDDEN UNITS \n",
      "Yves Chauvin \n",
      "Thomson-CSF, Inc \n",
      "(and Psychology Department, Stanford University) \n",
      "630, Hansen Way (Suite 250) \n",
      "Palo Alto, CA 94306 \n",
      "ABSTRACT \n",
      "This paper presents a variation of the back-propagation algo- \n",
      "rithm that makes optimal use of a network hidden units by de- \n",
      "creasing an \"nergy\" term written as a function of the squared \n",
      "activations of these hidden units. The algorithm can automati- \n",
      "cally find optimal or nearly optimal\n",
      "\n",
      "Document #200:\n",
      "Dominant Topics (top 3): ['T9', 'T8', 'T10']\n",
      "Paper Summary:\n",
      "Analog Circuits for Constrained Optimization 777 \n",
      "Analog Circuits for Constrained Optimization \n",
      "John C. Platt x \n",
      "Computer Science Department, 256-80 \n",
      "California Institute of Technology \n",
      "Pasadena, CA 91125 \n",
      "ABSTRACT \n",
      "This paper explores whether analog circuitry can adequately per- \n",
      "form constrained optimization. Constrained optimization circuits \n",
      "are designed using the differential multiplier method. These cir- \n",
      "cuits fulfill time-varying constraints correctly. Example circuits in- \n",
      "clude a quadr\n",
      "\n"
     ]
    }
   ],
   "source": [
    "document_numbers = [8, 150, 200]\n",
    "\n",
    "for document_number in document_numbers:\n",
    "    top_topics = list(document_topics.columns[np.argsort(-np.absolute(document_topics.iloc[document_number].values))[:3]])\n",
    "    print('Document #'+str(document_number)+':')\n",
    "    print('Dominant Topics (top 3):', top_topics)\n",
    "    print('Paper Summary:')\n",
    "    print(papers[document_number][:500])\n",
    "    print()"
   ]
  },
  {
   "cell_type": "markdown",
   "metadata": {
    "id": "dzKHwMWsjJtn"
   },
   "source": [
    "**Examine a sample of three different documents. Based on the information provided in the *document summary*, do the top 3 topics for each of these sampled documents make sense? Refer back to the list of top 20 words for each topic.**"
   ]
  },
  {
   "cell_type": "markdown",
   "metadata": {
    "id": "qATFCnk9sLgM"
   },
   "source": [
    "Once I refered to the list, I saw that they do make sense."
   ]
  },
  {
   "cell_type": "markdown",
   "metadata": {
    "id": "5oyMyhYnjVZ3"
   },
   "source": [
    "## **5) Topic Modeling with Latent Dirichlet Allocation (LDA)**"
   ]
  },
  {
   "cell_type": "code",
   "execution_count": null,
   "metadata": {
    "colab": {
     "base_uri": "https://localhost:8080/"
    },
    "id": "R8EAAj7AsI2V",
    "outputId": "a09df1a4-1171-4dd2-a4f8-fbe63006d477"
   },
   "outputs": [
    {
     "name": "stdout",
     "output_type": "stream",
     "text": [
      "CPU times: user 1min 30s, sys: 2.4 s, total: 1min 32s\n",
      "Wall time: 1min 30s\n"
     ]
    }
   ],
   "source": [
    "%%time\n",
    "lda_model = gensim.models.LdaModel(corpus=bow_corpus, id2word=dictionary, chunksize=1740,\n",
    "                                   alpha='auto', eta='auto', random_state=42,\n",
    "                                   iterations=500, num_topics=TOTAL_TOPICS,\n",
    "                                   passes=20, eval_every=None)"
   ]
  },
  {
   "cell_type": "markdown",
   "metadata": {
    "id": "rymHHiiO00Bj"
   },
   "source": [
    "> #### **A) Print topics, topics = 10**"
   ]
  },
  {
   "cell_type": "code",
   "execution_count": null,
   "metadata": {
    "colab": {
     "base_uri": "https://localhost:8080/"
    },
    "id": "Kc55oSR9sOW3",
    "outputId": "d198acd4-1ede-44f8-e468-4d0412acba85"
   },
   "outputs": [
    {
     "name": "stdout",
     "output_type": "stream",
     "text": [
      "Topic #1:\n",
      "0.010*\"node\" + 0.006*\"vector\" + 0.006*\"bit\" + 0.006*\"class\" + 0.005*\"threshold\" + 0.005*\"size\" + 0.005*\"let\" + 0.005*\"theorem\" + 0.004*\"memory\" + 0.004*\"linear\" + 0.004*\"neuron\" + 0.004*\"bound\" + 0.004*\"probability\" + 0.004*\"rule\" + 0.004*\"capacity\" + 0.004*\"layer\" + 0.003*\"code\" + 0.003*\"proof\" + 0.003*\"complexity\" + 0.003*\"polynomial\"\n",
      "\n",
      "Topic #2:\n",
      "0.025*\"image\" + 0.011*\"object\" + 0.009*\"feature\" + 0.008*\"visual\" + 0.008*\"motion\" + 0.006*\"pixel\" + 0.005*\"unit\" + 0.004*\"layer\" + 0.004*\"direction\" + 0.004*\"position\" + 0.004*\"location\" + 0.004*\"representation\" + 0.004*\"view\" + 0.004*\"recognition\" + 0.004*\"filter\" + 0.004*\"chip\" + 0.004*\"face\" + 0.004*\"field\" + 0.003*\"processing\" + 0.003*\"signal\"\n",
      "\n",
      "Topic #3:\n",
      "0.026*\"state\" + 0.011*\"control\" + 0.011*\"action\" + 0.007*\"step\" + 0.007*\"policy\" + 0.006*\"optimal\" + 0.005*\"reinforcement_learning\" + 0.005*\"task\" + 0.005*\"controller\" + 0.005*\"rate\" + 0.004*\"convergence\" + 0.004*\"environment\" + 0.003*\"robot\" + 0.003*\"goal\" + 0.003*\"stochastic\" + 0.003*\"dynamic\" + 0.003*\"reward\" + 0.003*\"update\" + 0.003*\"vector\" + 0.003*\"equation\"\n",
      "\n",
      "Topic #4:\n",
      "0.013*\"classifier\" + 0.011*\"class\" + 0.011*\"classification\" + 0.010*\"training\" + 0.009*\"pattern\" + 0.009*\"vector\" + 0.009*\"feature\" + 0.006*\"distance\" + 0.005*\"image\" + 0.005*\"training_set\" + 0.004*\"unit\" + 0.004*\"local\" + 0.004*\"linear\" + 0.004*\"rbf\" + 0.003*\"transformation\" + 0.003*\"region\" + 0.003*\"task\" + 0.003*\"map\" + 0.003*\"test\" + 0.003*\"cluster\"\n",
      "\n",
      "Topic #5:\n",
      "0.007*\"subject\" + 0.006*\"control\" + 0.006*\"movement\" + 0.005*\"motor\" + 0.005*\"target\" + 0.005*\"human\" + 0.004*\"representation\" + 0.004*\"word\" + 0.004*\"arm\" + 0.004*\"position\" + 0.004*\"change\" + 0.004*\"task\" + 0.004*\"trajectory\" + 0.004*\"memory\" + 0.004*\"component\" + 0.003*\"hand\" + 0.003*\"query\" + 0.003*\"similarity\" + 0.003*\"behavior\" + 0.003*\"training\"\n",
      "\n",
      "Topic #6:\n",
      "0.019*\"training\" + 0.007*\"prediction\" + 0.007*\"trained\" + 0.005*\"feature\" + 0.005*\"test\" + 0.005*\"task\" + 0.004*\"training_set\" + 0.004*\"hmm\" + 0.004*\"net\" + 0.004*\"mlp\" + 0.004*\"vector\" + 0.004*\"experiment\" + 0.004*\"unit\" + 0.004*\"architecture\" + 0.004*\"context\" + 0.003*\"recognition\" + 0.003*\"hidden_unit\" + 0.003*\"class\" + 0.003*\"table\" + 0.003*\"layer\"\n",
      "\n",
      "Topic #7:\n",
      "0.009*\"distribution\" + 0.006*\"probability\" + 0.006*\"variable\" + 0.006*\"estimate\" + 0.005*\"approximation\" + 0.005*\"prior\" + 0.005*\"gaussian\" + 0.005*\"sample\" + 0.004*\"mixture\" + 0.004*\"density\" + 0.004*\"bayesian\" + 0.004*\"training\" + 0.004*\"vector\" + 0.003*\"class\" + 0.003*\"matrix\" + 0.003*\"log\" + 0.003*\"variance\" + 0.003*\"equation\" + 0.003*\"kernel\" + 0.003*\"estimation\"\n",
      "\n",
      "Topic #8:\n",
      "0.024*\"unit\" + 0.012*\"state\" + 0.010*\"pattern\" + 0.008*\"training\" + 0.008*\"hidden_unit\" + 0.007*\"word\" + 0.007*\"sequence\" + 0.006*\"net\" + 0.006*\"activation\" + 0.006*\"layer\" + 0.006*\"architecture\" + 0.005*\"speech\" + 0.005*\"task\" + 0.005*\"rule\" + 0.005*\"recurrent\" + 0.004*\"node\" + 0.004*\"representation\" + 0.004*\"connection\" + 0.004*\"recognition\" + 0.004*\"step\"\n",
      "\n",
      "Topic #9:\n",
      "0.008*\"equation\" + 0.007*\"dynamic\" + 0.006*\"matrix\" + 0.006*\"signal\" + 0.006*\"vector\" + 0.005*\"noise\" + 0.005*\"solution\" + 0.004*\"rule\" + 0.004*\"neuron\" + 0.004*\"correlation\" + 0.004*\"pattern\" + 0.004*\"linear\" + 0.004*\"source\" + 0.004*\"eq\" + 0.003*\"filter\" + 0.003*\"cell\" + 0.003*\"component\" + 0.003*\"property\" + 0.003*\"map\" + 0.003*\"fixed_point\"\n",
      "\n",
      "Topic #10:\n",
      "0.023*\"neuron\" + 0.016*\"cell\" + 0.009*\"response\" + 0.008*\"stimulus\" + 0.007*\"activity\" + 0.006*\"circuit\" + 0.006*\"pattern\" + 0.006*\"signal\" + 0.006*\"current\" + 0.005*\"spike\" + 0.005*\"synaptic\" + 0.005*\"neural\" + 0.004*\"voltage\" + 0.004*\"frequency\" + 0.004*\"connection\" + 0.004*\"firing\" + 0.004*\"effect\" + 0.004*\"synapsis\" + 0.003*\"et_al\" + 0.003*\"channel\"\n",
      "\n"
     ]
    }
   ],
   "source": [
    "for topic_id, topic in lda_model.print_topics(num_topics=10, num_words=20):\n",
    "    print('Topic #'+str(topic_id+1)+':')\n",
    "    print(topic)\n",
    "    print()"
   ]
  },
  {
   "cell_type": "markdown",
   "metadata": {
    "id": "O6rLFln_tFX6"
   },
   "source": [
    "**What is a key difference in the weights produced using LSI vs LDA?**"
   ]
  },
  {
   "cell_type": "markdown",
   "metadata": {
    "id": "kpaUsrs6tJr9"
   },
   "source": [
    "LSI contains negative weights, and LDA is not. This makes LDA weights easier to interperate."
   ]
  },
  {
   "cell_type": "markdown",
   "metadata": {
    "id": "ujVDR9wU087K"
   },
   "source": [
    "> #### **B) Topic Coherenence Scores**\n",
    "\n",
    "Let's now get an idea of how our topic model is performing by computing the perplexity and the coherence scores ($C_v$ and UMass)."
   ]
  },
  {
   "cell_type": "code",
   "execution_count": null,
   "metadata": {
    "colab": {
     "base_uri": "https://localhost:8080/"
    },
    "id": "WO_UYI7N185g",
    "outputId": "799fc73d-e489-4362-dcf3-b111965ce5e7"
   },
   "outputs": [
    {
     "name": "stdout",
     "output_type": "stream",
     "text": [
      "Avg. Coherence Score (Cv): 0.45605085319193267\n",
      "Avg. Coherence Score (UMass): -1.0688358952765649\n",
      "Model Perplexity: -7.796756402935002\n"
     ]
    }
   ],
   "source": [
    "cv_coherence_model_lda = gensim.models.CoherenceModel(model=lda_model, corpus=bow_corpus,\n",
    "                                                      texts=norm_corpus_bigrams,\n",
    "                                                      dictionary=dictionary,\n",
    "                                                      coherence='c_v')\n",
    "avg_coherence_cv = cv_coherence_model_lda.get_coherence()\n",
    "\n",
    "umass_coherence_model_lda = gensim.models.CoherenceModel(model=lda_model, corpus=bow_corpus,\n",
    "                                                         texts=norm_corpus_bigrams,\n",
    "                                                         dictionary=dictionary,\n",
    "                                                         coherence='u_mass')\n",
    "avg_coherence_umass = umass_coherence_model_lda.get_coherence()\n",
    "\n",
    "perplexity = lda_model.log_perplexity(bow_corpus)\n",
    "\n",
    "print('Avg. Coherence Score (Cv):', avg_coherence_cv)\n",
    "print('Avg. Coherence Score (UMass):', avg_coherence_umass)\n",
    "print('Model Perplexity:', perplexity)"
   ]
  },
  {
   "cell_type": "markdown",
   "metadata": {
    "id": "brXeqs3XrfYs"
   },
   "source": [
    "> #### **C) (On your own) Try out a Different LDA Model Implementation from MALLET**\n",
    "\n",
    "For the sake of time, I try out a different LDA model implementation from a library called MALLET (MAchine Learning for LanguagE Toolkit). It's worth exploring different pretrained models because different models will work better in different situations. Run through the provided code and report back on your findings."
   ]
  },
  {
   "cell_type": "code",
   "execution_count": null,
   "metadata": {
    "colab": {
     "base_uri": "https://localhost:8080/"
    },
    "id": "_zQSc9aBsD35",
    "outputId": "9d4e216f-b862-4eeb-aad9-d9523d3ec3a7"
   },
   "outputs": [
    {
     "name": "stdout",
     "output_type": "stream",
     "text": [
      "--2022-11-03 01:20:42--  http://mallet.cs.umass.edu/dist/mallet-2.0.8.zip\n",
      "Resolving mallet.cs.umass.edu (mallet.cs.umass.edu)... 128.119.246.70\n",
      "Connecting to mallet.cs.umass.edu (mallet.cs.umass.edu)|128.119.246.70|:80... connected.\n",
      "HTTP request sent, awaiting response... 302 Found\n",
      "Location: https://mallet.cs.umass.edu/dist/mallet-2.0.8.zip [following]\n",
      "--2022-11-03 01:20:42--  https://mallet.cs.umass.edu/dist/mallet-2.0.8.zip\n",
      "Connecting to mallet.cs.umass.edu (mallet.cs.umass.edu)|128.119.246.70|:443... connected.\n",
      "HTTP request sent, awaiting response... 200 OK\n",
      "Length: 16184794 (15M) [application/zip]\n",
      "Saving to: ‘mallet-2.0.8.zip’\n",
      "\n",
      "mallet-2.0.8.zip    100%[===================>]  15.43M  17.4MB/s    in 0.9s    \n",
      "\n",
      "2022-11-03 01:20:43 (17.4 MB/s) - ‘mallet-2.0.8.zip’ saved [16184794/16184794]\n",
      "\n"
     ]
    }
   ],
   "source": [
    "!wget http://mallet.cs.umass.edu/dist/mallet-2.0.8.zip            # download mallet zip file\n",
    "!unzip -q mallet-2.0.8.zip                                        # unzip compressed files"
   ]
  },
  {
   "cell_type": "code",
   "execution_count": null,
   "metadata": {
    "id": "ol54oiUJsOAl"
   },
   "outputs": [],
   "source": [
    "MALLET_PATH = 'mallet-2.0.8/bin/mallet'                                                               # set path to mallet models\n",
    "lda_mallet = gensim.models.wrappers.LdaMallet(mallet_path=MALLET_PATH, corpus=bow_corpus,             # set lda model parameters\n",
    "                                              num_topics=TOTAL_TOPICS, id2word=dictionary,\n",
    "                                              iterations=500, workers=16)"
   ]
  },
  {
   "cell_type": "code",
   "execution_count": null,
   "metadata": {
    "colab": {
     "base_uri": "https://localhost:8080/"
    },
    "id": "YYGQzrcysXhF",
    "outputId": "ef6cc4a0-50d1-4522-b04c-5ba97211ad5b"
   },
   "outputs": [
    {
     "name": "stdout",
     "output_type": "stream",
     "text": [
      "Topic #1:\n",
      "['training', 'hidden_unit', 'unit', 'prediction', 'training_set', 'net', 'layer', 'trained', 'task', 'generalization', 'test', 'average', 'expert', 'noise', 'architecture', 'hidden_layer', 'target', 'back_propagation', 'size', 'bias']\n",
      "\n",
      "Topic #2:\n",
      "['class', 'word', 'classification', 'training', 'classifier', 'feature', 'recognition', 'speech', 'pattern', 'experiment', 'character', 'trained', 'test', 'hmm', 'database', 'context', 'vector', 'frame', 'probability', 'error_rate']\n",
      "\n",
      "Topic #3:\n",
      "['circuit', 'current', 'neuron', 'chip', 'signal', 'bit', 'analog', 'voltage', 'threshold', 'computation', 'implementation', 'element', 'neural', 'channel', 'design', 'code', 'node', 'processor', 'layer', 'operation']\n",
      "\n",
      "Topic #4:\n",
      "['image', 'object', 'visual', 'motion', 'feature', 'location', 'position', 'map', 'direction', 'field', 'pixel', 'target', 'region', 'view', 'face', 'local', 'human', 'subject', 'orientation', 'velocity']\n",
      "\n",
      "Topic #5:\n",
      "['state', 'control', 'action', 'step', 'task', 'policy', 'environment', 'controller', 'optimal', 'reinforcement_learning', 'goal', 'path', 'trajectory', 'robot', 'current', 'trial', 'move', 'cost', 'change', 'search']\n",
      "\n",
      "Topic #6:\n",
      "['neuron', 'cell', 'response', 'stimulus', 'activity', 'signal', 'pattern', 'spike', 'frequency', 'synaptic', 'effect', 'neural', 'cortical', 'et_al', 'firing', 'connection', 'layer', 'brain', 'cortex', 'temporal']\n",
      "\n",
      "Topic #7:\n",
      "['distribution', 'probability', 'estimate', 'approximation', 'variable', 'class', 'sample', 'prior', 'bound', 'theorem', 'log', 'density', 'bayesian', 'theory', 'gaussian', 'estimation', 'note', 'assume', 'give', 'xi']\n",
      "\n",
      "Topic #8:\n",
      "['vector', 'matrix', 'component', 'linear', 'constraint', 'solution', 'cluster', 'distance', 'local', 'transformation', 'structure', 'feature', 'gaussian', 'source', 'dimensional', 'clustering', 'technique', 'mapping', 'dimension', 'nonlinear']\n",
      "\n",
      "Topic #9:\n",
      "['equation', 'dynamic', 'state', 'vector', 'solution', 'rate', 'neuron', 'convergence', 'gradient', 'eq', 'matrix', 'pattern', 'nonlinear', 'energy', 'noise', 'rule', 'theory', 'capacity', 'attractor', 'continuous']\n",
      "\n",
      "Topic #10:\n",
      "['unit', 'node', 'rule', 'representation', 'structure', 'pattern', 'sequence', 'activation', 'level', 'memory', 'tree', 'connectionist', 'symbol', 'architecture', 'recurrent', 'string', 'context', 'language', 'instance', 'connection']\n",
      "\n"
     ]
    }
   ],
   "source": [
    "topics = [[(term, round(wt, 3))\n",
    "               for term, wt in lda_mallet.show_topic(n, topn=20)]                                     # save topics as list, round weights to 3 decimanls, top 20 words per topic\n",
    "                   for n in range(0, TOTAL_TOPICS)]\n",
    "\n",
    "for idx, topic in enumerate(topics):                                                                  # print each topic with their top 20 terms\n",
    "    print('Topic #'+str(idx+1)+':')\n",
    "    print([term for term, wt in topic])\n",
    "    print()"
   ]
  },
  {
   "cell_type": "code",
   "execution_count": null,
   "metadata": {
    "colab": {
     "base_uri": "https://localhost:8080/"
    },
    "id": "hBpWmWXZt662",
    "outputId": "29e6c2e1-2e89-454f-ae5f-7ab10b58e7b9"
   },
   "outputs": [
    {
     "name": "stdout",
     "output_type": "stream",
     "text": [
      "Avg. Coherence Score (Cv): 0.5084512527679875\n",
      "Avg. Coherence Score (UMass): -1.1026460248683745\n",
      "Model Perplexity: -8.53533\n"
     ]
    }
   ],
   "source": [
    "cv_coherence_model_lda_mallet = gensim.models.CoherenceModel(model=lda_mallet, corpus=bow_corpus,     # set parameters of mallet lda model, c_v coherence score\n",
    "                                                             texts=norm_corpus_bigrams,\n",
    "                                                             dictionary=dictionary,\n",
    "                                                             coherence='c_v')\n",
    "avg_coherence_cv = cv_coherence_model_lda_mallet.get_coherence()                                      # produce average coherence scores (c_v) from mallet model\n",
    "\n",
    "umass_coherence_model_lda_mallet = gensim.models.CoherenceModel(model=lda_mallet, corpus=bow_corpus,  # set parameters of mallet lda mode, umass coherence score\n",
    "                                                                texts=norm_corpus_bigrams,\n",
    "                                                                dictionary=dictionary,\n",
    "                                                                coherence='u_mass')\n",
    "avg_coherence_umass = umass_coherence_model_lda_mallet.get_coherence()                                # produce average coherence score (umass)\n",
    "\n",
    "# from STDOUT: <500> LL/token: -8.53533\n",
    "perplexity = -8.53533\n",
    "print('Avg. Coherence Score (Cv):', avg_coherence_cv)                                                 # print perplexity, umass and C_v scores\n",
    "print('Avg. Coherence Score (UMass):', avg_coherence_umass)\n",
    "print('Model Perplexity:', perplexity)"
   ]
  },
  {
   "cell_type": "markdown",
   "metadata": {
    "id": "_StHlj0At-nH"
   },
   "source": [
    "**How do the metrics of topic model quality differ between the basic gensim implementation and the mallet implementation? Which model appeared to perform better in this case?**"
   ]
  },
  {
   "cell_type": "markdown",
   "metadata": {
    "id": "M1_VIvNPuN6M"
   },
   "source": [
    "I think the gensim may be better due to the UMass scores.\n",
    "\n",
    "The performance of the Mallet model appears to be better given the higher CV score. However, neither model is performing significantly well, and based on some additonal reading I did, CV scores aren't without issues. (especially when using gensim models.) I believe UMass is recommended more often)."
   ]
  },
  {
   "cell_type": "markdown",
   "metadata": {
    "id": "HZ4_k23iuOqv"
   },
   "source": [
    "## **6) Parameter Tuning a Topic Model**\n",
    "\n",
    "Parameter tuning for an unsupervised text mining technique like topic modeling is odd since we don't have direct evaluation metrics. But, I use the topic coherence scores to try and find an optimal number of topics, whereby I find the fewest topics (to maximize simplicity) for the highest coherence score (to maximize topic quality). I examine this iteratively to determine the optimal number of topics; and produce a visualization to help make conclusions.\n"
   ]
  },
  {
   "cell_type": "code",
   "execution_count": null,
   "metadata": {
    "id": "r_I_p93MvQaC"
   },
   "outputs": [],
   "source": [
    "from tqdm import tqdm"
   ]
  },
  {
   "cell_type": "code",
   "execution_count": null,
   "metadata": {
    "id": "1HMvk0BkvKbv"
   },
   "outputs": [],
   "source": [
    "def topic_model_coherence_generator(corpus, texts, dictionary,\n",
    "                                    start_topic_count=2, end_topic_count=10, step=1,                                      # define topic_model_coherence_generator function\n",
    "                                    cpus=1):\n",
    "\n",
    "    models = []\n",
    "    coherence_scores = []\n",
    "    for topic_nums in tqdm(range(start_topic_count, end_topic_count+1, step)):\n",
    "        mallet_lda_model = gensim.models.wrappers.LdaMallet(mallet_path=MALLET_PATH, corpus=corpus,                       # for each number of topics iteratively fit mallet lda\n",
    "                                                            num_topics=topic_nums, id2word=dictionary,\n",
    "                                                            iterations=500, workers=cpus)\n",
    "        cv_coherence_model_mallet_lda = gensim.models.CoherenceModel(model=mallet_lda_model, corpus=corpus,               # for each number of topics iteratively compute c_v score\n",
    "                                                                     texts=texts, dictionary=dictionary,\n",
    "                                                                     coherence='c_v')\n",
    "        coherence_score = cv_coherence_model_mallet_lda.get_coherence()\n",
    "        coherence_scores.append(coherence_score)                                                                          # create list of coherence scores for each iteration\n",
    "        models.append(mallet_lda_model)\n",
    "\n",
    "    return models, coherence_scores"
   ]
  },
  {
   "cell_type": "code",
   "execution_count": null,
   "metadata": {
    "colab": {
     "base_uri": "https://localhost:8080/"
    },
    "id": "j-gFh7MwvZQx",
    "outputId": "1d991cc1-6149-41ad-aa9e-ee33b26072fe"
   },
   "outputs": [
    {
     "name": "stderr",
     "output_type": "stream",
     "text": [
      "100%|██████████| 13/13 [34:40<00:00, 160.06s/it]\n"
     ]
    }
   ],
   "source": [
    "lda_models, coherence_scores = topic_model_coherence_generator(corpus=bow_corpus, texts=norm_corpus_bigrams,\n",
    "                                                               dictionary=dictionary, start_topic_count=6,\n",
    "                                                               end_topic_count=18, step=1, cpus=8)                    # change out the start_topic_count and end_topic_count values"
   ]
  },
  {
   "cell_type": "code",
   "execution_count": null,
   "metadata": {
    "colab": {
     "base_uri": "https://localhost:8080/"
    },
    "id": "jlJjfh0_UgfD",
    "outputId": "88d36ef6-887b-4f24-c727-29b88ff3bb36"
   },
   "outputs": [
    {
     "name": "stdout",
     "output_type": "stream",
     "text": [
      "number of topics: 17\n",
      "cv score 0.5342268576971536\n"
     ]
    }
   ],
   "source": [
    "print(\"number of topics:\",6+np.argmax(coherence_scores))\n",
    "print(\"cv score\", max(coherence_scores))\n"
   ]
  },
  {
   "cell_type": "markdown",
   "metadata": {
    "id": "0s7jV1HV6Kk9"
   },
   "source": [
    "> #### **A) Evaluate a larger number of topics**\n",
    "\n",
    "> I went back and trained topic models on a large range of topics to try and find an optimal amount. Running this will take some time, and the larger the range the more time it will take to run."
   ]
  },
  {
   "cell_type": "markdown",
   "metadata": {
    "id": "iEJEBnKt6rJ1"
   },
   "source": [
    "I ran it twice. First for 6-14 with a cv score of .53. I then went back and ran it a seocnd time 6-18, and got a cv score of .53. The best number of topics was 17, however, my cv score did not improve significantly."
   ]
  },
  {
   "cell_type": "markdown",
   "metadata": {
    "id": "LiyJFZ7-0S1X"
   },
   "source": [
    "> #### **B) Produce table of topic numbers by coherence scores; then plot**"
   ]
  },
  {
   "cell_type": "code",
   "execution_count": null,
   "metadata": {
    "colab": {
     "base_uri": "https://localhost:8080/"
    },
    "id": "PallcNEWz_Om",
    "outputId": "2454f303-0019-45da-f86f-a4636994cfa7"
   },
   "outputs": [
    {
     "name": "stdout",
     "output_type": "stream",
     "text": [
      "Avg. Coherence Score (Cv): 0.45605085319193267\n",
      "Avg. Coherence Score (UMass): -1.0688358952765649\n",
      "Model Perplexity: -7.796753901993755\n"
     ]
    }
   ],
   "source": [
    "cv_coherence_model_lda = gensim.models.CoherenceModel(model=lda_model, corpus=bow_corpus,\n",
    "                                                      texts=norm_corpus_bigrams,\n",
    "                                                      dictionary=dictionary,\n",
    "                                                      coherence='c_v')\n",
    "avg_coherence_cv = cv_coherence_model_lda.get_coherence()\n",
    "\n",
    "umass_coherence_model_lda = gensim.models.CoherenceModel(model=lda_model, corpus=bow_corpus,\n",
    "                                                         texts=norm_corpus_bigrams,\n",
    "                                                         dictionary=dictionary,\n",
    "                                                         coherence='u_mass')\n",
    "avg_coherence_umass = umass_coherence_model_lda.get_coherence()\n",
    "\n",
    "perplexity = lda_model.log_perplexity(bow_corpus)\n",
    "\n",
    "print('Avg. Coherence Score (Cv):', avg_coherence_cv)\n",
    "print('Avg. Coherence Score (UMass):', avg_coherence_umass)\n",
    "print('Model Perplexity:', perplexity)"
   ]
  },
  {
   "cell_type": "code",
   "execution_count": null,
   "metadata": {
    "colab": {
     "base_uri": "https://localhost:8080/",
     "height": 388
    },
    "id": "JCYgkcYA3YPt",
    "outputId": "1776cb98-bcee-4965-c51e-9b6ccd6df741"
   },
   "outputs": [
    {
     "data": {
      "image/png": "[encoded data removed]",
      "text/plain": [
       "<Figure size 864x432 with 1 Axes>"
      ]
     },
     "metadata": {
      "needs_background": "light"
     },
     "output_type": "display_data"
    }
   ],
   "source": [
    "plt.style.use('fivethirtyeight')\n",
    "%matplotlib inline\n",
    "\n",
    "x_ax = range(6, 19)                                                                   # Adjust the range based on the number/range of topics you chose\n",
    "y_ax = coherence_scores\n",
    "plt.figure(figsize=(12, 6))\n",
    "plt.plot(x_ax, y_ax, c='r')\n",
    "plt.axhline(y=0.525, c='k', linestyle='--', linewidth=2)\n",
    "plt.rcParams['figure.facecolor'] = 'white'\n",
    "xl = plt.xlabel('Number of Topics')\n",
    "yl = plt.ylabel('Coherence Score')"
   ]
  },
  {
   "cell_type": "code",
   "execution_count": null,
   "metadata": {
    "colab": {
     "base_uri": "https://localhost:8080/"
    },
    "id": "mxAyPrUxVvoP",
    "outputId": "4efef106-c018-49a5-f72b-c129775b569e"
   },
   "outputs": [
    {
     "data": {
      "text/plain": [
       "[0.4869242522980662,\n",
       " 0.5174551168364557,\n",
       " 0.5082903708785935,\n",
       " 0.48892049064452286,\n",
       " 0.5224630301931937,\n",
       " 0.5221592880164642,\n",
       " 0.521586159781423,\n",
       " 0.5063775210981714,\n",
       " 0.5295906434429605,\n",
       " 0.5240856074175767,\n",
       " 0.5311189209652656,\n",
       " 0.5342268576971536,\n",
       " 0.5223166208752573]"
      ]
     },
     "execution_count": 64,
     "metadata": {},
     "output_type": "execute_result"
    }
   ],
   "source": [
    "coherence_scores"
   ]
  },
  {
   "cell_type": "code",
   "execution_count": null,
   "metadata": {
    "colab": {
     "base_uri": "https://localhost:8080/",
     "height": 206
    },
    "id": "n3a3Hu1BVv6w",
    "outputId": "922e6293-cd62-419c-cf93-792ddd2317e1"
   },
   "outputs": [
    {
     "data": {
      "text/html": [
       "\n",
       "  <div id=\"df-cf328419-1631-4d85-bb2f-48fed3de8ce3\">\n",
       "    <div class=\"colab-df-container\">\n",
       "      <div>\n",
       "<style scoped>\n",
       "    .dataframe tbody tr th:only-of-type {\n",
       "        vertical-align: middle;\n",
       "    }\n",
       "\n",
       "    .dataframe tbody tr th {\n",
       "        vertical-align: top;\n",
       "    }\n",
       "\n",
       "    .dataframe thead th {\n",
       "        text-align: right;\n",
       "    }\n",
       "</style>\n",
       "<table border=\"1\" class=\"dataframe\">\n",
       "  <thead>\n",
       "    <tr style=\"text-align: right;\">\n",
       "      <th></th>\n",
       "      <th>Number of Topics</th>\n",
       "      <th>Coherence Score</th>\n",
       "    </tr>\n",
       "  </thead>\n",
       "  <tbody>\n",
       "    <tr>\n",
       "      <th>11</th>\n",
       "      <td>17</td>\n",
       "      <td>0.5342</td>\n",
       "    </tr>\n",
       "    <tr>\n",
       "      <th>10</th>\n",
       "      <td>16</td>\n",
       "      <td>0.5311</td>\n",
       "    </tr>\n",
       "    <tr>\n",
       "      <th>8</th>\n",
       "      <td>14</td>\n",
       "      <td>0.5296</td>\n",
       "    </tr>\n",
       "    <tr>\n",
       "      <th>9</th>\n",
       "      <td>15</td>\n",
       "      <td>0.5241</td>\n",
       "    </tr>\n",
       "    <tr>\n",
       "      <th>4</th>\n",
       "      <td>10</td>\n",
       "      <td>0.5225</td>\n",
       "    </tr>\n",
       "  </tbody>\n",
       "</table>\n",
       "</div>\n",
       "      <button class=\"colab-df-convert\" onclick=\"convertToInteractive('df-cf328419-1631-4d85-bb2f-48fed3de8ce3')\"\n",
       "              title=\"Convert this dataframe to an interactive table.\"\n",
       "              style=\"display:none;\">\n",
       "        \n",
       "  <svg xmlns=\"http://www.w3.org/2000/svg\" height=\"24px\"viewBox=\"0 0 24 24\"\n",
       "       width=\"24px\">\n",
       "    <path d=\"M0 0h24v24H0V0z\" fill=\"none\"/>\n",
       "    <path d=\"M18.56 5.44l.94 2.06.94-2.06 2.06-.94-2.06-.94-.94-2.06-.94 2.06-2.06.94zm-11 1L8.5 8.5l.94-2.06 2.06-.94-2.06-.94L8.5 2.5l-.94 2.06-2.06.94zm10 10l.94 2.06.94-2.06 2.06-.94-2.06-.94-.94-2.06-.94 2.06-2.06.94z\"/><path d=\"M17.41 7.96l-1.37-1.37c-.4-.4-.92-.59-1.43-.59-.52 0-1.04.2-1.43.59L10.3 9.45l-7.72 7.72c-.78.78-.78 2.05 0 2.83L4 21.41c.39.39.9.59 1.41.59.51 0 1.02-.2 1.41-.59l7.78-7.78 2.81-2.81c.8-.78.8-2.07 0-2.86zM5.41 20L4 18.59l7.72-7.72 1.47 1.35L5.41 20z\"/>\n",
       "  </svg>\n",
       "      </button>\n",
       "      \n",
       "  <style>\n",
       "    .colab-df-container {\n",
       "      display:flex;\n",
       "      flex-wrap:wrap;\n",
       "      gap: 12px;\n",
       "    }\n",
       "\n",
       "    .colab-df-convert {\n",
       "      background-color: #E8F0FE;\n",
       "      border: none;\n",
       "      border-radius: 50%;\n",
       "      cursor: pointer;\n",
       "      display: none;\n",
       "      fill: #1967D2;\n",
       "      height: 32px;\n",
       "      padding: 0 0 0 0;\n",
       "      width: 32px;\n",
       "    }\n",
       "\n",
       "    .colab-df-convert:hover {\n",
       "      background-color: #E2EBFA;\n",
       "      box-shadow: 0px 1px 2px rgba(60, 64, 67, 0.3), 0px 1px 3px 1px rgba(60, 64, 67, 0.15);\n",
       "      fill: #174EA6;\n",
       "    }\n",
       "\n",
       "    [theme=dark] .colab-df-convert {\n",
       "      background-color: #3B4455;\n",
       "      fill: #D2E3FC;\n",
       "    }\n",
       "\n",
       "    [theme=dark] .colab-df-convert:hover {\n",
       "      background-color: #434B5C;\n",
       "      box-shadow: 0px 1px 3px 1px rgba(0, 0, 0, 0.15);\n",
       "      filter: drop-shadow(0px 1px 2px rgba(0, 0, 0, 0.3));\n",
       "      fill: #FFFFFF;\n",
       "    }\n",
       "  </style>\n",
       "\n",
       "      <script>\n",
       "        const buttonEl =\n",
       "          document.querySelector('#df-cf328419-1631-4d85-bb2f-48fed3de8ce3 button.colab-df-convert');\n",
       "        buttonEl.style.display =\n",
       "          google.colab.kernel.accessAllowed ? 'block' : 'none';\n",
       "\n",
       "        async function convertToInteractive(key) {\n",
       "          const element = document.querySelector('#df-cf328419-1631-4d85-bb2f-48fed3de8ce3');\n",
       "          const dataTable =\n",
       "            await google.colab.kernel.invokeFunction('convertToInteractive',\n",
       "                                                     [key], {});\n",
       "          if (!dataTable) return;\n",
       "\n",
       "          const docLinkHtml = 'Like what you see? Visit the ' +\n",
       "            '<a target=\"_blank\" href=https://colab.research.google.com/notebooks/data_table.ipynb>data table notebook</a>'\n",
       "            + ' to learn more about interactive tables.';\n",
       "          element.innerHTML = '';\n",
       "          dataTable['output_type'] = 'display_data';\n",
       "          await google.colab.output.renderOutput(dataTable, element);\n",
       "          const docLink = document.createElement('div');\n",
       "          docLink.innerHTML = docLinkHtml;\n",
       "          element.appendChild(docLink);\n",
       "        }\n",
       "      </script>\n",
       "    </div>\n",
       "  </div>\n",
       "  "
      ],
      "text/plain": [
       "    Number of Topics  Coherence Score\n",
       "11                17           0.5342\n",
       "10                16           0.5311\n",
       "8                 14           0.5296\n",
       "9                 15           0.5241\n",
       "4                 10           0.5225"
      ]
     },
     "execution_count": 65,
     "metadata": {},
     "output_type": "execute_result"
    }
   ],
   "source": [
    "coherence_df = pd.DataFrame({'Number of Topics': range(6, 19),\n",
    "                             'Coherence Score': np.round(coherence_scores, 4)})\n",
    "coherence_df.sort_values(by=['Coherence Score'], ascending=False).head()"
   ]
  },
  {
   "cell_type": "markdown",
   "metadata": {
    "id": "oBCRgrWC3vQ7"
   },
   "source": [
    "> #### **C) Determine the Optimal Number of Topics and then rerun model**"
   ]
  },
  {
   "cell_type": "code",
   "execution_count": null,
   "metadata": {
    "colab": {
     "base_uri": "https://localhost:8080/"
    },
    "id": "5zIR5do63ufQ",
    "outputId": "fbdf3e6a-2316-4dbf-c133-4e3ba3661a3e"
   },
   "outputs": [
    {
     "data": {
      "text/plain": [
       "10"
      ]
     },
     "execution_count": 53,
     "metadata": {},
     "output_type": "execute_result"
    }
   ],
   "source": [
    "best_model_idx = coherence_df[coherence_df['Number of Topics'] == 10].index[0]\n",
    "best_lda_model = lda_models[best_model_idx]\n",
    "best_lda_model.num_topics"
   ]
  },
  {
   "cell_type": "code",
   "execution_count": null,
   "metadata": {
    "colab": {
     "base_uri": "https://localhost:8080/",
     "height": 36
    },
    "id": "VL8WdNSz3-65",
    "outputId": "adff6b9f-da8e-4173-df1c-51bb1318dedb"
   },
   "outputs": [
    {
     "data": {
      "application/vnd.google.colaboratory.intrinsic+json": {
       "type": "string"
      },
      "text/plain": [
       "\"\\nfor idx, topic in enumerate(topics):\\n    print('Topic #'+str(idx+1)+':')\\n    print([term for term, wt in topic])\\n    print()\\n\""
      ]
     },
     "execution_count": 54,
     "metadata": {},
     "output_type": "execute_result"
    }
   ],
   "source": [
    "topics = [[(term, round(wt, 3))\n",
    "               for term, wt in best_lda_model.show_topic(n, topn=20)]\n",
    "                   for n in range(0, best_lda_model.num_topics)]\n",
    "'''\n",
    "for idx, topic in enumerate(topics):\n",
    "    print('Topic #'+str(idx+1)+':')\n",
    "    print([term for term, wt in topic])\n",
    "    print()\n",
    "'''"
   ]
  },
  {
   "cell_type": "markdown",
   "metadata": {
    "id": "Zbr6bt9P4RiL"
   },
   "source": [
    "> #### **D) Display as Term-Topic Dataframe**"
   ]
  },
  {
   "cell_type": "code",
   "execution_count": null,
   "metadata": {
    "colab": {
     "base_uri": "https://localhost:8080/",
     "height": 418
    },
    "id": "o3dfgJRm4V_7",
    "outputId": "56cb1876-5676-48a5-b791-61da3a4ff201"
   },
   "outputs": [
    {
     "name": "stderr",
     "output_type": "stream",
     "text": [
      "/usr/local/lib/python3.7/dist-packages/ipykernel_launcher.py:1: FutureWarning: Passing a negative integer is deprecated in version 1.0 and will not be supported in future version. Instead, use None to not limit the column width.\n",
      "  \"\"\"Entry point for launching an IPython kernel.\n"
     ]
    },
    {
     "data": {
      "text/html": [
       "\n",
       "  <div id=\"df-fe7bbcbf-4c25-492e-9a18-8f670d2b703e\">\n",
       "    <div class=\"colab-df-container\">\n",
       "      <div>\n",
       "<style scoped>\n",
       "    .dataframe tbody tr th:only-of-type {\n",
       "        vertical-align: middle;\n",
       "    }\n",
       "\n",
       "    .dataframe tbody tr th {\n",
       "        vertical-align: top;\n",
       "    }\n",
       "\n",
       "    .dataframe thead th {\n",
       "        text-align: right;\n",
       "    }\n",
       "</style>\n",
       "<table border=\"1\" class=\"dataframe\">\n",
       "  <thead>\n",
       "    <tr style=\"text-align: right;\">\n",
       "      <th></th>\n",
       "      <th>Terms per Topic</th>\n",
       "    </tr>\n",
       "  </thead>\n",
       "  <tbody>\n",
       "    <tr>\n",
       "      <th>Topic1</th>\n",
       "      <td>structure, vector, memory, pattern, representation, rule, node, cluster, code, graph, sequence, bit, level, distance, clustering, capacity, similarity, search, local, feature</td>\n",
       "    </tr>\n",
       "    <tr>\n",
       "      <th>Topic2</th>\n",
       "      <td>cell, neuron, response, stimulus, activity, pattern, effect, receptive_field, cortical, et_al, layer, unit, synaptic, connection, brain, cortex, firing, neural, mechanism, visual</td>\n",
       "    </tr>\n",
       "    <tr>\n",
       "      <th>Topic3</th>\n",
       "      <td>neuron, signal, circuit, current, chip, channel, analog, voltage, neural, noise, spike, frequency, delay, threshold, implementation, synapse, computation, gain, source, design</td>\n",
       "    </tr>\n",
       "    <tr>\n",
       "      <th>Topic4</th>\n",
       "      <td>unit, training, layer, net, hidden_unit, architecture, task, pattern, activation, trained, recurrent, node, rule, back_propagation, generalization, hidden_layer, connectionist, module, prediction, learn</td>\n",
       "    </tr>\n",
       "    <tr>\n",
       "      <th>Topic5</th>\n",
       "      <td>distribution, estimate, gaussian, variable, probability, prior, sample, mixture, density, prediction, variance, estimation, approximation, bayesian, component, likelihood, noise, regression, log, procedure</td>\n",
       "    </tr>\n",
       "    <tr>\n",
       "      <th>Topic6</th>\n",
       "      <td>image, object, feature, motion, position, visual, direction, pixel, location, field, view, target, region, representation, filter, local, human, map, subject, surface</td>\n",
       "    </tr>\n",
       "    <tr>\n",
       "      <th>Topic7</th>\n",
       "      <td>state, control, action, step, task, policy, environment, trajectory, optimal, controller, transition, reinforcement_learning, path, goal, dynamic, robot, current, change, sequence, trial</td>\n",
       "    </tr>\n",
       "    <tr>\n",
       "      <th>Topic8</th>\n",
       "      <td>class, bound, tree, size, theorem, probability, linear, complexity, threshold, node, theory, machine, loss, approximation, proof, hypothesis, polynomial, defined, distribution, assume</td>\n",
       "    </tr>\n",
       "    <tr>\n",
       "      <th>Topic9</th>\n",
       "      <td>training, feature, classification, word, recognition, classifier, class, speech, test, experiment, trained, face, character, pattern, table, context, database, vector, training_set, accuracy</td>\n",
       "    </tr>\n",
       "    <tr>\n",
       "      <th>Topic10</th>\n",
       "      <td>equation, vector, matrix, solution, linear, dynamic, eq, rate, convergence, nonlinear, gradient, noise, optimal, theory, rule, line, find, source, energy, average</td>\n",
       "    </tr>\n",
       "  </tbody>\n",
       "</table>\n",
       "</div>\n",
       "      <button class=\"colab-df-convert\" onclick=\"convertToInteractive('df-fe7bbcbf-4c25-492e-9a18-8f670d2b703e')\"\n",
       "              title=\"Convert this dataframe to an interactive table.\"\n",
       "              style=\"display:none;\">\n",
       "        \n",
       "  <svg xmlns=\"http://www.w3.org/2000/svg\" height=\"24px\"viewBox=\"0 0 24 24\"\n",
       "       width=\"24px\">\n",
       "    <path d=\"M0 0h24v24H0V0z\" fill=\"none\"/>\n",
       "    <path d=\"M18.56 5.44l.94 2.06.94-2.06 2.06-.94-2.06-.94-.94-2.06-.94 2.06-2.06.94zm-11 1L8.5 8.5l.94-2.06 2.06-.94-2.06-.94L8.5 2.5l-.94 2.06-2.06.94zm10 10l.94 2.06.94-2.06 2.06-.94-2.06-.94-.94-2.06-.94 2.06-2.06.94z\"/><path d=\"M17.41 7.96l-1.37-1.37c-.4-.4-.92-.59-1.43-.59-.52 0-1.04.2-1.43.59L10.3 9.45l-7.72 7.72c-.78.78-.78 2.05 0 2.83L4 21.41c.39.39.9.59 1.41.59.51 0 1.02-.2 1.41-.59l7.78-7.78 2.81-2.81c.8-.78.8-2.07 0-2.86zM5.41 20L4 18.59l7.72-7.72 1.47 1.35L5.41 20z\"/>\n",
       "  </svg>\n",
       "      </button>\n",
       "      \n",
       "  <style>\n",
       "    .colab-df-container {\n",
       "      display:flex;\n",
       "      flex-wrap:wrap;\n",
       "      gap: 12px;\n",
       "    }\n",
       "\n",
       "    .colab-df-convert {\n",
       "      background-color: #E8F0FE;\n",
       "      border: none;\n",
       "      border-radius: 50%;\n",
       "      cursor: pointer;\n",
       "      display: none;\n",
       "      fill: #1967D2;\n",
       "      height: 32px;\n",
       "      padding: 0 0 0 0;\n",
       "      width: 32px;\n",
       "    }\n",
       "\n",
       "    .colab-df-convert:hover {\n",
       "      background-color: #E2EBFA;\n",
       "      box-shadow: 0px 1px 2px rgba(60, 64, 67, 0.3), 0px 1px 3px 1px rgba(60, 64, 67, 0.15);\n",
       "      fill: #174EA6;\n",
       "    }\n",
       "\n",
       "    [theme=dark] .colab-df-convert {\n",
       "      background-color: #3B4455;\n",
       "      fill: #D2E3FC;\n",
       "    }\n",
       "\n",
       "    [theme=dark] .colab-df-convert:hover {\n",
       "      background-color: #434B5C;\n",
       "      box-shadow: 0px 1px 3px 1px rgba(0, 0, 0, 0.15);\n",
       "      filter: drop-shadow(0px 1px 2px rgba(0, 0, 0, 0.3));\n",
       "      fill: #FFFFFF;\n",
       "    }\n",
       "  </style>\n",
       "\n",
       "      <script>\n",
       "        const buttonEl =\n",
       "          document.querySelector('#df-fe7bbcbf-4c25-492e-9a18-8f670d2b703e button.colab-df-convert');\n",
       "        buttonEl.style.display =\n",
       "          google.colab.kernel.accessAllowed ? 'block' : 'none';\n",
       "\n",
       "        async function convertToInteractive(key) {\n",
       "          const element = document.querySelector('#df-fe7bbcbf-4c25-492e-9a18-8f670d2b703e');\n",
       "          const dataTable =\n",
       "            await google.colab.kernel.invokeFunction('convertToInteractive',\n",
       "                                                     [key], {});\n",
       "          if (!dataTable) return;\n",
       "\n",
       "          const docLinkHtml = 'Like what you see? Visit the ' +\n",
       "            '<a target=\"_blank\" href=https://colab.research.google.com/notebooks/data_table.ipynb>data table notebook</a>'\n",
       "            + ' to learn more about interactive tables.';\n",
       "          element.innerHTML = '';\n",
       "          dataTable['output_type'] = 'display_data';\n",
       "          await google.colab.output.renderOutput(dataTable, element);\n",
       "          const docLink = document.createElement('div');\n",
       "          docLink.innerHTML = docLinkHtml;\n",
       "          element.appendChild(docLink);\n",
       "        }\n",
       "      </script>\n",
       "    </div>\n",
       "  </div>\n",
       "  "
      ],
      "text/plain": [
       "                                                                                                                                                                                                       Terms per Topic\n",
       "Topic1   structure, vector, memory, pattern, representation, rule, node, cluster, code, graph, sequence, bit, level, distance, clustering, capacity, similarity, search, local, feature                               \n",
       "Topic2   cell, neuron, response, stimulus, activity, pattern, effect, receptive_field, cortical, et_al, layer, unit, synaptic, connection, brain, cortex, firing, neural, mechanism, visual                           \n",
       "Topic3   neuron, signal, circuit, current, chip, channel, analog, voltage, neural, noise, spike, frequency, delay, threshold, implementation, synapse, computation, gain, source, design                              \n",
       "Topic4   unit, training, layer, net, hidden_unit, architecture, task, pattern, activation, trained, recurrent, node, rule, back_propagation, generalization, hidden_layer, connectionist, module, prediction, learn   \n",
       "Topic5   distribution, estimate, gaussian, variable, probability, prior, sample, mixture, density, prediction, variance, estimation, approximation, bayesian, component, likelihood, noise, regression, log, procedure\n",
       "Topic6   image, object, feature, motion, position, visual, direction, pixel, location, field, view, target, region, representation, filter, local, human, map, subject, surface                                       \n",
       "Topic7   state, control, action, step, task, policy, environment, trajectory, optimal, controller, transition, reinforcement_learning, path, goal, dynamic, robot, current, change, sequence, trial                   \n",
       "Topic8   class, bound, tree, size, theorem, probability, linear, complexity, threshold, node, theory, machine, loss, approximation, proof, hypothesis, polynomial, defined, distribution, assume                      \n",
       "Topic9   training, feature, classification, word, recognition, classifier, class, speech, test, experiment, trained, face, character, pattern, table, context, database, vector, training_set, accuracy               \n",
       "Topic10  equation, vector, matrix, solution, linear, dynamic, eq, rate, convergence, nonlinear, gradient, noise, optimal, theory, rule, line, find, source, energy, average                                           "
      ]
     },
     "execution_count": 55,
     "metadata": {},
     "output_type": "execute_result"
    }
   ],
   "source": [
    "pd.set_option('display.max_colwidth', -1)\n",
    "topics_df = pd.DataFrame([', '.join([term for term, wt in topic])\n",
    "                              for topic in topics],\n",
    "                         columns = ['Terms per Topic'],\n",
    "                         index=['Topic'+str(t) for t in range(1, best_lda_model.num_topics+1)]\n",
    "                         )\n",
    "topics_df"
   ]
  },
  {
   "cell_type": "markdown",
   "metadata": {
    "id": "qIquI71R5NTj"
   },
   "source": [
    "> #### **E) Topic Model Interpretation**\n",
    "\n",
    "One meaningful way we can interpret our topic models is to see what the most dominant (highest weighted) topics were in specific research papers. Let's create a dataframe containing the document number, its most dominant topic number, the % contribution of that topic, the topic description and an excerpt from the beginning of the paper."
   ]
  },
  {
   "cell_type": "code",
   "execution_count": null,
   "metadata": {
    "id": "Q1xvsUaP50es"
   },
   "outputs": [],
   "source": [
    "tm_results = best_lda_model[bow_corpus]                                                           # ~ 21 seconds to run\n",
    "\n",
    "corpus_topics = [sorted(topics, key=lambda record: -record[1])[0]\n",
    "                     for topics in tm_results]\n",
    "\n",
    "corpus_topic_df = pd.DataFrame()\n",
    "corpus_topic_df['Document'] = range(0, len(papers))                                               # create corpus topic df with specified columns (from instructions)\n",
    "corpus_topic_df['Dominant Topic'] = [item[0]+1 for item in corpus_topics]\n",
    "corpus_topic_df['Contribution %'] = [round(item[1]*100, 2) for item in corpus_topics]\n",
    "corpus_topic_df['Topic Desc'] = [topics_df.iloc[t[0]]['Terms per Topic'] for t in corpus_topics]\n",
    "corpus_topic_df['Paper'] = papers"
   ]
  },
  {
   "cell_type": "code",
   "execution_count": null,
   "metadata": {
    "colab": {
     "base_uri": "https://localhost:8080/",
     "height": 771
    },
    "id": "IeswCd_-6Aam",
    "outputId": "dc6496a1-9bf7-4a23-f1f4-586b8dc222f1"
   },
   "outputs": [
    {
     "data": {
      "text/html": [
       "\n",
       "  <div id=\"df-367984cd-19e6-4a04-a999-24434ef9b2a9\">\n",
       "    <div class=\"colab-df-container\">\n",
       "      <div>\n",
       "<style scoped>\n",
       "    .dataframe tbody tr th:only-of-type {\n",
       "        vertical-align: middle;\n",
       "    }\n",
       "\n",
       "    .dataframe tbody tr th {\n",
       "        vertical-align: top;\n",
       "    }\n",
       "\n",
       "    .dataframe thead th {\n",
       "        text-align: right;\n",
       "    }\n",
       "</style>\n",
       "<table border=\"1\" class=\"dataframe\">\n",
       "  <thead>\n",
       "    <tr style=\"text-align: right;\">\n",
       "      <th></th>\n",
       "      <th>Document</th>\n",
       "      <th>Dominant Topic</th>\n",
       "      <th>Contribution %</th>\n",
       "      <th>Topic Desc</th>\n",
       "      <th>Paper</th>\n",
       "    </tr>\n",
       "  </thead>\n",
       "  <tbody>\n",
       "    <tr>\n",
       "      <th>10</th>\n",
       "      <td>10</td>\n",
       "      <td>6</td>\n",
       "      <td>36.92</td>\n",
       "      <td>image, object, feature, motion, position, visual, direction, pixel, location, field, view, target, region, representation, filter, local, human, map, subject, surface</td>\n",
       "      <td>622 \\nLEARNING A COLOR ALGORITHM FROM EXAMPLES \\nAnya C. Hurlbert and Tomaso A. Poggio \\nArtificial Intelligence Laboratory and Department of Brain and Cognitive Sciences, \\nMassachusetts Institut...</td>\n",
       "    </tr>\n",
       "    <tr>\n",
       "      <th>13</th>\n",
       "      <td>13</td>\n",
       "      <td>4</td>\n",
       "      <td>40.81</td>\n",
       "      <td>unit, training, layer, net, hidden_unit, architecture, task, pattern, activation, trained, recurrent, node, rule, back_propagation, generalization, hidden_layer, connectionist, module, prediction,...</td>\n",
       "      <td>442 \\nHow Neural Nets Work \\nAlan Lapedes \\nRobert Father \\nTheoretical Division \\nLos Alamos National Laboratory \\nLos Alamos, NM 87545 \\nAbstract: \\nThere is presently great interest in the abil...</td>\n",
       "    </tr>\n",
       "    <tr>\n",
       "      <th>17</th>\n",
       "      <td>17</td>\n",
       "      <td>1</td>\n",
       "      <td>42.26</td>\n",
       "      <td>structure, vector, memory, pattern, representation, rule, node, cluster, code, graph, sequence, bit, level, distance, clustering, capacity, similarity, search, local, feature</td>\n",
       "      <td>174 \\nA Neural Network C1A-sifier Based on Coding Theory \\nTzi-Dar Chiueh and Rodney Goodman \\nCalifornia Institute of Technology, Pasadena, California 91125 \\nABSTRACT\\nThe new neural network cla...</td>\n",
       "    </tr>\n",
       "    <tr>\n",
       "      <th>392</th>\n",
       "      <td>392</td>\n",
       "      <td>10</td>\n",
       "      <td>24.31</td>\n",
       "      <td>equation, vector, matrix, solution, linear, dynamic, eq, rate, convergence, nonlinear, gradient, noise, optimal, theory, rule, line, find, source, energy, average</td>\n",
       "      <td>A Framework for the Cooperation \\nof Learning Algorithms \\nL6on Bottou \\nPatrick Gailinari \\nLaboratoire de Recherche en Informatique \\nUniversit6 de Paris XI \\n91405 Orsay Cedex \\nFrance \\nAbstra...</td>\n",
       "    </tr>\n",
       "    <tr>\n",
       "      <th>503</th>\n",
       "      <td>503</td>\n",
       "      <td>5</td>\n",
       "      <td>46.67</td>\n",
       "      <td>distribution, estimate, gaussian, variable, probability, prior, sample, mixture, density, prediction, variance, estimation, approximation, bayesian, component, likelihood, noise, regression, log, ...</td>\n",
       "      <td>Kernel Regression and \\nBackpropagation Training with Noise \\nPetri Koistlnen and Lasse HolmstrSm \\nRolf Nevanlinna Institute, University of Helsinki \\nTeollisuuskatu 23, SF-00510 Helsinki, Finlan...</td>\n",
       "    </tr>\n",
       "    <tr>\n",
       "      <th>682</th>\n",
       "      <td>682</td>\n",
       "      <td>3</td>\n",
       "      <td>38.38</td>\n",
       "      <td>neuron, signal, circuit, current, chip, channel, analog, voltage, neural, noise, spike, frequency, delay, threshold, implementation, synapse, computation, gain, source, design</td>\n",
       "      <td>Analog VLSI Implementation of \\nMulti-dimensional Gradient Descent \\nDavid B. Kirk Douglas Kerns Kurt Fleischer Alan H. Barr \\nCalifornia Institute of Technology \\nBeckman Institute 350-74 \\nPa...</td>\n",
       "    </tr>\n",
       "    <tr>\n",
       "      <th>736</th>\n",
       "      <td>736</td>\n",
       "      <td>10</td>\n",
       "      <td>41.36</td>\n",
       "      <td>equation, vector, matrix, solution, linear, dynamic, eq, rate, convergence, nonlinear, gradient, noise, optimal, theory, rule, line, find, source, energy, average</td>\n",
       "      <td>Non-linear Statistical Analysis and \\nSelf-Organizing Hebbian Networks \\nJonathan L. Shapiro and Adam Priigel-Bennett \\nDepartment of Computer Science \\nThe University, Manchester \\nManchester, UK...</td>\n",
       "    </tr>\n",
       "    <tr>\n",
       "      <th>906</th>\n",
       "      <td>906</td>\n",
       "      <td>4</td>\n",
       "      <td>53.23</td>\n",
       "      <td>unit, training, layer, net, hidden_unit, architecture, task, pattern, activation, trained, recurrent, node, rule, back_propagation, generalization, hidden_layer, connectionist, module, prediction,...</td>\n",
       "      <td>Learning Many Related Tasks at the \\nSame Time With Backpropagation \\nRich Caruana \\nSchool of Computer Science \\nCarnegie Mellon University \\nPittsburgh, PA 15213 \\ncaruana@ cs. cmu .edu \\nAbstra...</td>\n",
       "    </tr>\n",
       "    <tr>\n",
       "      <th>1005</th>\n",
       "      <td>1005</td>\n",
       "      <td>8</td>\n",
       "      <td>36.65</td>\n",
       "      <td>class, bound, tree, size, theorem, probability, linear, complexity, threshold, node, theory, machine, loss, approximation, proof, hypothesis, polynomial, defined, distribution, assume</td>\n",
       "      <td>Using Pairs of Data-Points to Define \\nSplits for Decision Trees \\nGeoffrey E. Hinton \\nDepartment of Computer Science \\nUniversity of Toronto \\nToronto, Ontario, M5S 1A4, Canada \\nhinton@cs.toron...</td>\n",
       "    </tr>\n",
       "    <tr>\n",
       "      <th>1622</th>\n",
       "      <td>1622</td>\n",
       "      <td>3</td>\n",
       "      <td>38.29</td>\n",
       "      <td>neuron, signal, circuit, current, chip, channel, analog, voltage, neural, noise, spike, frequency, delay, threshold, implementation, synapse, computation, gain, source, design</td>\n",
       "      <td>Information Capacity and Robustness of \\nStochastic Neuron Models \\nElad Schneidman Idan Segev Naftali Tishby \\nInstitute of Computer Science, \\nDepartment of Neurobiology and \\nCenter for Neural ...</td>\n",
       "    </tr>\n",
       "  </tbody>\n",
       "</table>\n",
       "</div>\n",
       "      <button class=\"colab-df-convert\" onclick=\"convertToInteractive('df-367984cd-19e6-4a04-a999-24434ef9b2a9')\"\n",
       "              title=\"Convert this dataframe to an interactive table.\"\n",
       "              style=\"display:none;\">\n",
       "        \n",
       "  <svg xmlns=\"http://www.w3.org/2000/svg\" height=\"24px\"viewBox=\"0 0 24 24\"\n",
       "       width=\"24px\">\n",
       "    <path d=\"M0 0h24v24H0V0z\" fill=\"none\"/>\n",
       "    <path d=\"M18.56 5.44l.94 2.06.94-2.06 2.06-.94-2.06-.94-.94-2.06-.94 2.06-2.06.94zm-11 1L8.5 8.5l.94-2.06 2.06-.94-2.06-.94L8.5 2.5l-.94 2.06-2.06.94zm10 10l.94 2.06.94-2.06 2.06-.94-2.06-.94-.94-2.06-.94 2.06-2.06.94z\"/><path d=\"M17.41 7.96l-1.37-1.37c-.4-.4-.92-.59-1.43-.59-.52 0-1.04.2-1.43.59L10.3 9.45l-7.72 7.72c-.78.78-.78 2.05 0 2.83L4 21.41c.39.39.9.59 1.41.59.51 0 1.02-.2 1.41-.59l7.78-7.78 2.81-2.81c.8-.78.8-2.07 0-2.86zM5.41 20L4 18.59l7.72-7.72 1.47 1.35L5.41 20z\"/>\n",
       "  </svg>\n",
       "      </button>\n",
       "      \n",
       "  <style>\n",
       "    .colab-df-container {\n",
       "      display:flex;\n",
       "      flex-wrap:wrap;\n",
       "      gap: 12px;\n",
       "    }\n",
       "\n",
       "    .colab-df-convert {\n",
       "      background-color: #E8F0FE;\n",
       "      border: none;\n",
       "      border-radius: 50%;\n",
       "      cursor: pointer;\n",
       "      display: none;\n",
       "      fill: #1967D2;\n",
       "      height: 32px;\n",
       "      padding: 0 0 0 0;\n",
       "      width: 32px;\n",
       "    }\n",
       "\n",
       "    .colab-df-convert:hover {\n",
       "      background-color: #E2EBFA;\n",
       "      box-shadow: 0px 1px 2px rgba(60, 64, 67, 0.3), 0px 1px 3px 1px rgba(60, 64, 67, 0.15);\n",
       "      fill: #174EA6;\n",
       "    }\n",
       "\n",
       "    [theme=dark] .colab-df-convert {\n",
       "      background-color: #3B4455;\n",
       "      fill: #D2E3FC;\n",
       "    }\n",
       "\n",
       "    [theme=dark] .colab-df-convert:hover {\n",
       "      background-color: #434B5C;\n",
       "      box-shadow: 0px 1px 3px 1px rgba(0, 0, 0, 0.15);\n",
       "      filter: drop-shadow(0px 1px 2px rgba(0, 0, 0, 0.3));\n",
       "      fill: #FFFFFF;\n",
       "    }\n",
       "  </style>\n",
       "\n",
       "      <script>\n",
       "        const buttonEl =\n",
       "          document.querySelector('#df-367984cd-19e6-4a04-a999-24434ef9b2a9 button.colab-df-convert');\n",
       "        buttonEl.style.display =\n",
       "          google.colab.kernel.accessAllowed ? 'block' : 'none';\n",
       "\n",
       "        async function convertToInteractive(key) {\n",
       "          const element = document.querySelector('#df-367984cd-19e6-4a04-a999-24434ef9b2a9');\n",
       "          const dataTable =\n",
       "            await google.colab.kernel.invokeFunction('convertToInteractive',\n",
       "                                                     [key], {});\n",
       "          if (!dataTable) return;\n",
       "\n",
       "          const docLinkHtml = 'Like what you see? Visit the ' +\n",
       "            '<a target=\"_blank\" href=https://colab.research.google.com/notebooks/data_table.ipynb>data table notebook</a>'\n",
       "            + ' to learn more about interactive tables.';\n",
       "          element.innerHTML = '';\n",
       "          dataTable['output_type'] = 'display_data';\n",
       "          await google.colab.output.renderOutput(dataTable, element);\n",
       "          const docLink = document.createElement('div');\n",
       "          docLink.innerHTML = docLinkHtml;\n",
       "          element.appendChild(docLink);\n",
       "        }\n",
       "      </script>\n",
       "    </div>\n",
       "  </div>\n",
       "  "
      ],
      "text/plain": [
       "      Document  Dominant Topic  Contribution %  \\\n",
       "10          10               6           36.92   \n",
       "13          13               4           40.81   \n",
       "17          17               1           42.26   \n",
       "392        392              10           24.31   \n",
       "503        503               5           46.67   \n",
       "682        682               3           38.38   \n",
       "736        736              10           41.36   \n",
       "906        906               4           53.23   \n",
       "1005      1005               8           36.65   \n",
       "1622      1622               3           38.29   \n",
       "\n",
       "                                                                                                                                                                                                   Topic Desc  \\\n",
       "10                                     image, object, feature, motion, position, visual, direction, pixel, location, field, view, target, region, representation, filter, local, human, map, subject, surface   \n",
       "13    unit, training, layer, net, hidden_unit, architecture, task, pattern, activation, trained, recurrent, node, rule, back_propagation, generalization, hidden_layer, connectionist, module, prediction,...   \n",
       "17                             structure, vector, memory, pattern, representation, rule, node, cluster, code, graph, sequence, bit, level, distance, clustering, capacity, similarity, search, local, feature   \n",
       "392                                        equation, vector, matrix, solution, linear, dynamic, eq, rate, convergence, nonlinear, gradient, noise, optimal, theory, rule, line, find, source, energy, average   \n",
       "503   distribution, estimate, gaussian, variable, probability, prior, sample, mixture, density, prediction, variance, estimation, approximation, bayesian, component, likelihood, noise, regression, log, ...   \n",
       "682                           neuron, signal, circuit, current, chip, channel, analog, voltage, neural, noise, spike, frequency, delay, threshold, implementation, synapse, computation, gain, source, design   \n",
       "736                                        equation, vector, matrix, solution, linear, dynamic, eq, rate, convergence, nonlinear, gradient, noise, optimal, theory, rule, line, find, source, energy, average   \n",
       "906   unit, training, layer, net, hidden_unit, architecture, task, pattern, activation, trained, recurrent, node, rule, back_propagation, generalization, hidden_layer, connectionist, module, prediction,...   \n",
       "1005                  class, bound, tree, size, theorem, probability, linear, complexity, threshold, node, theory, machine, loss, approximation, proof, hypothesis, polynomial, defined, distribution, assume   \n",
       "1622                          neuron, signal, circuit, current, chip, channel, analog, voltage, neural, noise, spike, frequency, delay, threshold, implementation, synapse, computation, gain, source, design   \n",
       "\n",
       "                                                                                                                                                                                                        Paper  \n",
       "10    622 \\nLEARNING A COLOR ALGORITHM FROM EXAMPLES \\nAnya C. Hurlbert and Tomaso A. Poggio \\nArtificial Intelligence Laboratory and Department of Brain and Cognitive Sciences, \\nMassachusetts Institut...  \n",
       "13    442 \\nHow Neural Nets Work \\nAlan Lapedes \\nRobert Father \\nTheoretical Division \\nLos Alamos National Laboratory \\nLos Alamos, NM 87545 \\nAbstract: \\nThere is presently great interest in the abil...  \n",
       "17    174 \\nA Neural Network C1A-sifier Based on Coding Theory \\nTzi-Dar Chiueh and Rodney Goodman \\nCalifornia Institute of Technology, Pasadena, California 91125 \\nABSTRACT\\nThe new neural network cla...  \n",
       "392   A Framework for the Cooperation \\nof Learning Algorithms \\nL6on Bottou \\nPatrick Gailinari \\nLaboratoire de Recherche en Informatique \\nUniversit6 de Paris XI \\n91405 Orsay Cedex \\nFrance \\nAbstra...  \n",
       "503   Kernel Regression and \\nBackpropagation Training with Noise \\nPetri Koistlnen and Lasse HolmstrSm \\nRolf Nevanlinna Institute, University of Helsinki \\nTeollisuuskatu 23, SF-00510 Helsinki, Finlan...  \n",
       "682   Analog VLSI Implementation of \\nMulti-dimensional Gradient Descent \\nDavid B. Kirk Douglas Kerns Kurt Fleischer Alan H. Barr \\nCalifornia Institute of Technology \\nBeckman Institute 350-74 \\nPa...  \n",
       "736   Non-linear Statistical Analysis and \\nSelf-Organizing Hebbian Networks \\nJonathan L. Shapiro and Adam Priigel-Bennett \\nDepartment of Computer Science \\nThe University, Manchester \\nManchester, UK...  \n",
       "906   Learning Many Related Tasks at the \\nSame Time With Backpropagation \\nRich Caruana \\nSchool of Computer Science \\nCarnegie Mellon University \\nPittsburgh, PA 15213 \\ncaruana@ cs. cmu .edu \\nAbstra...  \n",
       "1005  Using Pairs of Data-Points to Define \\nSplits for Decision Trees \\nGeoffrey E. Hinton \\nDepartment of Computer Science \\nUniversity of Toronto \\nToronto, Ontario, M5S 1A4, Canada \\nhinton@cs.toron...  \n",
       "1622  Information Capacity and Robustness of \\nStochastic Neuron Models \\nElad Schneidman Idan Segev Naftali Tishby \\nInstitute of Computer Science, \\nDepartment of Neurobiology and \\nCenter for Neural ...  "
      ]
     },
     "execution_count": 57,
     "metadata": {},
     "output_type": "execute_result"
    }
   ],
   "source": [
    "pd.set_option('display.max_colwidth', 200)\n",
    "(corpus_topic_df[corpus_topic_df['Document']\n",
    "                 .isin([682, 10, 392, 1622, 17,\n",
    "                        906, 1005, 503, 13, 736])])"
   ]
  },
  {
   "cell_type": "markdown",
   "metadata": {
    "id": "xvX0DRM56z4v"
   },
   "source": [
    "**Examine several of the papers displayed in the dataframe. What characterizes the dominant topics for these papers? Do they reasonably match up with the paper title?**"
   ]
  },
  {
   "cell_type": "markdown",
   "metadata": {
    "id": "WwaKMusQ7Sq_"
   },
   "source": [
    "Most of these papers had to do with Machine Learning, and more specifically, neural networks.\n",
    "\n",
    "I would say so. If look at the topics description, I actually have a pretty good idea of what the papers are about (in general). I may not get specifics but I do get the gist."
   ]
  },
  {
   "cell_type": "markdown",
   "metadata": {
    "id": "B-iP66em7S5W"
   },
   "source": [
    "**What is another context, other than trying to briefly summarize the overall themes/topics, where topic modeling could be useful?**"
   ]
  },
  {
   "cell_type": "markdown",
   "metadata": {
    "id": "guE5Sz857eCZ"
   },
   "source": [
    "Topic modeling can be useful when analyzing reviews or customer feedback forms. It can also be useful when a company or individual doesn't have time to read through documents or articles. Once a model is trained they provide a template for directly and indirectly reading inputs for further analysis. This significantly reduces the time a person would have to take to read through a match up of documents. Some applications of this include modeling emails, contracts, accounting documents, etc.\n",
    "\n",
    "One idea I had in regards to applications of topic modeling is to take laws (Since that text data would be easily accessable) for some topic (for example, gun control) across 50 states, and see how similar certain laws on the same topic are written. Then compare that to perhaps crime statistics for that state. Is there any correlation between certain provisions written in our laws and crime/violence?"
   ]
  }
 ],
 "metadata": {
  "accelerator": "GPU",
  "colab": {
   "provenance": []
  },
  "gpuClass": "standard",
  "kernelspec": {
   "display_name": "Python 3 (ipykernel)",
   "language": "python",
   "name": "python3"
  },
  "language_info": {
   "codemirror_mode": {
    "name": "ipython",
    "version": 3
   },
   "file_extension": ".py",
   "mimetype": "text/x-python",
   "name": "python",
   "nbconvert_exporter": "python",
   "pygments_lexer": "ipython3",
   "version": "3.9.13"
  }
 },
 "nbformat": 4,
 "nbformat_minor": 1
}
