{
 "cells": [
  {
   "cell_type": "markdown",
   "id": "f45b1137",
   "metadata": {
    "id": "f45b1137"
   },
   "source": [
    "# Final Project - Text Mining\n",
    "\n",
    "## Name: Cailean\n",
    "## *IS 5150*"
   ]
  },
  {
   "cell_type": "markdown",
   "id": "96333cf5",
   "metadata": {
    "id": "96333cf5"
   },
   "source": [
    "The purpose of the final project is to combine skills you have learned in each of the previous units into one finisihed project.\n",
    "\n",
    "**Unit 1**\n",
    "* Basic Text Statistics\n",
    "* **NLP Pipeline (Preprocessing \\& Normalization)**\n",
    "\n",
    "**Unit 2**\n",
    "* **Feature Engineering**\n",
    "* Text Classification\n",
    "* **Topic Modeling**\n",
    "\n",
    "**Unit 3**\n",
    "* Document Summarization\n",
    "* Text Similarity\n",
    "* **Document Clustering**\n",
    "\n",
    "**Unit 4**\n",
    "* Semantic Analysis\n",
    "* **Sentiment Analysis**\n",
    "\n"
   ]
  },
  {
   "cell_type": "code",
   "execution_count": null,
   "id": "da7beaf0",
   "metadata": {
    "id": "da7beaf0"
   },
   "outputs": [],
   "source": [
    "# load dependencies\n",
    "\n",
    "import numpy as np # linear algebra\n",
    "import pandas as pd # data processing, CSV file I/O (e.g. pd.read_csv)\n",
    "\n",
    "import nltk, re, pprint\n",
    "\n",
    "from urllib import request\n",
    "from bs4 import BeautifulSoup #needed for parsing HTML\n",
    "\n",
    "# !pip install contractions\n",
    "# import contractions #contractions dictionary\n",
    "from string import punctuation\n",
    "\n",
    "import spacy #used for lemmatization/stemming\n",
    "#python -m spacy download en_core_web_sm\n",
    "#or in Jupyter download in terminal using spacy download en_core_web_sm\n",
    "\n",
    "from nltk.tokenize.toktok import ToktokTokenizer\n",
    "tokenizer = ToktokTokenizer() #stopword removal\n",
    "from nltk import word_tokenize\n",
    "import os\n",
    "\n",
    "from sklearn.decomposition import LatentDirichletAllocation             # import LatentDirichlectAllocation from sklearn.decomposition\n",
    "\n",
    "from scipy.cluster.hierarchy import fcluster, dendrogram, linkage       # import fcluster, dendrogram, and linkage from scipcy.cluster.hierarchy\n",
    "\n",
    "pd.options.display.max_colwidth = 200\n",
    "\n"
   ]
  },
  {
   "cell_type": "code",
   "execution_count": 1,
   "id": "f998e26a",
   "metadata": {
    "id": "f998e26a",
    "outputId": "1cc4e9e6-8789-404b-fa66-dad43d2bd506"
   },
   "outputs": [],
   "source": [
    "# # load text data\n",
    "# This code is commented out, since it is no longer useful, but provides insight on how I managed the data\n",
    "\n",
    "# csv_collection = [] # creating empty list\n",
    "# for filename in os.listdir('C:\\\\Users\\\\lando\\\\Downloads\\\\data'): # for loop going through csvs saved in downloads\n",
    "\n",
    "#         fullpath = 'C:\\\\Users\\\\lando\\\\Downloads\\\\data\\\\' + filename\n",
    "#         csv_collection.append(fullpath) #appending the csvs to the list\n",
    "\n",
    "# import csv\n",
    "# import gc\n",
    "# from pathlib import Path\n",
    "\n",
    "# columns = [\"text\", \"location\", \"tweetcreatedts\", \"language\", \"is_quote_status\"] # columns I am taking from the csvs\n",
    "\n",
    "\n",
    "# csv_collection.sort()\n",
    "# dataframe_collection = []\n",
    "# for i, csvfile in enumerate(csv_collection): # enumerating over the csvs and reading them into python\n",
    "#     df = pd.read_csv(csvfile, engine='python', compression='gzip',encoding='utf-8', quoting=csv.QUOTE_ALL, usecols=lambda x: x in columns)\n",
    "#     df.query('language == \"en\"', inplace=True) # filtering the english observatons\n",
    "#     df.to_csv(f'clean\\\\df{i}.csv.gzip', compression='gzip', index=False)\n",
    "#     dataframe_collection.append(df) #appending them all lto dataframe\n",
    "#     print(csvfile)\n",
    "\n",
    "# df = None\n",
    "# del df\n",
    "# gc.collect()"
   ]
  },
  {
   "cell_type": "code",
   "execution_count": null,
   "id": "d8ce79e5",
   "metadata": {
    "id": "d8ce79e5"
   },
   "outputs": [],
   "source": [
    "df_combined = pd.concat(dataframe_collection, axis=0) # concatonating to one dataframe"
   ]
  },
  {
   "cell_type": "code",
   "execution_count": null,
   "id": "8336218c",
   "metadata": {
    "id": "8336218c",
    "outputId": "b34725c3-85a8-4d61-a9e3-63383132e998"
   },
   "outputs": [
    {
     "data": {
      "text/plain": [
       "array(['en'], dtype=object)"
      ]
     },
     "execution_count": 4,
     "metadata": {},
     "output_type": "execute_result"
    }
   ],
   "source": [
    "df_combined['language'].unique()"
   ]
  },
  {
   "cell_type": "code",
   "execution_count": null,
   "id": "625101f2",
   "metadata": {
    "id": "625101f2",
    "outputId": "8c05527b-5adc-4d96-da41-24a1f43d83ea"
   },
   "outputs": [
    {
     "data": {
      "text/plain": [
       "0"
      ]
     },
     "execution_count": 5,
     "metadata": {},
     "output_type": "execute_result"
    }
   ],
   "source": [
    "dataframe_collection = None # this is done to free-up space.\n",
    "del dataframe_collection\n",
    "gc.collect()"
   ]
  },
  {
   "cell_type": "code",
   "execution_count": null,
   "id": "bb73c5a3",
   "metadata": {
    "id": "bb73c5a3"
   },
   "outputs": [],
   "source": [
    "\n",
    "df_combined.drop('language', axis=1, inplace = True) #dropping langauge from concatonated data.\n",
    "\n",
    "df = df_combined\n"
   ]
  },
  {
   "cell_type": "code",
   "execution_count": null,
   "id": "ccea9207",
   "metadata": {
    "id": "ccea9207"
   },
   "outputs": [],
   "source": [
    "df['date'] = pd.to_datetime(df[\"tweetcreatedts\"]) # converting to datetime"
   ]
  },
  {
   "cell_type": "code",
   "execution_count": null,
   "id": "51dfef08",
   "metadata": {
    "id": "51dfef08"
   },
   "outputs": [],
   "source": [
    "df.drop('tweetcreatedts', axis=1, inplace = True) # now dropping time stamp"
   ]
  },
  {
   "cell_type": "code",
   "execution_count": null,
   "id": "a0444ca5",
   "metadata": {
    "id": "a0444ca5",
    "outputId": "59f21cd4-cff9-4eb0-b1ca-e7cf17bf7eb9"
   },
   "outputs": [
    {
     "data": {
      "text/html": [
       "<div>\n",
       "<style scoped>\n",
       "    .dataframe tbody tr th:only-of-type {\n",
       "        vertical-align: middle;\n",
       "    }\n",
       "\n",
       "    .dataframe tbody tr th {\n",
       "        vertical-align: top;\n",
       "    }\n",
       "\n",
       "    .dataframe thead th {\n",
       "        text-align: right;\n",
       "    }\n",
       "</style>\n",
       "<table border=\"1\" class=\"dataframe\">\n",
       "  <thead>\n",
       "    <tr style=\"text-align: right;\">\n",
       "      <th></th>\n",
       "      <th>location</th>\n",
       "      <th>text</th>\n",
       "      <th>is_quote_status</th>\n",
       "      <th>date</th>\n",
       "    </tr>\n",
       "  </thead>\n",
       "  <tbody>\n",
       "    <tr>\n",
       "      <th>0</th>\n",
       "      <td>Hawaii</td>\n",
       "      <td>⚡The Ukrainian Air Force would like to address...</td>\n",
       "      <td>NaN</td>\n",
       "      <td>2022-04-01</td>\n",
       "    </tr>\n",
       "    <tr>\n",
       "      <th>1</th>\n",
       "      <td>NaN</td>\n",
       "      <td>Chernihiv oblast. Ukrainians welcome their lib...</td>\n",
       "      <td>NaN</td>\n",
       "      <td>2022-04-01</td>\n",
       "    </tr>\n",
       "    <tr>\n",
       "      <th>2</th>\n",
       "      <td>NaN</td>\n",
       "      <td>America 🇺🇸 is preparing for something worse th...</td>\n",
       "      <td>NaN</td>\n",
       "      <td>2022-04-01</td>\n",
       "    </tr>\n",
       "    <tr>\n",
       "      <th>3</th>\n",
       "      <td>International Web Zone</td>\n",
       "      <td>JUST IN: #Anonymous has hacked &amp;amp; released ...</td>\n",
       "      <td>NaN</td>\n",
       "      <td>2022-04-01</td>\n",
       "    </tr>\n",
       "    <tr>\n",
       "      <th>4</th>\n",
       "      <td>Hunter Account</td>\n",
       "      <td>***PUBLIC MINT NOW LIVE***\\n\\nFor \\n@billionai...</td>\n",
       "      <td>NaN</td>\n",
       "      <td>2022-04-01</td>\n",
       "    </tr>\n",
       "  </tbody>\n",
       "</table>\n",
       "</div>"
      ],
      "text/plain": [
       "                 location                                               text  \\\n",
       "0                  Hawaii  ⚡The Ukrainian Air Force would like to address...   \n",
       "1                     NaN  Chernihiv oblast. Ukrainians welcome their lib...   \n",
       "2                     NaN  America 🇺🇸 is preparing for something worse th...   \n",
       "3  International Web Zone  JUST IN: #Anonymous has hacked &amp; released ...   \n",
       "4          Hunter Account  ***PUBLIC MINT NOW LIVE***\\n\\nFor \\n@billionai...   \n",
       "\n",
       "  is_quote_status       date  \n",
       "0             NaN 2022-04-01  \n",
       "1             NaN 2022-04-01  \n",
       "2             NaN 2022-04-01  \n",
       "3             NaN 2022-04-01  \n",
       "4             NaN 2022-04-01  "
      ]
     },
     "execution_count": 17,
     "metadata": {},
     "output_type": "execute_result"
    }
   ],
   "source": [
    "df.head()"
   ]
  },
  {
   "cell_type": "code",
   "execution_count": null,
   "id": "9276bc7d",
   "metadata": {
    "id": "9276bc7d",
    "outputId": "6348de1c-04ff-4a9a-8ecf-9485991026df"
   },
   "outputs": [
    {
     "data": {
      "text/plain": [
       "location            8236404\n",
       "text                      0\n",
       "is_quote_status    16158908\n",
       "date                      0\n",
       "dtype: int64"
      ]
     },
     "execution_count": 19,
     "metadata": {},
     "output_type": "execute_result"
    }
   ],
   "source": [
    "df.isna().sum()"
   ]
  },
  {
   "cell_type": "code",
   "execution_count": null,
   "id": "cbaa62de",
   "metadata": {
    "id": "cbaa62de"
   },
   "outputs": [],
   "source": [
    "df.shape\n",
    "#dropping nas\n",
    "\n",
    "df.drop('is_quote_status', axis = 1, inplace = True) #dropping is quote status because there is a lot of missing data, and probably not helpful for analysis at this point.\n"
   ]
  },
  {
   "cell_type": "code",
   "execution_count": null,
   "id": "accad8df",
   "metadata": {
    "id": "accad8df"
   },
   "outputs": [],
   "source": [
    "# writing to csv for conveince in future\n",
    "df.to_parquet(\"final_project_data.parquet\") #writing to parquet file, so I don't have to go through the process of data colleciton again."
   ]
  },
  {
   "cell_type": "markdown",
   "id": "557c94a7",
   "metadata": {
    "id": "557c94a7"
   },
   "source": [
    "\n",
    "\n",
    "\n",
    "I got the The Ukraine Conflict data set from [Kaggle](https://www.kaggle.com/datasets/bwandowando/ukraine-russian-crisis-twitter-dataset-1-2-m-rows/discussion). The data set had roughly 20 columns from account description, followers, userid, tweetid, following, retweet, text, location, language, timestamp, etc. The dataset was intended for text analysis, more specifically sentiment analysis, per the creator of the dataset. Tweets are scraped every day and stored in CSV files. This has been going on since the start of the conflict. The data set is quite large; when I first concatonated my dataset with the months February, March, April, October, and November, I had over 19 million observations. If I tried to work with the data from February to present, I am sure this number would go up exponentially.\n",
    "\n",
    "The objective I had in mind when picking this project was to look at if people's tweets on the Russian Ukraine conflict could offer any insight into public opinion. To do this, I plan on looking at topic modeling and sentiment analysis. I think in the future I would be interesting to see how the location of tweets were clustered. What topics were retweeted, or if there was a similarity amongst the topics that were retweeted."
   ]
  },
  {
   "cell_type": "markdown",
   "id": "b58415b5",
   "metadata": {
    "id": "b58415b5"
   },
   "source": [
    "### Unit 1: At least NLP Pipeline, optional to produce basic text statistics"
   ]
  },
  {
   "cell_type": "code",
   "execution_count": null,
   "id": "85ba1f75",
   "metadata": {
    "id": "85ba1f75"
   },
   "outputs": [],
   "source": [
    "import polars as pl\n",
    "df = pl.read_parquet('final_project_data.parquet')\n"
   ]
  },
  {
   "cell_type": "code",
   "execution_count": null,
   "id": "f9e90200",
   "metadata": {
    "id": "f9e90200"
   },
   "outputs": [],
   "source": [
    "from datetime import datetime\n",
    "\n",
    "march = datetime(2022, 3, 31, 23, 59, 59)\n",
    "november = datetime(2022, 11, 1)"
   ]
  },
  {
   "cell_type": "code",
   "execution_count": null,
   "id": "ab99e2d7",
   "metadata": {
    "id": "ab99e2d7"
   },
   "outputs": [],
   "source": [
    "df = df.filter(\n",
    "    (pl.col('date') <= pl.lit(march)) | \\\n",
    "    (pl.col('date') >= pl.lit(november))\n",
    ")"
   ]
  },
  {
   "cell_type": "code",
   "execution_count": null,
   "id": "d4c20526",
   "metadata": {
    "id": "d4c20526"
   },
   "outputs": [],
   "source": [
    "df = df.lazy().sort('date').drop('__index_level_0__').select([\n",
    "    pl.all().take_every(25) #Taking every 25th tweet since the data set is so huge\n",
    "]).collect()"
   ]
  },
  {
   "cell_type": "code",
   "execution_count": null,
   "id": "2a378835",
   "metadata": {
    "id": "2a378835"
   },
   "outputs": [],
   "source": [
    "df.write_parquet('final_project_data.parquet')"
   ]
  },
  {
   "cell_type": "code",
   "execution_count": null,
   "id": "bfed1684",
   "metadata": {
    "id": "bfed1684"
   },
   "outputs": [],
   "source": [
    "# Unit 1: NLP pipeline steps, clean and normalize text data\n",
    "# put into required structure e.g., vocab list, dataframe, etc.\n",
    "df = df.to_pandas()\n",
    "df_text = df[\"text\"]"
   ]
  },
  {
   "cell_type": "code",
   "execution_count": null,
   "id": "8fe51495",
   "metadata": {
    "id": "8fe51495"
   },
   "outputs": [],
   "source": [
    "def text_cleaner(text):\n",
    "    stripped_text = re.sub(r'[\\r|\\n|\\r\\n]+', '\\n', text) # removes extra indentation\n",
    "    stripped_text = re.sub(r'(?<!\\S)#(\\S+)', '', stripped_text)\n",
    "    stripped_text = re.sub(r'http(\\S+)', '', stripped_text) #Making sure I take out URLs\n",
    "    stripped_text = re.sub(r'’', \"'\", stripped_text)\n",
    "    stripped_text = re.sub(r\"[^'\\w\\s\\.]+\", '', stripped_text) # remove non-period punctuation\n",
    "    stripped_text = re.sub(r\"(\\s*'\\s*s)\", 's', stripped_text) # possesive s\n",
    "    stripped_text = re.sub(r'\\d+\\.|\\d+', '', stripped_text) # remove digits with or without a following period\n",
    "    stripped_text = re.sub(r'[A-Z]\\.', '', stripped_text) # remove uppercase letters with following period\n",
    "    stripped_text = re.sub(r'\\s+', ' ', stripped_text) #removes extra whitespaces\n",
    "\n",
    "    return stripped_text\n",
    "\n",
    "corpus_cleaner = np.vectorize(text_cleaner)\n",
    "df['clean_text'] = corpus_cleaner(df_text)"
   ]
  },
  {
   "cell_type": "code",
   "execution_count": null,
   "id": "2536b59d",
   "metadata": {
    "id": "2536b59d",
    "outputId": "0a674ead-8233-4f3d-8481-3c6f5d9952d1"
   },
   "outputs": [
    {
     "name": "stdout",
     "output_type": "stream",
     "text": [
      "                                                     text                date  \\\n",
      "0       Footage of the airport bombing in Ivano-Franki... 2022-02-24 06:48:02   \n",
      "1       The simpsons predicted the crisis of #Ukraine ... 2022-02-24 06:48:05   \n",
      "2       I strongly condemn #Russia’s reckless attack o... 2022-02-24 06:48:08   \n",
      "3       RT, SPREAD AND SHARE, YOU CAN HELP UKRAINE #Uk... 2022-02-24 06:48:10   \n",
      "4       Footage of the airport bombing in Ivano-Franki... 2022-02-24 06:48:11   \n",
      "...                                                   ...                 ...   \n",
      "456207  Why Did Germany Side Cover Their Mouths During... 2022-12-02 23:53:59   \n",
      "456208  The defeat of the 155 enemy marine brigade / P... 2022-12-02 23:55:44   \n",
      "456209  The #HighLevelBridge in #Edmonton #Alberta #Ca... 2022-12-02 23:56:53   \n",
      "456210  #Ukraine: 3. UA General Staff report the repel... 2022-12-02 23:58:17   \n",
      "456211  #Edward #Snowden gets #Russian #passport after... 2022-12-02 23:58:49   \n",
      "\n",
      "                                               clean_text  \n",
      "0       Footage of the airport bombing in IvanoFrankiv...  \n",
      "1               The simpsons predicted the crisis of and   \n",
      "2       I strongly condemn reckless attack on which pu...  \n",
      "3               RT SPREAD AND SHARE YOU CAN HELP UKRAINE   \n",
      "4       Footage of the airport bombing in IvanoFrankiv...  \n",
      "...                                                   ...  \n",
      "456207  Why Did Germany Side Cover Their Mouths During...  \n",
      "456208       The defeat of the enemy marine brigade Part   \n",
      "456209  The in will be lit in purple for Womens Brain ...  \n",
      "456210   UA General Staff report the repelling of Russ...  \n",
      "456211                             gets after of guardian  \n",
      "\n",
      "[456212 rows x 3 columns]\n"
     ]
    }
   ],
   "source": [
    "print(df)"
   ]
  },
  {
   "cell_type": "code",
   "execution_count": null,
   "id": "822308e7",
   "metadata": {
    "id": "822308e7"
   },
   "outputs": [],
   "source": [
    "df.drop('location', axis = 1, inplace = True) #dropping location since the data is still so dense"
   ]
  },
  {
   "cell_type": "code",
   "execution_count": null,
   "id": "e760bf38",
   "metadata": {
    "id": "e760bf38",
    "outputId": "01027dd3-0490-42b0-e062-460e5019d59d"
   },
   "outputs": [
    {
     "data": {
      "text/plain": [
       "array(['footage of the airport bombing in ivanofrankivsk. ',\n",
       "       'the simpsons predicted the crisis of and ',\n",
       "       'i strongly condemn reckless attack on which puts at risk countless civilian lives. this is a grave breach of international law amp a serious threat to euroatlantic security. allies will meet to address russias renewed aggression. ',\n",
       "       ...,\n",
       "       'the in will be lit in purple for womens brain health day. womensbrains ',\n",
       "       ' ua general staff report the repelling of russian advances nr settlements in regions in last hours ua forces downing another orlan drone amp hitting russian control points personnel and weapons. ',\n",
       "       ' gets after of guardian'], dtype='<U824')"
      ]
     },
     "execution_count": 29,
     "metadata": {},
     "output_type": "execute_result"
    }
   ],
   "source": [
    "def lowercase(text): #function to convert all data to lowercases.\n",
    "    sents_lower = text.lower()\n",
    "    return sents_lower\n",
    "\n",
    "lowercases = np.vectorize(lowercase) # using np.vectorize so it can be applied to list of tweets.\n",
    "lower_text = lowercases(df.clean_text) #applying lowercase function to clean text\n",
    "lower_text"
   ]
  },
  {
   "cell_type": "code",
   "execution_count": null,
   "id": "a8abd4b4",
   "metadata": {
    "id": "a8abd4b4"
   },
   "outputs": [],
   "source": [
    "contractions_dict = {\"I'm\": 'I am',\n",
    " \"I'm'a\": 'I am about to',\n",
    " \"I'm'o\": 'I am going to',\n",
    " \"I've\": 'I have',\n",
    " \"I'll\": 'I will',\n",
    " \"I'll've\": 'I will have',\n",
    " \"I'd\": 'I would',\n",
    " \"I'd've\": 'I would have',\n",
    " 'Whatcha': 'What are you',\n",
    " \"amn't\": 'am not',\n",
    " \"ain't\": 'are not',\n",
    " \"aren't\": 'are not',\n",
    " \"'cause\": 'because',\n",
    " \"can't\": 'cannot',\n",
    " \"can't've\": 'cannot have',\n",
    " \"could've\": 'could have',\n",
    " \"couldn't\": 'could not',\n",
    " \"couldn't've\": 'could not have',\n",
    " \"daren't\": 'dare not',\n",
    " \"daresn't\": 'dare not',\n",
    " \"dasn't\": 'dare not',\n",
    " \"didn't\": 'did not',\n",
    " 'didn’t': 'did not',\n",
    " \"don't\": 'do not',\n",
    " 'don’t': 'do not',\n",
    " \"doesn't\": 'does not',\n",
    " \"e'er\": 'ever',\n",
    " \"everyone's\": 'everyone is',\n",
    " 'finna': 'fixing to',\n",
    " 'gimme': 'give me',\n",
    " \"gon't\": 'go not',\n",
    " 'gonna': 'going to',\n",
    " 'gotta': 'got to',\n",
    " \"hadn't\": 'had not',\n",
    " \"hadn't've\": 'had not have',\n",
    " \"hasn't\": 'has not',\n",
    " \"haven't\": 'have not',\n",
    " \"he've\": 'he have',\n",
    " \"he's\": 'he is',\n",
    " \"he'll\": 'he will',\n",
    " \"he'll've\": 'he will have',\n",
    " \"he'd\": 'he would',\n",
    " \"he'd've\": 'he would have',\n",
    " \"here's\": 'here is',\n",
    " \"how're\": 'how are',\n",
    " \"how'd\": 'how did',\n",
    " \"how'd'y\": 'how do you',\n",
    " \"how's\": 'how is',\n",
    " \"how'll\": 'how will',\n",
    " \"isn't\": 'is not',\n",
    " \"it's\": 'it is',\n",
    " \"'tis\": 'it is',\n",
    " \"'twas\": 'it was',\n",
    " \"it'll\": 'it will',\n",
    " \"it'll've\": 'it will have',\n",
    " \"it'd\": 'it would',\n",
    " \"it'd've\": 'it would have',\n",
    " 'kinda': 'kind of',\n",
    " \"let's\": 'let us',\n",
    " 'luv': 'love',\n",
    " \"ma'am\": 'madam',\n",
    " \"may've\": 'may have',\n",
    " \"mayn't\": 'may not',\n",
    " \"might've\": 'might have',\n",
    " \"mightn't\": 'might not',\n",
    " \"mightn't've\": 'might not have',\n",
    " \"must've\": 'must have',\n",
    " \"mustn't\": 'must not',\n",
    " \"mustn't've\": 'must not have',\n",
    " \"needn't\": 'need not',\n",
    " \"needn't've\": 'need not have',\n",
    " \"ne'er\": 'never',\n",
    " \"o'\": 'of',\n",
    " \"o'clock\": 'of the clock',\n",
    " \"ol'\": 'old',\n",
    " \"oughtn't\": 'ought not',\n",
    " \"oughtn't've\": 'ought not have',\n",
    " \"o'er\": 'over',\n",
    " \"shan't\": 'shall not',\n",
    " \"sha'n't\": 'shall not',\n",
    " \"shalln't\": 'shall not',\n",
    " \"shan't've\": 'shall not have',\n",
    " \"she's\": 'she is',\n",
    " \"she'll\": 'she will',\n",
    " \"she'd\": 'she would',\n",
    " \"she'd've\": 'she would have',\n",
    " \"should've\": 'should have',\n",
    " \"shouldn't\": 'should not',\n",
    " \"shouldn't've\": 'should not have',\n",
    " \"so've\": 'so have',\n",
    " \"so's\": 'so is',\n",
    " \"somebody's\": 'somebody is',\n",
    " \"someone's\": 'someone is',\n",
    " \"something's\": 'something is',\n",
    " 'sux': 'sucks',\n",
    " \"that're\": 'that are',\n",
    " \"that's\": 'that is',\n",
    " \"that'll\": 'that will',\n",
    " \"that'd\": 'that would',\n",
    " \"that'd've\": 'that would have',\n",
    " 'em': 'them',\n",
    " \"there're\": 'there are',\n",
    " \"there's\": 'there is',\n",
    " \"there'll\": 'there will',\n",
    " \"there'd\": 'there would',\n",
    " \"there'd've\": 'there would have',\n",
    " \"these're\": 'these are',\n",
    " \"they're\": 'they are',\n",
    " \"they've\": 'they have',\n",
    " \"they'll\": 'they will',\n",
    " \"they'll've\": 'they will have',\n",
    " \"they'd\": 'they would',\n",
    " \"they'd've\": 'they would have',\n",
    " \"this's\": 'this is',\n",
    " \"this'll\": 'this will',\n",
    " \"this'd\": 'this would',\n",
    " \"those're\": 'those are',\n",
    " \"to've\": 'to have',\n",
    " 'wanna': 'want to',\n",
    " \"wasn't\": 'was not',\n",
    " \"we're\": 'we are',\n",
    " \"we've\": 'we have',\n",
    " \"we'll\": 'we will',\n",
    " \"we'll've\": 'we will have',\n",
    " \"we'd\": 'we would',\n",
    " \"we'd've\": 'we would have',\n",
    " \"weren't\": 'were not',\n",
    " \"what're\": 'what are',\n",
    " \"what'd\": 'what did',\n",
    " \"what've\": 'what have',\n",
    " \"what's\": 'what is',\n",
    " \"what'll\": 'what will',\n",
    " \"what'll've\": 'what will have',\n",
    " \"when've\": 'when have',\n",
    " \"when's\": 'when is',\n",
    " \"where're\": 'where are',\n",
    " \"where'd\": 'where did',\n",
    " \"where've\": 'where have',\n",
    " \"where's\": 'where is',\n",
    " \"which's\": 'which is',\n",
    " \"who're\": 'who are',\n",
    " \"who've\": 'who have',\n",
    " \"who's\": 'who is',\n",
    " \"who'll\": 'who will',\n",
    " \"who'll've\": 'who will have',\n",
    " \"who'd\": 'who would',\n",
    " \"who'd've\": 'who would have',\n",
    " \"why're\": 'why are',\n",
    " \"why'd\": 'why did',\n",
    " \"why've\": 'why have',\n",
    " \"why's\": 'why is',\n",
    " \"will've\": 'will have',\n",
    " \"won't\": 'will not',\n",
    " \"won't've\": 'will not have',\n",
    " \"would've\": 'would have',\n",
    " \"wouldn't\": 'would not',\n",
    " \"wouldn't've\": 'would not have',\n",
    " \"y'all\": 'you all',\n",
    " \"y'all're\": 'you all are',\n",
    " \"y'all've\": 'you all have',\n",
    " \"y'all'd\": 'you all would',\n",
    " \"y'all'd've\": 'you all would have',\n",
    " \"you're\": 'you are',\n",
    " \"you've\": 'you have',\n",
    " \"you'll've\": 'you shall have',\n",
    " \"you'll\": 'you will',\n",
    " \"you'd\": 'you would',\n",
    " \"you'd've\": 'you would have',\n",
    " 'to cause': 'to cause',\n",
    " 'will cause': 'will cause',\n",
    " 'should cause': 'should cause',\n",
    " 'would cause': 'would cause',\n",
    " 'can cause': 'can cause',\n",
    " 'could cause': 'could cause',\n",
    " 'must cause': 'must cause',\n",
    " 'might cause': 'might cause',\n",
    " 'shall cause': 'shall cause',\n",
    " 'may cause': 'may cause',\n",
    " 'jan.': 'january',\n",
    " 'feb.': 'february',\n",
    " 'mar.': 'march',\n",
    " 'apr.': 'april',\n",
    " 'jun.': 'june',\n",
    " 'jul.': 'july',\n",
    " 'aug.': 'august',\n",
    " 'sep.': 'september',\n",
    " 'oct.': 'october',\n",
    " 'nov.': 'november',\n",
    " 'dec.': 'december',\n",
    " 'I’m': 'I am',\n",
    " 'I’m’a': 'I am about to',\n",
    " 'I’m’o': 'I am going to',\n",
    " 'I’ve': 'I have',\n",
    " 'I’ll': 'I will',\n",
    " 'I’ll’ve': 'I will have',\n",
    " 'I’d': 'I would',\n",
    " 'I’d’ve': 'I would have',\n",
    " 'amn’t': 'am not',\n",
    " 'ain’t': 'are not',\n",
    " 'aren’t': 'are not',\n",
    " '’cause': 'because',\n",
    " 'can’t': 'cannot',\n",
    " 'can’t’ve': 'cannot have',\n",
    " 'could’ve': 'could have',\n",
    " 'couldn’t': 'could not',\n",
    " 'couldn’t’ve': 'could not have',\n",
    " 'daren’t': 'dare not',\n",
    " 'daresn’t': 'dare not',\n",
    " 'dasn’t': 'dare not',\n",
    " 'doesn’t': 'does not',\n",
    " 'e’er': 'ever',\n",
    " 'everyone’s': 'everyone is',\n",
    " 'gon’t': 'go not',\n",
    " 'hadn’t': 'had not',\n",
    " 'hadn’t’ve': 'had not have',\n",
    " 'hasn’t': 'has not',\n",
    " 'haven’t': 'have not',\n",
    " 'he’ve': 'he have',\n",
    " 'he’s': 'he is',\n",
    " 'he’ll': 'he will',\n",
    " 'he’ll’ve': 'he will have',\n",
    " 'he’d': 'he would',\n",
    " 'he’d’ve': 'he would have',\n",
    " 'here’s': 'here is',\n",
    " 'how’re': 'how are',\n",
    " 'how’d': 'how did',\n",
    " 'how’d’y': 'how do you',\n",
    " 'how’s': 'how is',\n",
    " 'how’ll': 'how will',\n",
    " 'isn’t': 'is not',\n",
    " 'it’s': 'it is',\n",
    " '’tis': 'it is',\n",
    " '’twas': 'it was',\n",
    " 'it’ll': 'it will',\n",
    " 'it’ll’ve': 'it will have',\n",
    " 'it’d': 'it would',\n",
    " 'it’d’ve': 'it would have',\n",
    " 'let’s': 'let us',\n",
    " 'ma’am': 'madam',\n",
    " 'may’ve': 'may have',\n",
    " 'mayn’t': 'may not',\n",
    " 'might’ve': 'might have',\n",
    " 'mightn’t': 'might not',\n",
    " 'mightn’t’ve': 'might not have',\n",
    " 'must’ve': 'must have',\n",
    " 'mustn’t': 'must not',\n",
    " 'mustn’t’ve': 'must not have',\n",
    " 'needn’t': 'need not',\n",
    " 'needn’t’ve': 'need not have',\n",
    " 'ne’er': 'never',\n",
    " 'o’': 'of',\n",
    " 'o’clock': 'of the clock',\n",
    " 'ol’': 'old',\n",
    " 'oughtn’t': 'ought not',\n",
    " 'oughtn’t’ve': 'ought not have',\n",
    " 'o’er': 'over',\n",
    " 'shan’t': 'shall not',\n",
    " 'sha’n’t': 'shall not',\n",
    " 'shalln’t': 'shall not',\n",
    " 'shan’t’ve': 'shall not have',\n",
    " 'she’s': 'she is',\n",
    " 'she’ll': 'she will',\n",
    " 'she’d': 'she would',\n",
    " 'she’d’ve': 'she would have',\n",
    " 'should’ve': 'should have',\n",
    " 'shouldn’t': 'should not',\n",
    " 'shouldn’t’ve': 'should not have',\n",
    " 'so’ve': 'so have',\n",
    " 'so’s': 'so is',\n",
    " 'somebody’s': 'somebody is',\n",
    " 'someone’s': 'someone is',\n",
    " 'something’s': 'something is',\n",
    " 'that’re': 'that are',\n",
    " 'that’s': 'that is',\n",
    " 'that’ll': 'that will',\n",
    " 'that’d': 'that would',\n",
    " 'that’d’ve': 'that would have',\n",
    " 'there’re': 'there are',\n",
    " 'there’s': 'there is',\n",
    " 'there’ll': 'there will',\n",
    " 'there’d': 'there would',\n",
    " 'there’d’ve': 'there would have',\n",
    " 'these’re': 'these are',\n",
    " 'they’re': 'they are',\n",
    " 'they’ve': 'they have',\n",
    " 'they’ll': 'they will',\n",
    " 'they’ll’ve': 'they will have',\n",
    " 'they’d': 'they would',\n",
    " 'they’d’ve': 'they would have',\n",
    " 'this’s': 'this is',\n",
    " 'this’ll': 'this will',\n",
    " 'this’d': 'this would',\n",
    " 'those’re': 'those are',\n",
    " 'to’ve': 'to have',\n",
    " 'wasn’t': 'was not',\n",
    " 'we’re': 'we are',\n",
    " 'we’ve': 'we have',\n",
    " 'we’ll': 'we will',\n",
    " 'we’ll’ve': 'we will have',\n",
    " 'we’d': 'we would',\n",
    " 'we’d’ve': 'we would have',\n",
    " 'weren’t': 'were not',\n",
    " 'what’re': 'what are',\n",
    " 'what’d': 'what did',\n",
    " 'what’ve': 'what have',\n",
    " 'what’s': 'what is',\n",
    " 'what’ll': 'what will',\n",
    " 'what’ll’ve': 'what will have',\n",
    " 'when’ve': 'when have',\n",
    " 'when’s': 'when is',\n",
    " 'where’re': 'where are',\n",
    " 'where’d': 'where did',\n",
    " 'where’ve': 'where have',\n",
    " 'where’s': 'where is',\n",
    " 'which’s': 'which is',\n",
    " 'who’re': 'who are',\n",
    " 'who’ve': 'who have',\n",
    " 'who’s': 'who is',\n",
    " 'who’ll': 'who will',\n",
    " 'who’ll’ve': 'who will have',\n",
    " 'who’d': 'who would',\n",
    " 'who’d’ve': 'who would have',\n",
    " 'why’re': 'why are',\n",
    " 'why’d': 'why did',\n",
    " 'why’ve': 'why have',\n",
    " 'why’s': 'why is',\n",
    " 'will’ve': 'will have',\n",
    " 'won’t': 'will not',\n",
    " 'won’t’ve': 'will not have',\n",
    " 'would’ve': 'would have',\n",
    " 'wouldn’t': 'would not',\n",
    " 'wouldn’t’ve': 'would not have',\n",
    " 'y’all': 'you all',\n",
    " 'y’all’re': 'you all are',\n",
    " 'y’all’ve': 'you all have',\n",
    " 'y’all’d': 'you all would',\n",
    " 'y’all’d’ve': 'you all would have',\n",
    " 'you’re': 'you are',\n",
    " 'you’ve': 'you have',\n",
    " 'you’ll’ve': 'you shall have',\n",
    " 'you’ll': 'you will',\n",
    " 'you’d': 'you would',\n",
    " 'you’d’ve': 'you would have'}"
   ]
  },
  {
   "cell_type": "code",
   "execution_count": null,
   "id": "f5ea7bff",
   "metadata": {
    "id": "f5ea7bff",
    "outputId": "2a8f9398-5a61-42f0-f82a-c2e72c162119"
   },
   "outputs": [
    {
     "data": {
      "text/plain": [
       "array(['footage of the airport bombing in ivanofrankivsk.',\n",
       "       'the simpsons predicted the crisis of and',\n",
       "       'i strongly condemn reckless attack on which puts at risk countless civilian lives. this is a grave breach of international law amp a serious threat to euroatlantic security. allies will meet to address russias renewed aggression.',\n",
       "       ...,\n",
       "       'the in will be lit in purple for womens brain health day. womensbrains',\n",
       "       'ua general staff report the repelling of russian advances nr settlements in regions in last hours ua forces downing another orlan drone amp hitting russian control points personnel and weapons.',\n",
       "       'gets after of guardian'], dtype='<U823')"
      ]
     },
     "execution_count": 34,
     "metadata": {},
     "output_type": "execute_result"
    }
   ],
   "source": [
    "def expand_contractions(text):\n",
    "    expanded_words = [] #empty list of for expanded words\n",
    "    for word in text.split():\n",
    "        expanded_words.append(contractions_dict.get(word, word)) #read in contraction dictonary in cell above, using to expand contractions\n",
    "    expanded_text = ' '.join(expanded_words) #joining the expanded words back together.\n",
    "    return expanded_text\n",
    "\n",
    "expand_corpus = np.vectorize(expand_contractions)\n",
    "expanded_text = expand_corpus(lower_text)\n",
    "\n",
    "expanded_text"
   ]
  },
  {
   "cell_type": "code",
   "execution_count": null,
   "id": "b8929cf1",
   "metadata": {
    "id": "b8929cf1",
    "outputId": "0d4bbfe8-33af-4986-e5ae-9b7171672648"
   },
   "outputs": [
    {
     "name": "stderr",
     "output_type": "stream",
     "text": [
      "[nltk_data] Downloading package stopwords to\n",
      "[nltk_data]     C:\\Users\\lando\\AppData\\Roaming\\nltk_data...\n",
      "[nltk_data]   Unzipping corpora\\stopwords.zip.\n"
     ]
    }
   ],
   "source": [
    "nltk.download('stopwords')\n",
    "stopword_list = nltk.corpus.stopwords.words('english') #After looking through tweets, I didn't feel it was important to remove any addtional stopwords.\n"
   ]
  },
  {
   "cell_type": "code",
   "execution_count": null,
   "id": "87510688",
   "metadata": {
    "id": "87510688"
   },
   "outputs": [],
   "source": [
    "def remove_stopwords(text, is_lower_case=False): # Taking out words that show up often.\n",
    "    tokens = tokenizer.tokenize(text)\n",
    "    tokens = [token.strip() for token in tokens]\n",
    "    if is_lower_case:\n",
    "        filtered_tokens = [token for token in tokens if token not in stopword_list]\n",
    "    else:\n",
    "        filtered_tokens = [token for token in tokens if token.lower() not in stopword_list]\n",
    "    filtered_text = ' '.join(filtered_tokens)\n",
    "    return filtered_text"
   ]
  },
  {
   "cell_type": "code",
   "execution_count": null,
   "id": "d1054c4a",
   "metadata": {
    "id": "d1054c4a",
    "outputId": "c6b2f7a2-a6a6-48f8-afd6-52063b3a970c"
   },
   "outputs": [
    {
     "data": {
      "text/plain": [
       "array(['footage airport bombing ivanofrankivsk .',\n",
       "       'simpsons predicted crisis',\n",
       "       'strongly condemn reckless attack puts risk countless civilian lives. grave breach international law amp serious threat euroatlantic security. allies meet address russias renewed aggression .',\n",
       "       ..., 'lit purple womens brain health day. womensbrains',\n",
       "       'ua general staff report repelling russian advances nr settlements regions last hours ua forces downing another orlan drone amp hitting russian control points personnel weapons .',\n",
       "       'gets guardian'], dtype='<U756')"
      ]
     },
     "execution_count": 38,
     "metadata": {},
     "output_type": "execute_result"
    }
   ],
   "source": [
    "stop_corpus =np.vectorize(remove_stopwords)\n",
    "stopped_text = stop_corpus(expanded_text, is_lower_case = True)\n",
    "stopped_text\n"
   ]
  },
  {
   "cell_type": "code",
   "execution_count": null,
   "id": "8efaa299",
   "metadata": {
    "id": "8efaa299"
   },
   "outputs": [],
   "source": [
    "df = stopped_text"
   ]
  },
  {
   "cell_type": "code",
   "execution_count": null,
   "id": "79b33bc5",
   "metadata": {
    "id": "79b33bc5",
    "outputId": "6723d176-26c2-4f42-a761-0e9b13972760"
   },
   "outputs": [
    {
     "data": {
      "text/plain": [
       "array(['footage airport bombing ivanofrankivsk .',\n",
       "       'simpsons predicted crisis',\n",
       "       'strongly condemn reckless attack puts risk countless civilian lives. grave breach international law amp serious threat euroatlantic security. allies meet address russias renewed aggression .',\n",
       "       'rt spread share help ukraine',\n",
       "       'footage airport bombing ivanofrankivsk .'], dtype='<U756')"
      ]
     },
     "execution_count": 40,
     "metadata": {},
     "output_type": "execute_result"
    }
   ],
   "source": [
    "df[:5] # Checking cleaned tweets"
   ]
  },
  {
   "cell_type": "code",
   "execution_count": null,
   "id": "0fb12d29",
   "metadata": {
    "id": "0fb12d29"
   },
   "outputs": [],
   "source": [
    "df = pd.read_parquet('final_project_data.parquet') #reading in data"
   ]
  },
  {
   "cell_type": "code",
   "execution_count": null,
   "id": "2bb94336",
   "metadata": {
    "id": "2bb94336"
   },
   "outputs": [],
   "source": [
    "df.drop('location', axis='columns', inplace=True)\n",
    "df['cleaned_text'] = stopped_text\n",
    "df.to_parquet('final_project_data.parquet', index=False)"
   ]
  },
  {
   "cell_type": "code",
   "execution_count": null,
   "id": "95e8bdda",
   "metadata": {
    "id": "95e8bdda",
    "outputId": "927ee2f7-db6d-4896-f8e3-8e50862fa65d"
   },
   "outputs": [
    {
     "data": {
      "text/html": [
       "<div>\n",
       "<style scoped>\n",
       "    .dataframe tbody tr th:only-of-type {\n",
       "        vertical-align: middle;\n",
       "    }\n",
       "\n",
       "    .dataframe tbody tr th {\n",
       "        vertical-align: top;\n",
       "    }\n",
       "\n",
       "    .dataframe thead th {\n",
       "        text-align: right;\n",
       "    }\n",
       "</style>\n",
       "<table border=\"1\" class=\"dataframe\">\n",
       "  <thead>\n",
       "    <tr style=\"text-align: right;\">\n",
       "      <th></th>\n",
       "      <th>text</th>\n",
       "      <th>date</th>\n",
       "      <th>cleaned_text</th>\n",
       "    </tr>\n",
       "  </thead>\n",
       "  <tbody>\n",
       "    <tr>\n",
       "      <th>0</th>\n",
       "      <td>Footage of the airport bombing in Ivano-Franki...</td>\n",
       "      <td>2022-02-24 06:48:02</td>\n",
       "      <td>footage airport bombing ivanofrankivsk .</td>\n",
       "    </tr>\n",
       "    <tr>\n",
       "      <th>1</th>\n",
       "      <td>The simpsons predicted the crisis of #Ukraine ...</td>\n",
       "      <td>2022-02-24 06:48:05</td>\n",
       "      <td>simpsons predicted crisis</td>\n",
       "    </tr>\n",
       "    <tr>\n",
       "      <th>2</th>\n",
       "      <td>I strongly condemn #Russia’s reckless attack o...</td>\n",
       "      <td>2022-02-24 06:48:08</td>\n",
       "      <td>strongly condemn reckless attack puts risk cou...</td>\n",
       "    </tr>\n",
       "    <tr>\n",
       "      <th>3</th>\n",
       "      <td>RT, SPREAD AND SHARE, YOU CAN HELP UKRAINE #Uk...</td>\n",
       "      <td>2022-02-24 06:48:10</td>\n",
       "      <td>rt spread share help ukraine</td>\n",
       "    </tr>\n",
       "    <tr>\n",
       "      <th>4</th>\n",
       "      <td>Footage of the airport bombing in Ivano-Franki...</td>\n",
       "      <td>2022-02-24 06:48:11</td>\n",
       "      <td>footage airport bombing ivanofrankivsk .</td>\n",
       "    </tr>\n",
       "  </tbody>\n",
       "</table>\n",
       "</div>"
      ],
      "text/plain": [
       "                                                text                date  \\\n",
       "0  Footage of the airport bombing in Ivano-Franki... 2022-02-24 06:48:02   \n",
       "1  The simpsons predicted the crisis of #Ukraine ... 2022-02-24 06:48:05   \n",
       "2  I strongly condemn #Russia’s reckless attack o... 2022-02-24 06:48:08   \n",
       "3  RT, SPREAD AND SHARE, YOU CAN HELP UKRAINE #Uk... 2022-02-24 06:48:10   \n",
       "4  Footage of the airport bombing in Ivano-Franki... 2022-02-24 06:48:11   \n",
       "\n",
       "                                        cleaned_text  \n",
       "0           footage airport bombing ivanofrankivsk .  \n",
       "1                          simpsons predicted crisis  \n",
       "2  strongly condemn reckless attack puts risk cou...  \n",
       "3                       rt spread share help ukraine  \n",
       "4           footage airport bombing ivanofrankivsk .  "
      ]
     },
     "execution_count": 44,
     "metadata": {},
     "output_type": "execute_result"
    }
   ],
   "source": [
    "df.head()"
   ]
  },
  {
   "cell_type": "markdown",
   "id": "81cc4d5f",
   "metadata": {
    "id": "81cc4d5f"
   },
   "source": [
    "### Preprocessing steps\n",
    "\n",
    "\n",
    "I made sure to remove contractions, stopwords, special characters, links, hashtags, etc. Beyond some additional regex to make sure links and URLs were removed, I did not have to take do any abnormal cleaning steps. I was fairly through in the steps above, so additional cleaning should not be necessary for my analysis. The cleaned data is saved."
   ]
  },
  {
   "cell_type": "markdown",
   "id": "d9612a8e",
   "metadata": {
    "id": "d9612a8e"
   },
   "source": [
    "### Unit 2: At least feature engineering, optional to run topic modeling or text classification"
   ]
  },
  {
   "cell_type": "code",
   "execution_count": null,
   "id": "4ee47e94",
   "metadata": {
    "id": "4ee47e94"
   },
   "outputs": [],
   "source": [
    "df = pd.read_parquet('final_project_data.parquet')"
   ]
  },
  {
   "cell_type": "code",
   "execution_count": null,
   "id": "46e02811",
   "metadata": {
    "id": "46e02811"
   },
   "outputs": [],
   "source": [
    "df.head()"
   ]
  },
  {
   "cell_type": "code",
   "execution_count": null,
   "id": "446ba27e",
   "metadata": {
    "id": "446ba27e"
   },
   "outputs": [],
   "source": [
    "# feature engineering\n",
    "from sklearn.feature_extraction.text import TfidfVectorizer\n",
    "# tf = TfidfVectorizer() # todo parameters\n",
    "# tf.fit_transform(df['cleaned_text']).toarray()\n",
    "\n",
    "\n",
    "tv = TfidfVectorizer(min_df=0., max_df=1., norm = 'l2',\n",
    "                    use_idf = True, smooth_idf = True)                                          # set parameters of tf-idf vectorizer\n",
    "tv_matrix = tv.fit_transform(df.cleaned_text)                                                       # apply tf-idf to norm_corpus\n",
    "vocab = tv.get_feature_names_out()                                                              # apply vocab labels\n",
    "\n",
    "\n"
   ]
  },
  {
   "cell_type": "code",
   "execution_count": null,
   "id": "Hze9Hki-cAQl",
   "metadata": {
    "id": "Hze9Hki-cAQl"
   },
   "outputs": [],
   "source": [
    "from datetime import datetime"
   ]
  },
  {
   "cell_type": "code",
   "execution_count": null,
   "id": "Q22QdkNZcOIX",
   "metadata": {
    "id": "Q22QdkNZcOIX"
   },
   "outputs": [],
   "source": [
    "df.set_index('date', inplace = True)"
   ]
  },
  {
   "cell_type": "code",
   "execution_count": null,
   "id": "70fadbc3",
   "metadata": {
    "id": "70fadbc3"
   },
   "outputs": [],
   "source": [
    "start = datetime.fromisoformat('2022-02-24') #Limiting the data to march instead of april\n",
    "end = datetime.fromisoformat('2022-03-30')\n",
    "df_1 = df.loc[start:end] #breaking up dataset"
   ]
  },
  {
   "cell_type": "code",
   "execution_count": null,
   "id": "778831e7",
   "metadata": {
    "id": "778831e7"
   },
   "outputs": [],
   "source": [
    "start = datetime.fromisoformat('2022-11-01') # limiting data to just november\n",
    "end = datetime.fromisoformat('2022-12-04')\n",
    "df_2 = df.loc[start:end] #df_2 is the data set for tweets from the present."
   ]
  },
  {
   "cell_type": "code",
   "execution_count": null,
   "id": "P5cDYfemksyM",
   "metadata": {
    "colab": {
     "base_uri": "https://localhost:8080/"
    },
    "id": "P5cDYfemksyM",
    "outputId": "ef294579-0e21-4ba7-92a1-ed2d75557271"
   },
   "outputs": [
    {
     "data": {
      "text/plain": [
       "((400797, 2), (36439, 2))"
      ]
     },
     "execution_count": 11,
     "metadata": {},
     "output_type": "execute_result"
    }
   ],
   "source": [
    "df_1.shape, df_2.shape"
   ]
  },
  {
   "cell_type": "code",
   "execution_count": null,
   "id": "1904c9cd",
   "metadata": {
    "colab": {
     "base_uri": "https://localhost:8080/"
    },
    "id": "1904c9cd",
    "outputId": "b2b8476c-8277-4103-b55f-045110207956"
   },
   "outputs": [
    {
     "data": {
      "text/plain": [
       "(400797, 506)"
      ]
     },
     "execution_count": 8,
     "metadata": {},
     "output_type": "execute_result"
    }
   ],
   "source": [
    "# feature engineering\n",
    "from sklearn.feature_extraction.text import TfidfVectorizer\n",
    "tv_1 = TfidfVectorizer(min_df=0.005, max_df=1., norm = 'l2',\n",
    "                    use_idf = True, smooth_idf = True,\n",
    "                    ngram_range=(1, 2))  #used bigrams                                         # set parameters of tf-idf vectorizer\n",
    "tv_matrix_1 = tv_1.fit_transform(df_1.cleaned_text)                                                       # apply tf-idf to norm_corpus\n",
    "vocab = tv_1.get_feature_names_out()                                                              # apply vocab labels\n",
    "\n",
    "tv_matrix_1.shape\n"
   ]
  },
  {
   "cell_type": "code",
   "execution_count": null,
   "id": "5nT9Rbc1lC4E",
   "metadata": {
    "id": "5nT9Rbc1lC4E"
   },
   "outputs": [],
   "source": [
    "vocab"
   ]
  },
  {
   "cell_type": "code",
   "execution_count": null,
   "id": "8a91e508",
   "metadata": {
    "colab": {
     "base_uri": "https://localhost:8080/"
    },
    "id": "8a91e508",
    "outputId": "af7abf57-fe5e-49cb-fbef-84dc0458a7fb"
   },
   "outputs": [
    {
     "data": {
      "text/plain": [
       "(36439, 350)"
      ]
     },
     "execution_count": 9,
     "metadata": {},
     "output_type": "execute_result"
    }
   ],
   "source": [
    "# feature engineering\n",
    "# from sklearn.feature_extraction.text import TfidfVectorizer\n",
    "tv_2 = TfidfVectorizer(min_df=0.005, max_df=1., norm = 'l2',\n",
    "                    use_idf = True, smooth_idf = True,\n",
    "                    ngram_range = (1, 2))                                          # set parameters of tf-idf vectorizer\n",
    "tv_matrix_2 = tv_2.fit_transform(df_2.cleaned_text)                                                       # apply tf-idf to norm_corpus\n",
    "vocab = tv_2.get_feature_names_out()                                                              # apply vocab labels\n",
    "\n",
    "tv_matrix_2.shape\n"
   ]
  },
  {
   "cell_type": "code",
   "execution_count": null,
   "id": "xh8waUUwleU9",
   "metadata": {
    "id": "xh8waUUwleU9"
   },
   "outputs": [],
   "source": [
    "vocab"
   ]
  },
  {
   "cell_type": "markdown",
   "id": "335c06d9",
   "metadata": {
    "id": "335c06d9"
   },
   "source": [
    "### Which type of feature engineering did I do?"
   ]
  },
  {
   "cell_type": "markdown",
   "id": "58318f11",
   "metadata": {
    "id": "58318f11"
   },
   "source": [
    "I decided to go with TF-IDF for a couple of reasons, the most important being that, TF-IDF is a way to judge the topic of a piece of text. This is done by the kind of words it contains. Words are given a weight so it measures relevance, not frequency. Whereas, Word2vec produces one vector per word, and tf-idf produces a score. Since each tweet could contain a max of 140 characters discerning the weights of eatch word was important to me in order to perform topic modeling and sentiment analysis.\n",
    "\n",
    "Overall, Tfidf satisfied my needs of analysis. I also decided to look at bigrams since each tweet is relatively small."
   ]
  },
  {
   "cell_type": "markdown",
   "id": "2b2e6367",
   "metadata": {
    "id": "2b2e6367"
   },
   "source": [
    "### Analysis One: Topic Modeling"
   ]
  },
  {
   "cell_type": "markdown",
   "id": "e1777cfc",
   "metadata": {
    "id": "e1777cfc"
   },
   "source": [
    "## Topic Modeling"
   ]
  },
  {
   "cell_type": "code",
   "execution_count": null,
   "id": "7ab4bed3",
   "metadata": {
    "colab": {
     "base_uri": "https://localhost:8080/",
     "height": 424
    },
    "id": "7ab4bed3",
    "outputId": "c23f0655-c9df-49d9-cead-61fc22151f37"
   },
   "outputs": [
    {
     "data": {
      "text/html": [
       "\n",
       "  <div id=\"df-e00c3449-e9d6-48e7-8048-15695ff23682\">\n",
       "    <div class=\"colab-df-container\">\n",
       "      <div>\n",
       "<style scoped>\n",
       "    .dataframe tbody tr th:only-of-type {\n",
       "        vertical-align: middle;\n",
       "    }\n",
       "\n",
       "    .dataframe tbody tr th {\n",
       "        vertical-align: top;\n",
       "    }\n",
       "\n",
       "    .dataframe thead th {\n",
       "        text-align: right;\n",
       "    }\n",
       "</style>\n",
       "<table border=\"1\" class=\"dataframe\">\n",
       "  <thead>\n",
       "    <tr style=\"text-align: right;\">\n",
       "      <th></th>\n",
       "      <th>topic_1</th>\n",
       "      <th>topic_2</th>\n",
       "      <th>topic_3</th>\n",
       "      <th>topic_4</th>\n",
       "      <th>topic_5</th>\n",
       "    </tr>\n",
       "  </thead>\n",
       "  <tbody>\n",
       "    <tr>\n",
       "      <th>0</th>\n",
       "      <td>0.082844</td>\n",
       "      <td>0.665201</td>\n",
       "      <td>0.083599</td>\n",
       "      <td>0.082844</td>\n",
       "      <td>0.085513</td>\n",
       "    </tr>\n",
       "    <tr>\n",
       "      <th>1</th>\n",
       "      <td>0.100000</td>\n",
       "      <td>0.100000</td>\n",
       "      <td>0.101217</td>\n",
       "      <td>0.101859</td>\n",
       "      <td>0.596924</td>\n",
       "    </tr>\n",
       "    <tr>\n",
       "      <th>2</th>\n",
       "      <td>0.229913</td>\n",
       "      <td>0.045524</td>\n",
       "      <td>0.046339</td>\n",
       "      <td>0.630101</td>\n",
       "      <td>0.048122</td>\n",
       "    </tr>\n",
       "    <tr>\n",
       "      <th>3</th>\n",
       "      <td>0.724357</td>\n",
       "      <td>0.068166</td>\n",
       "      <td>0.069338</td>\n",
       "      <td>0.069072</td>\n",
       "      <td>0.069068</td>\n",
       "    </tr>\n",
       "    <tr>\n",
       "      <th>4</th>\n",
       "      <td>0.082844</td>\n",
       "      <td>0.665201</td>\n",
       "      <td>0.083599</td>\n",
       "      <td>0.082844</td>\n",
       "      <td>0.085513</td>\n",
       "    </tr>\n",
       "    <tr>\n",
       "      <th>...</th>\n",
       "      <td>...</td>\n",
       "      <td>...</td>\n",
       "      <td>...</td>\n",
       "      <td>...</td>\n",
       "      <td>...</td>\n",
       "    </tr>\n",
       "    <tr>\n",
       "      <th>400792</th>\n",
       "      <td>0.055265</td>\n",
       "      <td>0.604104</td>\n",
       "      <td>0.228524</td>\n",
       "      <td>0.056045</td>\n",
       "      <td>0.056062</td>\n",
       "    </tr>\n",
       "    <tr>\n",
       "      <th>400793</th>\n",
       "      <td>0.051304</td>\n",
       "      <td>0.051635</td>\n",
       "      <td>0.451492</td>\n",
       "      <td>0.050703</td>\n",
       "      <td>0.394866</td>\n",
       "    </tr>\n",
       "    <tr>\n",
       "      <th>400794</th>\n",
       "      <td>0.058051</td>\n",
       "      <td>0.058199</td>\n",
       "      <td>0.058490</td>\n",
       "      <td>0.057939</td>\n",
       "      <td>0.767321</td>\n",
       "    </tr>\n",
       "    <tr>\n",
       "      <th>400795</th>\n",
       "      <td>0.060642</td>\n",
       "      <td>0.061002</td>\n",
       "      <td>0.061595</td>\n",
       "      <td>0.580542</td>\n",
       "      <td>0.236218</td>\n",
       "    </tr>\n",
       "    <tr>\n",
       "      <th>400796</th>\n",
       "      <td>0.052983</td>\n",
       "      <td>0.785897</td>\n",
       "      <td>0.053460</td>\n",
       "      <td>0.053402</td>\n",
       "      <td>0.054258</td>\n",
       "    </tr>\n",
       "  </tbody>\n",
       "</table>\n",
       "<p>400797 rows × 5 columns</p>\n",
       "</div>\n",
       "      <button class=\"colab-df-convert\" onclick=\"convertToInteractive('df-e00c3449-e9d6-48e7-8048-15695ff23682')\"\n",
       "              title=\"Convert this dataframe to an interactive table.\"\n",
       "              style=\"display:none;\">\n",
       "        \n",
       "  <svg xmlns=\"http://www.w3.org/2000/svg\" height=\"24px\"viewBox=\"0 0 24 24\"\n",
       "       width=\"24px\">\n",
       "    <path d=\"M0 0h24v24H0V0z\" fill=\"none\"/>\n",
       "    <path d=\"M18.56 5.44l.94 2.06.94-2.06 2.06-.94-2.06-.94-.94-2.06-.94 2.06-2.06.94zm-11 1L8.5 8.5l.94-2.06 2.06-.94-2.06-.94L8.5 2.5l-.94 2.06-2.06.94zm10 10l.94 2.06.94-2.06 2.06-.94-2.06-.94-.94-2.06-.94 2.06-2.06.94z\"/><path d=\"M17.41 7.96l-1.37-1.37c-.4-.4-.92-.59-1.43-.59-.52 0-1.04.2-1.43.59L10.3 9.45l-7.72 7.72c-.78.78-.78 2.05 0 2.83L4 21.41c.39.39.9.59 1.41.59.51 0 1.02-.2 1.41-.59l7.78-7.78 2.81-2.81c.8-.78.8-2.07 0-2.86zM5.41 20L4 18.59l7.72-7.72 1.47 1.35L5.41 20z\"/>\n",
       "  </svg>\n",
       "      </button>\n",
       "      \n",
       "  <style>\n",
       "    .colab-df-container {\n",
       "      display:flex;\n",
       "      flex-wrap:wrap;\n",
       "      gap: 12px;\n",
       "    }\n",
       "\n",
       "    .colab-df-convert {\n",
       "      background-color: #E8F0FE;\n",
       "      border: none;\n",
       "      border-radius: 50%;\n",
       "      cursor: pointer;\n",
       "      display: none;\n",
       "      fill: #1967D2;\n",
       "      height: 32px;\n",
       "      padding: 0 0 0 0;\n",
       "      width: 32px;\n",
       "    }\n",
       "\n",
       "    .colab-df-convert:hover {\n",
       "      background-color: #E2EBFA;\n",
       "      box-shadow: 0px 1px 2px rgba(60, 64, 67, 0.3), 0px 1px 3px 1px rgba(60, 64, 67, 0.15);\n",
       "      fill: #174EA6;\n",
       "    }\n",
       "\n",
       "    [theme=dark] .colab-df-convert {\n",
       "      background-color: #3B4455;\n",
       "      fill: #D2E3FC;\n",
       "    }\n",
       "\n",
       "    [theme=dark] .colab-df-convert:hover {\n",
       "      background-color: #434B5C;\n",
       "      box-shadow: 0px 1px 3px 1px rgba(0, 0, 0, 0.15);\n",
       "      filter: drop-shadow(0px 1px 2px rgba(0, 0, 0, 0.3));\n",
       "      fill: #FFFFFF;\n",
       "    }\n",
       "  </style>\n",
       "\n",
       "      <script>\n",
       "        const buttonEl =\n",
       "          document.querySelector('#df-e00c3449-e9d6-48e7-8048-15695ff23682 button.colab-df-convert');\n",
       "        buttonEl.style.display =\n",
       "          google.colab.kernel.accessAllowed ? 'block' : 'none';\n",
       "\n",
       "        async function convertToInteractive(key) {\n",
       "          const element = document.querySelector('#df-e00c3449-e9d6-48e7-8048-15695ff23682');\n",
       "          const dataTable =\n",
       "            await google.colab.kernel.invokeFunction('convertToInteractive',\n",
       "                                                     [key], {});\n",
       "          if (!dataTable) return;\n",
       "\n",
       "          const docLinkHtml = 'Like what you see? Visit the ' +\n",
       "            '<a target=\"_blank\" href=https://colab.research.google.com/notebooks/data_table.ipynb>data table notebook</a>'\n",
       "            + ' to learn more about interactive tables.';\n",
       "          element.innerHTML = '';\n",
       "          dataTable['output_type'] = 'display_data';\n",
       "          await google.colab.output.renderOutput(dataTable, element);\n",
       "          const docLink = document.createElement('div');\n",
       "          docLink.innerHTML = docLinkHtml;\n",
       "          element.appendChild(docLink);\n",
       "        }\n",
       "      </script>\n",
       "    </div>\n",
       "  </div>\n",
       "  "
      ],
      "text/plain": [
       "         topic_1   topic_2   topic_3   topic_4   topic_5\n",
       "0       0.082844  0.665201  0.083599  0.082844  0.085513\n",
       "1       0.100000  0.100000  0.101217  0.101859  0.596924\n",
       "2       0.229913  0.045524  0.046339  0.630101  0.048122\n",
       "3       0.724357  0.068166  0.069338  0.069072  0.069068\n",
       "4       0.082844  0.665201  0.083599  0.082844  0.085513\n",
       "...          ...       ...       ...       ...       ...\n",
       "400792  0.055265  0.604104  0.228524  0.056045  0.056062\n",
       "400793  0.051304  0.051635  0.451492  0.050703  0.394866\n",
       "400794  0.058051  0.058199  0.058490  0.057939  0.767321\n",
       "400795  0.060642  0.061002  0.061595  0.580542  0.236218\n",
       "400796  0.052983  0.785897  0.053460  0.053402  0.054258\n",
       "\n",
       "[400797 rows x 5 columns]"
      ]
     },
     "execution_count": 46,
     "metadata": {},
     "output_type": "execute_result"
    }
   ],
   "source": [
    "lda = LatentDirichletAllocation(n_components=5, max_iter=50, random_state=42)                     # set parameters of LDA\n",
    "dt_matrix = lda.fit_transform(tv_matrix_1)                                                              # fit LDA to count vectorizer matrix\n",
    "features = pd.DataFrame(dt_matrix, columns = ['topic_1', 'topic_2', 'topic_3', 'topic_4', 'topic_5'])                       # show document-topic matrix as DF\n",
    "features\n"
   ]
  },
  {
   "cell_type": "code",
   "execution_count": null,
   "id": "1604d72f",
   "metadata": {
    "id": "1604d72f"
   },
   "outputs": [],
   "source": [
    "lda2 = LatentDirichletAllocation(n_components =5, max_iter=50, random_state=42)                     # set parameters of LDA\n",
    "dt_matrix = lda2.fit_transform(tv_matrix_2)                                                              # fit LDA to count vectorizer matrix\n",
    "features_2 = pd.DataFrame(dt_matrix, columns = ['topic_1', 'topic_2', 'topic_3', 'topic_4', 'topic_5'])                       # show document-topic matrix as DF\n",
    "features_2\n"
   ]
  },
  {
   "cell_type": "code",
   "execution_count": null,
   "id": "560d8228",
   "metadata": {
    "colab": {
     "base_uri": "https://localhost:8080/"
    },
    "id": "560d8228",
    "outputId": "792945d7-68d8-41c2-b292-cfa5564651db"
   },
   "outputs": [
    {
     "name": "stdout",
     "output_type": "stream",
     "text": [
      "Topic #1\n",
      "['russia' 'putin' 'russian' 'like' 'ukraine' 'get' 'help' 'us' 'need'\n",
      " 'ukrainian' 'attack' 'country' 'people' 'money' 'way']\n",
      "\n",
      "Topic #2\n",
      "['ukraine' 'time' 'war' 'video' 'one' 'today' 'best' 'russian' 'love'\n",
      " 'archive' 'archived' 'propaganda' 'minister' 'trump' 'archive video']\n",
      "\n",
      "Topic #3\n",
      "['live' 'world' 'link' 'germany' 'vs' 'cup' 'world cup' 'soldiers'\n",
      " 'ukrainian' 'people' 'live link' 'russian' 'states' 'united' 'read']\n",
      "\n",
      "Topic #4\n",
      "['amp' 'ukraine' 'region' 'support' 'war' 'stop' 'must' 'november' 'peace'\n",
      " 'new' 'end' 'russia' 'well' 'nato' 'iran']\n",
      "\n",
      "Topic #5\n",
      "['russian' 'via' 'ukraine' 'day' 'power' 'good' 'war' 'forces' 'near'\n",
      " 'kherson' 'video' 'new' 'check' 'morning' 'amp']\n",
      "\n"
     ]
    }
   ],
   "source": [
    "tt_matrix = lda2.components_\n",
    "\n",
    "vocab2 = np.array(tv_2.get_feature_names_out())\n",
    "for i, topic_weights in enumerate(tt_matrix): #enumerating over topics to get the 15 top words in each topic.\n",
    "    print(\"Topic #\" + str(i + 1))\n",
    "    biggest_weight_inds = list(reversed(np.argsort(topic_weights)[-15:]))\n",
    "    print(vocab2[biggest_weight_inds])\n",
    "    print()"
   ]
  },
  {
   "cell_type": "code",
   "execution_count": null,
   "id": "4d9344a4",
   "metadata": {
    "id": "4d9344a4"
   },
   "outputs": [],
   "source": [
    "labels = ['russia', 'video', 'world cup', 'peace', 'power'] # applying labels to topics\n",
    "\n",
    "corpus = np.array(df_2['text'])\n",
    "labels = [labels[topic] for topic in features_2.values.argmax(axis = 1)]\n",
    "corpus_df = pd.DataFrame({'Document': corpus, 'Category':labels}) #adding category of topics to corpus df"
   ]
  },
  {
   "cell_type": "code",
   "execution_count": null,
   "id": "SctEhNXM22JH",
   "metadata": {
    "colab": {
     "base_uri": "https://localhost:8080/",
     "height": 554
    },
    "id": "SctEhNXM22JH",
    "outputId": "71c2c181-d9d2-42ba-e11b-504cd524d77f"
   },
   "outputs": [
    {
     "data": {
      "text/html": [
       "\n",
       "  <div id=\"df-bcbc26c1-67f2-49a8-a014-a5056abab4cc\">\n",
       "    <div class=\"colab-df-container\">\n",
       "      <div>\n",
       "<style scoped>\n",
       "    .dataframe tbody tr th:only-of-type {\n",
       "        vertical-align: middle;\n",
       "    }\n",
       "\n",
       "    .dataframe tbody tr th {\n",
       "        vertical-align: top;\n",
       "    }\n",
       "\n",
       "    .dataframe thead th {\n",
       "        text-align: right;\n",
       "    }\n",
       "</style>\n",
       "<table border=\"1\" class=\"dataframe\">\n",
       "  <thead>\n",
       "    <tr style=\"text-align: right;\">\n",
       "      <th></th>\n",
       "      <th>Document</th>\n",
       "      <th>Category</th>\n",
       "    </tr>\n",
       "  </thead>\n",
       "  <tbody>\n",
       "    <tr>\n",
       "      <th>0</th>\n",
       "      <td>#Ukrainian Soldiers Tell the REALITY of What Made the Kharkiv Offensive Work!  https://t.co/JqyBCiCa5z \\n\\n#UkraineRussianWar #UkraineWillWin</td>\n",
       "      <td>power</td>\n",
       "    </tr>\n",
       "    <tr>\n",
       "      <th>1</th>\n",
       "      <td>@rwalsh777 That’s exactly the whole issue, public safety vs private rights\\nIts a tougher balance than most would like to admit\\nEveryone has rights &amp;amp; all have freedoms, but sometimes they cla...</td>\n",
       "      <td>russia</td>\n",
       "    </tr>\n",
       "    <tr>\n",
       "      <th>2</th>\n",
       "      <td>Thought provoking read. As in how can we resolve the pain for the survivors and not only how to prevent it now. Psychological trauma will be an immense issue.\\n#RussiaIsATerroristState\\nhttps://t....</td>\n",
       "      <td>world cup</td>\n",
       "    </tr>\n",
       "    <tr>\n",
       "      <th>3</th>\n",
       "      <td>Narcissists and #StandWithUkraine https://t.co/Sq5B8nr4kY via @YouTube</td>\n",
       "      <td>power</td>\n",
       "    </tr>\n",
       "    <tr>\n",
       "      <th>4</th>\n",
       "      <td>@Sleuthteller @lakecitygirl @liberal_party Please share far and wide ✔️\\nWakey Wakey 👀 \\nResearch isn't hard Enjoy mine 💯✅️\\n#Ukraine thread #Canada #USA \\nMake your own conclusions \\n#JustinTrude...</td>\n",
       "      <td>russia</td>\n",
       "    </tr>\n",
       "    <tr>\n",
       "      <th>...</th>\n",
       "      <td>...</td>\n",
       "      <td>...</td>\n",
       "    </tr>\n",
       "    <tr>\n",
       "      <th>36434</th>\n",
       "      <td>Why Did Germany Side Cover Their Mouths During Team Photo?\\n#Austria #Germany #Ukraine #Russia #البحرين https://t.co/HQKvYJtzUD</td>\n",
       "      <td>world cup</td>\n",
       "    </tr>\n",
       "    <tr>\n",
       "      <th>36435</th>\n",
       "      <td>The defeat of the 155 enemy marine brigade / Part 1\\n#Canada #Germany #America #Ukraine\\nhttps://t.co/J8hNy5I8e0</td>\n",
       "      <td>video</td>\n",
       "    </tr>\n",
       "    <tr>\n",
       "      <th>36436</th>\n",
       "      <td>The #HighLevelBridge in #Edmonton #Alberta #Canada will be lit in purple for Women's Brain Health Day. \\n💻https://t.co/Y24e3Dhby4 #BrainHealth @womensbrains #Yeg #LightTheBridge💟 https://t.co/t8Du...</td>\n",
       "      <td>power</td>\n",
       "    </tr>\n",
       "    <tr>\n",
       "      <th>36437</th>\n",
       "      <td>#Ukraine: 3. UA General Staff report the repelling of Russian advances nr 14 settlements in #Donetsk/#Luhansk regions in last 24 hours, UA forces downing another Orlan-10 drone &amp;amp; hitting 4 Rus...</td>\n",
       "      <td>peace</td>\n",
       "    </tr>\n",
       "    <tr>\n",
       "      <th>36438</th>\n",
       "      <td>#Edward #Snowden gets #Russian #passport after #swearing #oath of #allegiance https://t.co/XwdWwxPRyg @guardian</td>\n",
       "      <td>russia</td>\n",
       "    </tr>\n",
       "  </tbody>\n",
       "</table>\n",
       "<p>36439 rows × 2 columns</p>\n",
       "</div>\n",
       "      <button class=\"colab-df-convert\" onclick=\"convertToInteractive('df-bcbc26c1-67f2-49a8-a014-a5056abab4cc')\"\n",
       "              title=\"Convert this dataframe to an interactive table.\"\n",
       "              style=\"display:none;\">\n",
       "        \n",
       "  <svg xmlns=\"http://www.w3.org/2000/svg\" height=\"24px\"viewBox=\"0 0 24 24\"\n",
       "       width=\"24px\">\n",
       "    <path d=\"M0 0h24v24H0V0z\" fill=\"none\"/>\n",
       "    <path d=\"M18.56 5.44l.94 2.06.94-2.06 2.06-.94-2.06-.94-.94-2.06-.94 2.06-2.06.94zm-11 1L8.5 8.5l.94-2.06 2.06-.94-2.06-.94L8.5 2.5l-.94 2.06-2.06.94zm10 10l.94 2.06.94-2.06 2.06-.94-2.06-.94-.94-2.06-.94 2.06-2.06.94z\"/><path d=\"M17.41 7.96l-1.37-1.37c-.4-.4-.92-.59-1.43-.59-.52 0-1.04.2-1.43.59L10.3 9.45l-7.72 7.72c-.78.78-.78 2.05 0 2.83L4 21.41c.39.39.9.59 1.41.59.51 0 1.02-.2 1.41-.59l7.78-7.78 2.81-2.81c.8-.78.8-2.07 0-2.86zM5.41 20L4 18.59l7.72-7.72 1.47 1.35L5.41 20z\"/>\n",
       "  </svg>\n",
       "      </button>\n",
       "      \n",
       "  <style>\n",
       "    .colab-df-container {\n",
       "      display:flex;\n",
       "      flex-wrap:wrap;\n",
       "      gap: 12px;\n",
       "    }\n",
       "\n",
       "    .colab-df-convert {\n",
       "      background-color: #E8F0FE;\n",
       "      border: none;\n",
       "      border-radius: 50%;\n",
       "      cursor: pointer;\n",
       "      display: none;\n",
       "      fill: #1967D2;\n",
       "      height: 32px;\n",
       "      padding: 0 0 0 0;\n",
       "      width: 32px;\n",
       "    }\n",
       "\n",
       "    .colab-df-convert:hover {\n",
       "      background-color: #E2EBFA;\n",
       "      box-shadow: 0px 1px 2px rgba(60, 64, 67, 0.3), 0px 1px 3px 1px rgba(60, 64, 67, 0.15);\n",
       "      fill: #174EA6;\n",
       "    }\n",
       "\n",
       "    [theme=dark] .colab-df-convert {\n",
       "      background-color: #3B4455;\n",
       "      fill: #D2E3FC;\n",
       "    }\n",
       "\n",
       "    [theme=dark] .colab-df-convert:hover {\n",
       "      background-color: #434B5C;\n",
       "      box-shadow: 0px 1px 3px 1px rgba(0, 0, 0, 0.15);\n",
       "      filter: drop-shadow(0px 1px 2px rgba(0, 0, 0, 0.3));\n",
       "      fill: #FFFFFF;\n",
       "    }\n",
       "  </style>\n",
       "\n",
       "      <script>\n",
       "        const buttonEl =\n",
       "          document.querySelector('#df-bcbc26c1-67f2-49a8-a014-a5056abab4cc button.colab-df-convert');\n",
       "        buttonEl.style.display =\n",
       "          google.colab.kernel.accessAllowed ? 'block' : 'none';\n",
       "\n",
       "        async function convertToInteractive(key) {\n",
       "          const element = document.querySelector('#df-bcbc26c1-67f2-49a8-a014-a5056abab4cc');\n",
       "          const dataTable =\n",
       "            await google.colab.kernel.invokeFunction('convertToInteractive',\n",
       "                                                     [key], {});\n",
       "          if (!dataTable) return;\n",
       "\n",
       "          const docLinkHtml = 'Like what you see? Visit the ' +\n",
       "            '<a target=\"_blank\" href=https://colab.research.google.com/notebooks/data_table.ipynb>data table notebook</a>'\n",
       "            + ' to learn more about interactive tables.';\n",
       "          element.innerHTML = '';\n",
       "          dataTable['output_type'] = 'display_data';\n",
       "          await google.colab.output.renderOutput(dataTable, element);\n",
       "          const docLink = document.createElement('div');\n",
       "          docLink.innerHTML = docLinkHtml;\n",
       "          element.appendChild(docLink);\n",
       "        }\n",
       "      </script>\n",
       "    </div>\n",
       "  </div>\n",
       "  "
      ],
      "text/plain": [
       "                                                                                                                                                                                                      Document  \\\n",
       "0                                                                #Ukrainian Soldiers Tell the REALITY of What Made the Kharkiv Offensive Work!  https://t.co/JqyBCiCa5z \\n\\n#UkraineRussianWar #UkraineWillWin   \n",
       "1      @rwalsh777 That’s exactly the whole issue, public safety vs private rights\\nIts a tougher balance than most would like to admit\\nEveryone has rights &amp; all have freedoms, but sometimes they cla...   \n",
       "2      Thought provoking read. As in how can we resolve the pain for the survivors and not only how to prevent it now. Psychological trauma will be an immense issue.\\n#RussiaIsATerroristState\\nhttps://t....   \n",
       "3                                                                                                                                       Narcissists and #StandWithUkraine https://t.co/Sq5B8nr4kY via @YouTube   \n",
       "4      @Sleuthteller @lakecitygirl @liberal_party Please share far and wide ✔️\\nWakey Wakey 👀 \\nResearch isn't hard Enjoy mine 💯✅️\\n#Ukraine thread #Canada #USA \\nMake your own conclusions \\n#JustinTrude...   \n",
       "...                                                                                                                                                                                                        ...   \n",
       "36434                                                                          Why Did Germany Side Cover Their Mouths During Team Photo?\\n#Austria #Germany #Ukraine #Russia #البحرين https://t.co/HQKvYJtzUD   \n",
       "36435                                                                                         The defeat of the 155 enemy marine brigade / Part 1\\n#Canada #Germany #America #Ukraine\\nhttps://t.co/J8hNy5I8e0   \n",
       "36436  The #HighLevelBridge in #Edmonton #Alberta #Canada will be lit in purple for Women's Brain Health Day. \\n💻https://t.co/Y24e3Dhby4 #BrainHealth @womensbrains #Yeg #LightTheBridge💟 https://t.co/t8Du...   \n",
       "36437  #Ukraine: 3. UA General Staff report the repelling of Russian advances nr 14 settlements in #Donetsk/#Luhansk regions in last 24 hours, UA forces downing another Orlan-10 drone &amp; hitting 4 Rus...   \n",
       "36438                                                                                          #Edward #Snowden gets #Russian #passport after #swearing #oath of #allegiance https://t.co/XwdWwxPRyg @guardian   \n",
       "\n",
       "        Category  \n",
       "0          power  \n",
       "1         russia  \n",
       "2      world cup  \n",
       "3          power  \n",
       "4         russia  \n",
       "...          ...  \n",
       "36434  world cup  \n",
       "36435      video  \n",
       "36436      power  \n",
       "36437      peace  \n",
       "36438     russia  \n",
       "\n",
       "[36439 rows x 2 columns]"
      ]
     },
     "execution_count": 45,
     "metadata": {},
     "output_type": "execute_result"
    }
   ],
   "source": [
    "corpus_df"
   ]
  },
  {
   "cell_type": "code",
   "execution_count": null,
   "id": "8513b868",
   "metadata": {
    "colab": {
     "base_uri": "https://localhost:8080/"
    },
    "id": "8513b868",
    "outputId": "4c126652-24a2-45ae-eae4-bd722d8bb767"
   },
   "outputs": [
    {
     "name": "stdout",
     "output_type": "stream",
     "text": [
      "Topic #1\n",
      "['needs' 'potus' 'please' 'via' 'thank' 'defend' 'stop' 'innocent'\n",
      " 'weapons' 'humanitarian' 'provide' 'follow' 'rt' 'assistance' 'civilian']\n",
      "\n",
      "Topic #2\n",
      "['russian' 'ukrainian' 'forces' 'army' 'video' 'destroyed' 'soldiers'\n",
      " 'one' 'killed' 'kyiv' 'city' 'near' 'captured' 'military' 'region']\n",
      "\n",
      "Topic #3\n",
      "['war' 'putin' 'amp' 'people' 'world' 'russia' 'us' 'go' 'like' 'get'\n",
      " 'would' 'ukraine' 'know' 'help' 'good']\n",
      "\n",
      "Topic #4\n",
      "['ukraine' 'president' 'invasion' 'russia' 'war' 'people' 'support'\n",
      " 'russian' 'today' 'amp' 'new' 'march' 'international' 'foreign' 'russias']\n",
      "\n",
      "Topic #5\n",
      "['amp' 'ukraine' 'nato' 'russia' 'un' 'russian' 'people' 'border' 'aid'\n",
      " 'security' 'close' 'troops' 'refugees' 'million' 'media']\n",
      "\n"
     ]
    }
   ],
   "source": [
    "#same as above just running for datafarme 1\n",
    "tt_matrix = lda.components_\n",
    "\n",
    "vocab = np.array(tv_1.get_feature_names_out())\n",
    "for i, topic_weights in enumerate(tt_matrix):\n",
    "    print(\"Topic #\" + str(i + 1))\n",
    "    biggest_weight_inds = list(reversed(np.argsort(topic_weights)[-15:]))\n",
    "    print(vocab[biggest_weight_inds])\n",
    "    print()"
   ]
  },
  {
   "cell_type": "code",
   "execution_count": null,
   "id": "EQwrjaP3BEgG",
   "metadata": {
    "id": "EQwrjaP3BEgG"
   },
   "outputs": [],
   "source": [
    "labels = ['peace', 'kyiv', 'putin', 'invasion', 'nato']\n",
    "\n",
    "corpus = np.array(df_1['text'])\n",
    "labels = [labels[topic] for topic in features.values.argmax(axis = 1)]\n",
    "corpus_df = pd.DataFrame({'Document': corpus, 'Category':labels})"
   ]
  },
  {
   "cell_type": "code",
   "execution_count": null,
   "id": "OD2igdI4DCLh",
   "metadata": {
    "colab": {
     "base_uri": "https://localhost:8080/",
     "height": 572
    },
    "id": "OD2igdI4DCLh",
    "outputId": "68cf0243-662a-4db8-a9bc-a1a6ced8df47"
   },
   "outputs": [
    {
     "data": {
      "text/html": [
       "\n",
       "  <div id=\"df-e1fc431e-64c3-4575-b827-127dc399b47e\">\n",
       "    <div class=\"colab-df-container\">\n",
       "      <div>\n",
       "<style scoped>\n",
       "    .dataframe tbody tr th:only-of-type {\n",
       "        vertical-align: middle;\n",
       "    }\n",
       "\n",
       "    .dataframe tbody tr th {\n",
       "        vertical-align: top;\n",
       "    }\n",
       "\n",
       "    .dataframe thead th {\n",
       "        text-align: right;\n",
       "    }\n",
       "</style>\n",
       "<table border=\"1\" class=\"dataframe\">\n",
       "  <thead>\n",
       "    <tr style=\"text-align: right;\">\n",
       "      <th></th>\n",
       "      <th>Document</th>\n",
       "      <th>Category</th>\n",
       "    </tr>\n",
       "  </thead>\n",
       "  <tbody>\n",
       "    <tr>\n",
       "      <th>0</th>\n",
       "      <td>Footage of the airport bombing in Ivano-Frankivsk. #Ukraine #Russia https://t.co/MLVuNyPItI</td>\n",
       "      <td>kyiv</td>\n",
       "    </tr>\n",
       "    <tr>\n",
       "      <th>1</th>\n",
       "      <td>The simpsons predicted the crisis of #Ukraine and #Russia\\n\\n#Kiev #RussiaUkraineConflict https://t.co/QwM9SHuJDK</td>\n",
       "      <td>nato</td>\n",
       "    </tr>\n",
       "    <tr>\n",
       "      <th>2</th>\n",
       "      <td>I strongly condemn #Russia’s reckless attack on #Ukraine, which puts at risk countless civilian lives. This is a grave breach of international law &amp;amp; a serious threat to Euro-Atlantic security....</td>\n",
       "      <td>invasion</td>\n",
       "    </tr>\n",
       "    <tr>\n",
       "      <th>3</th>\n",
       "      <td>RT, SPREAD AND SHARE, YOU CAN HELP UKRAINE #Ukraine #Russia https://t.co/4Lq1Jjs6wc</td>\n",
       "      <td>peace</td>\n",
       "    </tr>\n",
       "    <tr>\n",
       "      <th>4</th>\n",
       "      <td>Footage of the airport bombing in Ivano-Frankivsk. #Ukraine #Russia #TerceraGuerraMundial #rusia #ucrania #UkraineRussie https://t.co/D7fPnnlUwk</td>\n",
       "      <td>kyiv</td>\n",
       "    </tr>\n",
       "    <tr>\n",
       "      <th>...</th>\n",
       "      <td>...</td>\n",
       "      <td>...</td>\n",
       "    </tr>\n",
       "    <tr>\n",
       "      <th>400792</th>\n",
       "      <td>This woman drove six generators from Krakow to the outskirts of #Kyiv, and just urgently unloaded one for our soldiers in Irpin. “Gotta go now, it’s very loud here,” she said. My mother is unbelie...</td>\n",
       "      <td>kyiv</td>\n",
       "    </tr>\n",
       "    <tr>\n",
       "      <th>400793</th>\n",
       "      <td>Today is a good time for a reminder that #Russia will do everything to appear as if they are the good guy, humanitarian etc.  They killed thousands for a needless war.   They cannot gain a single ...</td>\n",
       "      <td>putin</td>\n",
       "    </tr>\n",
       "    <tr>\n",
       "      <th>400794</th>\n",
       "      <td>Signing an agreement on security guarantees for #Ukraine is possible only after the return of #Russian troops to their positions as of February 23, 2022, Ukrainian permanent representative to the ...</td>\n",
       "      <td>nato</td>\n",
       "    </tr>\n",
       "    <tr>\n",
       "      <th>400795</th>\n",
       "      <td>If @SenateForeign &amp;amp; @HouseForeign stand for peace &amp;amp; democracy, they should apply in #Tigray at least a fraction of their resolve in #Ukraine. Time to pass #S3199 &amp;amp; #HR6600\\n\\n@ChrisVan...</td>\n",
       "      <td>invasion</td>\n",
       "    </tr>\n",
       "    <tr>\n",
       "      <th>400796</th>\n",
       "      <td>#Ukraine - A woman stands in an apartment of a tenement house, damaged by a Russian missile strike in a village on the frontline of the northern part of Kyiv region.\\n📷 Anatolii Stepanov #AFP http...</td>\n",
       "      <td>kyiv</td>\n",
       "    </tr>\n",
       "  </tbody>\n",
       "</table>\n",
       "<p>400797 rows × 2 columns</p>\n",
       "</div>\n",
       "      <button class=\"colab-df-convert\" onclick=\"convertToInteractive('df-e1fc431e-64c3-4575-b827-127dc399b47e')\"\n",
       "              title=\"Convert this dataframe to an interactive table.\"\n",
       "              style=\"display:none;\">\n",
       "        \n",
       "  <svg xmlns=\"http://www.w3.org/2000/svg\" height=\"24px\"viewBox=\"0 0 24 24\"\n",
       "       width=\"24px\">\n",
       "    <path d=\"M0 0h24v24H0V0z\" fill=\"none\"/>\n",
       "    <path d=\"M18.56 5.44l.94 2.06.94-2.06 2.06-.94-2.06-.94-.94-2.06-.94 2.06-2.06.94zm-11 1L8.5 8.5l.94-2.06 2.06-.94-2.06-.94L8.5 2.5l-.94 2.06-2.06.94zm10 10l.94 2.06.94-2.06 2.06-.94-2.06-.94-.94-2.06-.94 2.06-2.06.94z\"/><path d=\"M17.41 7.96l-1.37-1.37c-.4-.4-.92-.59-1.43-.59-.52 0-1.04.2-1.43.59L10.3 9.45l-7.72 7.72c-.78.78-.78 2.05 0 2.83L4 21.41c.39.39.9.59 1.41.59.51 0 1.02-.2 1.41-.59l7.78-7.78 2.81-2.81c.8-.78.8-2.07 0-2.86zM5.41 20L4 18.59l7.72-7.72 1.47 1.35L5.41 20z\"/>\n",
       "  </svg>\n",
       "      </button>\n",
       "      \n",
       "  <style>\n",
       "    .colab-df-container {\n",
       "      display:flex;\n",
       "      flex-wrap:wrap;\n",
       "      gap: 12px;\n",
       "    }\n",
       "\n",
       "    .colab-df-convert {\n",
       "      background-color: #E8F0FE;\n",
       "      border: none;\n",
       "      border-radius: 50%;\n",
       "      cursor: pointer;\n",
       "      display: none;\n",
       "      fill: #1967D2;\n",
       "      height: 32px;\n",
       "      padding: 0 0 0 0;\n",
       "      width: 32px;\n",
       "    }\n",
       "\n",
       "    .colab-df-convert:hover {\n",
       "      background-color: #E2EBFA;\n",
       "      box-shadow: 0px 1px 2px rgba(60, 64, 67, 0.3), 0px 1px 3px 1px rgba(60, 64, 67, 0.15);\n",
       "      fill: #174EA6;\n",
       "    }\n",
       "\n",
       "    [theme=dark] .colab-df-convert {\n",
       "      background-color: #3B4455;\n",
       "      fill: #D2E3FC;\n",
       "    }\n",
       "\n",
       "    [theme=dark] .colab-df-convert:hover {\n",
       "      background-color: #434B5C;\n",
       "      box-shadow: 0px 1px 3px 1px rgba(0, 0, 0, 0.15);\n",
       "      filter: drop-shadow(0px 1px 2px rgba(0, 0, 0, 0.3));\n",
       "      fill: #FFFFFF;\n",
       "    }\n",
       "  </style>\n",
       "\n",
       "      <script>\n",
       "        const buttonEl =\n",
       "          document.querySelector('#df-e1fc431e-64c3-4575-b827-127dc399b47e button.colab-df-convert');\n",
       "        buttonEl.style.display =\n",
       "          google.colab.kernel.accessAllowed ? 'block' : 'none';\n",
       "\n",
       "        async function convertToInteractive(key) {\n",
       "          const element = document.querySelector('#df-e1fc431e-64c3-4575-b827-127dc399b47e');\n",
       "          const dataTable =\n",
       "            await google.colab.kernel.invokeFunction('convertToInteractive',\n",
       "                                                     [key], {});\n",
       "          if (!dataTable) return;\n",
       "\n",
       "          const docLinkHtml = 'Like what you see? Visit the ' +\n",
       "            '<a target=\"_blank\" href=https://colab.research.google.com/notebooks/data_table.ipynb>data table notebook</a>'\n",
       "            + ' to learn more about interactive tables.';\n",
       "          element.innerHTML = '';\n",
       "          dataTable['output_type'] = 'display_data';\n",
       "          await google.colab.output.renderOutput(dataTable, element);\n",
       "          const docLink = document.createElement('div');\n",
       "          docLink.innerHTML = docLinkHtml;\n",
       "          element.appendChild(docLink);\n",
       "        }\n",
       "      </script>\n",
       "    </div>\n",
       "  </div>\n",
       "  "
      ],
      "text/plain": [
       "                                                                                                                                                                                                       Document  \\\n",
       "0                                                                                                                   Footage of the airport bombing in Ivano-Frankivsk. #Ukraine #Russia https://t.co/MLVuNyPItI   \n",
       "1                                                                                             The simpsons predicted the crisis of #Ukraine and #Russia\\n\\n#Kiev #RussiaUkraineConflict https://t.co/QwM9SHuJDK   \n",
       "2       I strongly condemn #Russia’s reckless attack on #Ukraine, which puts at risk countless civilian lives. This is a grave breach of international law &amp; a serious threat to Euro-Atlantic security....   \n",
       "3                                                                                                                           RT, SPREAD AND SHARE, YOU CAN HELP UKRAINE #Ukraine #Russia https://t.co/4Lq1Jjs6wc   \n",
       "4                                                              Footage of the airport bombing in Ivano-Frankivsk. #Ukraine #Russia #TerceraGuerraMundial #rusia #ucrania #UkraineRussie https://t.co/D7fPnnlUwk   \n",
       "...                                                                                                                                                                                                         ...   \n",
       "400792  This woman drove six generators from Krakow to the outskirts of #Kyiv, and just urgently unloaded one for our soldiers in Irpin. “Gotta go now, it’s very loud here,” she said. My mother is unbelie...   \n",
       "400793  Today is a good time for a reminder that #Russia will do everything to appear as if they are the good guy, humanitarian etc.  They killed thousands for a needless war.   They cannot gain a single ...   \n",
       "400794  Signing an agreement on security guarantees for #Ukraine is possible only after the return of #Russian troops to their positions as of February 23, 2022, Ukrainian permanent representative to the ...   \n",
       "400795  If @SenateForeign &amp; @HouseForeign stand for peace &amp; democracy, they should apply in #Tigray at least a fraction of their resolve in #Ukraine. Time to pass #S3199 &amp; #HR6600\\n\\n@ChrisVan...   \n",
       "400796  #Ukraine - A woman stands in an apartment of a tenement house, damaged by a Russian missile strike in a village on the frontline of the northern part of Kyiv region.\\n📷 Anatolii Stepanov #AFP http...   \n",
       "\n",
       "        Category  \n",
       "0           kyiv  \n",
       "1           nato  \n",
       "2       invasion  \n",
       "3          peace  \n",
       "4           kyiv  \n",
       "...          ...  \n",
       "400792      kyiv  \n",
       "400793     putin  \n",
       "400794      nato  \n",
       "400795  invasion  \n",
       "400796      kyiv  \n",
       "\n",
       "[400797 rows x 2 columns]"
      ]
     },
     "execution_count": 50,
     "metadata": {},
     "output_type": "execute_result"
    }
   ],
   "source": [
    "corpus_df"
   ]
  },
  {
   "cell_type": "markdown",
   "id": "ca1b3eec",
   "metadata": {
    "id": "ca1b3eec"
   },
   "source": [
    "**Report any interesting findings below, describe a practical application(s) of this method in the real-world.**"
   ]
  },
  {
   "cell_type": "markdown",
   "id": "637f8016",
   "metadata": {
    "id": "637f8016"
   },
   "source": [
    "In the first dataframe df_1, 'Kyiv' is popular in topic 2 which makes sense because Russia was on the offensive in the area until it pulled its troops out in April. In df_1, topics tended to call more for assistance, intervention, and noticeable emotional reactions.\n",
    "In df_2 some interesting topics come up that initially don't make sense, we see the words 'archive', 'archived', 'video', and 'archive video' in topic 2. After some additional reading, I found that the is an archive compilation of videos, and pictures of the Ukraine war which might explain the uptick of this topic on social media. In topic 3, the words 'Germany', 'world cup', and 'cup' come up often. This is interesting because apparently at the World Cup the German national team put their hands over their mouths during the national anthem to protest human rights in Qatar. My guess is people used this protest as a way to bring attention to the human rights violations going on in Ukraine.\n",
    "In the 4th topic, we see mention of Iran; my guess is topics that are trending tend to overlap with other seemingly unrelated trending topics. Finally, in topic 5, we see the word 'Kherson' show up. Recently, Ukraine took back the Russian occupied city which could very easily be why we are seeing it as a trending tweet topic.\n",
    "\n",
    "I think this can be very useful for anyone who wants to analyze social media, I am glad I chose topic modeling with this particular dataset. I was surprised how dense the data was, even when I tried to filter it down. Being able to see trending topics offers insight into what is mattering to users on social media. As people change the way they recieve their news or interact politically, I think this kind of analysis will become more and more useful.  "
   ]
  },
  {
   "cell_type": "markdown",
   "id": "47b7f9d3",
   "metadata": {
    "id": "47b7f9d3"
   },
   "source": [
    "### Unit 4: Sentiment Analysis"
   ]
  },
  {
   "cell_type": "code",
   "execution_count": null,
   "id": "64133345",
   "metadata": {
    "colab": {
     "base_uri": "https://localhost:8080/"
    },
    "id": "64133345",
    "outputId": "822b70dc-c547-40f4-8100-a4d8ebe44051"
   },
   "outputs": [
    {
     "name": "stderr",
     "output_type": "stream",
     "text": [
      "[nltk_data] Downloading package vader_lexicon to /root/nltk_data...\n"
     ]
    },
    {
     "data": {
      "text/plain": [
       "True"
      ]
     },
     "execution_count": 10,
     "metadata": {},
     "output_type": "execute_result"
    }
   ],
   "source": [
    "from nltk.sentiment.vader import SentimentIntensityAnalyzer\n",
    "import nltk\n",
    "nltk.download('vader_lexicon')\n"
   ]
  },
  {
   "cell_type": "code",
   "execution_count": null,
   "id": "NKwh6EYbDXoX",
   "metadata": {
    "id": "NKwh6EYbDXoX"
   },
   "outputs": [],
   "source": [
    "def analyze_sentiment_vader_lexicon(text,\n",
    "                                    threshold=0.1,\n",
    "                                    verbose=False):\n",
    "\n",
    "    # analyze the sentiment for tweet\n",
    "    analyzer = SentimentIntensityAnalyzer()\n",
    "    scores = analyzer.polarity_scores(text)\n",
    "\n",
    "    # get aggregate scores and final sentiment\n",
    "    agg_score = scores['compound']\n",
    "    final_sentiment = 'positive' if agg_score >= threshold\\\n",
    "                                   else 'negative'\n",
    "    if verbose:\n",
    "        # display detailed sentiment statistics\n",
    "        positive = str(round(scores['pos'], 2)*100)+'%'\n",
    "        final = round(agg_score, 2)\n",
    "        negative = str(round(scores['neg'], 2)*100)+'%'\n",
    "        neutral = str(round(scores['neu'], 2)*100)+'%'\n",
    "        sentiment_frame = pd.DataFrame([[final_sentiment, final, positive,\n",
    "                                        negative, neutral]],\n",
    "                                        columns=pd.MultiIndex(levels=[['SENTIMENT STATS:'],\n",
    "                                                                      ['Predicted Sentiment', 'Polarity Score',\n",
    "                                                                       'Positive', 'Negative', 'Neutral']],\n",
    "                                                              codes=[[0,0,0,0,0],[0,1,2,3,4]]))\n",
    "        print(sentiment_frame)\n",
    "\n",
    "    return final_sentiment\n"
   ]
  },
  {
   "cell_type": "code",
   "execution_count": null,
   "id": "bglkh-XEDXrQ",
   "metadata": {
    "colab": {
     "base_uri": "https://localhost:8080/"
    },
    "id": "bglkh-XEDXrQ",
    "outputId": "4399b2ab-3725-4840-9e03-8402a97f6812"
   },
   "outputs": [
    {
     "name": "stdout",
     "output_type": "stream",
     "text": [
      "Tweet: Footage of the airport bombing in Ivano-Frankivsk. #Ukraine #Russia https://t.co/MLVuNyPItI\n",
      "     SENTIMENT STATS:                                         \n",
      "  Predicted Sentiment Polarity Score Positive Negative Neutral\n",
      "0            negative            0.0     0.0%     0.0%  100.0%\n",
      "------------------------------------------------------------\n",
      "Tweet: The simpsons predicted the crisis of #Ukraine and #Russia\n",
      "\n",
      "#Kiev #RussiaUkraineConflict https://t.co/QwM9SHuJDK\n",
      "     SENTIMENT STATS:                                         \n",
      "  Predicted Sentiment Polarity Score Positive Negative Neutral\n",
      "0            negative          -0.62     0.0%    27.0%   73.0%\n",
      "------------------------------------------------------------\n",
      "Tweet: I strongly condemn #Russia’s reckless attack on #Ukraine, which puts at risk countless civilian lives. This is a grave breach of international law &amp; a serious threat to Euro-Atlantic security. #NATO Allies will meet to address Russia’s renewed aggression. https://t.co/FPpyuzmUXD\n",
      "     SENTIMENT STATS:                                         \n",
      "  Predicted Sentiment Polarity Score Positive Negative Neutral\n",
      "0            negative          -0.93     9.0%    39.0%   52.0%\n",
      "------------------------------------------------------------\n",
      "Tweet: RT, SPREAD AND SHARE, YOU CAN HELP UKRAINE #Ukraine #Russia https://t.co/4Lq1Jjs6wc\n",
      "     SENTIMENT STATS:                                         \n",
      "  Predicted Sentiment Polarity Score Positive Negative Neutral\n",
      "0            positive           0.75    41.0%     0.0%   59.0%\n",
      "------------------------------------------------------------\n",
      "Tweet: Footage of the airport bombing in Ivano-Frankivsk. #Ukraine #Russia #TerceraGuerraMundial #rusia #ucrania #UkraineRussie https://t.co/D7fPnnlUwk\n",
      "     SENTIMENT STATS:                                         \n",
      "  Predicted Sentiment Polarity Score Positive Negative Neutral\n",
      "0            negative            0.0     0.0%     0.0%  100.0%\n",
      "------------------------------------------------------------\n",
      "Tweet: Russian armoured vehicles have entered deep into the Kharkov and Chernigov provinces - Federal police of Ukraine\n",
      "\n",
      "#RussiaUkraineConflict #Ukraine #Russia #RussiaUkraine #WWIII\n",
      "     SENTIMENT STATS:                                         \n",
      "  Predicted Sentiment Polarity Score Positive Negative Neutral\n",
      "0            negative            0.0     0.0%     0.0%  100.0%\n",
      "------------------------------------------------------------\n",
      "Tweet: ‘War and Piss’\n",
      "\n",
      "#Ukraine #Russia #UkraineRussiaConflict #Putin #Biden https://t.co/62edhCTx7t\n",
      "     SENTIMENT STATS:                                         \n",
      "  Predicted Sentiment Polarity Score Positive Negative Neutral\n",
      "0            negative            0.0     0.0%     0.0%  100.0%\n",
      "------------------------------------------------------------\n",
      "Tweet: It's happening 💥💥\n",
      "\n",
      "#Ukraina #UkraineRussie #UkraineRussiaConflict #Russia #worldwar3 #الحرب_العالمية_الثالثة https://t.co/oMCdF7w3bT\n",
      "     SENTIMENT STATS:                                         \n",
      "  Predicted Sentiment Polarity Score Positive Negative Neutral\n",
      "0            negative            0.0     0.0%     0.0%  100.0%\n",
      "------------------------------------------------------------\n",
      "Tweet: #Russia has launched full-scale invasion and war against #Ukraine, but @amnesty still has 'Israel apartheid' as their profile banner. Is not only a perversion of priorities, but just underscores their visceral Jew hatred. https://t.co/ksIBsShLnV\n",
      "     SENTIMENT STATS:                                         \n",
      "  Predicted Sentiment Polarity Score Positive Negative Neutral\n",
      "0            negative          -0.76     9.0%    20.0%   71.0%\n",
      "------------------------------------------------------------\n",
      "Tweet: #Pentagon: The #UnitedStates will transfer 800 troops &amp; up to 8 F-35 fighter jets from #Italy to the #BalticStates\n",
      "\n",
      "Also 20 AH64 Apache helicopters from #Germany &amp; 12 from #Greece going to #Poland\n",
      "\n",
      "#Russia #Ukraine #Donbass \n",
      "#UkraineConflict #UkraineCrisis\n",
      "https://t.co/I7NmSqYM4p https://t.co/OEVIUQPlGj\n",
      "     SENTIMENT STATS:                                         \n",
      "  Predicted Sentiment Polarity Score Positive Negative Neutral\n",
      "0            negative           0.15     4.0%     0.0%   96.0%\n",
      "------------------------------------------------------------\n",
      "Tweet: BREAKING: Over 800 Ukrainian military casualties. #Russia #Ukraine https://t.co/wiwTMhEWgX\n",
      "     SENTIMENT STATS:                                         \n",
      "  Predicted Sentiment Polarity Score Positive Negative Neutral\n",
      "0            negative            0.0     0.0%     0.0%  100.0%\n",
      "------------------------------------------------------------\n",
      "Tweet: 🇺🇦 Shelves in Ukrainian stores this morning alone. #Russia #Ukraine #UkraineWar #RussiaWar #Europe #EU #NATO #US [86] https://t.co/RKOd1GquG9\n",
      "     SENTIMENT STATS:                                         \n",
      "  Predicted Sentiment Polarity Score Positive Negative Neutral\n",
      "0            negative          -0.25     0.0%    10.0%   90.0%\n",
      "------------------------------------------------------------\n",
      "Tweet: The world must act immediately.- #Ukraine is at stake. \n",
      "To do list:\n",
      "1. Devastating sanctions on #Russia NOW, including SWIFT\n",
      "2. Fully isolate Russia by all means, in all formats\n",
      "3. Weapons, equipment for Ukraine\n",
      "4. Financial assistance\n",
      "5. Humanitarian assistance\n",
      "     SENTIMENT STATS:                                         \n",
      "  Predicted Sentiment Polarity Score Positive Negative Neutral\n",
      "0            negative          -0.78     5.0%    19.0%   76.0%\n",
      "------------------------------------------------------------\n",
      "Tweet: I strongly condemn #Russia’s reckless attack on #Ukraine, which puts at risk countless civilian lives. This is a grave breach of international law &amp; a serious threat to Euro-Atlantic security. #NATO Allies will meet to address Russia’s renewed aggression. https://t.co/FPpyuzmUXD\n",
      "     SENTIMENT STATS:                                         \n",
      "  Predicted Sentiment Polarity Score Positive Negative Neutral\n",
      "0            negative          -0.93     9.0%    39.0%   52.0%\n",
      "------------------------------------------------------------\n",
      "Tweet: Pershaps the #Fed is relieved that #Russia invaded the #Ukraine as now it has an excuse not to raise interest rates in Mar. If it wasn't this it would've been something else, but as far as excuses go this one's hard to top. #Gold spiked 1.5% and #Bitcoin dumped 5.5% on the news.\n",
      "     SENTIMENT STATS:                                         \n",
      "  Predicted Sentiment Polarity Score Positive Negative Neutral\n",
      "0            negative          -0.41     9.0%    12.0%   80.0%\n",
      "------------------------------------------------------------\n",
      "Tweet: Major Russian military convoy moving towards #Ukraine border in Gomel Oblast, #Belarus.\n",
      "\n",
      "Source: Nexta\n",
      "\n",
      "#RussiaUkraineConflict #Russia https://t.co/tzi4XeDOXG\n",
      "     SENTIMENT STATS:                                         \n",
      "  Predicted Sentiment Polarity Score Positive Negative Neutral\n",
      "0            negative            0.0     0.0%     0.0%  100.0%\n",
      "------------------------------------------------------------\n",
      "Tweet: THE STATE BORDER OF UKRAINE WAS ATTACKED BY RUSSIAN TROOPS FROM RUSSIA AND BELARUS - BORDER GUARDS SERVICE\n",
      "\n",
      "UKRAINE BORDER GUARDS SERVICE SAYS ATTACK ALSO TAKING PLACE FROM CRIMEA\n",
      "\n",
      "#Ukraine #Russia #NATO #UnitedStates #G7 #UnitedNations #BREAKING RTRS\n",
      "     SENTIMENT STATS:                                         \n",
      "  Predicted Sentiment Polarity Score Positive Negative Neutral\n",
      "0            negative          -0.82     0.0%    18.0%   82.0%\n",
      "------------------------------------------------------------\n",
      "Tweet: Putin sending Russian attack planes #Ukraina #ukraine #Putin #Russia https://t.co/p76fqGHJJm\n",
      "     SENTIMENT STATS:                                         \n",
      "  Predicted Sentiment Polarity Score Positive Negative Neutral\n",
      "0            negative          -0.48     0.0%    26.0%   74.0%\n",
      "------------------------------------------------------------\n",
      "Tweet: Now we know how our forebears felt when the world offered impotent resistance to the Third Reich.\n",
      "\n",
      "They all perished.\n",
      "\n",
      "#Putin \n",
      "#Russia\n",
      "     SENTIMENT STATS:                                         \n",
      "  Predicted Sentiment Polarity Score Positive Negative Neutral\n",
      "0            negative          -0.27     0.0%     9.0%   91.0%\n",
      "------------------------------------------------------------\n",
      "Tweet: When I asked #Putin at APEC 2007 in Sydney “What do you think of Australia - Is it what you expected?” He replied “I never think of Australia “ #RussiaUkraineConflict\n",
      "     SENTIMENT STATS:                                         \n",
      "  Predicted Sentiment Polarity Score Positive Negative Neutral\n",
      "0            negative            0.0     0.0%     0.0%  100.0%\n",
      "------------------------------------------------------------\n",
      "Tweet: Vladimir Putin has launched a full-scale military invasion of #Ukraine and demanded #Kyiv’s army lay down its weapons, launching what could be the largest conflict in Europe since the second world war.\n",
      "\n",
      "#UkraineRussiaConflict #RussiaUkraineConflict #Russia https://t.co/zqu1ks1uJ6\n",
      "     SENTIMENT STATS:                                         \n",
      "  Predicted Sentiment Polarity Score Positive Negative Neutral\n",
      "0            negative          -0.86     4.0%    26.0%   71.0%\n",
      "------------------------------------------------------------\n",
      "Tweet: My thoughts &amp; prayers are with the people of #Ukraine as they suffer an unjustifiable attack by #Russia\n",
      "\n",
      "President Putin @KremlinRussia_E must reflect on the imminent humanitarian crisis &amp; loss of life, stop the attacks &amp; revert to diplomacy.\n",
      "\n",
      "Let peace prevail 🇺🇦🇮🇪 https://t.co/BZwT3xL8V7\n",
      "     SENTIMENT STATS:                                         \n",
      "  Predicted Sentiment Polarity Score Positive Negative Neutral\n",
      "0            negative          -0.93     6.0%    31.0%   63.0%\n",
      "------------------------------------------------------------\n",
      "Tweet: The horror of watching people flee for their lives in Ukraine when Vladimir Putin declared war against a sovereign country. The entire world is with the people of Ukraine. \n",
      "\n",
      "There are no winners in a war. \n",
      "\n",
      "#Russia #ukraine #war #russianinvasion https://t.co/kC6BpCzSRF\n",
      "     SENTIMENT STATS:                                         \n",
      "  Predicted Sentiment Polarity Score Positive Negative Neutral\n",
      "0            negative          -0.89     6.0%    27.0%   67.0%\n",
      "------------------------------------------------------------\n",
      "Tweet: 🛑🛑🛑#BREAKING \n",
      "#Putin regime carry out strikes on Uman’ in Cherkassy region , at least 1 civilian was murdered \n",
      "Video is graphic \n",
      "#Ukraine #Russia #Putin https://t.co/eM4NofqOuY\n",
      "     SENTIMENT STATS:                                         \n",
      "  Predicted Sentiment Polarity Score Positive Negative Neutral\n",
      "0            negative          -0.78     0.0%    25.0%   75.0%\n",
      "------------------------------------------------------------\n",
      "Tweet: RT, SPREAD AND SHARE, YOU CAN HELP UKRAINE #Ukraine #Russia https://t.co/LHrthr1GIL\n",
      "     SENTIMENT STATS:                                         \n",
      "  Predicted Sentiment Polarity Score Positive Negative Neutral\n",
      "0            positive           0.75    41.0%     0.0%   59.0%\n",
      "------------------------------------------------------------\n",
      "Tweet: This was reportedly filmed in #Chuhuiiv, #Kharkiv region, east #Ukraine: results of a missile strike by #Russia’s armed forces\n",
      "\n",
      " https://t.co/FRTjtgnjlK\n",
      "     SENTIMENT STATS:                                         \n",
      "  Predicted Sentiment Polarity Score Positive Negative Neutral\n",
      "0            negative          -0.13     0.0%     8.0%   92.0%\n",
      "------------------------------------------------------------\n",
      "Tweet: Hitler is back! Heil Putin! #putin #russia\n",
      "     SENTIMENT STATS:                                         \n",
      "  Predicted Sentiment Polarity Score Positive Negative Neutral\n",
      "0            negative            0.0     0.0%     0.0%  100.0%\n",
      "------------------------------------------------------------\n",
      "Tweet: Footage of the airport bombing in Ivano-Frankivsk. #Ukraine #Russia \n",
      "#UkraineRussiaCrisis #SayNoToWar #UkraineAttack #akraineairports #Putin #UkraineWar https://t.co/XMNIPQo5tk\n",
      "     SENTIMENT STATS:                                         \n",
      "  Predicted Sentiment Polarity Score Positive Negative Neutral\n",
      "0            negative            0.0     0.0%     0.0%  100.0%\n",
      "------------------------------------------------------------\n",
      "Tweet: RT, SPREAD AND SHARE, YOU CAN HELP UKRAINE #Ukraine #Russia https://t.co/4Lq1Jjs6wc\n",
      "     SENTIMENT STATS:                                         \n",
      "  Predicted Sentiment Polarity Score Positive Negative Neutral\n",
      "0            positive           0.75    41.0%     0.0%   59.0%\n",
      "------------------------------------------------------------\n",
      "Tweet: Does this relates to the trending #worldwar3 #WWIII #RussiaUkraineCrisis #UkraineRussia #Russia #Ukraine https://t.co/BTV9kHflNx\n",
      "     SENTIMENT STATS:                                         \n",
      "  Predicted Sentiment Polarity Score Positive Negative Neutral\n",
      "0            negative            0.0     0.0%     0.0%  100.0%\n",
      "------------------------------------------------------------\n",
      "Tweet: What a day to be in #Russia and meeting #Putin just when he attacked his small neighbour. The World is getting ready to cut ties and put #economic #sanctions and we are for the first time warming our #ties. Unbelievable #Foriegn #strategy\n",
      "     SENTIMENT STATS:                                         \n",
      "  Predicted Sentiment Polarity Score Positive Negative Neutral\n",
      "0            negative          -0.05    13.0%    11.0%   77.0%\n",
      "------------------------------------------------------------\n",
      "Tweet: Footage of the airport bombing in Ivano-Frankivsk. #Ukraine #Russia https://t.co/MLVuNyPItI\n",
      "     SENTIMENT STATS:                                         \n",
      "  Predicted Sentiment Polarity Score Positive Negative Neutral\n",
      "0            negative            0.0     0.0%     0.0%  100.0%\n",
      "------------------------------------------------------------\n",
      "Tweet: Footage of the airport bombing in Ivano-Frankivsk. #Ukraine #Russia https://t.co/MLVuNyPItI\n",
      "     SENTIMENT STATS:                                         \n",
      "  Predicted Sentiment Polarity Score Positive Negative Neutral\n",
      "0            negative            0.0     0.0%     0.0%  100.0%\n",
      "------------------------------------------------------------\n",
      "Tweet: One very concerning development is #Russia has carried out a few targeted operations uncomfortably close to the Polish border\n",
      "\n",
      "This is the danger of miscalculation &amp; human error that can quickly lead to a catastrophic escalation\n",
      "     SENTIMENT STATS:                                                     \n",
      "  Predicted Sentiment Polarity Score Positive             Negative Neutral\n",
      "0            negative           -0.9     0.0%  28.999999999999996%   71.0%\n",
      "------------------------------------------------------------\n",
      "Tweet: #Ukraine military says #Russia commenced intensive shelling of its units in the east,  launched rocket strikes at airports in six cities and has attacked military facilities and border posts. https://t.co/OZ63KqJDVf\n",
      "     SENTIMENT STATS:                                         \n",
      "  Predicted Sentiment Polarity Score Positive Negative Neutral\n",
      "0            negative          -0.61     4.0%    16.0%   79.0%\n",
      "------------------------------------------------------------\n",
      "Tweet: Footage of the airport bombing in Ivano-Frankivsk. #Ukraine #Russia https://t.co/MLVuNyPItI\n",
      "     SENTIMENT STATS:                                         \n",
      "  Predicted Sentiment Polarity Score Positive Negative Neutral\n",
      "0            negative            0.0     0.0%     0.0%  100.0%\n",
      "------------------------------------------------------------\n",
      "Tweet: \"We share the same biology, regardless of ideology. Believe me when I say to you, I hope the russians loves their children too.\"\n",
      "STING / \"Russians\" 1985\n",
      "\n",
      "Nach 38 Jahren leider wieder aktuell. Aus der Geschichte nichts gelernt.\n",
      "Schade.\n",
      "\n",
      "#Ukraine\n",
      "#Russia\n",
      "     SENTIMENT STATS:                                         \n",
      "  Predicted Sentiment Polarity Score Positive Negative Neutral\n",
      "0            positive           0.83    20.0%     0.0%   80.0%\n",
      "------------------------------------------------------------\n",
      "Tweet: Via @Time: U.S. deploys forces in response to Putin's Ukraine moves #RussiaUkraineCrisis #Russia #ukraine #UkraineRussiaCrisis #Kyiv #Kiev https://t.co/SerssdvQEn #Putin #VladimirPutin\n",
      "     SENTIMENT STATS:                                         \n",
      "  Predicted Sentiment Polarity Score Positive Negative Neutral\n",
      "0            negative            0.0     0.0%     0.0%  100.0%\n",
      "------------------------------------------------------------\n",
      "Tweet: Ukraine Says Russia Has Launched a ‘Full-Scale’ Invasion\n",
      "Ukrainian officials said there have been missile strikes in Kyiv, Russian Defense Ministry says it's not attacking cities\n",
      "by Dave DeCamp\n",
      "@DecampDave #Ukraine #Russia #Donbas \n",
      "https://t.co/u0XLXVU6xM https://t.co/I8sOd6nd42\n",
      "     SENTIMENT STATS:                                                          \\\n",
      "  Predicted Sentiment Polarity Score             Positive            Negative   \n",
      "0            negative           0.25  14.000000000000002%  7.000000000000001%   \n",
      "\n",
      "           \n",
      "  Neutral  \n",
      "0   79.0%  \n",
      "------------------------------------------------------------\n",
      "Tweet: 🛑🛑🛑#BREAKING \n",
      "#Putin regime carry out strikes on Uman’ in Cherkassy region , at least 1 civilian was murdered \n",
      "Video is graphic \n",
      "#Ukraine #Russia #Putin https://t.co/eM4NofqOuY\n",
      "     SENTIMENT STATS:                                         \n",
      "  Predicted Sentiment Polarity Score Positive Negative Neutral\n",
      "0            negative          -0.78     0.0%    25.0%   75.0%\n",
      "------------------------------------------------------------\n",
      "Tweet: There are many kilometers of traffic jams at the exit from Kiev, people are leaving the city, The Insider reports.\n",
      "\n",
      "#Russia #Ukraine #Kiev #Kyiv #RussiaUkraine https://t.co/Rd8wIrTuG7\n",
      "     SENTIMENT STATS:                                         \n",
      "  Predicted Sentiment Polarity Score Positive Negative Neutral\n",
      "0            negative            0.0     0.0%     0.0%  100.0%\n",
      "------------------------------------------------------------\n",
      "Tweet: BREAKING: Over 800 Ukrainian military casualties. #Russia #Ukraine https://t.co/wiwTMhEWgX\n",
      "     SENTIMENT STATS:                                         \n",
      "  Predicted Sentiment Polarity Score Positive Negative Neutral\n",
      "0            negative            0.0     0.0%     0.0%  100.0%\n",
      "------------------------------------------------------------\n",
      "Tweet: Footage of the airport bombing in Ivano-Frankivsk. #Ukraine #Russia https://t.co/MLVuNyPItI\n",
      "     SENTIMENT STATS:                                         \n",
      "  Predicted Sentiment Polarity Score Positive Negative Neutral\n",
      "0            negative            0.0     0.0%     0.0%  100.0%\n",
      "------------------------------------------------------------\n",
      "Tweet: Footage of the airport bombing in Ivano-Frankivsk. #Ukraine #Russia #TerceraGuerraMundial #rusia #ucrania #UkraineRussie https://t.co/D7fPnnlUwk\n",
      "     SENTIMENT STATS:                                         \n",
      "  Predicted Sentiment Polarity Score Positive Negative Neutral\n",
      "0            negative            0.0     0.0%     0.0%  100.0%\n",
      "------------------------------------------------------------\n",
      "Tweet: The world must act immediately.- #Ukraine is at stake. \n",
      "To do list:\n",
      "1. Devastating sanctions on #Russia NOW, including SWIFT\n",
      "2. Fully isolate Russia by all means, in all formats\n",
      "3. Weapons, equipment for Ukraine\n",
      "4. Financial assistance\n",
      "5. Humanitarian assistance\n",
      "     SENTIMENT STATS:                                         \n",
      "  Predicted Sentiment Polarity Score Positive Negative Neutral\n",
      "0            negative          -0.78     5.0%    19.0%   76.0%\n",
      "------------------------------------------------------------\n",
      "Tweet: Explosions now in #Mariupol on the Sea of Azov. \n",
      "\n",
      "#Russia #Ukraine https://t.co/wsqx2H8xYj\n",
      "     SENTIMENT STATS:                                         \n",
      "  Predicted Sentiment Polarity Score Positive Negative Neutral\n",
      "0            negative            0.0     0.0%     0.0%  100.0%\n",
      "------------------------------------------------------------\n",
      "Tweet: The Simpsons predicted the\n",
      "Crisis of #Putin, #Russia,\n",
      "#Ukraine and #Donetsk and\n",
      "#Luhansk way before it was cool 🤯😆\n",
      "#RussiaUkraineCrisis\n",
      "#Ukraina #ukrainerussia #USA https://t.co/Hqd2icRj6w\n",
      "     SENTIMENT STATS:                                                     \n",
      "  Predicted Sentiment Polarity Score Positive             Negative Neutral\n",
      "0            negative          -0.42     8.0%  14.000000000000002%   78.0%\n",
      "------------------------------------------------------------\n",
      "Tweet: #RussiaUkraineConflict #Russia\n",
      "#BSE\n",
      " Anything happens anywhere in the world.\n",
      "\n",
      "Sensex : https://t.co/wujP4Evg8j\n",
      "     SENTIMENT STATS:                                         \n",
      "  Predicted Sentiment Polarity Score Positive Negative Neutral\n",
      "0            negative            0.0     0.0%     0.0%  100.0%\n",
      "------------------------------------------------------------\n",
      "Tweet: Watch: Russian President Vladimir #Putin announces a military operation in #Ukraine, claiming it’s intended to protect civilians.\n",
      "\n",
      "https://t.co/YotOykzQFj https://t.co/n6WbKw4kDT\n",
      "     SENTIMENT STATS:                                         \n",
      "  Predicted Sentiment Polarity Score Positive Negative Neutral\n",
      "0            negative           0.38    13.0%     0.0%   87.0%\n",
      "------------------------------------------------------------\n",
      "Tweet: #Ukraine 🇺🇦 BREAKING: #Putin just clearly stated on TV that the #Kremlin recognizes separatist sovereignty over the entirety of the #Donetsk and #Luhansk oblasts, making further aggression towards Ukrainian-held #Donbass basically inevitable. https://t.co/zbEWUrPLEL\n",
      "     SENTIMENT STATS:                                                    \n",
      "  Predicted Sentiment Polarity Score            Positive Negative Neutral\n",
      "0            negative           0.13  7.000000000000001%     6.0%   86.0%\n",
      "------------------------------------------------------------\n",
      "Tweet: From Poetry of Bitch\n",
      "\n",
      "#รัสเซียยูเครน #RussiaUkraine \n",
      "#ยูเครน \n",
      "#รัสเซีย \n",
      "#รัสเซียบุกยูเครน #UkraineCrisis https://t.co/skqc07EOHz\n",
      "     SENTIMENT STATS:                                                     \n",
      "  Predicted Sentiment Polarity Score Positive             Negative Neutral\n",
      "0            negative          -0.59     0.0%  28.000000000000004%   72.0%\n",
      "------------------------------------------------------------\n"
     ]
    }
   ],
   "source": [
    "for i, tweet in enumerate(df_1['text']):\n",
    "    print('Tweet:', tweet)\n",
    "    pred = analyze_sentiment_vader_lexicon(tweet, threshold=0.4, verbose=True)\n",
    "    print('-'*60)\n",
    "    if i == 50:\n",
    "      break\n"
   ]
  },
  {
   "cell_type": "code",
   "execution_count": null,
   "id": "_fcjMSOV4WZw",
   "metadata": {
    "colab": {
     "base_uri": "https://localhost:8080/"
    },
    "id": "_fcjMSOV4WZw",
    "outputId": "3a7ab0f2-ebaa-4ce1-bbd5-5807f64a42c6"
   },
   "outputs": [
    {
     "name": "stdout",
     "output_type": "stream",
     "text": [
      "Tweet: #Ukrainian Soldiers Tell the REALITY of What Made the Kharkiv Offensive Work!  https://t.co/JqyBCiCa5z \n",
      "\n",
      "#UkraineRussianWar #UkraineWillWin\n",
      "     SENTIMENT STATS:                                         \n",
      "  Predicted Sentiment Polarity Score Positive Negative Neutral\n",
      "0            negative          -0.51     0.0%    19.0%   81.0%\n",
      "------------------------------------------------------------\n",
      "Tweet: @rwalsh777 That’s exactly the whole issue, public safety vs private rights\n",
      "Its a tougher balance than most would like to admit\n",
      "Everyone has rights &amp; all have freedoms, but sometimes they clash\n",
      "In a functional society agreement on limits is inherent but not easy to find\n",
      "#perspective #Canada\n",
      "     SENTIMENT STATS:                                         \n",
      "  Predicted Sentiment Polarity Score Positive Negative Neutral\n",
      "0            positive           0.75    23.0%     6.0%   71.0%\n",
      "------------------------------------------------------------\n",
      "Tweet: Thought provoking read. As in how can we resolve the pain for the survivors and not only how to prevent it now. Psychological trauma will be an immense issue.\n",
      "#RussiaIsATerroristState\n",
      "https://t.co/baYzf0r8Qr\n",
      "     SENTIMENT STATS:                                         \n",
      "  Predicted Sentiment Polarity Score Positive Negative Neutral\n",
      "0            negative          -0.64    10.0%    21.0%   69.0%\n",
      "------------------------------------------------------------\n",
      "Tweet: Narcissists and #StandWithUkraine https://t.co/Sq5B8nr4kY via @YouTube\n",
      "     SENTIMENT STATS:                                         \n",
      "  Predicted Sentiment Polarity Score Positive Negative Neutral\n",
      "0            negative            0.0     0.0%     0.0%  100.0%\n",
      "------------------------------------------------------------\n",
      "Tweet: @Sleuthteller @lakecitygirl @liberal_party Please share far and wide ✔️\n",
      "Wakey Wakey 👀 \n",
      "Research isn't hard Enjoy mine 💯✅️\n",
      "#Ukraine thread #Canada #USA \n",
      "Make your own conclusions \n",
      "#JustinTrudeauMustGo \n",
      "#ChrystiaFreelandmustgo\n",
      "#JoeBidenmustgo \n",
      "#crimeminister\n",
      "🚨🚨💣💣💥💥👇👇\n",
      " https://t.co/Z8FdOxqIev\n",
      "     SENTIMENT STATS:                                                    \n",
      "  Predicted Sentiment Polarity Score Positive            Negative Neutral\n",
      "0            negative           0.29    16.0%  7.000000000000001%   76.0%\n",
      "------------------------------------------------------------\n",
      "Tweet: ANALYSIS: Could Russia collapse? Here are three good reasons why we shouldn’t discount it. #Russia https://t.co/kUK3GAnlyZ\n",
      "     SENTIMENT STATS:                                                     \n",
      "  Predicted Sentiment Polarity Score             Positive Negative Neutral\n",
      "0            negative          -0.08  14.000000000000002%    16.0%   70.0%\n",
      "------------------------------------------------------------\n",
      "Tweet: Peace will come when the US stops meddling. #NATO #NuclearWar https://t.co/NSZaiGtn77\n",
      "     SENTIMENT STATS:                                         \n",
      "  Predicted Sentiment Polarity Score Positive Negative Neutral\n",
      "0            positive           0.44    25.0%    11.0%   64.0%\n",
      "------------------------------------------------------------\n",
      "Tweet: @TheeeCorrectOne @swekstone @peter_rivers94 @SprinterMonitor No need for anyone to eradicate anyone but just respect borders.\n",
      "\n",
      "Russians are the ones with imperialist tendencies. Russians can live in russia and mistreat each other as much as they want, leave neighbours to live in peace.\n",
      "\n",
      "#RussiaIsATerroristState \n",
      "#FreeUkrainianChildren https://t.co/EH3nnENyaz\n",
      "     SENTIMENT STATS:                                         \n",
      "  Predicted Sentiment Polarity Score Positive Negative Neutral\n",
      "0            positive           0.86    19.0%     5.0%   75.0%\n",
      "------------------------------------------------------------\n",
      "Tweet: President of #Ukraine met with the Prime Minister of the #Czech Republic in Kyiv\n",
      "https://t.co/wyJ19t3c6Y\n",
      "     SENTIMENT STATS:                                         \n",
      "  Predicted Sentiment Polarity Score Positive Negative Neutral\n",
      "0            negative            0.0     0.0%     0.0%  100.0%\n",
      "------------------------------------------------------------\n",
      "Tweet: @nexta_tv Russians, you’re all outside, armed. #Putin doesn’t care about you. You want to get warm? Go take it. Fuck them. You don’t want to be here, dying for bullshït, hoping to steal an iPad. Go surrender, find the Ukrainians, tell them you don’t want to go back to Russia. Bring friends\n",
      "     SENTIMENT STATS:                                         \n",
      "  Predicted Sentiment Polarity Score Positive Negative Neutral\n",
      "0            positive           0.64    23.0%    10.0%   67.0%\n",
      "------------------------------------------------------------\n",
      "Tweet: 🇺🇦🇷🇺 Footage taken from #Ukrainian forces showing two drone corrected accurately artillery strikes from the Ukrainian 40th Artillery Brigade in the East that hits 2 #Russian T-80BV tanks. https://t.co/6ZuU1EHKFZ\n",
      "     SENTIMENT STATS:                                         \n",
      "  Predicted Sentiment Polarity Score Positive Negative Neutral\n",
      "0            negative          -0.36     0.0%     9.0%   92.0%\n",
      "------------------------------------------------------------\n",
      "Tweet: According to eyewitnesses, contract soldiers serving on the 74th motorized rifle brigade were indignant at the rampant drunkenness among the mobilized. The drunken servicemen were taken to the parade ground and beaten. @prof_preobr #Russia https://t.co/bVTpvMq20Q\n",
      "     SENTIMENT STATS:                                                     \n",
      "  Predicted Sentiment Polarity Score Positive             Negative Neutral\n",
      "0            negative          -0.68     0.0%  14.000000000000002%   85.0%\n",
      "------------------------------------------------------------\n",
      "Tweet: @SosoKeizer @SlightlyRobotic @Dr_Derael Invading and inciting to commit genocide is not a good neighbor which is what Russia has been doing. This also isnt about NATO as Finland doubled the NATO/Ru border and nothing. Besides the deal between Ukraine &amp; Kremlin to be neutral then Putin decided to invade #RussiaIsLosing\n",
      "     SENTIMENT STATS:                                         \n",
      "  Predicted Sentiment Polarity Score Positive Negative Neutral\n",
      "0            negative          -0.05     4.0%     5.0%   91.0%\n",
      "------------------------------------------------------------\n",
      "Tweet: @PHOLELO4MANY @DaveScumm @VirgilVvd1231 @Crispytendies00 @Hromadske @EU_Commission Nah they dying and losing bad because they cant kill anything but civilians like in Africa or Bucha, Izyum etc.\n",
      "\n",
      "Nice copium though as Russia getting turned into fertilizer 🤣🤣🤣\n",
      "#RussiaIsLosing \n",
      "#RussiaIsANaziState \n",
      "#RussiaIsATerroristState \n",
      "#PutinIsaWarCriminal \n",
      "#NAFOfellas\n",
      "     SENTIMENT STATS:                                         \n",
      "  Predicted Sentiment Polarity Score Positive Negative Neutral\n",
      "0            positive           0.72    19.0%    11.0%   71.0%\n",
      "------------------------------------------------------------\n",
      "Tweet: Canada’s Police Force: The RCMP https://t.co/sIBOS2wfoC\n",
      "\n",
      "#Canada #Police  #RCMP \n",
      "\n",
      "#RoyalCanadianMountedPolice\n",
      "     SENTIMENT STATS:                                         \n",
      "  Predicted Sentiment Polarity Score Positive Negative Neutral\n",
      "0            negative            0.0     0.0%     0.0%  100.0%\n",
      "------------------------------------------------------------\n",
      "Tweet: Have a Great Day......😍🇷🇺💪🏼\n",
      "#Russia https://t.co/UNoUosYBfx\n",
      "     SENTIMENT STATS:                                         \n",
      "  Predicted Sentiment Polarity Score Positive Negative Neutral\n",
      "0            positive           0.62    51.0%     0.0%   49.0%\n",
      "------------------------------------------------------------\n",
      "Tweet: Happy halloween 🎃 #Halloween2022 #Canada https://t.co/upEKktiual\n",
      "     SENTIMENT STATS:                                         \n",
      "  Predicted Sentiment Polarity Score Positive Negative Neutral\n",
      "0            positive           0.57    48.0%     0.0%   52.0%\n",
      "------------------------------------------------------------\n",
      "Tweet: @fordnation Attacking teachers is never a good idea pumpkin head! Just the CONs showing #Canada what they are all about. Raises for themselves, but nobody else! Typical.\n",
      "     SENTIMENT STATS:                                         \n",
      "  Predicted Sentiment Polarity Score Positive Negative Neutral\n",
      "0            negative          -0.51     0.0%    15.0%   85.0%\n",
      "------------------------------------------------------------\n",
      "Tweet: The mint is live ⚡️ here:\n",
      "\n",
      "https://t.co/e6mQeKCxxI\n",
      "\n",
      "#NFT #NFTCommunity #Minting #fundraiser #UkraineRussiaWar #UkraineWar #nftart #NFTMarketplace #NFTs #generativeart #nftcollectors #NFTcollections #UkraineRussianWar #NFTartists #Polygon #PolygonNFT #doodleart #nonprofit\n",
      "     SENTIMENT STATS:                                         \n",
      "  Predicted Sentiment Polarity Score Positive Negative Neutral\n",
      "0            negative            0.0     0.0%     0.0%  100.0%\n",
      "------------------------------------------------------------\n",
      "Tweet: Nice, but please do not gloss over the FACT that it is PROPAGANDA.\n",
      "\n",
      "#UnitedStates government spews lies (recycled) at each generation in order to manipulate citizenry into maintaining #Capitalism economic dominance.\n",
      "Other regimes that are against are overthrown or assassinated. https://t.co/P1uXQNPCJk\n",
      "     SENTIMENT STATS:                                      \\\n",
      "  Predicted Sentiment Polarity Score             Positive   \n",
      "0            negative          -0.31  14.000000000000002%   \n",
      "\n",
      "                                \n",
      "              Negative Neutral  \n",
      "0  14.000000000000002%   71.0%  \n",
      "------------------------------------------------------------\n",
      "Tweet: C$32.49 - #FreeShipping | Shop more, save more  i-Blason Cosmo Series Case for Samsung Galaxy #iBlason       ?? https://t.co/bcXvoKe5cj       #sharious  #canadianbestseller  #canada #usa #product #2020  #Bumper  #Case  #Cosmo  #Galaxy  #GalaxyS20Cosmo . https://t.co/br8G3zZKXC\n",
      "     SENTIMENT STATS:                                         \n",
      "  Predicted Sentiment Polarity Score Positive Negative Neutral\n",
      "0            positive           0.59    12.0%     0.0%   88.0%\n",
      "------------------------------------------------------------\n",
      "Tweet: 🌡️-40.9°C in Ilirney 🇷🇺 on November 1st [17°C below average]. 🥶\n",
      "➡️ This is the first -40°C of the season in #Russia &amp; the Northern Hemisphere outside of Greenland.\n",
      "➡️ This is remarkably low for this station given that October's monthly record is -41.3°C.\n",
      "#cold #Siberia @yakutia https://t.co/qEoVGJXPE0\n",
      "     SENTIMENT STATS:                                         \n",
      "  Predicted Sentiment Polarity Score Positive Negative Neutral\n",
      "0            negative          -0.34     0.0%     5.0%   95.0%\n",
      "------------------------------------------------------------\n",
      "Tweet: As Iran tests its drones in #Ukraine,Oleksii Reznikov,the🇺🇦Def Min says:‘Israeli politicians will be ashamed they didn’t stand with #Kyiv.I’m disappointed. I’m not angry at #Israel.But it is hard for me to understand.I think it’s unfair. It’s shameful'.  https://t.co/i0luIJcVNR\n",
      "     SENTIMENT STATS:                                         \n",
      "  Predicted Sentiment Polarity Score Positive Negative Neutral\n",
      "0            negative          -0.79     6.0%    23.0%   71.0%\n",
      "------------------------------------------------------------\n",
      "Tweet: Very strong attack on Dnipro, #Ukraine, right now. Ira and other patients are in hospital's corridors, listening to blasts. Very tough to be apart like this.\n",
      "     SENTIMENT STATS:                                         \n",
      "  Predicted Sentiment Polarity Score Positive Negative Neutral\n",
      "0            negative           0.23    18.0%    15.0%   66.0%\n",
      "------------------------------------------------------------\n",
      "Tweet: How Ukraine built an ‘army of drones’ to fight Russia\n",
      "#Canada #Germany #UnitedStates #UkraineWar #Ukraine\n",
      "https://t.co/pSbok7uRq7\n",
      "     SENTIMENT STATS:                                         \n",
      "  Predicted Sentiment Polarity Score Positive Negative Neutral\n",
      "0            negative          -0.38     0.0%    15.0%   85.0%\n",
      "------------------------------------------------------------\n",
      "Tweet: In these last times of this transitory world almighty God has permitted the pure, unalloyed, and unadulterated light of his holy Gospel and Word to appear to our beloved fatherland, the German nation. (Preface, Book of Concord) #Reformation #Germany https://t.co/tvsD1YJjKr\n",
      "     SENTIMENT STATS:                                         \n",
      "  Predicted Sentiment Polarity Score Positive Negative Neutral\n",
      "0            positive           0.66    12.0%     0.0%   88.0%\n",
      "------------------------------------------------------------\n",
      "Tweet: Chicken Adobo\n",
      "\n",
      "In this post, you will get to know about \"Chicken Adobo\"\n",
      "\n",
      "To Get The Full Recipe, Click The Link In The Comment Section Below:\n",
      "\n",
      "#Recipe #Recipes #Food #Diet #Delicious #RecipeOfTheDay #Putin #Ukraine #America #Cuisines https://t.co/xCddQwfNVg\n",
      "     SENTIMENT STATS:                                         \n",
      "  Predicted Sentiment Polarity Score Positive Negative Neutral\n",
      "0            negative            0.0     0.0%     0.0%  100.0%\n",
      "------------------------------------------------------------\n",
      "Tweet: @DarthPutinKGB IS military putting HIMARS to good use here on home soil this Halloween #Ukraine #UkraineWillWin https://t.co/jTMflggQKf\n",
      "     SENTIMENT STATS:                                         \n",
      "  Predicted Sentiment Polarity Score Positive Negative Neutral\n",
      "0            positive           0.44    15.0%     0.0%   85.0%\n",
      "------------------------------------------------------------\n",
      "Tweet: 25 Oct: Nice. Ukrainians PENETRATE RUSSIAN DEFENSE Near Kreminna | War in Ukraine Explained\n",
      "#Canada #Germany #UnitedStates #UkraineWar #UkraineRussiaWar https://t.co/4DboLICdH9\n",
      "     SENTIMENT STATS:                                         \n",
      "  Predicted Sentiment Polarity Score Positive Negative Neutral\n",
      "0            negative           0.03    20.0%    16.0%   64.0%\n",
      "------------------------------------------------------------\n",
      "Tweet: @johnsweeneyroar @doctor_oxford @Chris_D_Steele @GlobalPlayer 1944 Nazi Dictator launches 30,000 V-1 Flying Bombs into London.\n",
      "\n",
      "2022 Russian Dictator launches ++++ (Ongoing) Iranian Drones Flying Bombs into Kyiv. \n",
      "\n",
      "Q: What has changed? \n",
      "\n",
      "A- The dictator. \n",
      "\n",
      "The outcome will be the same.\n",
      "\n",
      "#SlavaUkraini\n",
      "     SENTIMENT STATS:                                         \n",
      "  Predicted Sentiment Polarity Score Positive Negative Neutral\n",
      "0            negative            0.0     0.0%     0.0%  100.0%\n",
      "------------------------------------------------------------\n",
      "Tweet: #Ukraine: Where are the diplomats?  Katrina vanden Heuvel, Washington Post, The Nation https://t.co/ZPcxoVgd2Z via @Audioboom #Ukraine\n",
      "     SENTIMENT STATS:                                         \n",
      "  Predicted Sentiment Polarity Score Positive Negative Neutral\n",
      "0            negative            0.0     0.0%     0.0%  100.0%\n",
      "------------------------------------------------------------\n",
      "Tweet: Thank you Zbigniew Preisner for this great music and support. thank you Poland for supporting #IranRevolution. You have already done a great work supporting #Ukraine! Viva Poland! #MahsaAmini https://t.co/kPO94KhjS2\n",
      "     SENTIMENT STATS:                                         \n",
      "  Predicted Sentiment Polarity Score Positive Negative Neutral\n",
      "0            positive           0.97    53.0%     0.0%   47.0%\n",
      "------------------------------------------------------------\n",
      "Tweet: Ruϟϟians denying destruction of their helicopter in #Bachmut.\n",
      "Well, here is a video evidence. \n",
      "Start your morning with fried ruϟϟky terrorists 😊\n",
      "\n",
      "#russiaisateroriststate #Ukraine️ #Україна #russia https://t.co/FY9X9rABrT\n",
      "     SENTIMENT STATS:                                         \n",
      "  Predicted Sentiment Polarity Score Positive Negative Neutral\n",
      "0            negative          -0.84     6.0%    31.0%   63.0%\n",
      "------------------------------------------------------------\n",
      "Tweet: @HenriVanhanen @JBickertonUK 1) Clever speech from Prime Minister @MarinSanna and President @niinisto about not to be limited\n",
      "\n",
      "2) Thank you very much for the info in your thread about #Finland and the politics \n",
      "\n",
      "3) Nice to see Finland in #NATO\n",
      "\n",
      "#NuclearWeapons #Nukes\n",
      "     SENTIMENT STATS:                                         \n",
      "  Predicted Sentiment Polarity Score Positive Negative Neutral\n",
      "0            positive           0.84    21.0%     0.0%   79.0%\n",
      "------------------------------------------------------------\n",
      "Tweet: @SpaghettiKozak @POTUS @POTUS has been owned by #putin so many times. Putin knows for a fact that Biden is afraid of him and won’t do anything else for Ukraine!!!\n",
      "     SENTIMENT STATS:                                         \n",
      "  Predicted Sentiment Polarity Score Positive Negative Neutral\n",
      "0            negative            0.0     0.0%     0.0%  100.0%\n",
      "------------------------------------------------------------\n",
      "Tweet: @CinC_AFU @KiwiforUkraine #SlavaUkraini Glory to Ukraine. Glory to the Hero’s 🇺🇦🇺🇦🇺🇦🇺🇦🇺🇦🇺🇦🇺🇦🇺🇦 https://t.co/lxoFFEjxjM\n",
      "     SENTIMENT STATS:                                         \n",
      "  Predicted Sentiment Polarity Score Positive Negative Neutral\n",
      "0            positive           0.79    41.0%     0.0%   59.0%\n",
      "------------------------------------------------------------\n",
      "Tweet: #251dayofwar\n",
      "\n",
      "⚡Russia recruiting U.S.-trained Afghan commandos - AP⚡\n",
      "\n",
      "🔗Source:https://t.co/KNWUwYUmuZ\n",
      "\n",
      "#UkraineWar #StandWithUkraine #UkraineRussiaWar #Ukraine️ #StopRussiaNOW #RussiaIsATerroristState #russiaisaterrorisstate https://t.co/i3wYMVLBHE\n",
      "     SENTIMENT STATS:                                         \n",
      "  Predicted Sentiment Polarity Score Positive Negative Neutral\n",
      "0            negative            0.0     0.0%     0.0%  100.0%\n",
      "------------------------------------------------------------\n",
      "Tweet: The Hunt Is On #myottawa #ottcity #ottawalife #yelpottawa #halloween #canada #ottcity #ontario #ottawaartist  #yow #goodluck #discoverontario #ottawatourism #ottawaontario #ottawablogger #algonquincollege #ottawau #carletonu #ottawamodel #canada #narcityottawa  #findinggnomey https://t.co/FtDb6Mh6of\n",
      "     SENTIMENT STATS:                                         \n",
      "  Predicted Sentiment Polarity Score Positive Negative Neutral\n",
      "0            negative            0.0     0.0%     0.0%  100.0%\n",
      "------------------------------------------------------------\n",
      "Tweet: We are legit and reliable \n",
      "#Essays\n",
      "#Pay Someone\n",
      "Physics\n",
      "#Essayhelp\n",
      "English\n",
      "#Essaypay\n",
      "Maths\n",
      "#Exams\n",
      "#Assignment Due\n",
      "Economics\n",
      "#javascript\n",
      "Psychology\n",
      "#Onlineclass\n",
      "Online exams \n",
      "#100DaysOfCode\n",
      "#WomenWhoCode \n",
      "#USA #Canada #UAE #Kuwait #Qatar #Singapore #Australia #Newzealand #china https://t.co/22dTtzPqZK\n",
      "     SENTIMENT STATS:                                         \n",
      "  Predicted Sentiment Polarity Score Positive Negative Neutral\n",
      "0            negative            0.0     0.0%     0.0%  100.0%\n",
      "------------------------------------------------------------\n",
      "Tweet: 🇧🇷💩\n",
      "\n",
      "#Brazil goes from Right Wing Useful Idiot to Left Wing Useful Idiot.\n",
      "\n",
      "#RussiaIsLosing #UkraineRussiaWar #Anonymous #FckPutin #NAFO #Fellas #StandWithUkraine #PutinIsaWarCriminal \n",
      "#RussianArmy #RussianInvasion #UkraineUnderAttack \n",
      "#RussiaIsATerroristState #CancelRussia https://t.co/9bA02N4Wcu\n",
      "     SENTIMENT STATS:                                         \n",
      "  Predicted Sentiment Polarity Score Positive Negative Neutral\n",
      "0            negative           -0.2    16.0%    19.0%   65.0%\n",
      "------------------------------------------------------------\n",
      "Tweet: Ite Pedicabo te ipsum, Putin!\n",
      "(Latin)\n",
      "\n",
      "#RussianWarCrimes #FuckPutin #RussiaInvadedUkraine #Ukraine\n",
      "     SENTIMENT STATS:                                         \n",
      "  Predicted Sentiment Polarity Score Positive Negative Neutral\n",
      "0            negative            0.0     0.0%     0.0%  100.0%\n",
      "------------------------------------------------------------\n",
      "Tweet: Wombripper - Shredded Corpse Remains\n",
      "#Russia #Oldschool #DeathMetal\n",
      "https://t.co/usx0bOzxf9\n",
      "     SENTIMENT STATS:                                         \n",
      "  Predicted Sentiment Polarity Score Positive Negative Neutral\n",
      "0            negative          -0.57     0.0%    35.0%   65.0%\n",
      "------------------------------------------------------------\n",
      "Tweet: It's \"russian world\" \n",
      "Outside any regular jurisdiction, men and women are being physically and psychologically tormented on a daily basis, in ways reminiscent of Europe’s darkest times.\n",
      "#RussiaIsATerroristState #RussianWarCrimesInUkraine #GenocideOfUkrainians #war\n",
      "#instagramdown https://t.co/8zU6HSoqNh\n",
      "     SENTIMENT STATS:                                         \n",
      "  Predicted Sentiment Polarity Score Positive Negative Neutral\n",
      "0            negative          -0.49     0.0%     9.0%   91.0%\n",
      "------------------------------------------------------------\n",
      "Tweet: 🏆 Old Dutch Contest 2022: Win chips for life ($5,000 prize value)\n",
      "👉 https://t.co/TSujY4eKgr\n",
      "\n",
      "#CAN🇨🇦 #contest #win #giveaway #canada #contests #contestcanada #canadacontest #giveawaycanada #canadagiveaway https://t.co/8VaCTana5K\n",
      "     SENTIMENT STATS:                                         \n",
      "  Predicted Sentiment Polarity Score Positive Negative Neutral\n",
      "0            positive            0.8    25.0%     0.0%   75.0%\n",
      "------------------------------------------------------------\n",
      "Tweet: #Breaking: HIMARS handing out candies to children.\n",
      "\n",
      "#UkraineWar #Ukraine️ #internationalleaks #Russia https://t.co/Nu6fEEPyDe\n",
      "     SENTIMENT STATS:                                         \n",
      "  Predicted Sentiment Polarity Score Positive Negative Neutral\n",
      "0            negative            0.0     0.0%     0.0%  100.0%\n",
      "------------------------------------------------------------\n",
      "Tweet: Ite Pedicabo te ipsum, Putin!\n",
      "(Latin)\n",
      "\n",
      "#FuckPutin #UkraineUnderAttack #PutinWarCrimes #Ukraine\n",
      "     SENTIMENT STATS:                                         \n",
      "  Predicted Sentiment Polarity Score Positive Negative Neutral\n",
      "0            negative            0.0     0.0%     0.0%  100.0%\n",
      "------------------------------------------------------------\n",
      "Tweet: Towns within 40 miles (64.36 km)  of #Optimo #UnitedStates? What are your must sees https://t.co/mMGxGzNbER\n",
      "     SENTIMENT STATS:                                         \n",
      "  Predicted Sentiment Polarity Score Positive Negative Neutral\n",
      "0            negative            0.0     0.0%     0.0%  100.0%\n",
      "------------------------------------------------------------\n",
      "Tweet: It a new month still looking for who can handle💦💓 me... #USA #Canada #california #singlegirl #relationshipmemes #MONEY #beautifulgirl.... https://t.co/UItkpjqcwY\n",
      "     SENTIMENT STATS:                                         \n",
      "  Predicted Sentiment Polarity Score Positive Negative Neutral\n",
      "0            negative            0.0     0.0%     0.0%  100.0%\n",
      "------------------------------------------------------------\n",
      "Tweet: -@War_Mapper estimates that #Russia currently occupies ~17.30% of #Ukraine https://t.co/jdK0lLYRTM\n",
      "     SENTIMENT STATS:                                         \n",
      "  Predicted Sentiment Polarity Score Positive Negative Neutral\n",
      "0            negative            0.0     0.0%     0.0%  100.0%\n",
      "------------------------------------------------------------\n",
      "Tweet: Why? #Ukraine said loud and clear at #UN vote how they really feel about #Israel. https://t.co/vjNYxXnAhK\n",
      "     SENTIMENT STATS:                                         \n",
      "  Predicted Sentiment Polarity Score Positive Negative Neutral\n",
      "0            negative           0.38    15.0%     0.0%   85.0%\n",
      "------------------------------------------------------------\n",
      "Tweet: @derykhouston @RichardSHeggie No, the aftermath of such a nuclear war would be devastating for the whole planet. The ensuing nuclear winter would also be a mass extinction event. People need to understand just what the US is gambling with here. #UkraineRussiaWar\n",
      "     SENTIMENT STATS:                                         \n",
      "  Predicted Sentiment Polarity Score Positive Negative Neutral\n",
      "0            negative          -0.89     0.0%    22.0%   78.0%\n",
      "------------------------------------------------------------\n"
     ]
    }
   ],
   "source": [
    "for i, tweet in enumerate(df_2['text']):\n",
    "    print('Tweet:', tweet)\n",
    "    pred = analyze_sentiment_vader_lexicon(tweet, threshold=0.4, verbose=True)\n",
    "    print('-'*60)\n",
    "    if i == 50:\n",
    "      break"
   ]
  },
  {
   "cell_type": "code",
   "execution_count": null,
   "id": "OJFImcHu4Wb_",
   "metadata": {
    "colab": {
     "base_uri": "https://localhost:8080/"
    },
    "id": "OJFImcHu4Wb_",
    "outputId": "585ed218-e6a9-49b7-f6c7-c3fad2c8d3ad"
   },
   "outputs": [
    {
     "name": "stderr",
     "output_type": "stream",
     "text": [
      "<ipython-input-38-934938b5d2e7>:1: SettingWithCopyWarning: \n",
      "A value is trying to be set on a copy of a slice from a DataFrame.\n",
      "Try using .loc[row_indexer,col_indexer] = value instead\n",
      "\n",
      "See the caveats in the documentation: https://pandas.pydata.org/pandas-docs/stable/user_guide/indexing.html#returning-a-view-versus-a-copy\n",
      "  df_2['sentiment'] = df_2['text'].apply(analyze_sentiment_vader_lexicon)\n"
     ]
    }
   ],
   "source": [
    "df_2['sentiment'] = df_2['text'].apply(analyze_sentiment_vader_lexicon)"
   ]
  },
  {
   "cell_type": "code",
   "execution_count": null,
   "id": "15OvOQOc4W-k",
   "metadata": {
    "id": "15OvOQOc4W-k"
   },
   "outputs": [],
   "source": [
    "from sklearn.feature_extraction.text import CountVectorizer\n",
    "positive_tweets = [tweet for tweet, sentiment in zip(df_2['cleaned_text'], df_2['sentiment']) if sentiment == 'positive']\n",
    "ptvf = TfidfVectorizer(min_df=0.005, max_df=1., norm = 'l2',\n",
    "                    use_idf = True, smooth_idf = True,\n",
    "                    ngram_range = (1, 2))\n",
    "ptvf_features = ptvf.fit_transform(positive_tweets)\n"
   ]
  },
  {
   "cell_type": "code",
   "execution_count": null,
   "id": "bBuozAoRCjE3",
   "metadata": {
    "colab": {
     "base_uri": "https://localhost:8080/"
    },
    "id": "bBuozAoRCjE3",
    "outputId": "2d73ae76-a375-4e88-f2b6-57859c268239"
   },
   "outputs": [
    {
     "data": {
      "text/plain": [
       "LatentDirichletAllocation(random_state=0)"
      ]
     },
     "execution_count": 48,
     "metadata": {},
     "output_type": "execute_result"
    }
   ],
   "source": [
    "lda_tf = LatentDirichletAllocation(n_components=10, random_state=0)\n",
    "lda_tf.fit(ptvf_features)"
   ]
  },
  {
   "cell_type": "code",
   "execution_count": null,
   "id": "77vHvGqlDNqB",
   "metadata": {
    "colab": {
     "base_uri": "https://localhost:8080/"
    },
    "id": "77vHvGqlDNqB",
    "outputId": "8d28f4af-f22a-4ede-f6ba-eb2509435c97"
   },
   "outputs": [
    {
     "name": "stdout",
     "output_type": "stream",
     "text": [
      "Looking in indexes: https://pypi.org/simple, https://us-python.pkg.dev/colab-wheels/public/simple/\n",
      "Requirement already satisfied: pyLDAvis in /usr/local/lib/python3.8/dist-packages (3.3.1)\n",
      "Requirement already satisfied: numpy>=1.20.0 in /usr/local/lib/python3.8/dist-packages (from pyLDAvis) (1.21.6)\n",
      "Requirement already satisfied: funcy in /usr/local/lib/python3.8/dist-packages (from pyLDAvis) (1.17)\n",
      "Requirement already satisfied: scipy in /usr/local/lib/python3.8/dist-packages (from pyLDAvis) (1.7.3)\n",
      "Requirement already satisfied: future in /usr/local/lib/python3.8/dist-packages (from pyLDAvis) (0.16.0)\n",
      "Requirement already satisfied: scikit-learn in /usr/local/lib/python3.8/dist-packages (from pyLDAvis) (1.0.2)\n",
      "Requirement already satisfied: numexpr in /usr/local/lib/python3.8/dist-packages (from pyLDAvis) (2.8.4)\n",
      "Requirement already satisfied: gensim in /usr/local/lib/python3.8/dist-packages (from pyLDAvis) (3.6.0)\n",
      "Requirement already satisfied: setuptools in /usr/local/lib/python3.8/dist-packages (from pyLDAvis) (57.4.0)\n",
      "Requirement already satisfied: joblib in /usr/local/lib/python3.8/dist-packages (from pyLDAvis) (1.2.0)\n",
      "Requirement already satisfied: sklearn in /usr/local/lib/python3.8/dist-packages (from pyLDAvis) (0.0.post1)\n",
      "Requirement already satisfied: jinja2 in /usr/local/lib/python3.8/dist-packages (from pyLDAvis) (2.11.3)\n",
      "Requirement already satisfied: pandas>=1.2.0 in /usr/local/lib/python3.8/dist-packages (from pyLDAvis) (1.3.5)\n",
      "Requirement already satisfied: pytz>=2017.3 in /usr/local/lib/python3.8/dist-packages (from pandas>=1.2.0->pyLDAvis) (2022.6)\n",
      "Requirement already satisfied: python-dateutil>=2.7.3 in /usr/local/lib/python3.8/dist-packages (from pandas>=1.2.0->pyLDAvis) (2.8.2)\n",
      "Requirement already satisfied: six>=1.5 in /usr/local/lib/python3.8/dist-packages (from python-dateutil>=2.7.3->pandas>=1.2.0->pyLDAvis) (1.15.0)\n",
      "Requirement already satisfied: smart-open>=1.2.1 in /usr/local/lib/python3.8/dist-packages (from gensim->pyLDAvis) (5.2.1)\n",
      "Requirement already satisfied: MarkupSafe>=0.23 in /usr/local/lib/python3.8/dist-packages (from jinja2->pyLDAvis) (2.0.1)\n",
      "Requirement already satisfied: threadpoolctl>=2.0.0 in /usr/local/lib/python3.8/dist-packages (from scikit-learn->pyLDAvis) (3.1.0)\n"
     ]
    }
   ],
   "source": [
    "!pip install pyLDAvis # I am only applying the topic modeling on df_2 because in the first analysis it yielded the most interesting results, and because df_1 is 11 times larger than df_2.\n",
    "import pyLDAvis\n",
    "import pyLDAvis.sklearn"
   ]
  },
  {
   "cell_type": "code",
   "execution_count": null,
   "id": "xsGfbOmFCjSS",
   "metadata": {
    "colab": {
     "base_uri": "https://localhost:8080/",
     "height": 951
    },
    "id": "xsGfbOmFCjSS",
    "outputId": "d845e606-20a5-4f8b-8394-4922124b2fdb"
   },
   "outputs": [
    {
     "name": "stderr",
     "output_type": "stream",
     "text": [
      "/usr/local/lib/python3.8/dist-packages/sklearn/utils/deprecation.py:87: FutureWarning: Function get_feature_names is deprecated; get_feature_names is deprecated in 1.0 and will be removed in 1.2. Please use get_feature_names_out instead.\n",
      "  warnings.warn(msg, category=FutureWarning)\n",
      "/usr/local/lib/python3.8/dist-packages/pyLDAvis/_prepare.py:246: FutureWarning: In a future version of pandas all arguments of DataFrame.drop except for the argument 'labels' will be keyword-only\n",
      "  default_term_info = default_term_info.sort_values(\n"
     ]
    },
    {
     "data": {
      "text/html": [
       "\n",
       "<link rel=\"stylesheet\" type=\"text/css\" href=\"https://cdn.jsdelivr.net/gh/bmabey/pyLDAvis@3.3.1/pyLDAvis/js/ldavis.v1.0.0.css\">\n",
       "\n",
       "\n",
       "<div id=\"ldavis_el751398615306099209845012767\"></div>\n",
       "<script type=\"text/javascript\">\n",
       "\n",
       "var ldavis_el751398615306099209845012767_data = {\"mdsDat\": {\"x\": [-0.09237967279143507, -0.14889136056031044, -0.028649362034658815, 0.013112115033063827, -0.1969523845692352, 0.001717017280006221, -0.13163153462674554, 0.04768660526910344, 0.2464790181111396, 0.2895095588890734], \"y\": [0.027764477707972933, -0.0037407236509380574, 0.047815104777032366, 0.17725206030473392, -0.2620167090270345, 0.11492343702062666, -0.002428364636194462, 0.08236167950448975, 0.054030278415563564, -0.23596124041625186], \"topics\": [1, 2, 3, 4, 5, 6, 7, 8, 9, 10], \"cluster\": [1, 1, 1, 1, 1, 1, 1, 1, 1, 1], \"Freq\": [13.184623108462143, 12.08851319012935, 10.935687932184427, 10.892016696841669, 10.548206459486844, 9.542797307616505, 9.27840493830795, 8.344399762311468, 7.788409875438264, 7.396940729221379]}, \"tinfo\": {\"Term\": [\"love\", \"good\", \"world\", \"united\", \"states\", \"win\", \"live\", \"via\", \"please\", \"cup\", \"best\", \"playing\", \"peace\", \"happy\", \"world cup\", \"united states\", \"russian\", \"kherson\", \"forces\", \"morning\", \"thank\", \"freedom\", \"free\", \"yes\", \"germany\", \"video\", \"help\", \"link\", \"support\", \"night\", \"state\", \"family\", \"welcome\", \"little\", \"real\", \"available\", \"days\", \"security\", \"house\", \"services\", \"meeting\", \"find\", \"service\", \"future\", \"home\", \"president\", \"deal\", \"call\", \"meet\", \"zelensky\", \"enough\", \"man\", \"better\", \"american\", \"end\", \"black\", \"use\", \"away\", \"helping\", \"according\", \"special\", \"putin\", \"go\", \"zelenskyyua\", \"amp\", \"would\", \"us\", \"ukraine\", \"peace\", \"russia\", \"support\", \"share\", \"funny\", \"hit\", \"systems\", \"air defense\", \"missile\", \"party\", \"truth\", \"elonmusk\", \"biden\", \"poland\", \"lives\", \"eu\", \"air\", \"save\", \"nato\", \"stop\", \"missiles\", \"trump\", \"high\", \"possible\", \"territory\", \"energy\", \"done\", \"ukraines\", \"clear\", \"winter\", \"visit\", \"provide\", \"potus\", \"support\", \"well\", \"great\", \"make\", \"ukraine\", \"keep\", \"said\", \"amp\", \"could\", \"russian\", \"defense\", \"cannot\", \"morning\", \"good morning\", \"safe\", \"respect\", \"fight\", \"true\", \"fighting\", \"beautiful\", \"freedom\", \"news\", \"check\", \"giving\", \"democracy\", \"stay\", \"god\", \"look\", \"thats\", \"everyone\", \"supporting\", \"business\", \"stand\", \"support ukraine\", \"thing\", \"front\", \"global\", \"much\", \"long\", \"protect\", \"may\", \"life\", \"right\", \"time\", \"good\", \"country\", \"ukraine\", \"amp\", \"like\", \"see\", \"looks\", \"forget\", \"getting\", \"chance\", \"looks like\", \"coming\", \"far\", \"never\", \"oh\", \"win\", \"something\", \"ready\", \"amazing\", \"times\", \"let\", \"st\", \"supply\", \"soon\", \"actually\", \"anyone\", \"women\", \"think\", \"match\", \"want\", \"know\", \"group\", \"every\", \"west\", \"it\", \"going\", \"like\", \"day\", \"get\", \"game\", \"canada\", \"go\", \"forces\", \"troops\", \"due\", \"homework\", \"exam\", \"retreat\", \"armed\", \"assignment\", \"online class\", \"ministry\", \"armed forces\", \"expert\", \"class homework\", \"get online\", \"homework assignment\", \"assignment exam\", \"class\", \"region\", \"paper\", \"expert help\", \"essay\", \"exam expert\", \"exam help\", \"kherson\", \"online\", \"food\", \"oil\", \"army\", \"pay\", \"minister\", \"top\", \"russian\", \"help\", \"ukrainian\", \"defense\", \"military\", \"need\", \"get\", \"ukraine\", \"soldiers\", \"link\", \"retweet\", \"happy\", \"start\", \"stream\", \"live\", \"vs\", \"follow\", \"twitter\", \"england\", \"donate\", \"dear\", \"iran\", \"japan\", \"please\", \"dm\", \"best\", \"thank\", \"put\", \"things\", \"germany\", \"free\", \"feel\", \"join\", \"hand\", \"care\", \"watching\", \"article\", \"spain\", \"ever\", \"big\", \"us\", \"people\", \"like\", \"watch\", \"help\", \"day\", \"get\", \"amp\", \"via\", \"gift\", \"canadian\", \"story\", \"silver\", \"fab\", \"fab topbananaantiques\", \"topbananaantiques\", \"youtube\", \"power\", \"old\", \"whole\", \"international\", \"making\", \"western\", \"system\", \"year\", \"week\", \"peace\", \"must\", \"sure\", \"pm\", \"months\", \"nice\", \"media\", \"since\", \"around\", \"countries\", \"believe\", \"report\", \"city\", \"russia\", \"ukraine\", \"next\", \"world\", \"amp\", \"latest\", \"guys\", \"buy\", \"th\", \"playing\", \"congratulations\", \"love\", \"looking\", \"moment\", \"glory\", \"heroes\", \"brave\", \"huge\", \"november\", \"radio\", \"leaders\", \"defenders\", \"football\", \"video\", \"really\", \"children\", \"team\", \"lot\", \"full\", \"tell\", \"intelligence\", \"german\", \"work\", \"usa\", \"show\", \"new\", \"one\", \"two\", \"ukraine\", \"thanks\", \"amp\", \"cup\", \"world cup\", \"single\", \"dreamers\", \"new single\", \"bts_twt\", \"single dreamers\", \"bts_twts\", \"bts_twts new\", \"qatar\", \"proud\", \"goal\", \"fifa\", \"nothing\", \"states\", \"united\", \"united states\", \"yet\", \"members\", \"victory\", \"world\", \"first\", \"government\", \"game\", \"strong\", \"spain\", \"everything\", \"america\", \"germany\", \"someone\", \"new\", \"time\", \"military\", \"amp\", \"shop\", \"local\", \"amazon\", \"magnitude\", \"earthquake\", \"station\", \"occurred\", \"earthquake occurred\", \"magnitude earthquake\", \"states utc\", \"utc\", \"utc map\", \"bands\", \"amp thus\", \"already shop\", \"bands already\", \"help station\", \"local bands\", \"shop amazon\", \"station amp\", \"thus local\", \"wish\", \"thus\", \"price\", \"map\", \"night\", \"hes\", \"yes\", \"winning\", \"important\", \"good\", \"already\", \"amp\", \"remember\", \"lets\", \"thanks\", \"enjoy\", \"hope\", \"today\"], \"Freq\": [165.0, 276.0, 215.0, 126.0, 116.0, 136.0, 106.0, 94.0, 143.0, 87.0, 155.0, 91.0, 117.0, 91.0, 79.0, 98.0, 206.0, 91.0, 83.0, 79.0, 122.0, 88.0, 134.0, 75.0, 88.0, 107.0, 228.0, 66.0, 198.0, 65.0, 44.50738998792812, 41.596790438483936, 40.699772541552306, 39.14508163863467, 46.122159372092405, 30.563598559796894, 39.83725428036345, 66.59470932866482, 30.82995085371963, 30.230857794426214, 26.995762429046362, 34.54164002591618, 29.261650680972057, 34.11620308576085, 43.28312920987663, 74.01786490121934, 32.5379986742221, 32.86542810638909, 20.78673403647269, 25.58621539300889, 22.02070306041402, 36.57046029032194, 67.5085724965871, 20.833607833303006, 36.071308215524994, 24.150257239192953, 27.47142443519153, 21.0690047657026, 18.55408256848522, 18.041697894059745, 36.37602793703935, 40.407008082742905, 41.055557806561836, 25.813061610006223, 61.68905828032809, 36.19685527838653, 41.414304356905184, 44.65975592396016, 32.710396592649865, 35.64339638486712, 31.61606078973512, 54.19208410680122, 37.339518361068585, 28.154453346578716, 28.026423052785635, 27.758861252762973, 38.95104366683701, 40.76277026238541, 31.389962641913506, 49.649966601917114, 45.57921354555618, 46.34274160778057, 30.14577482576837, 33.957396341445836, 57.884636241919864, 47.77338278691697, 67.36223649783959, 41.158322034970375, 47.50781669094682, 32.70653272419475, 24.139594335400805, 20.694472376775447, 17.828155002765627, 51.105758020322455, 32.118815358073924, 25.354129368032176, 24.57219969765004, 26.644823356482647, 25.191786902137796, 17.0500518397044, 23.680204574279266, 110.14313561740404, 66.47511664969808, 69.5809626133674, 43.44481459475689, 64.29673454935627, 29.287037736494252, 34.278325321843695, 45.26028939717256, 30.261072026853054, 30.289137413450796, 29.16429939525064, 28.838069397172333, 78.90702160441546, 50.578511017688555, 47.62521091973797, 43.538290358163664, 34.184263777679675, 57.21622441602654, 31.793587975064064, 64.16501134677397, 82.49338076028687, 66.74760511714838, 40.789858313238646, 26.144835112943852, 34.30712427334142, 40.086967176773285, 47.891384352571464, 48.44803318190167, 44.987675082981546, 41.993899074286986, 43.44761848893306, 29.463440538473638, 26.361282535305318, 19.748931229385708, 21.15721155584855, 19.843483097216215, 26.137292611613766, 49.167160418744, 33.225581924305686, 19.143900648607282, 27.26085130428702, 27.854310411833456, 37.06238895143041, 50.80380425896084, 73.09170304840161, 33.177759922538826, 39.497150453076415, 37.244943245115856, 32.49537955029888, 27.838120916222934, 40.9723853274767, 39.92334712709057, 37.53906275023924, 36.94350125406083, 31.37632916364921, 34.03498354039829, 32.85487689174006, 65.01245659997862, 28.416794488735732, 117.52035900729241, 28.353444812577123, 50.78812065521045, 69.75796475362148, 23.989754303465343, 35.02050091388296, 29.28597303543337, 27.698258697564935, 29.060504215497364, 23.406585978545863, 34.13919323993526, 24.423221712773742, 50.87218762719576, 30.8497973380803, 60.94783250914808, 56.037790827168685, 31.701046136221056, 34.60189063027172, 25.17599639198279, 14.303592495371928, 38.98426043144735, 95.21272142682703, 52.28732689142476, 54.3148835943179, 32.59254951941238, 33.984307226675064, 28.73092812613347, 82.07731925799551, 45.38624351629739, 42.38433201402425, 37.82172921927865, 35.347158800463085, 35.27436500678199, 33.76902842077275, 33.730724808473155, 33.22499732213079, 30.027803843544405, 29.68561687824096, 29.03867382163165, 27.322760143788777, 26.97968088915023, 26.453407844497626, 24.813735764459604, 42.4433052689571, 48.10199165556351, 20.801386174591393, 19.84922670062519, 19.719713861139645, 19.474644844334527, 18.07128171493991, 86.378638339975, 49.73129439921305, 40.562018839430486, 30.160377271937573, 38.97258734501957, 32.33954712413779, 42.1980229072713, 54.97339189416805, 118.9907029864753, 107.97524582632784, 71.08150423504273, 47.87681369828811, 51.13621538854947, 41.20984923856512, 45.14811535094248, 50.08937172217034, 30.674048614642242, 65.53921769575658, 34.123477514832494, 88.19804249241977, 48.20127973767619, 25.62611553781894, 98.6216719939362, 55.581067102619656, 52.74096186377515, 46.90989376451184, 36.16379396091005, 22.280769722244106, 37.765946205616686, 32.21395257184492, 38.04074379106251, 103.79052776219226, 24.245088863279545, 110.43058271776302, 83.04571373215093, 19.985514591163145, 20.946658028196595, 57.09889746973302, 86.22861476329464, 22.36429347284481, 48.14550276256194, 23.385282122222588, 26.11429570987546, 18.91917682301307, 23.422677355295676, 16.587104741653782, 19.59800314273637, 23.96379176694927, 61.22810798729126, 55.04626765816237, 56.45867057758684, 24.76348272199227, 34.875826944996064, 28.78133006884805, 26.91379572793058, 25.6517293620333, 93.50676940595764, 43.573580699801816, 40.703871848161576, 36.680098841387526, 35.017344113199464, 31.385164327872296, 29.59931245831517, 29.59931245831517, 37.8563781435837, 54.216812382392106, 27.300685868632797, 25.36508259120252, 39.505021726778665, 27.487168936267704, 26.41688516832079, 33.66737573075424, 39.18874444129727, 28.719029891263197, 84.45233606745595, 47.84068022176852, 40.33182597746484, 33.6475049927849, 23.0605175301711, 35.93809079705817, 28.882334263476807, 29.16134538672912, 22.33818928441852, 36.715951862388685, 24.311439053162896, 16.64744604371007, 28.35270351893463, 77.15436673271815, 62.59988145712709, 27.1096831395068, 35.334063635226755, 27.746364360761085, 42.604944448755035, 34.92644591477127, 35.084942429201476, 49.65102745500066, 85.94019330360987, 49.33387420862777, 149.86425876218203, 35.09198344207547, 26.997552360277616, 58.56873866018596, 39.78889297350335, 32.985908694496366, 25.4582424284166, 47.486854450214395, 25.739022483179376, 22.52021513656687, 22.91039591927396, 26.28624963112439, 69.01601396146852, 38.094277082830914, 21.155318711382723, 48.857272022920725, 25.67954369108623, 27.4877690478954, 15.952434389301926, 24.91993617806366, 18.72399931779749, 37.899819522170155, 15.834421099014484, 18.87441172791585, 62.41189591256546, 62.11239833969451, 20.74980931428969, 31.54843998317086, 21.789674879280792, 23.23068430482732, 85.991313990919, 78.50084196989353, 50.48592653465485, 43.125904100167524, 37.68277909681672, 36.249474774381284, 35.904366595271405, 35.752749493069516, 35.752749493069516, 35.16310550643453, 47.5067912971916, 33.31822684200829, 24.628501509374228, 37.3373107348429, 91.73634667551298, 99.70744578814893, 75.5079449849498, 30.478357051930335, 20.6470828593461, 36.67474722037402, 120.78700592078027, 62.24068199012507, 26.855780235249007, 33.961304197440626, 25.82710520298523, 12.237678461972214, 16.54795487712481, 15.884701685217308, 30.318911393208513, 12.737294406099785, 41.57871578325742, 20.577636240569504, 17.482912036695737, 17.75916925869231, 51.023150953630456, 42.571300865814685, 29.743532940731534, 29.45119509835969, 28.265928697966853, 27.600575926848627, 27.50793838693648, 27.254172057391028, 27.254172057391028, 26.84990191539775, 26.84990191539775, 26.84990191539775, 23.269424584024275, 22.526079691688665, 22.168176373390246, 22.168176373390246, 22.168176373390246, 22.168176373390246, 22.168176373390246, 22.168176373390246, 22.168176373390246, 43.06187193905108, 24.1007741110561, 39.25209878449535, 37.23294607520753, 56.433485804462194, 32.31972868865123, 62.32021513962545, 41.827355275562475, 50.34247469356295, 135.3737020274236, 44.09392611455193, 60.973648431471766, 26.43755228140768, 31.712111940852687, 34.14518255757634, 27.547821164206457, 28.91735059972879, 30.409342671494187], \"Total\": [165.0, 276.0, 215.0, 126.0, 116.0, 136.0, 106.0, 94.0, 143.0, 87.0, 155.0, 91.0, 117.0, 91.0, 79.0, 98.0, 206.0, 91.0, 83.0, 79.0, 122.0, 88.0, 134.0, 75.0, 88.0, 107.0, 228.0, 66.0, 198.0, 65.0, 45.422257410820315, 42.511673833872756, 41.6146646246232, 40.060936752429825, 47.472114234204504, 31.4784731465215, 41.29846563717651, 70.18541407450356, 32.793280065941524, 33.55241919813324, 30.16787133145905, 38.61109021317467, 32.809380171488236, 38.341647784715214, 50.68499801212568, 88.52435573464624, 41.1383032660151, 41.61206206848935, 26.604878974906526, 33.06666281831642, 28.5554083908113, 47.97381797902604, 88.58791953999193, 28.50566394792708, 51.035443752357246, 34.48733031382588, 39.97112018411935, 31.17628825070273, 29.017194819263374, 28.342127405037854, 60.28163841288237, 77.36278531788886, 96.1461306020408, 44.27187147545154, 329.25810152642856, 125.08635955781156, 200.31907267241132, 319.8525706968718, 117.97809133276921, 197.07302755557816, 198.10484545621773, 55.10600112888731, 38.253334286618035, 29.068283044502156, 28.940242720773846, 28.672653565006527, 41.87333429312883, 43.97460183723905, 34.00907186568515, 53.89590685680201, 50.01780889129105, 51.51333521743484, 33.60945562147799, 39.65524577433471, 68.83327721910376, 57.30165895782743, 81.32744904321248, 50.17243571445668, 60.444848749202464, 42.10197342918726, 32.26117132737132, 27.929545907317152, 25.52862952082674, 74.48952727336582, 47.360647066633746, 37.883726405587595, 38.473323177481255, 44.13453285988708, 42.4097122331633, 29.455119896667632, 42.338151576887775, 198.10484545621773, 119.35920483656119, 147.83825175817626, 96.75856467958731, 319.8525706968718, 59.62796700332992, 89.61111968818413, 329.25810152642856, 73.64716697339462, 206.4926732126598, 82.15938323057858, 67.87794008495275, 79.8171792469162, 51.488655214393496, 48.53538551420885, 44.56372587180965, 35.09447745568339, 58.84385534441859, 32.703778878048475, 67.85184509678912, 88.40085764562747, 73.68212772989699, 45.3280152971449, 29.19600679901869, 39.210393432631626, 45.902353314564735, 54.931871573434655, 57.666120088925545, 54.32791532451941, 55.19878357364981, 57.192359869572094, 39.98176307533236, 36.34890569571774, 27.39096544417531, 29.67319876417288, 28.50605973644535, 40.395523279315945, 76.57426330340063, 52.41280679473081, 30.98638429527268, 50.63187259077235, 54.35502559905574, 75.49619252004265, 142.23777567053992, 276.16463221866087, 90.15091430200832, 319.8525706968718, 329.25810152642856, 245.46965041998314, 114.39552017232046, 41.87958393385892, 40.83056712778961, 38.446283682277304, 37.853468834640026, 32.2835212639343, 37.32254539489311, 36.69781135809202, 73.34339696428738, 32.95520533803775, 136.66272809528263, 33.0342516543011, 59.81675999789339, 84.66795247445454, 29.538602278778153, 43.21217743733936, 37.306476986441645, 35.859789413542565, 38.50043355085775, 31.057828616141, 46.97493921339179, 35.023957166228904, 73.99147065724696, 45.764103171126266, 98.3357330607648, 93.2594386225366, 53.41694413356873, 62.51183319339343, 49.57568592940085, 28.213483466874475, 87.13563786539798, 245.46965041998314, 133.92076018291024, 166.80064715989948, 73.06373061607898, 81.77792556721492, 96.1461306020408, 83.02761897314197, 46.29122408330043, 43.289327168285034, 38.72665825237302, 36.25208938515622, 36.17933122533033, 34.673989653612665, 34.63566165995163, 34.12992616501284, 30.93274542497827, 30.590555765638317, 29.943628513811962, 28.227688958462938, 27.884609701086912, 27.3583366593262, 25.718664579597075, 44.03329955054369, 50.1371467653371, 21.706334133598396, 20.754155915050855, 20.62465187815794, 20.3795736594427, 18.97621052771982, 91.28057788102743, 52.97243569326642, 46.629418395172834, 36.15455165290771, 47.41126563241839, 41.09445158800541, 54.74859244004084, 74.02378540359223, 206.4926732126598, 228.6722843437949, 147.23131871217566, 82.15938323057858, 112.19743455476721, 112.84716940529867, 166.80064715989948, 319.8525706968718, 55.54499341506027, 66.44637946195448, 35.03061751477141, 91.9791771789023, 50.358026390190815, 27.392715712823822, 106.84034311995401, 64.94825206869055, 63.759586173576125, 59.27088787293193, 45.766193210153794, 28.826853015226618, 49.373271628408595, 42.253627915612455, 52.374801914536356, 143.07101551845457, 33.8471318143417, 155.8272525401906, 122.59439733002887, 29.614669338841175, 32.05545133452192, 88.21146904901227, 134.09309160651682, 34.90752030434247, 77.82729215913953, 38.0115858251895, 43.047843355521756, 31.49086124926344, 40.09889567872575, 29.61841563174385, 39.00519205148438, 49.0901291405185, 200.31907267241132, 186.96105549937948, 245.46965041998314, 60.83584768867116, 228.6722843437949, 133.92076018291024, 166.80064715989948, 329.25810152642856, 94.41219874713435, 44.47856842729643, 41.612383906878335, 37.58519839569191, 35.92232138554386, 32.2901171937745, 30.504265113790133, 30.504265113790133, 39.788777652078615, 60.796937448216454, 31.850462387806065, 29.63436897858208, 46.28312943096198, 35.08442562305144, 34.32278120608597, 44.35041322131944, 52.36718844450744, 39.348419751864135, 117.97809133276921, 68.80427492841366, 58.078574484245046, 48.45330055998242, 33.22162664867876, 53.20488511699245, 43.75536031594404, 50.314224136056666, 39.839859495195356, 67.27869542326044, 44.96519684282122, 32.52395661414178, 58.320855905771026, 197.07302755557816, 319.8525706968718, 61.73006366077056, 215.33302304785627, 329.25810152642856, 43.50785905872347, 35.828979215171245, 35.99282566178804, 51.719611119222016, 91.05274488832993, 52.89549223021195, 165.48953202910894, 39.19991479512614, 31.15491917421409, 68.71781308583728, 48.32171896031575, 40.130776986213256, 33.129828560413614, 63.72490254073237, 36.12989437703703, 32.33216190063653, 35.338129930037134, 40.596341146400114, 107.44154409623138, 59.71444029319252, 34.31213216427009, 86.76789840896127, 47.43258898827073, 50.97057361078828, 30.716327588228857, 48.704725158813154, 39.75924528900458, 81.46161923121308, 34.13222348589513, 46.38876921778171, 154.8499510731684, 165.0983025907064, 60.43229707653858, 319.8525706968718, 98.60372031389508, 329.25810152642856, 87.32425470832312, 79.8724846561422, 51.376923530567005, 44.01686070779295, 38.5737342631872, 37.14043269053567, 36.795320861305264, 36.64370376008754, 36.64370376008754, 36.89077257341987, 54.24453939106501, 38.906203816948455, 30.442618436622652, 46.33814828714151, 116.10096403056401, 126.94440766718319, 98.40082944171238, 41.973495129375245, 29.34024470557309, 56.69837774741219, 215.33302304785627, 117.51189536365804, 53.819093844696425, 73.06373061607898, 59.278260569596206, 29.61841563174385, 41.49420606742159, 40.63787552503239, 88.21146904901227, 45.61001655442297, 154.8499510731684, 142.23777567053992, 112.19743455476721, 329.25810152642856, 51.907109877377906, 43.455283409471406, 30.627488373953362, 30.335135921260648, 29.149873203230932, 28.484535631066706, 28.391878508064096, 28.138112122829867, 28.138112122829867, 27.73384198122574, 27.73384198122574, 27.73384198122574, 24.153365335504066, 23.41002035932219, 23.05211645180369, 23.05211645180369, 23.05211645180369, 23.05211645180369, 23.05211645180369, 23.05211645180369, 23.05211645180369, 45.65052050940666, 26.138025462062544, 44.229363548329175, 42.55069861290071, 65.24492639338592, 38.64003276176241, 75.02182656416973, 50.64511536904279, 66.96123532624975, 276.16463221866087, 63.28685447324314, 329.25810152642856, 36.95811463142861, 63.193307835142136, 98.60372031389508, 52.92878175250887, 92.13162551432008, 130.5549792388564], \"Category\": [\"Default\", \"Default\", \"Default\", \"Default\", \"Default\", \"Default\", \"Default\", \"Default\", \"Default\", \"Default\", \"Default\", \"Default\", \"Default\", \"Default\", \"Default\", \"Default\", \"Default\", \"Default\", \"Default\", \"Default\", \"Default\", \"Default\", \"Default\", \"Default\", \"Default\", \"Default\", \"Default\", \"Default\", \"Default\", \"Default\", \"Topic1\", \"Topic1\", \"Topic1\", \"Topic1\", \"Topic1\", \"Topic1\", \"Topic1\", \"Topic1\", \"Topic1\", \"Topic1\", \"Topic1\", \"Topic1\", \"Topic1\", \"Topic1\", \"Topic1\", \"Topic1\", \"Topic1\", \"Topic1\", \"Topic1\", \"Topic1\", \"Topic1\", \"Topic1\", \"Topic1\", \"Topic1\", \"Topic1\", \"Topic1\", \"Topic1\", \"Topic1\", \"Topic1\", \"Topic1\", \"Topic1\", \"Topic1\", \"Topic1\", \"Topic1\", \"Topic1\", \"Topic1\", \"Topic1\", \"Topic1\", \"Topic1\", \"Topic1\", \"Topic1\", \"Topic2\", \"Topic2\", \"Topic2\", \"Topic2\", \"Topic2\", \"Topic2\", \"Topic2\", \"Topic2\", \"Topic2\", \"Topic2\", \"Topic2\", \"Topic2\", \"Topic2\", \"Topic2\", \"Topic2\", \"Topic2\", \"Topic2\", \"Topic2\", \"Topic2\", \"Topic2\", \"Topic2\", \"Topic2\", \"Topic2\", \"Topic2\", \"Topic2\", \"Topic2\", \"Topic2\", \"Topic2\", \"Topic2\", \"Topic2\", \"Topic2\", \"Topic2\", \"Topic2\", \"Topic2\", \"Topic2\", \"Topic2\", \"Topic2\", \"Topic2\", \"Topic2\", \"Topic2\", \"Topic2\", \"Topic2\", \"Topic3\", \"Topic3\", \"Topic3\", \"Topic3\", \"Topic3\", \"Topic3\", \"Topic3\", \"Topic3\", \"Topic3\", \"Topic3\", \"Topic3\", \"Topic3\", \"Topic3\", \"Topic3\", \"Topic3\", \"Topic3\", \"Topic3\", \"Topic3\", \"Topic3\", \"Topic3\", \"Topic3\", \"Topic3\", \"Topic3\", \"Topic3\", \"Topic3\", \"Topic3\", \"Topic3\", \"Topic3\", \"Topic3\", \"Topic3\", \"Topic3\", \"Topic3\", \"Topic3\", \"Topic3\", \"Topic3\", \"Topic3\", \"Topic3\", \"Topic3\", \"Topic4\", \"Topic4\", \"Topic4\", \"Topic4\", \"Topic4\", \"Topic4\", \"Topic4\", \"Topic4\", \"Topic4\", \"Topic4\", \"Topic4\", \"Topic4\", \"Topic4\", \"Topic4\", \"Topic4\", \"Topic4\", \"Topic4\", \"Topic4\", \"Topic4\", \"Topic4\", \"Topic4\", \"Topic4\", \"Topic4\", \"Topic4\", \"Topic4\", \"Topic4\", \"Topic4\", \"Topic4\", \"Topic4\", \"Topic4\", \"Topic4\", \"Topic4\", \"Topic4\", \"Topic4\", \"Topic4\", \"Topic4\", \"Topic5\", \"Topic5\", \"Topic5\", \"Topic5\", \"Topic5\", \"Topic5\", \"Topic5\", \"Topic5\", \"Topic5\", \"Topic5\", \"Topic5\", \"Topic5\", \"Topic5\", \"Topic5\", \"Topic5\", \"Topic5\", \"Topic5\", \"Topic5\", \"Topic5\", \"Topic5\", \"Topic5\", \"Topic5\", \"Topic5\", \"Topic5\", \"Topic5\", \"Topic5\", \"Topic5\", \"Topic5\", \"Topic5\", \"Topic5\", \"Topic5\", \"Topic5\", \"Topic5\", \"Topic5\", \"Topic5\", \"Topic5\", \"Topic5\", \"Topic5\", \"Topic5\", \"Topic5\", \"Topic6\", \"Topic6\", \"Topic6\", \"Topic6\", \"Topic6\", \"Topic6\", \"Topic6\", \"Topic6\", \"Topic6\", \"Topic6\", \"Topic6\", \"Topic6\", \"Topic6\", \"Topic6\", \"Topic6\", \"Topic6\", \"Topic6\", \"Topic6\", \"Topic6\", \"Topic6\", \"Topic6\", \"Topic6\", \"Topic6\", \"Topic6\", \"Topic6\", \"Topic6\", \"Topic6\", \"Topic6\", \"Topic6\", \"Topic6\", \"Topic6\", \"Topic6\", \"Topic6\", \"Topic6\", \"Topic6\", \"Topic6\", \"Topic6\", \"Topic6\", \"Topic6\", \"Topic7\", \"Topic7\", \"Topic7\", \"Topic7\", \"Topic7\", \"Topic7\", \"Topic7\", \"Topic7\", \"Topic7\", \"Topic7\", \"Topic7\", \"Topic7\", \"Topic7\", \"Topic7\", \"Topic7\", \"Topic7\", \"Topic7\", \"Topic7\", \"Topic7\", \"Topic7\", \"Topic7\", \"Topic7\", \"Topic7\", \"Topic7\", \"Topic7\", \"Topic7\", \"Topic7\", \"Topic7\", \"Topic7\", \"Topic7\", \"Topic7\", \"Topic7\", \"Topic7\", \"Topic7\", \"Topic7\", \"Topic7\", \"Topic8\", \"Topic8\", \"Topic8\", \"Topic8\", \"Topic8\", \"Topic8\", \"Topic8\", \"Topic8\", \"Topic8\", \"Topic8\", \"Topic8\", \"Topic8\", \"Topic8\", \"Topic8\", \"Topic8\", \"Topic8\", \"Topic8\", \"Topic8\", \"Topic8\", \"Topic8\", \"Topic8\", \"Topic8\", \"Topic8\", \"Topic8\", \"Topic8\", \"Topic8\", \"Topic8\", \"Topic8\", \"Topic8\", \"Topic8\", \"Topic8\", \"Topic8\", \"Topic8\", \"Topic8\", \"Topic8\", \"Topic8\", \"Topic9\", \"Topic9\", \"Topic9\", \"Topic9\", \"Topic9\", \"Topic9\", \"Topic9\", \"Topic9\", \"Topic9\", \"Topic9\", \"Topic9\", \"Topic9\", \"Topic9\", \"Topic9\", \"Topic9\", \"Topic9\", \"Topic9\", \"Topic9\", \"Topic9\", \"Topic9\", \"Topic9\", \"Topic9\", \"Topic9\", \"Topic9\", \"Topic9\", \"Topic9\", \"Topic9\", \"Topic9\", \"Topic9\", \"Topic9\", \"Topic9\", \"Topic9\", \"Topic9\", \"Topic9\", \"Topic10\", \"Topic10\", \"Topic10\", \"Topic10\", \"Topic10\", \"Topic10\", \"Topic10\", \"Topic10\", \"Topic10\", \"Topic10\", \"Topic10\", \"Topic10\", \"Topic10\", \"Topic10\", \"Topic10\", \"Topic10\", \"Topic10\", \"Topic10\", \"Topic10\", \"Topic10\", \"Topic10\", \"Topic10\", \"Topic10\", \"Topic10\", \"Topic10\", \"Topic10\", \"Topic10\", \"Topic10\", \"Topic10\", \"Topic10\", \"Topic10\", \"Topic10\", \"Topic10\", \"Topic10\", \"Topic10\", \"Topic10\", \"Topic10\", \"Topic10\", \"Topic10\"], \"logprob\": [30.0, 29.0, 28.0, 27.0, 26.0, 25.0, 24.0, 23.0, 22.0, 21.0, 20.0, 19.0, 18.0, 17.0, 16.0, 15.0, 14.0, 13.0, 12.0, 11.0, 10.0, 9.0, 8.0, 7.0, 6.0, 5.0, 4.0, 3.0, 2.0, 1.0, -4.2301, -4.2978, -4.3196, -4.3585, -4.1945, -4.606, -4.341, -3.8272, -4.5973, -4.6169, -4.7301, -4.4836, -4.6495, -4.496, -4.258, -3.7215, -4.5434, -4.5334, -4.9915, -4.7837, -4.9338, -4.4266, -3.8135, -4.9892, -4.4403, -4.8415, -4.7126, -4.978, -5.1051, -5.1331, -4.4319, -4.3268, -4.3109, -4.7749, -3.9037, -4.4368, -4.3022, -4.2267, -4.5381, -4.4522, -4.5721, -3.9465, -4.3189, -4.6013, -4.6059, -4.6154, -4.2767, -4.2312, -4.4925, -4.034, -4.1195, -4.1029, -4.533, -4.4139, -3.8805, -4.0725, -3.7289, -4.2216, -4.0781, -4.4514, -4.7551, -4.9091, -5.0582, -4.0051, -4.4696, -4.7061, -4.7374, -4.6564, -4.7125, -5.1028, -4.7744, -3.2372, -3.7422, -3.6965, -4.1675, -3.7755, -4.5619, -4.4045, -4.1266, -4.5291, -4.5282, -4.5661, -4.5773, -3.4705, -3.9152, -3.9754, -4.0651, -4.307, -3.7919, -4.3795, -3.6773, -3.4261, -3.6379, -4.1303, -4.5751, -4.3034, -4.1477, -3.9698, -3.9583, -4.0324, -4.1013, -4.0672, -4.4556, -4.5669, -4.8557, -4.7868, -4.8509, -4.5754, -3.9435, -4.3355, -4.8868, -4.5333, -4.5118, -4.2262, -3.9108, -3.5471, -4.3369, -4.1625, -4.2213, -4.3577, -4.5124, -4.1219, -4.1478, -4.2094, -4.2254, -4.3887, -4.3074, -4.3427, -3.6602, -4.4878, -3.0682, -4.49, -3.9071, -3.5897, -4.6571, -4.2788, -4.4577, -4.5134, -4.4654, -4.6818, -4.3043, -4.6392, -3.9055, -4.4056, -3.7248, -3.8087, -4.3784, -4.2909, -4.6089, -5.1743, -4.1716, -3.2787, -3.878, -3.84, -4.3507, -4.3089, -4.4768, -3.395, -3.9875, -4.0559, -4.1698, -4.2375, -4.2395, -4.2832, -4.2843, -4.2994, -4.4006, -4.412, -4.4341, -4.495, -4.5076, -4.5273, -4.5913, -4.0545, -3.9294, -4.7677, -4.8145, -4.8211, -4.8336, -4.9084, -3.344, -3.8961, -4.0999, -4.3962, -4.1398, -4.3264, -4.0603, -3.7959, -3.0237, -3.1208, -3.5389, -3.9341, -3.8682, -4.084, -3.9928, -3.8889, -4.3793, -3.5199, -4.1725, -3.2229, -3.8271, -4.4589, -3.1112, -3.6847, -3.7371, -3.8543, -4.1145, -4.5988, -4.0711, -4.2301, -4.0639, -3.0602, -4.5143, -2.9981, -3.2831, -4.7075, -4.6606, -3.6577, -3.2455, -4.5951, -3.8283, -4.5504, -4.44, -4.7624, -4.5488, -4.8939, -4.7271, -4.526, -3.5879, -3.6944, -3.669, -4.4932, -4.1507, -4.3428, -4.4099, -4.4579, -3.1364, -3.9, -3.9681, -4.0722, -4.1186, -4.2281, -4.2867, -4.2867, -4.0406, -3.6814, -4.3675, -4.4411, -3.998, -4.3607, -4.4004, -4.1579, -4.006, -4.3169, -3.2382, -3.8066, -3.9773, -4.1585, -4.5363, -4.0926, -4.3112, -4.3016, -4.5681, -4.0712, -4.4835, -4.8622, -4.3297, -3.3286, -3.5377, -4.3745, -4.1096, -4.3513, -3.8164, -4.0151, -4.0106, -3.6633, -3.1147, -3.6697, -2.5586, -4.0104, -4.2726, -3.4981, -3.8847, -4.0723, -4.3313, -3.7079, -4.3203, -4.4539, -4.4367, -4.2993, -3.334, -3.9283, -4.5164, -3.6794, -4.3226, -4.2546, -4.7987, -4.3527, -4.6385, -3.9334, -4.8061, -4.6305, -3.4346, -3.4394, -4.5358, -4.1168, -4.4869, -4.4229, -3.0451, -3.1363, -3.5777, -3.7353, -3.8702, -3.909, -3.9185, -3.9228, -3.9228, -3.9394, -3.6385, -3.9933, -4.2955, -3.8794, -2.9805, -2.8971, -3.1751, -4.0824, -4.4718, -3.8973, -2.7054, -3.3684, -4.2089, -3.9742, -4.248, -4.9949, -4.6931, -4.734, -4.0876, -4.9548, -3.7718, -4.4752, -4.6382, -4.6225, -3.5155, -3.6966, -4.0552, -4.0651, -4.1062, -4.13, -4.1333, -4.1426, -4.1426, -4.1575, -4.1575, -4.1575, -4.3007, -4.3331, -4.3492, -4.3492, -4.3492, -4.3492, -4.3492, -4.3492, -4.3492, -3.6852, -4.2656, -3.7778, -3.8306, -3.4147, -3.9721, -3.3155, -3.7143, -3.529, -2.5398, -3.6615, -3.3374, -4.173, -3.9911, -3.9172, -4.1319, -4.0834, -4.0331], \"loglift\": [30.0, 29.0, 28.0, 27.0, 26.0, 25.0, 24.0, 23.0, 22.0, 21.0, 20.0, 19.0, 18.0, 17.0, 16.0, 15.0, 14.0, 13.0, 12.0, 11.0, 10.0, 9.0, 8.0, 7.0, 6.0, 5.0, 4.0, 3.0, 2.0, 1.0, 2.0058, 2.0044, 2.0039, 2.003, 1.9973, 1.9966, 1.9901, 1.9736, 1.9644, 1.9219, 1.915, 1.9147, 1.9117, 1.9094, 1.8683, 1.8471, 1.7916, 1.7902, 1.7793, 1.7696, 1.7663, 1.7547, 1.7544, 1.7126, 1.6791, 1.6698, 1.6511, 1.6343, 1.5789, 1.5745, 1.521, 1.3766, 1.1752, 1.4867, 0.3514, 0.7861, 0.4498, 0.0573, 0.7433, 0.3161, 0.191, 2.0962, 2.0887, 2.081, 2.0808, 2.0805, 2.0406, 2.0371, 2.0328, 2.0309, 2.02, 2.0071, 2.0042, 1.9578, 1.9397, 1.9311, 1.9245, 1.9149, 1.8721, 1.8604, 1.8229, 1.8131, 1.7539, 1.7362, 1.7246, 1.7113, 1.6646, 1.6083, 1.5921, 1.5662, 1.5319, 1.5259, 1.5276, 1.3593, 1.3122, 0.5086, 1.4019, 1.1519, 0.1285, 1.2235, 0.1934, 1.0772, 1.2569, 2.2017, 2.1953, 2.1942, 2.1899, 2.1869, 2.1851, 2.1849, 2.1573, 2.144, 2.1143, 2.1076, 2.1028, 2.0795, 2.0777, 2.076, 2.039, 2.0245, 1.9397, 1.9383, 1.9079, 1.8919, 1.886, 1.8749, 1.8509, 1.7778, 1.7701, 1.7573, 1.7316, 1.594, 1.5446, 1.5017, 1.1836, 0.8839, 1.2135, 0.1215, 0.0338, 0.1911, 0.7999, 2.1952, 2.1947, 2.1933, 2.1928, 2.1886, 2.1249, 2.1065, 2.0966, 2.069, 2.0662, 2.0643, 2.0535, 2.0234, 2.0091, 2.007, 1.9751, 1.9589, 1.9359, 1.9343, 1.898, 1.8566, 1.8425, 1.8228, 1.7388, 1.7078, 1.6954, 1.6257, 1.5395, 1.5379, 1.4128, 1.2701, 1.2766, 1.0951, 1.4099, 1.339, 1.0092, 2.2377, 2.2295, 2.2281, 2.2256, 2.2239, 2.2239, 2.2228, 2.2227, 2.2223, 2.2195, 2.2192, 2.2185, 2.2166, 2.2162, 2.2156, 2.2134, 2.2124, 2.2078, 2.2066, 2.2046, 2.2043, 2.2038, 2.2004, 2.194, 2.1861, 2.1098, 2.0679, 2.0532, 2.0096, 1.9888, 1.9517, 1.698, 1.4988, 1.521, 1.7092, 1.4634, 1.2419, 0.9424, 0.3952, 1.6554, 2.3356, 2.3231, 2.3074, 2.3056, 2.2827, 2.2693, 2.1936, 2.1597, 2.1155, 2.1139, 2.0918, 2.0814, 2.0781, 2.0296, 2.0284, 2.0157, 2.005, 1.9599, 1.9561, 1.9239, 1.9144, 1.9079, 1.9041, 1.8691, 1.8636, 1.8496, 1.8399, 1.8117, 1.7696, 1.6611, 1.6323, 1.1641, 1.1267, 0.8797, 1.4506, 0.4689, 0.8119, 0.5252, -0.2028, 2.3678, 2.3569, 2.3554, 2.3531, 2.352, 2.3491, 2.3474, 2.3474, 2.3277, 2.2629, 2.2233, 2.2219, 2.2191, 2.1334, 2.1157, 2.1019, 2.0876, 2.0626, 2.0432, 2.0141, 2.0128, 2.0128, 2.0124, 1.9851, 1.9621, 1.832, 1.7989, 1.7718, 1.7625, 1.7078, 1.6562, 1.4397, 0.7464, 1.5546, 0.5701, -0.0963, 2.4626, 2.4581, 2.458, 2.4428, 2.4258, 2.4139, 2.3844, 2.3729, 2.3404, 2.3238, 2.2893, 2.2875, 2.2202, 2.1895, 2.1445, 2.1219, 2.0502, 2.0489, 2.041, 2.0341, 2.0, 1.9092, 1.87, 1.8661, 1.8284, 1.8135, 1.7305, 1.7184, 1.7155, 1.5843, 1.5749, 1.506, 1.4146, 0.1672, 0.9739, -0.1678, 2.5372, 2.5352, 2.535, 2.5321, 2.5292, 2.5283, 2.528, 2.5279, 2.5279, 2.5046, 2.4199, 2.3975, 2.3406, 2.3366, 2.317, 2.311, 2.2877, 2.2325, 2.2011, 2.1169, 1.9744, 1.917, 1.8574, 1.7864, 1.7217, 1.6687, 1.6332, 1.6132, 1.4846, 1.2769, 1.2377, 0.6192, 0.6935, -0.3674, 2.5869, 2.5836, 2.5748, 2.5745, 2.5733, 2.5726, 2.5725, 2.5722, 2.5722, 2.5717, 2.5717, 2.5717, 2.5668, 2.5656, 2.565, 2.565, 2.565, 2.565, 2.565, 2.565, 2.565, 2.5457, 2.523, 2.4847, 2.4706, 2.459, 2.4255, 2.4186, 2.4128, 2.3188, 1.8911, 2.2427, 0.9177, 2.2691, 1.9146, 1.5436, 1.9511, 1.4453, 1.1471]}, \"token.table\": {\"Topic\": [1, 5, 7, 4, 5, 7, 8, 2, 5, 2, 1, 2, 5, 10, 10, 4, 7, 9, 10, 1, 2, 3, 9, 1, 2, 9, 10, 1, 2, 3, 4, 5, 6, 7, 8, 9, 10, 10, 2, 4, 9, 5, 5, 1, 3, 5, 7, 1, 2, 4, 7, 8, 1, 2, 5, 6, 5, 5, 1, 1, 3, 4, 6, 10, 10, 10, 3, 7, 1, 2, 6, 7, 8, 1, 2, 4, 6, 7, 8, 1, 2, 4, 1, 2, 2, 4, 6, 7, 1, 4, 5, 6, 10, 3, 8, 9, 9, 9, 2, 3, 5, 8, 1, 4, 1, 3, 4, 6, 7, 8, 9, 7, 1, 2, 3, 4, 5, 7, 9, 10, 1, 4, 6, 9, 4, 1, 3, 4, 1, 3, 8, 4, 5, 7, 9, 5, 9, 5, 2, 4, 5, 7, 1, 4, 8, 9, 1, 2, 3, 4, 7, 9, 1, 2, 3, 4, 7, 1, 2, 3, 4, 5, 8, 9, 10, 6, 9, 1, 2, 3, 4, 5, 6, 7, 8, 10, 1, 1, 5, 6, 10, 3, 6, 10, 3, 7, 8, 1, 2, 5, 3, 7, 5, 6, 2, 6, 8, 1, 2, 3, 4, 9, 5, 10, 10, 2, 6, 1, 2, 3, 5, 8, 2, 5, 7, 4, 6, 6, 8, 10, 1, 2, 7, 5, 2, 7, 1, 4, 6, 8, 1, 2, 3, 4, 8, 9, 1, 2, 3, 6, 1, 2, 3, 4, 9, 5, 5, 5, 5, 5, 7, 7, 1, 2, 4, 1, 4, 6, 8, 6, 9, 3, 3, 1, 8, 1, 2, 3, 4, 8, 9, 1, 2, 6, 8, 2, 5, 4, 8, 9, 5, 4, 1, 3, 4, 6, 7, 8, 3, 8, 1, 3, 5, 1, 3, 7, 8, 9, 2, 1, 3, 4, 8, 9, 2, 5, 6, 7, 8, 9, 6, 9, 1, 2, 3, 4, 5, 6, 8, 5, 4, 7, 1, 3, 1, 2, 3, 9, 5, 8, 9, 1, 2, 3, 4, 6, 7, 9, 10, 4, 9, 1, 2, 3, 4, 1, 2, 3, 4, 6, 7, 8, 9, 1, 2, 3, 4, 8, 9, 10, 3, 1, 2, 3, 5, 7, 9, 1, 2, 3, 4, 5, 6, 7, 8, 9, 1, 2, 4, 5, 8, 9, 8, 1, 2, 6, 7, 4, 6, 1, 2, 3, 4, 5, 6, 7, 10, 10, 1, 2, 4, 8, 3, 8, 1, 3, 9, 10, 1, 2, 3, 10, 2, 1, 3, 8, 9, 10, 5, 5, 1, 2, 3, 4, 6, 7, 8, 10, 1, 2, 1, 3, 4, 8, 1, 2, 3, 10, 1, 5, 8, 9, 1, 6, 7, 1, 3, 4, 6, 9, 1, 3, 4, 8, 6, 9, 1, 4, 5, 6, 8, 9, 10, 1, 2, 3, 4, 6, 3, 5, 1, 2, 3, 4, 8, 9, 8, 1, 3, 8, 1, 4, 1, 2, 4, 6, 10, 1, 2, 3, 4, 6, 8, 1, 2, 3, 4, 5, 6, 7, 8, 6, 1, 1, 6, 2, 3, 10, 10, 1, 2, 3, 4, 8, 1, 3, 4, 1, 6, 8, 4, 4, 1, 3, 7, 8, 3, 8, 9, 10, 10, 10, 1, 2, 3, 4, 7, 8, 3, 7, 8, 9, 1, 4, 8, 8, 10, 4, 6, 9, 1, 2, 3, 7, 8, 1, 4, 5, 7, 1, 2, 1, 2, 1, 2, 9, 1, 2, 5, 7, 9, 2, 3, 5, 5, 2, 7, 2, 4, 5, 5, 8, 9, 1, 3, 4, 7, 3, 1, 2, 3, 4, 7, 8, 1, 2, 7, 1, 2, 7, 9, 1, 2, 3, 4, 5, 6, 8, 9, 3, 4, 7, 1, 2, 3, 4, 6, 7, 8, 9, 9, 2, 3, 1, 3, 4, 6, 7, 8, 2, 4, 7, 3, 10, 1, 5, 9, 1, 5, 7, 8, 10, 3, 4, 2, 5, 10, 3, 7, 1, 2, 3, 4, 5, 7, 8, 9, 5, 6, 5, 5, 1, 2, 2, 5, 6, 1, 7, 1, 2, 3, 4, 5, 6, 7, 8, 10, 7, 8, 1, 2, 4, 6, 8, 1, 2, 6, 7, 2, 7, 1, 2, 5, 1, 2, 4, 9, 2, 7, 1, 2, 5, 7, 10, 2, 6, 7, 10, 1, 3, 4, 7, 2, 3, 9, 1, 2, 5, 1, 3, 5, 6, 1, 2, 3, 5, 6, 8, 6, 9, 8, 10, 2, 4, 5, 1, 1, 3, 4, 8, 5, 8, 1, 3, 7, 8, 10, 1, 5, 7, 3, 5, 6, 1, 2, 3, 5, 6, 10, 1, 2, 3, 4, 5, 6, 7, 8, 10, 1, 2, 3, 4, 5, 6, 7, 8, 3, 1, 2, 3, 4, 5, 7, 2, 7, 1, 2, 1, 2, 3, 4, 5, 6, 7, 8, 9, 10, 1, 3, 8, 1, 5, 2, 10, 10, 1, 2, 4, 6, 7, 8, 10, 7, 1, 2, 4, 5, 6, 7, 9, 9, 1, 2, 3, 5, 7, 1, 3, 4, 5, 6, 8, 9, 3, 4, 1, 3, 4, 6, 9, 1, 4, 5, 10, 4, 7, 1, 3, 7, 6, 9, 1, 9, 10, 10, 10, 10, 1, 3, 9, 2, 3, 9, 10, 7, 6, 9, 1, 3, 9, 4, 7, 1, 2, 3, 5, 6, 7, 9, 1, 3, 1, 2, 3, 4, 7, 9, 5, 7, 10, 2, 4, 6, 8, 9, 1, 4, 8, 9, 2, 3, 7, 4, 8, 1, 2, 3, 4, 6, 1, 2, 3, 4, 8, 10, 3, 4, 1, 3, 4, 1, 3, 6, 8, 1, 2, 4, 7, 8, 7, 10, 10, 1, 2, 3, 4, 5, 6, 7, 8, 9, 10, 1, 3, 4, 1, 2, 3, 4, 6, 7, 8, 9, 10, 3, 5, 8, 7, 5, 1, 3, 1, 2, 2, 4, 2, 6, 8, 2, 3, 4, 5, 7, 8, 9, 1, 2, 3, 4, 5, 6, 7, 8, 1, 2, 3, 5, 1, 2, 3, 5, 7, 8, 6, 9, 10, 9, 10, 1, 2, 3, 4, 5, 6, 7, 8, 9, 10, 2, 3, 4, 8, 9, 1, 4, 5, 6, 7, 10, 10, 7, 3, 4, 5, 7, 9, 2, 3, 5, 7, 8, 10, 1, 2, 3, 10, 4, 6, 9, 1, 2, 3, 4, 6, 9, 4, 6, 7, 8, 9, 4, 6, 7, 9, 1, 3, 7, 1, 1, 2, 3, 4, 6, 7, 9, 2, 4, 5, 7, 3, 5, 7, 1, 7, 1, 4, 9, 9, 10, 1, 2, 3, 7, 4, 10, 2, 4, 8, 1, 2, 3, 4, 5, 6, 8, 9, 1, 2, 3, 4, 6, 7, 8, 9, 10, 6, 9, 1, 2, 3, 4, 6, 7, 8, 9, 10, 1, 2, 4, 7, 8, 4, 7, 10, 1, 3, 9, 6, 7, 1, 2, 1, 2, 3, 7], \"Freq\": [0.6350969968754171, 0.2822653319446298, 0.07056633298615746, 0.7405540253399016, 0.1287920044069394, 0.09659400330520455, 0.03219800110173485, 0.8426156990227232, 0.14527856879702122, 0.9765402402159434, 0.1738117669389092, 0.06320427888687608, 0.06320427888687608, 0.6952470677556368, 0.9543592253664254, 0.8267590977958271, 0.15354097530493932, 0.011810844254226101, 0.9795122483994803, 0.09843034234247933, 0.3937213693699173, 0.09843034234247933, 0.3937213693699173, 0.7366956980325698, 0.17540373762680234, 0.035080747525360466, 0.035080747525360466, 0.18830212442023525, 0.13667089675662236, 0.11237384844433394, 0.0698540138978292, 0.018222786234216314, 0.07896540701493736, 0.08503966909300947, 0.0698540138978292, 0.054668358702648946, 0.1852649933811992, 0.9824852625914563, 0.14901562657061224, 0.7237901862001165, 0.10643973326472302, 0.9805620968239966, 0.9806948337204885, 0.02109203343680052, 0.08436813374720208, 0.8225893040352202, 0.06327610031040155, 0.22590441116102306, 0.05020098025800512, 0.10040196051601025, 0.5522107828380564, 0.05020098025800512, 0.07481502792585966, 0.29926011170343864, 0.024938342641953222, 0.5735818807649241, 0.9816471916664254, 0.9720566914595091, 0.9847999887321608, 0.673588845186747, 0.032075659294607, 0.064151318589214, 0.192453955767642, 0.032075659294607, 0.9522482552852093, 0.9543592253664254, 0.943231534952446, 0.044213978200895905, 0.08895768907633744, 0.2223942226908436, 0.08895768907633744, 0.5337461344580247, 0.04447884453816872, 0.11551252882006298, 0.006417362712225721, 0.09626044068338581, 0.7059098983448293, 0.012834725424451443, 0.05775626441003149, 0.7675990174856995, 0.09030576676302346, 0.1354586501445352, 0.07997151591933224, 0.9196724330723208, 0.10185347008739178, 0.2240776341922619, 0.4888966564194805, 0.16296555213982683, 0.6959077371778605, 0.08698846714723256, 0.05799231143148837, 0.11598462286297674, 0.028996155715744185, 0.14951118444732014, 0.8223115144602607, 0.9692940386549056, 0.9824334416547525, 0.9824334416547525, 0.22510262949241353, 0.7253306950311103, 0.025011403276934834, 0.9724160122598522, 0.7930392861974793, 0.1922519481690859, 0.13451062647656523, 0.09782591016477471, 0.4157601182002925, 0.08559767139417787, 0.12228238770596839, 0.012228238770596839, 0.12228238770596839, 0.9852836139297199, 0.13259094175126757, 0.4272374789763066, 0.1178586148900156, 0.0589293074450078, 0.0589293074450078, 0.10312628802876365, 0.0883939611675117, 0.01473232686125195, 0.20906970706223701, 0.13937980470815803, 0.6039791537353514, 0.02322996745135967, 0.977453352072743, 0.044122823090513186, 0.9045178733555204, 0.044122823090513186, 0.23315368341727713, 0.11657684170863856, 0.6120284189703524, 0.01714652476321163, 0.4458096438435023, 0.48010269336992556, 0.03429304952642326, 0.953823593251063, 0.02271008555359674, 0.956507634745817, 0.6498008993055401, 0.05198407194444321, 0.05198407194444321, 0.25992035972221605, 0.05358691318716066, 0.9109775241817312, 0.9263549299577746, 0.05671560795659844, 0.16293905785045412, 0.4073476446261353, 0.08146952892522706, 0.23083033195481, 0.08146952892522706, 0.04073476446261353, 0.10404482363936966, 0.222953193512935, 0.089181277405174, 0.029727092468391333, 0.5499512106652397, 0.2440352399122579, 0.12201761995612895, 0.3660528598683868, 0.15529515267143684, 0.022185021810205263, 0.011092510905102632, 0.06655506543061579, 0.011092510905102632, 0.011451572112927374, 0.9848352017117541, 0.044802613066153026, 0.044802613066153026, 0.2016117587976886, 0.3882893132399929, 0.022401306533076513, 0.21654596315307295, 0.029868408710768683, 0.037335510888460856, 0.007467102177692171, 0.9685589859782189, 0.8021721213587761, 0.048616492203562185, 0.024308246101781093, 0.12154123050890547, 0.14177711480582364, 0.7696471946601854, 0.06076162063106727, 0.028298045255360494, 0.31127849780896544, 0.6508550408732914, 0.04868585720481961, 0.3529724647349422, 0.5842302864578354, 0.8671170325902561, 0.10201376854003012, 0.26590140781696964, 0.7090704208452524, 0.13875951002654233, 0.7631773051459828, 0.06937975501327116, 0.08445830552889674, 0.675666444231174, 0.06334372914667255, 0.1689166110577935, 0.9768983818600012, 0.9702160497142207, 0.9605530632941662, 0.9595526481001382, 0.927714235013186, 0.05566285410079116, 0.7053921226723382, 0.05878267688936152, 0.0783769025191487, 0.03918845125957435, 0.09797112814893587, 0.6846600034503825, 0.16109647140008998, 0.14767176545008248, 0.19665170661393877, 0.7866068264557551, 0.3778662447497572, 0.0944665611874393, 0.5290127426496601, 0.7704319860849641, 0.1050589071934042, 0.1050589071934042, 0.9697133371342154, 0.8573897182098706, 0.12608672326615744, 0.17946328762489988, 0.051275225035685684, 0.5127522503568568, 0.2563761251784284, 0.1759666840351522, 0.09598182765553756, 0.07998485637961462, 0.5598939946573024, 0.03199394255184585, 0.04799091382776878, 0.10869804752118149, 0.054349023760590746, 0.7608863326482704, 0.054349023760590746, 0.09639900070628238, 0.12049875088285297, 0.12049875088285297, 0.24099750176570595, 0.4096957530017001, 0.9654615939000498, 0.9323060588755995, 0.9485560867753967, 0.9684865007800675, 0.9636624144996452, 0.9600460665400362, 0.9834690292682328, 0.9879639217248355, 0.0817487443795061, 0.8992361881745671, 0.02864712220408279, 0.14323561102041396, 0.6302366884898214, 0.14323561102041396, 0.16424342769362343, 0.8212171384681172, 0.9688133992858143, 0.9784801970233211, 0.9064753107659593, 0.07769788377993937, 0.1446662054712927, 0.04254888396214491, 0.0936075447167188, 0.16168575905615065, 0.017019553584857964, 0.5276061611305969, 0.047051748294490804, 0.0156839160981636, 0.8312475532026709, 0.09410349658898161, 0.1072284444473708, 0.8792732444684405, 0.14779657059148668, 0.6404518058964423, 0.17242933235673447, 0.9876231670153712, 0.9796582025130796, 0.0447450344243417, 0.09694757458607368, 0.029830022949561132, 0.6413454934155643, 0.05220254016173198, 0.11932009179824453, 0.9275928105665379, 0.05656053722966694, 0.07016052090296349, 0.7016052090296349, 0.21048156270889046, 0.03923832631886815, 0.09809581579717037, 0.1569533052754726, 0.52971740530472, 0.17657246843490668, 0.9672359466176917, 0.8867641837123651, 0.07824389856285575, 0.4516604849183236, 0.08212008816696792, 0.4653471662794849, 0.07545414854314778, 0.1006055313908637, 0.025151382847715925, 0.12575691423857963, 0.47787627410660255, 0.2012110627817274, 0.6461744783813715, 0.34009183072703764, 0.13189397268291306, 0.029975902882480237, 0.011990361152992094, 0.32373975113078657, 0.2697831259423221, 0.16186987556539328, 0.06594698634145653, 0.9682760594259839, 0.9883920202544042, 0.989240471440112, 0.06850251864125549, 0.8905327423363214, 0.24755218371240614, 0.07426565511372184, 0.6436356776522559, 0.024755218371240614, 0.043656802585562766, 0.8585837841827345, 0.08731360517112553, 0.4264342178231116, 0.08320667664841201, 0.020801669162103003, 0.3016242028504936, 0.020801669162103003, 0.020801669162103003, 0.010400834581051501, 0.12481001497261802, 0.12851420877566788, 0.848193777919408, 0.018204367908039844, 0.03640873581607969, 0.8738096595859125, 0.07281747163215938, 0.19509812995528422, 0.09181088468483964, 0.03442908175681486, 0.4475780628385932, 0.09181088468483964, 0.011476360585604955, 0.06885816351362972, 0.06885816351362972, 0.03258925637108377, 0.0036210284856759744, 0.26433507945434614, 0.07966262668487144, 0.07242056971351948, 0.05069439879946364, 0.48883884556625656, 0.9905094585912414, 0.16722689582940461, 0.22296919443920615, 0.01858076620326718, 0.03716153240653436, 0.03716153240653436, 0.5016806874882138, 0.047349044761771965, 0.47349044761771963, 0.12175468653027076, 0.13528298503363417, 0.047349044761771965, 0.05411319401345367, 0.006764149251681709, 0.08793394027186222, 0.027056597006726836, 0.03744130317524366, 0.03744130317524366, 0.5990608508038986, 0.07488260635048732, 0.07488260635048732, 0.1872065158762183, 0.9768628849236033, 0.05261553698911033, 0.13153884247277584, 0.6050786753747688, 0.18415437946188615, 0.03261607781253477, 0.95673828250102, 0.07871526736024595, 0.11807290104036892, 0.03061149286231787, 0.013119211226707658, 0.4722916041614757, 0.15305746431158934, 0.05247684490683063, 0.08308833776914851, 0.9543592253664254, 0.6547841760150657, 0.13784930021369804, 0.17231162526712254, 0.03446232505342451, 0.16555702429729385, 0.8277851214864693, 0.05175979048286857, 0.07763968572430285, 0.025879895241434286, 0.8281566477258971, 0.1239880585676777, 0.7439283514060662, 0.06199402928383885, 0.06199402928383885, 0.9632491866524533, 0.8483772651961602, 0.039459407683542336, 0.0591891115253135, 0.019729703841771168, 0.019729703841771168, 0.981236226280162, 0.9503501738340092, 0.20622668810990227, 0.04341614486524258, 0.10854036216310645, 0.10854036216310645, 0.13024843459572774, 0.07597825351417452, 0.010854036216310646, 0.3147670502730087, 0.9453156237395115, 0.03049405237869392, 0.09055283804229097, 0.09055283804229097, 0.030184279347430325, 0.7546069836857582, 0.1344061225297, 0.05973605445764445, 0.029868027228822223, 0.7467006807205555, 0.12319133267738594, 0.14372322145695027, 0.5132972194891081, 0.20531888779564322, 0.10803072440160356, 0.043212289760641426, 0.8642457952128285, 0.047333213706390695, 0.047333213706390695, 0.11833303426597674, 0.7573314193022511, 0.023666606853195347, 0.2126642747622645, 0.17722022896855374, 0.49621664111195046, 0.10633213738113224, 0.7255397368758982, 0.26730411358585726, 0.07709377820484017, 0.1284896303414003, 0.012848963034140029, 0.6167502256387214, 0.07709377820484017, 0.025697926068280058, 0.06424481517070015, 0.10062392366429213, 0.486348964377412, 0.18447719338453558, 0.1509358854964382, 0.06708261577619476, 0.04382093204113463, 0.9421500388843946, 0.13939607820948738, 0.08578220197506915, 0.0965049772219528, 0.6004754138254841, 0.05361387623441822, 0.021445550493767288, 0.9883271880135954, 0.24743164483048388, 0.030928955603810485, 0.7113659788876412, 0.16199137407853337, 0.8099568703926668, 0.09494676264855008, 0.031648920882850026, 0.2848402879456502, 0.09494676264855008, 0.5063827341256004, 0.14718050284827713, 0.01839756285603464, 0.51513175996897, 0.0919878142801732, 0.1287829399922425, 0.11038537713620784, 0.07740264414558864, 0.06925499739342142, 0.1303623480346756, 0.38701322072794325, 0.004073823376083613, 0.22813410906068232, 0.048885880513003355, 0.048885880513003355, 0.9932821100928446, 0.9735169260023487, 0.06551832197076356, 0.9266162678722274, 0.892605948096006, 0.0892605948096006, 0.9895229446513707, 0.9543592253664254, 0.13355514478388375, 0.11447583838618608, 0.6296171111240234, 0.07631722559079072, 0.01907930639769768, 0.08670602413149384, 0.8323778316623408, 0.0520236144788963, 0.025510259530572586, 0.05102051906114517, 0.8928590835700405, 0.9789973096378403, 0.9602422160383046, 0.10541275748697619, 0.08433020598958095, 0.2529906179687429, 0.5481463389322762, 0.04834142620327691, 0.906401741311442, 0.03625606965245768, 0.006042678275409614, 0.9559871455751445, 0.9595526481001382, 0.13435503144397665, 0.4444051040069996, 0.05167501209383717, 0.13435503144397665, 0.16536003870027893, 0.0620100145126046, 0.11401070215531445, 0.7695722395483725, 0.057005351077657224, 0.028502675538828612, 0.7712540206029933, 0.08337881303816144, 0.14591292281678253, 0.11750688385840222, 0.8695509405521764, 0.6773868130679044, 0.15295831262823648, 0.15295831262823648, 0.15800324164700158, 0.05925121561762559, 0.5332609405586304, 0.19750405205875196, 0.019750405205875197, 0.25139776979488626, 0.022854342708626022, 0.045708685417252044, 0.6627759385501546, 0.7893289054164465, 0.1879354536705825, 0.8949918840261164, 0.06629569511304566, 0.1704143932736275, 0.1022486359641765, 0.7157404517492355, 0.20499577455822265, 0.09804145739741084, 0.4545558479334502, 0.08912859763400985, 0.15151861597781674, 0.16438778786608174, 0.054795929288693916, 0.7671430100417148, 0.9698460187686712, 0.9313803320983606, 0.04776309395376208, 0.7941123353482349, 0.13235205589137247, 0.06617602794568624, 0.06419531980860778, 0.866636817416205, 0.06419531980860778, 0.21070611845788093, 0.03010087406541156, 0.06020174813082312, 0.6923201035044659, 0.9897618626137084, 0.0522368721217898, 0.1305921803044745, 0.6399016834919251, 0.01305921803044745, 0.0783553081826847, 0.0783553081826847, 0.10173786450453902, 0.18894174836557245, 0.6976310708882675, 0.08607180087845401, 0.8238300941223455, 0.03688791466219458, 0.04918388621625944, 0.22153856522719426, 0.12406159652722878, 0.01772308521817554, 0.10633851130905324, 0.3633232469725986, 0.11520005391814102, 0.02658462782726331, 0.01772308521817554, 0.06817246278399973, 0.8862420161919965, 0.04090347767039984, 0.06457864487974481, 0.09686796731961721, 0.012915728975948962, 0.045205051415821366, 0.05166291590379585, 0.05812078039177032, 0.4003875982544178, 0.2712303084949282, 0.9851262970996629, 0.08143087319620741, 0.9093114173576495, 0.08099781052352127, 0.09719737262822553, 0.24299343157056383, 0.048598686314112766, 0.43738817682701486, 0.08099781052352127, 0.28192899894467277, 0.01879526659631152, 0.6766295974672146, 0.12261489808058063, 0.8583042865640644, 0.10790245585595536, 0.06474147351357322, 0.7984781733340697, 0.047077357208705456, 0.17261697643192, 0.03138490480580364, 0.7375452629363856, 0.9861975139139599, 0.12137687988801868, 0.8496381592161307, 0.11063613894042859, 0.8297710420532144, 0.055318069470214296, 0.12558687378841313, 0.8477113980717886, 0.15748193404784028, 0.08479796448729861, 0.10296895687743401, 0.12719694673094792, 0.006056997463378472, 0.09691195941405555, 0.3755338427294652, 0.042398982243649304, 0.9438871244192334, 0.03775548497676934, 0.9668933897029304, 0.967459538342539, 0.045480798379994386, 0.932356366789885, 0.04866837061243949, 0.7786939297990318, 0.14600511183731849, 0.2797129503215995, 0.7119966008186168, 0.11232285752724422, 0.09627673502335218, 0.14441510253502826, 0.11232285752724422, 0.05348707501297344, 0.29417891257135387, 0.11232285752724422, 0.06418449001556813, 0.010697415002594687, 0.043930581169252296, 0.9445074951389244, 0.034947679527409625, 0.18172793354253006, 0.041937215432891556, 0.7269117341701202, 0.006989535905481925, 0.12383057357614562, 0.0206384289293576, 0.1444690025055032, 0.7017065835981585, 0.8929726604933776, 0.07764979656464154, 0.1790218865925088, 0.7518919236885371, 0.07160875463700353, 0.1889548717182818, 0.5668646151548454, 0.04723871792957045, 0.1889548717182818, 0.09868918159093912, 0.888202634318452, 0.8359281396163637, 0.09037060968825553, 0.02259265242206388, 0.02259265242206388, 0.02259265242206388, 0.04521882838794665, 0.022609414193973325, 0.022609414193973325, 0.8817671535649596, 0.16136119504471538, 0.6131725411699184, 0.06454447801788615, 0.1290889560357723, 0.03687007065506456, 0.07374014131012913, 0.8848816957215496, 0.2376496861855224, 0.5771492378791259, 0.16974977584680173, 0.10130114794377745, 0.10130114794377745, 0.13506819725836994, 0.6753409862918497, 0.5170444657032102, 0.19389167463870383, 0.12926111642580254, 0.07755666985548153, 0.051704446570321014, 0.025852223285160507, 0.027107049547683067, 0.9487467341689073, 0.7196256852753143, 0.27677910972127473, 0.033435445184099494, 0.8526038521945372, 0.1003063355522985, 0.9689899163340019, 0.033492736265804054, 0.06698547253160811, 0.2511955219935304, 0.6363619890502771, 0.957373985094528, 0.019945291356136, 0.10823062918362351, 0.05411531459181176, 0.08117297188771763, 0.02705765729590588, 0.7034990896935528, 0.1229862666297112, 0.3382122332317058, 0.5226916331762725, 0.9873501180437371, 0.9674031778535298, 0.9705795219185952, 0.1721941142468711, 0.10596560876730529, 0.490090940548787, 0.03973710328773948, 0.10596560876730529, 0.09271990767139213, 0.1826734000412479, 0.13193078891867904, 0.06596539445933952, 0.07611391668385328, 0.12178226669416527, 0.020297044449027545, 0.39071810564378023, 0.005074261112256886, 0.005074261112256886, 0.12106967095269935, 0.14528360514323924, 0.05327065521918772, 0.029056721028647845, 0.5762916337348489, 0.0048427868381079745, 0.06779901573351164, 0.0048427868381079745, 0.9889691714913419, 0.22318658744130326, 0.37941719865021556, 0.07811530560445615, 0.055796646860325816, 0.1227526230927168, 0.14507128183684712, 0.8376720826761191, 0.15706351550177233, 0.9546143010409234, 0.042743923927205524, 0.10489921267829125, 0.16609042007396113, 0.24476482958267956, 0.1748320211304854, 0.06119120739566989, 0.11364081373481551, 0.00874160105652427, 0.0874160105652427, 0.03496640422609708, 0.00874160105652427, 0.8838935648409891, 0.030479088442792727, 0.060958176885585455, 0.8941233066636554, 0.08941233066636553, 0.979929570169672, 0.9825243617007225, 0.9543592253664254, 0.08622776735509342, 0.1940124765489602, 0.1508985928714135, 0.08622776735509342, 0.06467082551632007, 0.4095818949366937, 0.021556941838773356, 0.9743245606082955, 0.15900076245570013, 0.07950038122785007, 0.05962528592088755, 0.05962528592088755, 0.05962528592088755, 0.576377763901913, 0.9731995721824839, 0.978385271749549, 0.0900171139212759, 0.03600684556851036, 0.2880547645480829, 0.5581061063119106, 0.03600684556851036, 0.21925008485949044, 0.13155005091569427, 0.04385001697189809, 0.08770003394379618, 0.13155005091569427, 0.08770003394379618, 0.28502511031733757, 0.12108644209226986, 0.847605094645889, 0.07792120044666778, 0.15584240089333556, 0.7532382709844552, 0.5739672307717929, 0.40515333936832437, 0.597196774139216, 0.03317759856328978, 0.3317759856328978, 0.01658879928164489, 0.7773449101221623, 0.18763497830534953, 0.137555722911049, 0.7152897591374547, 0.1100445783288392, 0.9531747655891032, 0.019857807616439647, 0.9907037334802359, 0.7924137475359865, 0.20671662979199648, 0.9735398369355927, 0.9829895197400288, 0.9543592253664254, 0.08714150171317703, 0.8714150171317703, 0.021785375428294257, 0.8171817735407704, 0.0996563138464354, 0.019931262769287084, 0.03986252553857417, 0.9844300836320984, 0.949157442897426, 0.036506055496054846, 0.1349567265154065, 0.4217397703606453, 0.43860936117507116, 0.7808188630752446, 0.19520471576881115, 0.16153062751346067, 0.555261532077521, 0.13629146696448244, 0.010095664219591292, 0.07571748164693469, 0.045430488988160815, 0.010095664219591292, 0.2555587174999905, 0.7301677642856871, 0.08742426455915726, 0.13987882329465162, 0.7518486752087525, 0.2582708018095218, 0.6887221381587247, 0.034436106907936234, 0.2029293381120891, 0.7666219439790033, 0.022547704234676568, 0.9675108902905323, 0.21897499361397124, 0.04609999865557289, 0.5647249835307679, 0.1613499952945051, 0.22789182658289356, 0.1953358513567659, 0.5208956036180424, 0.03255597522612765, 0.7050907290309203, 0.1958585358419223, 0.07834341433676892, 0.01933502550308894, 0.966751275154447, 0.04078489807768137, 0.07341281653982645, 0.18761053115733428, 0.02447093884660882, 0.6770293080895107, 0.060849631037242814, 0.22311531380322366, 0.08113284138299041, 0.060849631037242814, 0.22311531380322366, 0.3448145758777093, 0.8283034556212852, 0.14725394766600625, 0.13480177960555972, 0.7077093429291886, 0.10110133470416979, 0.12478376792318706, 0.06239188396159353, 0.6551147815967321, 0.15597970990398383, 0.1486657840733515, 0.08109042767637355, 0.6892686352491751, 0.05406028511758236, 0.040545213838186774, 0.03825843698298587, 0.9182024875916609, 0.9543592253664254, 0.11951817946996351, 0.08436577374350365, 0.35855453840989054, 0.11951817946996351, 0.014060962290583944, 0.06327433030762775, 0.014060962290583944, 0.07733529259821169, 0.1476401040511314, 0.007030481145291972, 0.10156201609293251, 0.06770801072862168, 0.8124961287434601, 0.15319216560410975, 0.11489412420308232, 0.1302133407634933, 0.04595764968123293, 0.15319216560410975, 0.030638433120821953, 0.12255373248328781, 0.022978824840616464, 0.22978824840616463, 0.013509171336588684, 0.7430044235123776, 0.22965591272200764, 0.9834690292682328, 0.9721065037948254, 0.0169941278345361, 0.9686652865685579, 0.21376670181832227, 0.7838112400005149, 0.9115214941010702, 0.0588078383291013, 0.18558858142267723, 0.7929693933514391, 0.016871689220243385, 0.14892698830562967, 0.09928465887041979, 0.11583210201548975, 0.1820218745957696, 0.03309488629013993, 0.34749630604646925, 0.08273721572534982, 0.14068981813076328, 0.20009218578597446, 0.12193117571332818, 0.03751728483487021, 0.15632202014529253, 0.046896606043587766, 0.1969657453830686, 0.10004609289298723, 0.052793116986110784, 0.6599139623263848, 0.052793116986110784, 0.21117246794444314, 0.1562167628543964, 0.13584066335164904, 0.09508846434615432, 0.4822343548983541, 0.027168132670329807, 0.09508846434615432, 0.02363239196692506, 0.787746398897502, 0.18905913573540048, 0.7723512132082029, 0.2235753511918482, 0.20467347144247575, 0.13478496899870354, 0.0698885024437722, 0.08985664599913569, 0.08985664599913569, 0.3045141892192932, 0.044928322999567845, 0.024960179444204356, 0.014976107666522614, 0.024960179444204356, 0.14648913810335884, 0.0878934828620153, 0.23438262096537413, 0.46876524193074826, 0.05859565524134353, 0.675487699009426, 0.050036125852550066, 0.050036125852550066, 0.10007225170510013, 0.10007225170510013, 0.9735398369355927, 0.9735398369355927, 0.995634052033484, 0.14109751138982338, 0.05291156677118377, 0.10582313354236754, 0.035274377847455844, 0.6525759901779331, 0.01861477342701511, 0.01861477342701511, 0.03722954685403022, 0.1209960272755982, 0.6422096832320212, 0.14891818741612087, 0.18863603591594774, 0.5894876122373367, 0.11789752244746733, 0.0707385134684804, 0.06158749269756361, 0.8622248977658906, 0.07698436587195452, 0.15253865032694697, 0.09152319019616818, 0.10169243355129798, 0.6203238446629177, 0.010169243355129799, 0.030507730065389396, 0.19725212117385582, 0.4109419191121996, 0.16437676764487985, 0.14793909088039187, 0.06575070705795194, 0.15877622274039738, 0.60334964641351, 0.15877622274039738, 0.06351048909615895, 0.07624194361345031, 0.17789786843138405, 0.7370054549300197, 0.9852296148444866, 0.06702457519681383, 0.5529527453737141, 0.09215879089561901, 0.20107372559044148, 0.04189035949800864, 0.008378071899601729, 0.033512287598406916, 0.18154060465883645, 0.5042794573856568, 0.060513534886278815, 0.24205413954511526, 0.11654067238848165, 0.08740550429136124, 0.7575143705251307, 0.10123380734606556, 0.843615061217213, 0.0292691361847479, 0.863439517450063, 0.10975926069280462, 0.15796192666766162, 0.8293001150052235, 0.15860596105599994, 0.6117658497874283, 0.1359479666194285, 0.09063197774628567, 0.04381111053460789, 0.9419388764940698, 0.08565565523511676, 0.685245241880934, 0.19986319554860577, 0.061378598255068625, 0.15958435546317842, 0.0491028786040549, 0.02455143930202745, 0.17186007511419216, 0.0491028786040549, 0.4664773467385216, 0.012275719651013725, 0.05108366494049232, 0.0325077867803133, 0.08823542126085036, 0.04643969540044756, 0.04643969540044756, 0.16253893390156646, 0.004643969540044757, 0.5619203143454156, 0.004643969540044757, 0.012519956081309909, 0.9890765304234828, 0.2878011649492586, 0.19986192010365184, 0.055961337629022515, 0.19986192010365184, 0.03997238402073037, 0.03997238402073037, 0.10392819845389895, 0.06395581443316858, 0.007994476804146073, 0.11457556111415244, 0.019095926852358742, 0.07638370740943497, 0.7447411472419909, 0.038191853704717484, 0.13329454184172024, 0.026658908368344045, 0.8264261594186654, 0.16677191114115808, 0.09529823493780462, 0.7147367620335346, 0.02513271477561359, 0.9550431614733164, 0.7862904140903499, 0.211693573024325, 0.5872803460413194, 0.13552623370184294, 0.24846476178671206, 0.022587705616973826], \"Term\": [\"according\", \"according\", \"according\", \"actually\", \"actually\", \"actually\", \"actually\", \"air\", \"air\", \"air defense\", \"already\", \"already\", \"already\", \"already\", \"already shop\", \"amazing\", \"amazing\", \"amazing\", \"amazon\", \"america\", \"america\", \"america\", \"america\", \"american\", \"american\", \"american\", \"american\", \"amp\", \"amp\", \"amp\", \"amp\", \"amp\", \"amp\", \"amp\", \"amp\", \"amp\", \"amp\", \"amp thus\", \"anyone\", \"anyone\", \"anyone\", \"armed\", \"armed forces\", \"army\", \"army\", \"army\", \"army\", \"around\", \"around\", \"around\", \"around\", \"around\", \"article\", \"article\", \"article\", \"article\", \"assignment\", \"assignment exam\", \"available\", \"away\", \"away\", \"away\", \"away\", \"away\", \"bands\", \"bands already\", \"beautiful\", \"beautiful\", \"believe\", \"believe\", \"believe\", \"believe\", \"believe\", \"best\", \"best\", \"best\", \"best\", \"best\", \"best\", \"better\", \"better\", \"better\", \"biden\", \"biden\", \"big\", \"big\", \"big\", \"big\", \"black\", \"black\", \"black\", \"black\", \"black\", \"brave\", \"brave\", \"bts_twt\", \"bts_twts\", \"bts_twts new\", \"business\", \"business\", \"business\", \"buy\", \"call\", \"call\", \"canada\", \"canada\", \"canada\", \"canada\", \"canada\", \"canada\", \"canada\", \"canadian\", \"cannot\", \"cannot\", \"cannot\", \"cannot\", \"cannot\", \"cannot\", \"cannot\", \"cannot\", \"care\", \"care\", \"care\", \"care\", \"chance\", \"check\", \"check\", \"check\", \"children\", \"children\", \"children\", \"city\", \"city\", \"city\", \"city\", \"class\", \"class\", \"class homework\", \"clear\", \"clear\", \"clear\", \"clear\", \"coming\", \"coming\", \"congratulations\", \"congratulations\", \"could\", \"could\", \"could\", \"could\", \"could\", \"could\", \"countries\", \"countries\", \"countries\", \"countries\", \"countries\", \"country\", \"country\", \"country\", \"country\", \"country\", \"country\", \"country\", \"country\", \"cup\", \"cup\", \"day\", \"day\", \"day\", \"day\", \"day\", \"day\", \"day\", \"day\", \"day\", \"days\", \"deal\", \"deal\", \"deal\", \"deal\", \"dear\", \"dear\", \"dear\", \"defenders\", \"defenders\", \"defenders\", \"defense\", \"defense\", \"defense\", \"democracy\", \"democracy\", \"dm\", \"dm\", \"donate\", \"donate\", \"donate\", \"done\", \"done\", \"done\", \"done\", \"dreamers\", \"due\", \"earthquake\", \"earthquake occurred\", \"elonmusk\", \"elonmusk\", \"end\", \"end\", \"end\", \"end\", \"end\", \"energy\", \"energy\", \"energy\", \"england\", \"england\", \"enjoy\", \"enjoy\", \"enjoy\", \"enough\", \"enough\", \"enough\", \"essay\", \"eu\", \"eu\", \"ever\", \"ever\", \"ever\", \"ever\", \"every\", \"every\", \"every\", \"every\", \"every\", \"every\", \"everyone\", \"everyone\", \"everyone\", \"everyone\", \"everything\", \"everything\", \"everything\", \"everything\", \"everything\", \"exam\", \"exam expert\", \"exam help\", \"expert\", \"expert help\", \"fab\", \"fab topbananaantiques\", \"family\", \"far\", \"far\", \"feel\", \"feel\", \"feel\", \"feel\", \"fifa\", \"fifa\", \"fight\", \"fighting\", \"find\", \"find\", \"first\", \"first\", \"first\", \"first\", \"first\", \"first\", \"follow\", \"follow\", \"follow\", \"follow\", \"food\", \"food\", \"football\", \"football\", \"football\", \"forces\", \"forget\", \"free\", \"free\", \"free\", \"free\", \"free\", \"free\", \"freedom\", \"freedom\", \"front\", \"front\", \"front\", \"full\", \"full\", \"full\", \"full\", \"full\", \"funny\", \"future\", \"future\", \"game\", \"game\", \"game\", \"german\", \"german\", \"german\", \"german\", \"german\", \"german\", \"germany\", \"germany\", \"get\", \"get\", \"get\", \"get\", \"get\", \"get\", \"get\", \"get online\", \"getting\", \"gift\", \"giving\", \"giving\", \"global\", \"global\", \"global\", \"global\", \"glory\", \"glory\", \"glory\", \"go\", \"go\", \"go\", \"go\", \"go\", \"go\", \"go\", \"go\", \"goal\", \"goal\", \"god\", \"god\", \"god\", \"god\", \"going\", \"going\", \"going\", \"going\", \"going\", \"going\", \"going\", \"going\", \"good\", \"good\", \"good\", \"good\", \"good\", \"good\", \"good\", \"good morning\", \"government\", \"government\", \"government\", \"government\", \"government\", \"government\", \"great\", \"great\", \"great\", \"great\", \"great\", \"great\", \"great\", \"great\", \"great\", \"group\", \"group\", \"group\", \"group\", \"group\", \"group\", \"guys\", \"hand\", \"hand\", \"hand\", \"hand\", \"happy\", \"happy\", \"help\", \"help\", \"help\", \"help\", \"help\", \"help\", \"help\", \"help\", \"help station\", \"helping\", \"helping\", \"helping\", \"helping\", \"heroes\", \"heroes\", \"hes\", \"hes\", \"hes\", \"hes\", \"high\", \"high\", \"high\", \"high\", \"hit\", \"home\", \"home\", \"home\", \"home\", \"home\", \"homework\", \"homework assignment\", \"hope\", \"hope\", \"hope\", \"hope\", \"hope\", \"hope\", \"hope\", \"hope\", \"house\", \"house\", \"huge\", \"huge\", \"huge\", \"huge\", \"important\", \"important\", \"important\", \"important\", \"intelligence\", \"intelligence\", \"intelligence\", \"intelligence\", \"international\", \"international\", \"international\", \"iran\", \"iran\", \"iran\", \"iran\", \"iran\", \"it\", \"it\", \"it\", \"it\", \"japan\", \"japan\", \"join\", \"join\", \"join\", \"join\", \"join\", \"join\", \"join\", \"keep\", \"keep\", \"keep\", \"keep\", \"keep\", \"kherson\", \"kherson\", \"know\", \"know\", \"know\", \"know\", \"know\", \"know\", \"latest\", \"leaders\", \"leaders\", \"leaders\", \"let\", \"let\", \"lets\", \"lets\", \"lets\", \"lets\", \"lets\", \"life\", \"life\", \"life\", \"life\", \"life\", \"life\", \"like\", \"like\", \"like\", \"like\", \"like\", \"like\", \"like\", \"like\", \"link\", \"little\", \"live\", \"live\", \"lives\", \"lives\", \"local\", \"local bands\", \"long\", \"long\", \"long\", \"long\", \"long\", \"look\", \"look\", \"look\", \"looking\", \"looking\", \"looking\", \"looks\", \"looks like\", \"lot\", \"lot\", \"lot\", \"lot\", \"love\", \"love\", \"love\", \"love\", \"magnitude\", \"magnitude earthquake\", \"make\", \"make\", \"make\", \"make\", \"make\", \"make\", \"making\", \"making\", \"making\", \"making\", \"man\", \"man\", \"man\", \"map\", \"map\", \"match\", \"match\", \"match\", \"may\", \"may\", \"may\", \"may\", \"may\", \"media\", \"media\", \"media\", \"media\", \"meet\", \"meet\", \"meeting\", \"meeting\", \"members\", \"members\", \"members\", \"military\", \"military\", \"military\", \"military\", \"military\", \"minister\", \"minister\", \"minister\", \"ministry\", \"missile\", \"missile\", \"missiles\", \"missiles\", \"missiles\", \"moment\", \"moment\", \"moment\", \"months\", \"months\", \"months\", \"months\", \"morning\", \"much\", \"much\", \"much\", \"much\", \"much\", \"much\", \"must\", \"must\", \"must\", \"nato\", \"nato\", \"nato\", \"nato\", \"need\", \"need\", \"need\", \"need\", \"need\", \"need\", \"need\", \"need\", \"never\", \"never\", \"never\", \"new\", \"new\", \"new\", \"new\", \"new\", \"new\", \"new\", \"new\", \"new single\", \"news\", \"news\", \"next\", \"next\", \"next\", \"next\", \"next\", \"next\", \"nice\", \"nice\", \"nice\", \"night\", \"night\", \"nothing\", \"nothing\", \"nothing\", \"november\", \"november\", \"november\", \"november\", \"occurred\", \"oh\", \"oh\", \"oil\", \"oil\", \"oil\", \"old\", \"old\", \"one\", \"one\", \"one\", \"one\", \"one\", \"one\", \"one\", \"one\", \"online\", \"online\", \"online class\", \"paper\", \"party\", \"party\", \"pay\", \"pay\", \"pay\", \"peace\", \"peace\", \"people\", \"people\", \"people\", \"people\", \"people\", \"people\", \"people\", \"people\", \"people\", \"playing\", \"playing\", \"please\", \"please\", \"please\", \"please\", \"please\", \"pm\", \"pm\", \"pm\", \"pm\", \"poland\", \"poland\", \"possible\", \"possible\", \"possible\", \"potus\", \"potus\", \"potus\", \"potus\", \"power\", \"power\", \"president\", \"president\", \"president\", \"president\", \"president\", \"price\", \"price\", \"price\", \"price\", \"protect\", \"protect\", \"protect\", \"protect\", \"proud\", \"proud\", \"proud\", \"provide\", \"provide\", \"provide\", \"put\", \"put\", \"put\", \"put\", \"putin\", \"putin\", \"putin\", \"putin\", \"putin\", \"putin\", \"qatar\", \"qatar\", \"radio\", \"radio\", \"ready\", \"ready\", \"ready\", \"real\", \"really\", \"really\", \"really\", \"really\", \"region\", \"region\", \"remember\", \"remember\", \"remember\", \"remember\", \"remember\", \"report\", \"report\", \"report\", \"respect\", \"retreat\", \"retweet\", \"right\", \"right\", \"right\", \"right\", \"right\", \"right\", \"russia\", \"russia\", \"russia\", \"russia\", \"russia\", \"russia\", \"russia\", \"russia\", \"russia\", \"russian\", \"russian\", \"russian\", \"russian\", \"russian\", \"russian\", \"russian\", \"russian\", \"safe\", \"said\", \"said\", \"said\", \"said\", \"said\", \"said\", \"save\", \"save\", \"security\", \"security\", \"see\", \"see\", \"see\", \"see\", \"see\", \"see\", \"see\", \"see\", \"see\", \"see\", \"service\", \"service\", \"service\", \"services\", \"services\", \"share\", \"shop\", \"shop amazon\", \"show\", \"show\", \"show\", \"show\", \"show\", \"show\", \"show\", \"silver\", \"since\", \"since\", \"since\", \"since\", \"since\", \"since\", \"single\", \"single dreamers\", \"soldiers\", \"soldiers\", \"soldiers\", \"soldiers\", \"soldiers\", \"someone\", \"someone\", \"someone\", \"someone\", \"someone\", \"someone\", \"someone\", \"something\", \"something\", \"soon\", \"soon\", \"soon\", \"spain\", \"spain\", \"special\", \"special\", \"special\", \"special\", \"st\", \"st\", \"stand\", \"stand\", \"stand\", \"start\", \"start\", \"state\", \"states\", \"states\", \"states utc\", \"station\", \"station amp\", \"stay\", \"stay\", \"stay\", \"stop\", \"stop\", \"stop\", \"stop\", \"story\", \"stream\", \"stream\", \"strong\", \"strong\", \"strong\", \"supply\", \"supply\", \"support\", \"support\", \"support\", \"support\", \"support\", \"support\", \"support\", \"support ukraine\", \"support ukraine\", \"supporting\", \"supporting\", \"supporting\", \"sure\", \"sure\", \"sure\", \"system\", \"system\", \"system\", \"systems\", \"team\", \"team\", \"team\", \"team\", \"tell\", \"tell\", \"tell\", \"tell\", \"territory\", \"territory\", \"territory\", \"th\", \"th\", \"thank\", \"thank\", \"thank\", \"thank\", \"thank\", \"thanks\", \"thanks\", \"thanks\", \"thanks\", \"thanks\", \"thanks\", \"thats\", \"thats\", \"thing\", \"thing\", \"thing\", \"things\", \"things\", \"things\", \"things\", \"think\", \"think\", \"think\", \"think\", \"think\", \"thus\", \"thus\", \"thus local\", \"time\", \"time\", \"time\", \"time\", \"time\", \"time\", \"time\", \"time\", \"time\", \"time\", \"times\", \"times\", \"times\", \"today\", \"today\", \"today\", \"today\", \"today\", \"today\", \"today\", \"today\", \"today\", \"top\", \"top\", \"top\", \"topbananaantiques\", \"troops\", \"true\", \"true\", \"trump\", \"trump\", \"truth\", \"truth\", \"twitter\", \"twitter\", \"twitter\", \"two\", \"two\", \"two\", \"two\", \"two\", \"two\", \"two\", \"ukraine\", \"ukraine\", \"ukraine\", \"ukraine\", \"ukraine\", \"ukraine\", \"ukraine\", \"ukraine\", \"ukraines\", \"ukraines\", \"ukraines\", \"ukraines\", \"ukrainian\", \"ukrainian\", \"ukrainian\", \"ukrainian\", \"ukrainian\", \"ukrainian\", \"united\", \"united\", \"united\", \"united states\", \"united states\", \"us\", \"us\", \"us\", \"us\", \"us\", \"us\", \"us\", \"us\", \"us\", \"us\", \"usa\", \"usa\", \"usa\", \"usa\", \"usa\", \"use\", \"use\", \"use\", \"use\", \"use\", \"utc\", \"utc map\", \"via\", \"victory\", \"victory\", \"victory\", \"victory\", \"victory\", \"video\", \"video\", \"video\", \"video\", \"video\", \"video\", \"visit\", \"visit\", \"visit\", \"visit\", \"vs\", \"vs\", \"vs\", \"want\", \"want\", \"want\", \"want\", \"want\", \"want\", \"watch\", \"watch\", \"watch\", \"watch\", \"watch\", \"watching\", \"watching\", \"watching\", \"watching\", \"week\", \"week\", \"week\", \"welcome\", \"well\", \"well\", \"well\", \"well\", \"well\", \"well\", \"well\", \"west\", \"west\", \"west\", \"west\", \"western\", \"western\", \"western\", \"whole\", \"whole\", \"win\", \"win\", \"win\", \"winning\", \"winning\", \"winter\", \"winter\", \"winter\", \"winter\", \"wish\", \"wish\", \"women\", \"women\", \"women\", \"work\", \"work\", \"work\", \"work\", \"work\", \"work\", \"work\", \"work\", \"world\", \"world\", \"world\", \"world\", \"world\", \"world\", \"world\", \"world\", \"world\", \"world cup\", \"world cup\", \"would\", \"would\", \"would\", \"would\", \"would\", \"would\", \"would\", \"would\", \"would\", \"year\", \"year\", \"year\", \"year\", \"year\", \"yes\", \"yes\", \"yes\", \"yet\", \"yet\", \"yet\", \"youtube\", \"youtube\", \"zelensky\", \"zelensky\", \"zelenskyyua\", \"zelenskyyua\", \"zelenskyyua\", \"zelenskyyua\"]}, \"R\": 30, \"lambda.step\": 0.01, \"plot.opts\": {\"xlab\": \"PC1\", \"ylab\": \"PC2\"}, \"topic.order\": [3, 6, 10, 8, 1, 5, 9, 4, 2, 7]};\n",
       "\n",
       "function LDAvis_load_lib(url, callback){\n",
       "  var s = document.createElement('script');\n",
       "  s.src = url;\n",
       "  s.async = true;\n",
       "  s.onreadystatechange = s.onload = callback;\n",
       "  s.onerror = function(){console.warn(\"failed to load library \" + url);};\n",
       "  document.getElementsByTagName(\"head\")[0].appendChild(s);\n",
       "}\n",
       "\n",
       "if(typeof(LDAvis) !== \"undefined\"){\n",
       "   // already loaded: just create the visualization\n",
       "   !function(LDAvis){\n",
       "       new LDAvis(\"#\" + \"ldavis_el751398615306099209845012767\", ldavis_el751398615306099209845012767_data);\n",
       "   }(LDAvis);\n",
       "}else if(typeof define === \"function\" && define.amd){\n",
       "   // require.js is available: use it to load d3/LDAvis\n",
       "   require.config({paths: {d3: \"https://d3js.org/d3.v5\"}});\n",
       "   require([\"d3\"], function(d3){\n",
       "      window.d3 = d3;\n",
       "      LDAvis_load_lib(\"https://cdn.jsdelivr.net/gh/bmabey/pyLDAvis@3.3.1/pyLDAvis/js/ldavis.v3.0.0.js\", function(){\n",
       "        new LDAvis(\"#\" + \"ldavis_el751398615306099209845012767\", ldavis_el751398615306099209845012767_data);\n",
       "      });\n",
       "    });\n",
       "}else{\n",
       "    // require.js not available: dynamically load d3 & LDAvis\n",
       "    LDAvis_load_lib(\"https://d3js.org/d3.v5.js\", function(){\n",
       "         LDAvis_load_lib(\"https://cdn.jsdelivr.net/gh/bmabey/pyLDAvis@3.3.1/pyLDAvis/js/ldavis.v3.0.0.js\", function(){\n",
       "                 new LDAvis(\"#\" + \"ldavis_el751398615306099209845012767\", ldavis_el751398615306099209845012767_data);\n",
       "            })\n",
       "         });\n",
       "}\n",
       "</script>"
      ],
      "text/plain": [
       "PreparedData(topic_coordinates=              x         y  topics  cluster       Freq\n",
       "topic                                                \n",
       "2     -0.092380  0.027764       1        1  13.184623\n",
       "5     -0.148891 -0.003741       2        1  12.088513\n",
       "9     -0.028649  0.047815       3        1  10.935688\n",
       "7      0.013112  0.177252       4        1  10.892017\n",
       "0     -0.196952 -0.262017       5        1  10.548206\n",
       "4      0.001717  0.114923       6        1   9.542797\n",
       "8     -0.131632 -0.002428       7        1   9.278405\n",
       "3      0.047687  0.082362       8        1   8.344400\n",
       "1      0.246479  0.054030       9        1   7.788410\n",
       "6      0.289510 -0.235961      10        1   7.396941, topic_info=       Term        Freq       Total Category  logprob  loglift\n",
       "193    love  165.000000  165.000000  Default  30.0000  30.0000\n",
       "135    good  276.000000  276.000000  Default  29.0000  29.0000\n",
       "388   world  215.000000  215.000000  Default  28.0000  28.0000\n",
       "358  united  126.000000  126.000000  Default  27.0000  27.0000\n",
       "310  states  116.000000  116.000000  Default  26.0000  26.0000\n",
       "..      ...         ...         ...      ...      ...      ...\n",
       "177    lets   31.712112   63.193308  Topic10  -3.9911   1.9146\n",
       "334  thanks   34.145183   98.603720  Topic10  -3.9172   1.5436\n",
       "81    enjoy   27.547821   52.928782  Topic10  -4.1319   1.9511\n",
       "156    hope   28.917351   92.131626  Topic10  -4.0834   1.4453\n",
       "343   today   30.409343  130.554979  Topic10  -4.0331   1.1471\n",
       "\n",
       "[411 rows x 6 columns], token_table=      Topic      Freq         Term\n",
       "term                              \n",
       "0         1  0.635097    according\n",
       "0         5  0.282265    according\n",
       "0         7  0.070566    according\n",
       "1         4  0.740554     actually\n",
       "1         5  0.128792     actually\n",
       "...     ...       ...          ...\n",
       "397       2  0.211694     zelensky\n",
       "398       1  0.587280  zelenskyyua\n",
       "398       2  0.135526  zelenskyyua\n",
       "398       3  0.248465  zelenskyyua\n",
       "398       7  0.022588  zelenskyyua\n",
       "\n",
       "[1135 rows x 3 columns], R=30, lambda_step=0.01, plot_opts={'xlab': 'PC1', 'ylab': 'PC2'}, topic_order=[3, 6, 10, 8, 1, 5, 9, 4, 2, 7])"
      ]
     },
     "execution_count": 50,
     "metadata": {},
     "output_type": "execute_result"
    }
   ],
   "source": [
    "pyLDAvis.enable_notebook()\n",
    "pyLDAvis.sklearn.prepare(lda_tf, ptvf_features, ptvf)"
   ]
  },
  {
   "cell_type": "code",
   "execution_count": null,
   "id": "VW95cCdqDuw1",
   "metadata": {
    "id": "VW95cCdqDuw1"
   },
   "outputs": [],
   "source": [
    "negative_tweets = [tweet for tweet, sentiment in zip(df_2['cleaned_text'], df_2['sentiment']) if sentiment == 'negative'] #taking the cleaned text and the negative tweets to look at dominate topics.\n",
    "ntvf = TfidfVectorizer(min_df=0.005, max_df=1., norm = 'l2',\n",
    "                    use_idf = True, smooth_idf = True,\n",
    "                    ngram_range = (1, 2))\n",
    "ntvf_features = ntvf.fit_transform(negative_tweets)"
   ]
  },
  {
   "cell_type": "code",
   "execution_count": null,
   "id": "sqjPo01oDu2F",
   "metadata": {
    "colab": {
     "base_uri": "https://localhost:8080/"
    },
    "id": "sqjPo01oDu2F",
    "outputId": "a66c1772-9a63-41de-8052-e11c37764a6c"
   },
   "outputs": [
    {
     "data": {
      "text/plain": [
       "LatentDirichletAllocation(random_state=0)"
      ]
     },
     "execution_count": 52,
     "metadata": {},
     "output_type": "execute_result"
    }
   ],
   "source": [
    "lda_tf = LatentDirichletAllocation(n_components=10, random_state=0)\n",
    "lda_tf.fit(ntvf_features)\n"
   ]
  },
  {
   "cell_type": "code",
   "execution_count": null,
   "id": "GDLoQLpMDu8x",
   "metadata": {
    "colab": {
     "base_uri": "https://localhost:8080/",
     "height": 951
    },
    "id": "GDLoQLpMDu8x",
    "outputId": "25a1a4de-1023-44f2-86f0-2eee966f3b23"
   },
   "outputs": [
    {
     "name": "stderr",
     "output_type": "stream",
     "text": [
      "/usr/local/lib/python3.8/dist-packages/sklearn/utils/deprecation.py:87: FutureWarning: Function get_feature_names is deprecated; get_feature_names is deprecated in 1.0 and will be removed in 1.2. Please use get_feature_names_out instead.\n",
      "  warnings.warn(msg, category=FutureWarning)\n",
      "/usr/local/lib/python3.8/dist-packages/pyLDAvis/_prepare.py:246: FutureWarning: In a future version of pandas all arguments of DataFrame.drop except for the argument 'labels' will be keyword-only\n",
      "  default_term_info = default_term_info.sort_values(\n"
     ]
    },
    {
     "data": {
      "text/html": [
       "\n",
       "<link rel=\"stylesheet\" type=\"text/css\" href=\"https://cdn.jsdelivr.net/gh/bmabey/pyLDAvis@3.3.1/pyLDAvis/js/ldavis.v1.0.0.css\">\n",
       "\n",
       "\n",
       "<div id=\"ldavis_el751398614199945764935162128\"></div>\n",
       "<script type=\"text/javascript\">\n",
       "\n",
       "var ldavis_el751398614199945764935162128_data = {\"mdsDat\": {\"x\": [0.13839945808578774, 0.12787708444683155, 0.13710041646008014, 0.10141910099489801, -0.15090276360379654, 0.1502877503757597, 0.11107869837795259, -0.3024253120031457, 0.07887659821147185, -0.3917110313458397], \"y\": [0.07939050283462018, -0.040698986594376554, -0.06537054702638356, -0.02781058455702193, 0.4321808462107814, 0.043736733618067215, -0.1074840501458393, -0.13682477551913416, -0.07262345583336959, -0.10449568298734387], \"topics\": [1, 2, 3, 4, 5, 6, 7, 8, 9, 10], \"cluster\": [1, 1, 1, 1, 1, 1, 1, 1, 1, 1], \"Freq\": [13.351273074672942, 13.052035294021955, 11.780331657056744, 9.75139766522281, 9.703227934914755, 9.413586429097204, 9.116331077887326, 8.142642520709105, 8.0705538556693, 7.618620490747863]}, \"tinfo\": {\"Term\": [\"live\", \"video\", \"new\", \"link\", \"putin\", \"live link\", \"vs\", \"war\", \"kherson\", \"ukraine\", \"ukrainian\", \"first\", \"world\", \"via\", \"germany\", \"going\", \"nato\", \"november\", \"cup\", \"world cup\", \"russian\", \"missile\", \"today\", \"link live\", \"stream\", \"soldiers\", \"russia\", \"archive\", \"watch\", \"fuck\", \"drone\", \"russian soldiers\", \"cause\", \"tanks\", \"tank\", \"ukrainian forces\", \"block\", \"bomb\", \"russian troops\", \"water\", \"near block\", \"affected\", \"power back\", \"investigation\", \"lower\", \"customers\", \"affected cause\", \"customers affected\", \"power failure\", \"mainland\", \"lower mainland\", \"near\", \"family\", \"south\", \"failure\", \"soldiers\", \"destroy\", \"troops\", \"north\", \"artillery\", \"terrorist\", \"ukrainian\", \"army\", \"power\", \"russian\", \"winter\", \"forces\", \"destroyed\", \"death\", \"kherson\", \"state\", \"ukraine\", \"attack\", \"russians\", \"military\", \"nuclear\", \"got\", \"morning\", \"trump\", \"nato\", \"conflict\", \"air\", \"eu\", \"defense\", \"missile\", \"start\", \"energy\", \"ukraines\", \"missiles\", \"real\", \"poland\", \"use\", \"strikes\", \"fired\", \"strike\", \"global\", \"potus\", \"old\", \"killing\", \"weapons\", \"attacks\", \"infrastructure\", \"children\", \"including\", \"territory\", \"countries\", \"long\", \"hit\", \"would\", \"russia\", \"ukraine\", \"russian\", \"war\", \"attack\", \"us\", \"amp\", \"armed\", \"armed forces\", \"nothing\", \"far\", \"let\", \"control\", \"place\", \"twitter\", \"always\", \"call\", \"left\", \"right\", \"may\", \"last\", \"needs\", \"take\", \"see\", \"still\", \"every\", \"continue\", \"trying\", \"need\", \"even\", \"away\", \"used\", \"many\", \"year\", \"fighting\", \"like\", \"close\", \"us\", \"people\", \"forces\", \"says\", \"amp\", \"war\", \"ukraine\", \"german\", \"youtube\", \"coming\", \"war ukraine\", \"reported\", \"via youtube\", \"team\", \"november\", \"history\", \"war crimes\", \"invasion\", \"months\", \"support\", \"stop\", \"un\", \"say\", \"english\", \"crimes\", \"get\", \"kill\", \"since\", \"everyone\", \"russias\", \"genocide\", \"war\", \"losses\", \"russia\", \"ukraine\", \"civilians\", \"mfa_russia\", \"via\", \"amp\", \"think\", \"russian\", \"news\", \"archive\", \"archived\", \"check\", \"archive video\", \"archived archive\", \"avoid\", \"removed\", \"text\", \"russian propaganda\", \"translation\", \"original\", \"amplifying\", \"amp original\", \"archived translation\", \"avoid amplifying\", \"link text\", \"original link\", \"propaganda archive\", \"removed avoid\", \"text removed\", \"translation amp\", \"amplifying russian\", \"new post\", \"new video\", \"archive media\", \"post archived\", \"video archived\", \"propaganda\", \"video\", \"new\", \"canada\", \"post\", \"read\", \"media\", \"elonmusk\", \"amp\", \"fuck\", \"dead\", \"update\", \"foreign\", \"city\", \"show\", \"fire\", \"minister\", \"shelling\", \"putin\", \"region\", \"oblast\", \"bakhmut\", \"aid\", \"lost\", \"latest\", \"never\", \"soldier\", \"kherson\", \"europe\", \"zelenskyyua\", \"money\", \"government\", \"send\", \"must\", \"without\", \"thats\", \"regime\", \"due\", \"kyiv\", \"could\", \"attack\", \"military\", \"go\", \"ukraine\", \"russian\", \"killed\", \"russia\", \"ukrainian\", \"war\", \"way\", \"man\", \"results\", \"china\", \"going\", \"national\", \"make\", \"made\", \"cannot\", \"much\", \"everything\", \"official\", \"know\", \"fight\", \"today\", \"zelensky\", \"home\", \"help\", \"want\", \"one\", \"back\", \"said\", \"country\", \"ukrainians\", \"west\", \"analysis\", \"battle\", \"russias\", \"match\", \"keep\", \"would\", \"even\", \"go\", \"war\", \"us\", \"japan\", \"england\", \"vs japan\", \"england vs\", \"vs iran\", \"germany vs\", \"putins\", \"pm\", \"watch\", \"times\", \"iran\", \"germany\", \"remember\", \"cup\", \"world cup\", \"done\", \"via\", \"ukraine war\", \"day\", \"world\", \"keep\", \"footage\", \"whole\", \"fifa world\", \"fifa\", \"cup qatar\", \"qatar\", \"citizens\", \"next\", \"vs\", \"live stream\", \"live\", \"stream\", \"war\", \"link\", \"ukraine\", \"first\", \"look\", \"big\", \"oil\", \"lets\", \"yet\", \"game\", \"getting\", \"moscow\", \"life\", \"really\", \"work\", \"group\", \"biden\", \"days\", \"come\", \"end\", \"thing\", \"border\", \"full\", \"two\", \"front\", \"also\", \"drones\", \"hit\", \"thats\", \"destroyed\", \"good\", \"order\", \"year\", \"time\", \"amp\", \"war\", \"one\", \"live link\", \"link live\", \"complete\", \"link fifa\", \"vs germany\", \"france\", \"spain vs\", \"germany live\", \"portugal\", \"report\", \"article\", \"live\", \"spain\", \"stream\", \"link\", \"live stream\", \"vs\", \"reports\", \"according\", \"analysis\", \"qatar\", \"fifa\", \"cup qatar\", \"fifa world\", \"good\", \"time\", \"another\", \"th\", \"president\", \"world cup\", \"cup\", \"world\", \"germany\"], \"Freq\": [524.0, 385.0, 395.0, 369.0, 367.0, 221.0, 283.0, 799.0, 327.0, 884.0, 469.0, 181.0, 432.0, 256.0, 224.0, 187.0, 210.0, 214.0, 203.0, 196.0, 828.0, 202.0, 233.0, 141.0, 184.0, 223.0, 622.0, 153.0, 176.0, 150.0, 145.293443879234, 101.26514325740794, 95.81940398173668, 90.06897649989966, 79.41115741433511, 78.15489197796627, 70.01090448463691, 60.81069192680979, 55.26989755990916, 55.29549528707934, 47.23418427662112, 44.73358290352148, 43.76756433336806, 43.406133977397154, 42.922875166764015, 41.30670926223178, 35.73846162667124, 35.73846162667124, 35.73846162667124, 35.006823879641914, 33.650323238565356, 153.02522032686701, 85.92647673775708, 72.41859364182514, 53.47812730078897, 202.51015494920938, 104.63315157020067, 143.77533314375006, 65.07856249349726, 72.82843832846555, 90.9901307804545, 332.0470797441006, 119.01545744677613, 144.05828209764422, 416.99589476084805, 63.61080204870837, 139.5822047250228, 92.4668342132569, 66.86289480559122, 113.04307013073996, 74.57860734012586, 117.4813959407643, 78.15918077544968, 70.42764827426701, 61.186158429565445, 108.48788030749549, 97.81063870490453, 97.09736325602415, 83.92334670189372, 208.38803049326555, 71.50039324034738, 105.6669557040678, 70.4237548625913, 59.228030510569, 194.8035649177533, 77.0304848466471, 58.61044717190875, 68.73969553267068, 158.46503973272047, 78.57668822659919, 158.9939968793708, 85.77410169614326, 71.4931681384167, 48.214807793485676, 54.13956529226985, 55.12752690763529, 82.37982265487658, 48.63042001279256, 64.29391806097922, 107.80384316942995, 69.70077904611773, 54.306784474739025, 74.66859689222768, 43.66633270424757, 40.13000809561455, 73.84567661462856, 48.25201925015687, 65.66010912341063, 77.52004744084682, 123.65088190389888, 126.44098433040632, 100.16646312069767, 90.5808595902238, 66.21253148123704, 63.53846831376892, 64.0137221964149, 102.21106699487346, 90.18787545666079, 76.95835446252357, 75.68247769459674, 64.13576533626929, 60.87660132205048, 70.38967320490588, 122.72622614097419, 69.84352155969098, 64.64548834816523, 85.05914490659421, 142.2044954389431, 78.18606384914841, 97.07679593456831, 77.57209027080917, 101.45224522561803, 117.42975592449841, 122.19841758283778, 68.48586276258024, 52.351321099747786, 46.14309204198084, 98.60705002785599, 94.2458412593019, 48.105002952752564, 45.70709401440911, 90.06149571618882, 50.3149555064653, 57.285638747099725, 106.61818771990488, 36.21323995555051, 175.84833168047015, 161.4437089136124, 97.64568213032383, 58.74504418176913, 76.54181197375088, 76.85118610387187, 66.81561305055955, 117.72246138465299, 96.39499906719631, 88.61175677829544, 83.60454779202848, 82.6743479983846, 71.67968809058529, 87.66323961854515, 191.44815907256006, 64.62794260517508, 50.39907553073784, 90.33983953030037, 73.4664348197107, 81.70488081339087, 159.56558454982178, 71.01836632003996, 82.99743926773674, 57.396907014885706, 68.25016888436788, 156.55600307012608, 40.14909743982628, 67.88491349789665, 35.995241520057846, 64.32811815066466, 29.271616463489263, 357.0237727525984, 30.445402918989405, 249.98715460872725, 351.8642718437855, 41.052251676374, 34.4581215379323, 82.02723112666304, 85.1111742305996, 39.37611370951794, 54.464564696798725, 41.87775167602323, 152.93715043245734, 150.27939579765248, 149.7538839671753, 123.09137606573232, 101.34529296474075, 90.89139344650958, 84.6401681511563, 79.95149454706707, 79.29677320784997, 77.34776707353996, 77.32399394435785, 73.7897209433575, 73.41402386965267, 73.41402386965267, 73.41402386965267, 73.41402386965267, 73.41402386965267, 73.41402386965267, 73.41402386965267, 73.41402386965267, 73.41402386965267, 73.41402386965268, 45.095248066585434, 44.207028807758505, 43.96965114778258, 43.96965114778258, 39.19640093203708, 137.15514820221296, 363.824966520927, 342.6927869223783, 117.86237271233716, 87.46011809365122, 95.92980061103007, 105.56021403321323, 68.02057746991245, 204.90108334676717, 149.46449864087228, 96.88310910924363, 84.96124257898248, 103.71917061779733, 144.56346733169386, 67.11280913199725, 91.76803603034375, 80.6086349762738, 51.48859656983353, 285.1303916047014, 154.3162431084279, 57.76768631772235, 45.51629656732985, 50.08177488618059, 60.71269994684335, 57.82735621539689, 85.49245465991596, 64.36275452794958, 206.92472625065434, 46.62750511546569, 48.47901630717899, 85.83484372913624, 50.366936594030584, 41.22917746731377, 91.57117280068748, 57.350560763306355, 49.744113714418155, 39.80651088262656, 31.187324332311523, 42.45591898159905, 59.90939526155728, 74.47100866957832, 75.94139163937756, 67.43714099706436, 118.46605283679033, 111.97500351786061, 55.281155794263384, 69.39843832381685, 62.990402604409425, 60.76807697373008, 133.5655594258094, 93.47114266316774, 86.36752802736903, 75.26714012888867, 181.06291957709269, 76.4345684072658, 113.97714629374627, 89.99957052111347, 127.43247450240743, 93.31947359671153, 66.73916797485658, 60.938345261263365, 140.55812857773162, 85.12533700790047, 181.3614382001439, 59.257128677332624, 75.16578424478541, 48.30572448570448, 83.02550405874926, 166.67948920854766, 115.13747542301773, 80.23031980112054, 81.18914793089769, 49.94957125429293, 44.52478641835227, 56.19392036558123, 26.383073570470508, 44.12940499596163, 22.735411440797446, 28.38536009228324, 43.580369364866144, 34.355571990536085, 40.68095467642995, 56.86551666141643, 42.78384324860354, 122.28149764647415, 107.37169674563013, 66.69547863385633, 58.96402929817956, 57.17539177464133, 66.24613110774256, 95.14536510491749, 78.88752283314649, 151.60072206422095, 66.85100222153451, 114.6184010261897, 175.46972250767632, 59.52126914027332, 144.55916221853965, 137.9937026467937, 55.666419548802644, 164.577813115723, 92.57895310073458, 139.12514327540023, 232.73244702768298, 58.7269460245988, 57.78087312874425, 33.63213077184455, 52.98534069128981, 60.27688835287797, 38.09662417944871, 55.876675987039654, 28.253765536339262, 44.689097653073574, 107.2814242248261, 52.33863305452209, 120.06848905002016, 57.744551711603656, 93.00053529734224, 62.071408995292735, 53.00979159664771, 180.66249240688165, 92.06835523070926, 86.91831103139809, 87.80800524806111, 83.25506921987392, 81.95952517771596, 81.76568892389871, 76.57322394264045, 75.4570699253311, 82.65303870768165, 80.3878813565565, 98.26205551336412, 92.44356377540913, 100.46835024257092, 81.61411910754218, 77.05897125941578, 117.27563258441302, 54.64021480502317, 50.88975899071973, 83.39065790466157, 89.53220606979333, 51.04290627948214, 79.62083235581889, 49.428180065098736, 58.688729190918586, 25.06500507746096, 37.66543037523957, 20.732061411715083, 16.855341174203616, 17.690706946837775, 55.69478929547423, 60.83948067316305, 56.31537270599814, 33.070579632566535, 220.4914239374167, 140.85775940683078, 104.99397846840372, 37.63554897131893, 35.6075223636182, 82.05151755617094, 34.26169388760873, 30.27436846427127, 62.91726966399839, 127.37004083888355, 120.95311335710356, 403.9152539493227, 47.133610254953055, 126.17667145343759, 234.53642189845166, 88.83531839445872, 175.7258143149591, 61.05027249713397, 53.73012225971226, 84.6952240804621, 66.8020656456877, 66.06419384139785, 41.494096828715115, 55.235210155098926, 36.869142399798235, 123.51219867344895, 57.99798735299558, 44.24911418235305, 63.08432081952899, 57.930725133682955, 58.118961900405274, 55.04616030789545, 38.671472096666555], \"Total\": [524.0, 385.0, 395.0, 369.0, 367.0, 221.0, 283.0, 799.0, 327.0, 884.0, 469.0, 181.0, 432.0, 256.0, 224.0, 187.0, 210.0, 214.0, 203.0, 196.0, 828.0, 202.0, 233.0, 141.0, 184.0, 223.0, 622.0, 153.0, 176.0, 150.0, 146.21961850279484, 102.1912957317309, 96.74562748088064, 90.99527825702992, 80.33731933127521, 79.0810416165641, 70.93708186699102, 61.736898262109904, 56.19605488974376, 56.22309773693394, 48.16032499915117, 45.65973579441895, 44.693705458693074, 44.332314721180246, 43.84903895220876, 42.23287345882593, 36.66460236165508, 36.66460236165508, 36.66460236165508, 35.93296625265193, 34.576463984378876, 161.87104258936085, 92.3426877873321, 79.67321929130827, 58.918076285183105, 223.42208948149414, 117.84251607623834, 168.54167426525066, 76.40656323215141, 88.15367258179553, 112.15738893891256, 469.46164196319637, 155.4782238134083, 199.5847386955935, 828.6927511693882, 79.4507765303315, 271.49237264739713, 142.80845462617918, 100.41927414417228, 327.0873550896046, 162.4940977738637, 884.0514956775913, 222.95625438323336, 198.86332502213762, 237.86561248333183, 109.41251763305009, 98.73532185416178, 98.0220075148476, 84.84799779747422, 210.77191533125998, 72.42505050254852, 107.06406643657452, 71.3993483391719, 60.98039011540738, 202.9173816725867, 80.64501987310716, 62.33281321011652, 74.33259314402213, 177.42694747580012, 91.01105418336152, 193.54588367693975, 104.46884594292229, 87.92706736515152, 59.81491922838997, 67.4349639868645, 70.09914714889918, 107.66673224948794, 64.81070391533311, 87.64583516561147, 150.55450861591893, 99.25687720656583, 78.06202693901253, 107.36708902614312, 65.11050175917907, 60.94704211427581, 119.66291617543988, 77.13166695072101, 132.24749015372618, 190.53854504666361, 622.3867560666225, 884.0514956775913, 828.6927511693882, 799.4462467603831, 222.95625438323336, 326.498356518315, 569.6682987728368, 103.13489133715763, 91.11168926676505, 77.88218365787807, 76.60633243734847, 65.05970384733064, 61.800444110164385, 72.60980854805084, 127.91323700409286, 74.82928263290721, 69.8407797718181, 92.82886233472831, 160.41038277582868, 89.26346714745014, 117.81307031362293, 96.48287218528645, 127.29269883139027, 155.6292337538347, 169.12483676370277, 100.97022017433822, 81.14327657980566, 71.69156406025881, 154.32942833348056, 147.59741693125184, 75.61910373897933, 73.85323149620042, 152.77093951039618, 86.51959095547998, 99.05510546400804, 184.81800443949078, 62.97130366254544, 326.498356518315, 374.51450265469055, 271.49237264739713, 168.3201277729654, 569.6682987728368, 799.4462467603831, 884.0514956775913, 118.6373736826868, 97.30944931296985, 89.52622951200703, 84.51899145514302, 83.58897243914043, 72.59412226961769, 90.92778561704398, 214.4491713289713, 73.43427490715149, 59.20274613021555, 108.7038750230666, 92.47690789310114, 104.39039186205626, 211.09640759097613, 94.70898100974007, 112.67174589172087, 82.38035292022555, 99.49997872167916, 228.51906503186817, 64.50077311855183, 113.4797925441021, 71.02247292961275, 133.33195211022118, 63.9399679381826, 799.4462467603831, 70.66218084833808, 622.3867560666225, 884.0514956775913, 109.23968965100887, 93.79806222156184, 256.0661712216375, 569.6682987728368, 123.56202975978658, 828.6927511693882, 212.48762142874878, 153.84429104511145, 151.18653423732349, 150.66105059307534, 123.99851450586252, 102.25243140560715, 91.79859917509599, 85.54733252254684, 80.85864732709713, 80.20391524952905, 78.2549117121092, 78.23113553715326, 74.69686084482584, 74.32116230787604, 74.32116230787604, 74.32116230787604, 74.32116230787604, 74.32116230787604, 74.32116230787604, 74.32116230787604, 74.32116230787604, 74.32116230787604, 74.32116230787605, 46.0023865423207, 45.1141689534581, 44.87678958599091, 44.87678958599091, 40.10353937029344, 143.62583434921726, 385.64923561964383, 395.5817885439619, 142.89125046859394, 101.69526736901645, 119.77491569037171, 143.28584045155188, 89.3106814847393, 569.6682987728368, 150.38181637221058, 97.81090326704646, 85.87858377707124, 105.09123323485755, 162.81060583881825, 76.38831251621085, 106.74242970578013, 95.76572098352239, 64.9348932479166, 367.04981660568706, 199.5066149965206, 77.69172384068916, 65.31512601821363, 73.22281458208609, 89.63781518967868, 85.97504411549491, 128.1598962888739, 97.57820324281307, 327.0873550896046, 74.88022062328366, 79.37960674137975, 147.20597843668676, 86.9051740939236, 72.5174075937558, 161.86509121936663, 106.20482566800013, 93.83292936427613, 84.14494940768132, 71.6215299308618, 98.42084112121495, 143.56914419012696, 222.95625438323336, 237.86561248333183, 201.27905125742802, 884.0514956775913, 828.6927511693882, 159.58218014672335, 622.3867560666225, 469.46164196319637, 799.4462467603831, 134.48137371427885, 94.38694691551217, 87.28330564552981, 76.18294476597634, 187.0178307623794, 80.38283280700351, 122.18406657186482, 97.00146834828575, 143.4694854781453, 109.18807498873218, 80.38323113488849, 76.2674562402326, 177.9355641600684, 107.80237782030842, 233.9056693833273, 78.30340683814687, 110.88479286849156, 82.05995877936883, 141.88953564420396, 288.77120421528895, 199.71194331628098, 174.19053033499404, 177.59672093626455, 110.16129911277672, 105.74258275726281, 141.68592650983217, 70.46976125690276, 133.33195211022118, 74.69983403766524, 109.39481239602021, 190.53854504666361, 147.59741693125184, 201.27905125742802, 799.4462467603831, 326.498356518315, 123.18717648403808, 108.27737831139143, 67.60115360501251, 59.86970120534814, 58.081063468155065, 67.65367157450217, 103.59986613067414, 88.82717116405586, 176.25368904391777, 80.29648058574952, 144.71809609602587, 224.24293363665572, 81.59437604001126, 203.4647883818591, 196.71108975502798, 79.51980541761013, 256.0661712216375, 158.2512852842648, 248.74759031205744, 432.13514221676365, 109.39481239602021, 113.92665347766908, 68.02157917884558, 109.00720809333622, 127.12774835338665, 80.3773773499855, 123.4654218103999, 66.41633917714165, 114.52276401088946, 283.7939174817161, 141.96060748406842, 524.7704958092597, 184.70788639416094, 799.4462467603831, 369.5233477622266, 884.0514956775913, 181.6289831969025, 92.97672007609873, 87.82668498524644, 88.73564867508094, 84.16343340164119, 82.86802610323222, 82.67405797012461, 77.48159841358074, 79.65026813854264, 88.5826957651271, 90.08803334302262, 111.40951934426872, 114.87891730801034, 125.87983397503363, 104.76753400191917, 102.2301870888654, 162.01616131827623, 76.15760953382755, 72.0499672224169, 119.66883089730769, 157.04759756697044, 90.49558286025508, 159.69156043640916, 101.52601893546758, 132.24749015372618, 93.83292936427613, 142.80845462617918, 86.03498032552174, 72.1026681017376, 86.51959095547998, 289.9856796331417, 569.6682987728368, 799.4462467603831, 288.77120421528895, 221.8457489431912, 141.7542814596599, 105.89051680818095, 38.532068254460114, 36.504052945747446, 84.19063046873706, 35.158213763068154, 31.170887590400028, 64.97253084556, 138.62291267727556, 146.64485478950502, 524.7704958092597, 63.64138413656626, 184.70788639416094, 369.5233477622266, 141.96060748406842, 283.7939174817161, 98.87371142160634, 87.91654530802839, 141.68592650983217, 123.4654218103999, 127.12774835338665, 80.3773773499855, 109.00720809333622, 86.03498032552174, 289.9856796331417, 152.66266690679197, 123.37235101692158, 192.92851721671693, 196.71108975502798, 203.4647883818591, 432.13514221676365, 224.24293363665572], \"Category\": [\"Default\", \"Default\", \"Default\", \"Default\", \"Default\", \"Default\", \"Default\", \"Default\", \"Default\", \"Default\", \"Default\", \"Default\", \"Default\", \"Default\", \"Default\", \"Default\", \"Default\", \"Default\", \"Default\", \"Default\", \"Default\", \"Default\", \"Default\", \"Default\", \"Default\", \"Default\", \"Default\", \"Default\", \"Default\", \"Default\", \"Topic1\", \"Topic1\", \"Topic1\", \"Topic1\", \"Topic1\", \"Topic1\", \"Topic1\", \"Topic1\", \"Topic1\", \"Topic1\", \"Topic1\", \"Topic1\", \"Topic1\", \"Topic1\", \"Topic1\", \"Topic1\", \"Topic1\", \"Topic1\", \"Topic1\", \"Topic1\", \"Topic1\", \"Topic1\", \"Topic1\", \"Topic1\", \"Topic1\", \"Topic1\", \"Topic1\", \"Topic1\", \"Topic1\", \"Topic1\", \"Topic1\", \"Topic1\", \"Topic1\", \"Topic1\", \"Topic1\", \"Topic1\", \"Topic1\", \"Topic1\", \"Topic1\", \"Topic1\", \"Topic1\", \"Topic1\", \"Topic1\", \"Topic1\", \"Topic1\", \"Topic2\", \"Topic2\", \"Topic2\", \"Topic2\", \"Topic2\", \"Topic2\", \"Topic2\", \"Topic2\", \"Topic2\", \"Topic2\", \"Topic2\", \"Topic2\", \"Topic2\", \"Topic2\", \"Topic2\", \"Topic2\", \"Topic2\", \"Topic2\", \"Topic2\", \"Topic2\", \"Topic2\", \"Topic2\", \"Topic2\", \"Topic2\", \"Topic2\", \"Topic2\", \"Topic2\", \"Topic2\", \"Topic2\", \"Topic2\", \"Topic2\", \"Topic2\", \"Topic2\", \"Topic2\", \"Topic2\", \"Topic2\", \"Topic2\", \"Topic2\", \"Topic2\", \"Topic2\", \"Topic2\", \"Topic3\", \"Topic3\", \"Topic3\", \"Topic3\", \"Topic3\", \"Topic3\", \"Topic3\", \"Topic3\", \"Topic3\", \"Topic3\", \"Topic3\", \"Topic3\", \"Topic3\", \"Topic3\", \"Topic3\", \"Topic3\", \"Topic3\", \"Topic3\", \"Topic3\", \"Topic3\", \"Topic3\", \"Topic3\", \"Topic3\", \"Topic3\", \"Topic3\", \"Topic3\", \"Topic3\", \"Topic3\", \"Topic3\", \"Topic3\", \"Topic3\", \"Topic3\", \"Topic3\", \"Topic3\", \"Topic3\", \"Topic3\", \"Topic3\", \"Topic4\", \"Topic4\", \"Topic4\", \"Topic4\", \"Topic4\", \"Topic4\", \"Topic4\", \"Topic4\", \"Topic4\", \"Topic4\", \"Topic4\", \"Topic4\", \"Topic4\", \"Topic4\", \"Topic4\", \"Topic4\", \"Topic4\", \"Topic4\", \"Topic4\", \"Topic4\", \"Topic4\", \"Topic4\", \"Topic4\", \"Topic4\", \"Topic4\", \"Topic4\", \"Topic4\", \"Topic4\", \"Topic4\", \"Topic4\", \"Topic4\", \"Topic4\", \"Topic4\", \"Topic4\", \"Topic4\", \"Topic5\", \"Topic5\", \"Topic5\", \"Topic5\", \"Topic5\", \"Topic5\", \"Topic5\", \"Topic5\", \"Topic5\", \"Topic5\", \"Topic5\", \"Topic5\", \"Topic5\", \"Topic5\", \"Topic5\", \"Topic5\", \"Topic5\", \"Topic5\", \"Topic5\", \"Topic5\", \"Topic5\", \"Topic5\", \"Topic5\", \"Topic5\", \"Topic5\", \"Topic5\", \"Topic5\", \"Topic5\", \"Topic5\", \"Topic5\", \"Topic5\", \"Topic5\", \"Topic5\", \"Topic5\", \"Topic5\", \"Topic5\", \"Topic6\", \"Topic6\", \"Topic6\", \"Topic6\", \"Topic6\", \"Topic6\", \"Topic6\", \"Topic6\", \"Topic6\", \"Topic6\", \"Topic6\", \"Topic6\", \"Topic6\", \"Topic6\", \"Topic6\", \"Topic6\", \"Topic6\", \"Topic6\", \"Topic6\", \"Topic6\", \"Topic6\", \"Topic6\", \"Topic6\", \"Topic6\", \"Topic6\", \"Topic6\", \"Topic6\", \"Topic6\", \"Topic6\", \"Topic6\", \"Topic6\", \"Topic6\", \"Topic6\", \"Topic6\", \"Topic6\", \"Topic6\", \"Topic6\", \"Topic6\", \"Topic6\", \"Topic6\", \"Topic7\", \"Topic7\", \"Topic7\", \"Topic7\", \"Topic7\", \"Topic7\", \"Topic7\", \"Topic7\", \"Topic7\", \"Topic7\", \"Topic7\", \"Topic7\", \"Topic7\", \"Topic7\", \"Topic7\", \"Topic7\", \"Topic7\", \"Topic7\", \"Topic7\", \"Topic7\", \"Topic7\", \"Topic7\", \"Topic7\", \"Topic7\", \"Topic7\", \"Topic7\", \"Topic7\", \"Topic7\", \"Topic7\", \"Topic7\", \"Topic7\", \"Topic7\", \"Topic7\", \"Topic7\", \"Topic7\", \"Topic8\", \"Topic8\", \"Topic8\", \"Topic8\", \"Topic8\", \"Topic8\", \"Topic8\", \"Topic8\", \"Topic8\", \"Topic8\", \"Topic8\", \"Topic8\", \"Topic8\", \"Topic8\", \"Topic8\", \"Topic8\", \"Topic8\", \"Topic8\", \"Topic8\", \"Topic8\", \"Topic8\", \"Topic8\", \"Topic8\", \"Topic8\", \"Topic8\", \"Topic8\", \"Topic8\", \"Topic8\", \"Topic8\", \"Topic8\", \"Topic8\", \"Topic8\", \"Topic8\", \"Topic8\", \"Topic8\", \"Topic8\", \"Topic9\", \"Topic9\", \"Topic9\", \"Topic9\", \"Topic9\", \"Topic9\", \"Topic9\", \"Topic9\", \"Topic9\", \"Topic9\", \"Topic9\", \"Topic9\", \"Topic9\", \"Topic9\", \"Topic9\", \"Topic9\", \"Topic9\", \"Topic9\", \"Topic9\", \"Topic9\", \"Topic9\", \"Topic9\", \"Topic9\", \"Topic9\", \"Topic9\", \"Topic9\", \"Topic9\", \"Topic9\", \"Topic9\", \"Topic9\", \"Topic9\", \"Topic9\", \"Topic9\", \"Topic9\", \"Topic10\", \"Topic10\", \"Topic10\", \"Topic10\", \"Topic10\", \"Topic10\", \"Topic10\", \"Topic10\", \"Topic10\", \"Topic10\", \"Topic10\", \"Topic10\", \"Topic10\", \"Topic10\", \"Topic10\", \"Topic10\", \"Topic10\", \"Topic10\", \"Topic10\", \"Topic10\", \"Topic10\", \"Topic10\", \"Topic10\", \"Topic10\", \"Topic10\", \"Topic10\", \"Topic10\", \"Topic10\", \"Topic10\", \"Topic10\", \"Topic10\", \"Topic10\", \"Topic10\"], \"logprob\": [30.0, 29.0, 28.0, 27.0, 26.0, 25.0, 24.0, 23.0, 22.0, 21.0, 20.0, 19.0, 18.0, 17.0, 16.0, 15.0, 14.0, 13.0, 12.0, 11.0, 10.0, 9.0, 8.0, 7.0, 6.0, 5.0, 4.0, 3.0, 2.0, 1.0, -3.6623, -4.0233, -4.0786, -4.1405, -4.2664, -4.2824, -4.3924, -4.5333, -4.6288, -4.6284, -4.7859, -4.8403, -4.8622, -4.8705, -4.8817, -4.92, -5.0648, -5.0648, -5.0648, -5.0855, -5.125, -3.6105, -4.1876, -4.3586, -4.6618, -3.3303, -3.9906, -3.6728, -4.4655, -4.353, -4.1303, -2.8358, -3.8618, -3.6708, -2.608, -4.4883, -3.7024, -4.1142, -4.4384, -3.9133, -4.3292, -3.8748, -4.2823, -4.3865, -4.5271, -3.9318, -4.0354, -4.0427, -4.1885, -3.279, -4.3487, -3.9581, -4.3639, -4.537, -3.3464, -4.2742, -4.5475, -4.3881, -3.5529, -4.2543, -3.5495, -4.1667, -4.3488, -4.7427, -4.6268, -4.6087, -4.2071, -4.7341, -4.4549, -3.9381, -4.3742, -4.6237, -4.3053, -4.8418, -4.9263, -4.3164, -4.742, -4.4339, -4.2679, -3.8009, -3.7786, -4.0116, -4.1122, -4.4255, -4.4667, -4.4593, -3.8888, -4.014, -4.1726, -4.1893, -4.3549, -4.407, -4.2618, -3.7059, -4.2696, -4.347, -4.0725, -3.5586, -4.1568, -3.9404, -4.1647, -3.8963, -3.75, -3.7102, -4.2893, -4.5579, -4.6841, -3.9247, -3.97, -4.6425, -4.6936, -4.0154, -4.5976, -4.4678, -3.8466, -4.9265, -3.3463, -3.4317, -3.9345, -4.4427, -4.178, -4.174, -4.3139, -3.5585, -3.7584, -3.8426, -3.9008, -3.912, -4.0547, -3.8534, -3.0722, -4.1582, -4.4069, -3.8233, -4.03, -3.9237, -3.2544, -4.0639, -3.9081, -4.2769, -4.1037, -3.2734, -4.6343, -4.109, -4.7435, -4.1629, -4.9502, -2.4491, -4.9109, -2.8055, -2.4636, -4.612, -4.7871, -3.9198, -3.8829, -4.6537, -4.3293, -4.5921, -3.2919, -3.3094, -3.3129, -3.509, -3.7034, -3.8122, -3.8835, -3.9405, -3.9487, -3.9736, -3.9739, -4.0207, -4.0258, -4.0258, -4.0258, -4.0258, -4.0258, -4.0258, -4.0258, -4.0258, -4.0258, -4.0258, -4.5131, -4.533, -4.5384, -4.5384, -4.6533, -3.4008, -2.4252, -2.4851, -3.5524, -3.8507, -3.7583, -3.6626, -4.1021, -2.9994, -3.2845, -3.7181, -3.8494, -3.6499, -3.3179, -4.0852, -3.7723, -3.902, -4.3502, -2.6387, -3.2526, -4.2352, -4.4735, -4.3779, -4.1855, -4.2341, -3.8432, -4.1271, -2.9592, -4.4494, -4.4105, -3.8392, -4.3723, -4.5725, -3.7745, -4.2424, -4.3847, -4.6076, -4.8516, -4.5431, -4.1988, -3.9812, -3.9616, -4.0804, -3.517, -3.5733, -4.2792, -4.0517, -4.1486, -4.1845, -3.3649, -3.7219, -3.8009, -3.9385, -3.0607, -3.9231, -3.5235, -3.7597, -3.4119, -3.7235, -4.0587, -4.1497, -3.3139, -3.8154, -3.059, -4.1776, -3.9398, -4.382, -3.8404, -3.1434, -3.5134, -3.8746, -3.8627, -4.3485, -4.4635, -4.2307, -4.9868, -4.4724, -5.1356, -4.9136, -4.4849, -4.7228, -4.5538, -4.2188, -4.5034, -3.3402, -3.4703, -3.9464, -4.0696, -4.1004, -3.9532, -3.5912, -3.7785, -3.1253, -3.9441, -3.405, -2.9791, -4.0602, -3.1729, -3.2194, -4.1272, -3.0432, -3.6185, -3.2112, -2.6967, -4.0737, -4.0899, -4.6311, -4.1765, -4.0476, -4.5064, -4.1234, -4.8053, -4.3468, -3.4711, -4.1888, -3.3585, -4.0905, -3.614, -4.0183, -4.1761, -2.941, -3.6151, -3.6727, -3.6625, -3.7158, -3.7314, -3.7338, -3.7994, -3.8141, -3.723, -3.7508, -3.55, -3.6111, -3.5278, -3.7357, -3.7931, -3.3731, -4.1369, -4.208, -3.7141, -3.6431, -4.205, -3.7604, -4.2372, -4.0654, -4.9162, -4.5089, -5.106, -5.313, -5.2646, -4.1178, -4.0294, -4.1067, -4.639, -2.6842, -3.1323, -3.4261, -4.4521, -4.5075, -3.6727, -4.546, -4.6697, -3.9382, -3.2329, -3.2846, -2.0788, -4.2271, -3.2424, -2.6224, -3.5933, -2.9111, -3.9683, -4.0961, -3.641, -3.8783, -3.8894, -4.3545, -4.0684, -4.4727, -3.2637, -4.0196, -4.2902, -3.9356, -4.0208, -4.0176, -4.0719, -4.4249], \"loglift\": [30.0, 29.0, 28.0, 27.0, 26.0, 25.0, 24.0, 23.0, 22.0, 21.0, 20.0, 19.0, 18.0, 17.0, 16.0, 15.0, 14.0, 13.0, 12.0, 11.0, 10.0, 9.0, 8.0, 7.0, 6.0, 5.0, 4.0, 3.0, 2.0, 1.0, 2.0072, 2.0045, 2.0039, 2.0033, 2.002, 2.0018, 2.0004, 1.9984, 1.9969, 1.9969, 1.9941, 1.9931, 1.9926, 1.9924, 1.9922, 1.9914, 1.988, 1.988, 1.988, 1.9874, 1.9864, 1.9574, 1.9415, 1.9181, 1.9167, 1.9153, 1.8947, 1.8546, 1.8531, 1.8226, 1.8044, 1.6672, 1.7463, 1.6875, 1.3268, 1.7912, 1.3483, 1.5789, 1.6068, 0.9511, 1.2348, -0.0047, 0.9653, 0.9755, 0.6558, 2.0277, 2.0268, 2.0267, 2.0253, 2.0249, 2.0234, 2.0231, 2.0225, 2.0071, 1.9954, 1.9904, 1.9747, 1.958, 1.9232, 1.8893, 1.8396, 1.8391, 1.8293, 1.8206, 1.8166, 1.796, 1.7685, 1.749, 1.7264, 1.7022, 1.6827, 1.6734, 1.673, 1.6367, 1.6183, 1.5535, 1.5671, 1.336, 1.1369, 0.4201, 0.0915, -0.0768, -0.1415, 0.8221, 0.3994, -0.1497, 2.1297, 2.1285, 2.1268, 2.1266, 2.1244, 2.1237, 2.1077, 2.0973, 2.0698, 2.0614, 2.0513, 2.0183, 2.0062, 1.9451, 1.9206, 1.9118, 1.8571, 1.8137, 1.7505, 1.7005, 1.6981, 1.6908, 1.6902, 1.6864, 1.6589, 1.6103, 1.5967, 1.5911, 1.5886, 1.5855, 1.5199, 1.2973, 1.1162, 1.0861, 0.1315, -0.2033, -0.4438, 2.32, 2.3183, 2.3175, 2.3169, 2.3168, 2.3151, 2.2912, 2.2143, 2.2, 2.1668, 2.1427, 2.0976, 2.0827, 2.0479, 2.0399, 2.0221, 1.9664, 1.9508, 1.9496, 1.8537, 1.8139, 1.6481, 1.5989, 1.5464, 1.5216, 1.4858, 1.4156, 1.4065, 1.3491, 1.3264, 1.1894, 0.4267, 1.1842, -0.3945, 0.7036, 2.3268, 2.3267, 2.3267, 2.3254, 2.3238, 2.3228, 2.3221, 2.3214, 2.3213, 2.3211, 2.321, 2.3205, 2.3204, 2.3204, 2.3204, 2.3204, 2.3204, 2.3204, 2.3204, 2.3204, 2.3204, 2.3204, 2.3128, 2.3124, 2.3123, 2.3123, 2.3098, 2.2866, 2.2745, 2.1892, 2.1401, 2.1819, 2.1107, 2.0272, 2.0604, 1.3102, 2.3569, 2.3535, 2.3523, 2.3499, 2.2441, 2.2336, 2.2119, 2.1907, 2.131, 2.1105, 2.1062, 2.0667, 2.0019, 1.9832, 1.9734, 1.9664, 1.9582, 1.9469, 1.9051, 1.8893, 1.8699, 1.8236, 1.8175, 1.7983, 1.7934, 1.7468, 1.7284, 1.6145, 1.5316, 1.5222, 1.489, 1.2665, 1.2213, 1.2695, 0.3531, 0.3614, 1.3029, 0.1693, 0.3544, -0.2138, 2.3883, 2.3854, 2.3846, 2.383, 2.3627, 2.3447, 2.3256, 2.3202, 2.2766, 2.2381, 2.2091, 2.1707, 2.1593, 2.1589, 2.1407, 2.1164, 2.0063, 1.8652, 1.8592, 1.8455, 1.8444, 1.6199, 1.6124, 1.6042, 1.5301, 1.4703, 1.4126, 1.2894, 1.2055, 1.046, 0.9199, 0.9374, 0.7962, -0.2481, 0.3628, 2.5007, 2.4997, 2.4946, 2.4928, 2.4923, 2.487, 2.4229, 2.3894, 2.3574, 2.3248, 2.2749, 2.2628, 2.1926, 2.1663, 2.1535, 2.1514, 2.066, 1.9719, 1.927, 1.8892, 1.886, 1.8292, 1.8037, 1.7867, 1.7618, 1.7614, 1.7152, 1.6533, 1.567, 1.5353, 1.5102, 1.0332, 1.3453, 0.3567, 0.7241, -0.306, 2.5116, 2.5071, 2.5066, 2.5064, 2.5061, 2.5059, 2.5059, 2.5052, 2.4629, 2.4477, 2.403, 2.3914, 2.2997, 2.2915, 2.2672, 2.2343, 2.1938, 2.1849, 2.1692, 2.1558, 1.955, 1.9443, 1.821, 1.7972, 1.7045, 1.1969, 1.1842, 1.0939, 1.0635, 0.9296, 0.867, 0.2801, -0.136, 0.35, 2.5685, 2.5682, 2.5661, 2.551, 2.5497, 2.5488, 2.5487, 2.5454, 2.5424, 2.4899, 2.382, 2.3128, 2.2743, 2.1935, 2.12, 2.1058, 2.0953, 2.0924, 2.0822, 2.06, 1.9603, 1.92, 1.9134, 1.8948, 1.7272, 1.7211, 1.6068, 1.5492, 1.4567, 1.3521, 1.3216, 0.514, 0.8169]}, \"token.table\": {\"Topic\": [3, 6, 9, 10, 1, 1, 2, 3, 4, 6, 7, 9, 2, 3, 1, 2, 3, 4, 9, 1, 2, 3, 1, 2, 3, 4, 5, 6, 7, 8, 9, 5, 5, 5, 7, 10, 2, 3, 6, 7, 9, 10, 5, 5, 5, 5, 5, 5, 3, 3, 1, 2, 3, 4, 6, 9, 2, 10, 1, 3, 6, 1, 2, 3, 6, 8, 9, 1, 2, 4, 5, 5, 1, 3, 1, 2, 3, 4, 6, 7, 1, 6, 1, 3, 6, 7, 2, 9, 9, 1, 1, 2, 9, 3, 9, 5, 10, 3, 7, 9, 1, 5, 2, 4, 6, 7, 1, 3, 7, 8, 9, 1, 2, 3, 6, 7, 1, 2, 3, 4, 6, 1, 2, 3, 1, 2, 3, 4, 7, 8, 9, 4, 10, 2, 1, 2, 3, 4, 6, 7, 3, 2, 3, 6, 7, 9, 1, 2, 3, 4, 7, 8, 9, 1, 2, 3, 4, 7, 9, 2, 4, 8, 8, 10, 8, 10, 1, 1, 2, 3, 4, 6, 7, 8, 9, 3, 4, 9, 6, 1, 3, 9, 1, 2, 1, 2, 3, 9, 1, 3, 9, 1, 2, 3, 8, 1, 1, 2, 9, 1, 2, 3, 4, 6, 9, 3, 5, 2, 3, 7, 9, 2, 4, 9, 8, 8, 4, 6, 2, 2, 3, 4, 6, 1, 2, 3, 4, 7, 9, 2, 3, 7, 8, 9, 2, 3, 4, 7, 9, 3, 7, 1, 7, 1, 7, 3, 8, 10, 8, 10, 2, 3, 4, 7, 1, 3, 6, 7, 1, 6, 1, 2, 9, 1, 8, 1, 2, 3, 6, 6, 7, 6, 10, 1, 3, 6, 9, 6, 3, 4, 6, 9, 10, 9, 3, 4, 4, 8, 9, 10, 10, 8, 10, 3, 4, 7, 9, 9, 2, 3, 1, 3, 4, 6, 7, 8, 9, 10, 7, 9, 2, 3, 9, 10, 2, 2, 3, 4, 6, 7, 1, 2, 7, 8, 9, 10, 1, 2, 3, 4, 7, 9, 4, 9, 1, 2, 3, 9, 1, 2, 4, 6, 7, 9, 2, 3, 6, 7, 1, 2, 4, 6, 9, 1, 2, 7, 8, 9, 8, 3, 7, 8, 1, 4, 6, 8, 1, 2, 3, 4, 1, 2, 3, 4, 6, 7, 9, 1, 2, 4, 2, 3, 4, 7, 9, 1, 2, 6, 7, 9, 2, 3, 9, 2, 4, 5, 6, 1, 3, 3, 9, 3, 9, 1, 2, 3, 4, 6, 7, 9, 4, 5, 8, 10, 10, 10, 5, 8, 10, 8, 10, 8, 10, 2, 3, 7, 9, 3, 4, 3, 6, 9, 1, 1, 2, 7, 1, 3, 7, 7, 1, 2, 3, 7, 9, 7, 8, 9, 10, 2, 3, 2, 3, 4, 5, 6, 7, 10, 1, 4, 7, 1, 2, 3, 4, 6, 7, 9, 2, 6, 1, 2, 6, 1, 2, 9, 2, 3, 4, 6, 7, 2, 3, 4, 2, 7, 9, 3, 7, 9, 2, 3, 6, 7, 9, 2, 4, 7, 2, 3, 6, 1, 9, 1, 2, 3, 4, 7, 2, 3, 9, 3, 6, 7, 9, 2, 3, 5, 6, 9, 5, 5, 1, 2, 3, 4, 5, 6, 7, 8, 2, 3, 4, 6, 7, 8, 9, 1, 6, 9, 3, 2, 3, 4, 6, 8, 2, 1, 6, 2, 7, 9, 1, 2, 3, 6, 9, 1, 2, 3, 4, 6, 7, 8, 9, 2, 3, 5, 9, 5, 5, 1, 2, 3, 4, 6, 7, 8, 9, 2, 3, 2, 7, 8, 2, 9, 10, 8, 10, 4, 5, 6, 5, 2, 7, 9, 1, 2, 3, 7, 1, 1, 2, 3, 4, 7, 9, 10, 4, 5, 7, 5, 1, 2, 3, 4, 6, 7, 9, 3, 8, 8, 10, 5, 7, 9, 2, 3, 7, 9, 7, 9, 2, 3, 4, 6, 7, 1, 2, 3, 6, 9, 2, 3, 8, 5, 5, 3, 10, 4, 2, 10, 7, 1, 2, 3, 7, 1, 2, 3, 4, 6, 7, 8, 9, 1, 2, 3, 4, 5, 6, 7, 8, 9, 5, 1, 1, 1, 2, 3, 4, 6, 7, 8, 2, 4, 7, 2, 3, 6, 7, 9, 2, 4, 7, 9, 2, 3, 4, 6, 7, 8, 9, 3, 7, 9, 2, 3, 6, 7, 1, 2, 6, 3, 6, 2, 3, 4, 9, 1, 6, 9, 1, 3, 6, 1, 4, 6, 8, 8, 10, 10, 2, 3, 1, 2, 3, 4, 7, 9, 10, 3, 4, 7, 9, 2, 3, 4, 9, 8, 10, 1, 2, 9, 1, 2, 2, 3, 4, 3, 7, 9, 1, 1, 4, 7, 8, 1, 2, 3, 7, 9, 1, 2, 9, 5, 5, 1, 2, 3, 4, 8, 9, 10, 6, 7, 9, 3, 7, 9, 2, 3, 4, 7, 9, 2, 3, 4, 7, 9, 10, 2, 3, 6, 8, 1, 2, 3, 7, 8, 9, 5, 5, 1, 3, 4, 6, 7, 2, 1, 2, 3, 7, 3, 5, 10, 1, 2, 3, 6, 7, 9, 1, 2, 3, 4, 6, 7, 8, 9, 4, 6, 8, 1, 2, 4, 1, 2, 3, 4, 6, 7, 9, 1, 1, 2, 3, 4, 7, 9, 2, 3, 4, 6, 2, 3, 4, 6, 7, 9, 1, 2, 3, 1, 2, 3, 6, 7, 9, 2, 4, 8, 4, 1, 3, 5, 9, 5, 8, 10, 10, 8, 8, 2, 3, 4, 7, 9, 1, 2, 3, 4, 6, 7, 8, 9, 4, 8, 4, 2, 8, 9, 10, 1, 7, 1, 2, 3, 4, 7, 1, 2, 3, 4, 7, 9, 1, 2, 7, 8, 9, 1, 2, 1, 2, 3, 6, 1, 9, 2, 3, 4, 6, 7, 8, 9, 10, 8, 10, 2, 3, 4, 7, 9, 3, 4, 7, 9, 9, 4, 2, 7, 2, 6], \"Freq\": [0.27298615881586924, 0.034123269851983655, 0.07962096298796185, 0.6142188573357058, 0.9855510378467939, 0.9818734605355999, 0.1638833479495309, 0.05462778264984364, 0.02731389132492182, 0.6828472831230454, 0.06828472831230455, 0.01365694566246091, 0.990061404615106, 0.009340201930331188, 0.043834501841363574, 0.15028972059896084, 0.18160007905707767, 0.118979362140844, 0.5009657353298694, 0.05345500931263699, 0.013363752328159248, 0.9354626629711473, 0.015798667433991928, 0.11234607953060925, 0.13516637693526426, 0.14920963687659042, 0.35985853599648276, 0.04564059480931001, 0.07372711469196233, 0.0017554074926657696, 0.10707985705261194, 0.9822236054059124, 0.9906708148515976, 0.9822236054059121, 0.395240383991941, 0.5999184399877676, 0.13100779912492277, 0.09170545938744595, 0.06550389956246139, 0.17686052881864575, 0.15720935894990734, 0.37992261746227607, 0.9945120417574425, 0.9804622925552451, 0.9919473671935376, 0.9921518523901015, 0.987751573352431, 0.9822236054059124, 0.9889960485491999, 0.987798609863218, 0.7653804956172746, 0.038590613224400404, 0.0514541509658672, 0.032158844353667004, 0.096476533061001, 0.0128635377414668, 0.17047989877234468, 0.8251227100581482, 0.8280993617397525, 0.022687653746294587, 0.14746974935091484, 0.34984441327188764, 0.29602219584544337, 0.0044851847855370205, 0.33190367412973953, 0.013455554356611063, 0.0044851847855370205, 0.2820963220687322, 0.7052408051718305, 0.010074868645311865, 0.991300529830823, 0.9822236054059124, 0.35705263174234536, 0.6347602342086139, 0.2403461665984747, 0.035050482628944224, 0.11015865969096757, 0.025036059020674444, 0.010014423608269778, 0.5758293574755122, 0.29089739480410254, 0.7042779032099324, 0.2128572558280194, 0.02838096744373592, 0.36895257676856696, 0.36895257676856696, 0.19065802076574107, 0.7944084198572544, 0.9905873142612031, 0.9867899574901026, 0.9880638923746812, 0.27758513669076873, 0.7078420985614602, 0.9306883487321623, 0.05727312915274845, 0.8258028368639353, 0.1679598990231733, 0.0975817258516106, 0.8852056559396103, 0.006970123275115042, 0.9922929076972704, 0.9956123325141227, 0.6985380779182533, 0.19559066181711093, 0.10245225142801048, 0.9844723150357315, 0.12045228778212064, 0.18067843167318096, 0.16562189570041588, 0.42158300723742226, 0.10539575180935556, 0.08598948408717265, 0.006142106006226618, 0.012284212012453236, 0.8906053709028596, 0.006142106006226618, 0.14646691189910602, 0.3203963697792944, 0.027462545981082376, 0.3753214617414592, 0.12815854791171777, 0.3652457335686401, 0.04764074785677914, 0.5716889742813497, 0.01956369304363558, 0.05869107913090674, 0.07825477217454233, 0.04890923260908895, 0.03912738608727116, 0.00978184652181779, 0.7532021821799698, 0.9941220632782658, 0.9915902118997671, 0.9941311673295476, 0.012323879958390448, 0.18485819937585674, 0.6408417578363034, 0.11091491962551403, 0.024647759916780896, 0.024647759916780896, 0.9870479230094604, 0.12537512918627422, 0.23681968846296242, 0.41791709728758075, 0.1114445592766882, 0.09751398936710218, 0.008356807872991184, 0.6184037826013475, 0.15877934958683249, 0.09192488660290302, 0.10863850234888539, 0.008356807872991184, 0.008356807872991184, 0.005630734591991017, 0.1745527723517215, 0.1745527723517215, 0.11824542643181135, 0.45608950195127235, 0.0675688151038922, 0.05025126702776465, 0.6834172315775993, 0.26130658854437616, 0.7126540231023492, 0.28506160924093965, 0.4727698421228328, 0.510093777027267, 0.9708077296699242, 0.9818734605355999, 0.02412083667814797, 0.07638264948080191, 0.052261812802653934, 0.08040278892715991, 0.12864446228345586, 0.5587993830437613, 0.07236251003444391, 0.07635953328684297, 0.14317412491283057, 0.7826852161901404, 0.9917094798232002, 0.6672025920423194, 0.14937371463634014, 0.16929020992118549, 0.016398714375350294, 0.9675241481456673, 0.8910196718141196, 0.03394360654529979, 0.04242950818162474, 0.03394360654529979, 0.644219561375569, 0.08402863844029161, 0.26609068839425676, 0.12575483488023528, 0.025150966976047056, 0.1383303183682588, 0.7042270753293175, 0.9916589954529834, 0.4530858245238467, 0.05909815102484957, 0.48263490003627146, 0.027924564051209938, 0.20943423038407455, 0.1815096663328646, 0.027924564051209938, 0.43283074279375405, 0.09773597417923478, 0.2239373798017367, 0.7613870913259048, 0.17282226521214003, 0.03703334254545858, 0.061722237575764304, 0.7221501796364423, 0.9465319622446366, 0.016042914614315874, 0.03208582922863175, 0.9882027222000346, 0.9854734333420984, 0.6919125492846206, 0.29133159969878764, 0.9804011048878976, 0.2403839071275784, 0.09348263054961382, 0.026709323014175376, 0.6276690908331214, 0.006775186319593802, 0.04742630423715661, 0.6368675140418173, 0.013550372639187604, 0.23035633486618926, 0.06097667687634421, 0.11884692317477806, 0.673465897990409, 0.019807820529129674, 0.1287508334393429, 0.03961564105825935, 0.028160100845574784, 0.19712070591902348, 0.506881815220346, 0.1408005042278739, 0.11264040338229914, 0.1617252730010955, 0.8335071762364152, 0.8995541494508809, 0.08486359900480007, 0.931313589204383, 0.05414613890723157, 0.9920850872498778, 0.4719661976015924, 0.5191628173617516, 0.48620637962417435, 0.50455379017603, 0.14841973176760326, 0.046381166177376025, 0.009276233235475204, 0.7884798250153924, 0.18171703432833508, 0.5754372753730611, 0.18171703432833508, 0.050476953980093074, 0.1311568421160072, 0.8618878196194758, 0.18390060777310333, 0.8024753793735419, 0.9965369888338766, 0.4827667479127755, 0.5090994796171088, 0.5156682621865997, 0.014733378919617133, 0.36096778353061976, 0.1105003418971285, 0.9896163247754561, 0.009515541584379386, 0.011877806288329617, 0.9739801156430286, 0.24310578820153905, 0.08840210480055966, 0.09945236790062961, 0.5635634181035678, 0.9908112802096336, 0.05013836898890427, 0.20055347595561707, 0.025069184494452133, 0.6935807710131756, 0.01671278966296809, 0.9918468019270544, 0.5317487808700706, 0.4535504307421191, 0.9946275472652357, 0.7804036326226235, 0.040135043963449205, 0.17391852384161322, 0.9624365014629664, 0.9755568096155565, 0.014781163782053887, 0.12690407251559427, 0.6870323925844242, 0.13565607751666972, 0.048136027505915065, 0.9937843510789482, 0.7846029835879923, 0.19971712309512532, 0.11426921905839024, 0.10930099214280806, 0.014904680746746553, 0.33287120334400633, 0.20369730353886956, 0.059618722986986214, 0.13911035363630117, 0.019872907662328736, 0.9678221550434648, 0.026735418647609525, 0.06973907563293924, 0.25570994398744384, 0.2440867647152873, 0.43005763306979194, 0.9925525957645847, 0.11506794738357469, 0.18410871581371951, 0.08054756316850228, 0.5753397369178734, 0.034520384215072406, 0.08704817415007718, 0.008704817415007718, 0.008704817415007718, 0.08704817415007718, 0.80084320218071, 0.008704817415007718, 0.03655863401133279, 0.04874484534844372, 0.19497938139377488, 0.08530347935977652, 0.5849381441813246, 0.02437242267422186, 0.8851452551575463, 0.10894095448092876, 0.045369481061799534, 0.4990642916797949, 0.007561580176966589, 0.44613323044102876, 0.20742249144368974, 0.009018369193203903, 0.027055107579611704, 0.03607347677281561, 0.6763776894902926, 0.03607347677281561, 0.6757742424216078, 0.23037758264372993, 0.04607551652874599, 0.030717011019163992, 0.2946374940785127, 0.6917575947930298, 0.8279373663625358, 0.1563881692018123, 0.009199304070694843, 0.9699470977421416, 0.09673980226156705, 0.04836990113078352, 0.794648375720015, 0.05527988700660973, 0.9903628241354172, 0.19196522705279562, 0.2559536360703941, 0.5393308760054734, 0.3454734591285071, 0.009171861746774524, 0.6328584605274422, 0.009171861746774524, 0.046511070409745746, 0.13953321122923723, 0.18604428163898298, 0.6201476054632766, 0.0939954573011139, 0.2945190995434902, 0.03759818292044556, 0.10652818494126241, 0.3446500101040843, 0.02506545528029704, 0.10026182112118816, 0.09127644211369056, 0.7302115369095245, 0.15973377369895847, 0.00562001196736822, 0.12364026328210083, 0.06744014360841863, 0.7924216873989189, 0.01124002393473644, 0.20320899285312988, 0.3048134892796948, 0.42673888499157275, 0.010160449642656494, 0.04064179857062598, 0.033952090284650474, 0.8233381894027739, 0.1358083611386019, 0.08141897537844264, 0.058156410984601885, 0.17446923295380565, 0.6746143674213819, 0.07540758147782688, 0.9156634893736121, 0.9837118249136617, 0.9861764978611424, 0.05644443259276358, 0.9369775810398754, 0.02164291304914287, 0.0054107282622857175, 0.5789479240645719, 0.016232184786857153, 0.07033946740971433, 0.17855403265542868, 0.12444675003257151, 0.013530944743489657, 0.1840208485114593, 0.16778371481927173, 0.6359544029440138, 0.9861915469746806, 0.9946789511266046, 0.9822236054059124, 0.22867139246261445, 0.7698603546241353, 0.004507636521158102, 0.9916800346547824, 0.3662987988117459, 0.626934482581642, 0.6223124936566836, 0.22040234150340876, 0.14261327979632332, 0.989495003961214, 0.5519218276563742, 0.4245552520433648, 0.23427612504346312, 0.6805163632214881, 0.07809204168115437, 0.9806372278048299, 0.9833278502787528, 0.0618547337701825, 0.9278210065527376, 0.9740359243906541, 0.057290612404710076, 0.9330185448767069, 0.9853057338876142, 0.15709794072691935, 0.0981862129543246, 0.5891172777259476, 0.08509471789374798, 0.058911727772594756, 0.30789894377011484, 0.30789894377011484, 0.17402983778310838, 0.20080365898050967, 0.11202791376545422, 0.8738177273705429, 0.11166490666193883, 0.013958113332742354, 0.04885339666459824, 0.7397800066353448, 0.07676962333008294, 0.006979056666371177, 0.006979056666371177, 0.4904152485724353, 0.3624808359013652, 0.13859561372699258, 0.2564473248703593, 0.1765702892550015, 0.06306081759107197, 0.058856763085000506, 0.31950814246143133, 0.09248919913357222, 0.029428381542500253, 0.14619009658381693, 0.8458141302349408, 0.03449679836345765, 0.9609822401248915, 0.004928114051922521, 0.09017795902836177, 0.8905073454050726, 0.011272244878545222, 0.01358640471833961, 0.1154844401058867, 0.07472522595086786, 0.5842154028886033, 0.20379607077509415, 0.0648810620586029, 0.1297621241172058, 0.7893862550463353, 0.9895736932882874, 0.03766465663093361, 0.9416164157733402, 0.09158509297862394, 0.8517413647012027, 0.04579254648931197, 0.2656533269531509, 0.06795782782522465, 0.568374559992788, 0.006177984347747695, 0.09884774956396312, 0.012440467262468424, 0.03732140178740527, 0.9454755119476003, 0.986848744402671, 0.004744465117320534, 0.004744465117320534, 0.9451968527078363, 0.04942205765792608, 0.9759070355282772, 0.09071503828646535, 0.6414849135971479, 0.045357519143232675, 0.22030795012427298, 0.17619707638214863, 0.8084336445769172, 0.010364533904832272, 0.17946331626359724, 0.6632339948872071, 0.10923854033436353, 0.03901376440512983, 0.05055844474947904, 0.06067013369937485, 0.8670773274535656, 0.002527922237473952, 0.017695455662317665, 0.9782101186989823, 0.9753033475002604, 0.056473877957280594, 0.2729570767935229, 0.07059234744660074, 0.19765857285048208, 0.1035354429216811, 0.15530316438252165, 0.014118469489320148, 0.1317723819003214, 0.04365944223564646, 0.20083343428397374, 0.026195665341387876, 0.04365944223564646, 0.12224643825981009, 0.3929349801208182, 0.17463776894258584, 0.8507122588737036, 0.013087880905749288, 0.13087880905749286, 0.9886728438206953, 0.051294206136733814, 0.023315548243969916, 0.8906539429196507, 0.018652438595175933, 0.013989328946381949, 0.9870899814426406, 0.24455629326696968, 0.7465402636570654, 0.18356453315948829, 0.7998168944806275, 0.9917096602541936, 0.030859100105018827, 0.7560479525729613, 0.1080068503675659, 0.061718200210037655, 0.061718200210037655, 0.013851796652888774, 0.08311077991733264, 0.13851796652888773, 0.02077769497933316, 0.04155538995866632, 0.5783125102581063, 0.01038884748966658, 0.11427732238633238, 0.09708378599974869, 0.23577490885653254, 0.42994248085602993, 0.23577490885653254, 0.9842628445988928, 0.9822236054059124, 0.013350617838717169, 0.1655476612000929, 0.42988989440669284, 0.10680494270973735, 0.10146469557425049, 0.10947506627748078, 0.005340247135486868, 0.06408296562584241, 0.013772243998388072, 0.9640570798871649, 0.07880471603752442, 0.022515633153578407, 0.8893675095663471, 0.8215106256943052, 0.005166733494932738, 0.17050220533278035, 0.015391119708373443, 0.9696405416275269, 0.0983329928590827, 0.8554970378740194, 0.03933319714363308, 0.9804622925552451, 0.7616094432028236, 0.1114550404687059, 0.1114550404687059, 0.7214980511091517, 0.1903953190426928, 0.06513524072513174, 0.020041612530809768, 0.9844786765479937, 0.9818734605355999, 0.30062948099501796, 0.06219920296448648, 0.03628286839595045, 0.15031474049750898, 0.11921513901526574, 0.326545815563554, 0.03481267853137627, 0.9538673917597098, 0.006962535706275254, 0.9822236054059124, 0.05176409070491718, 0.07628392314408847, 0.0054488516531491765, 0.05721294235806636, 0.7764613605737577, 0.027244258265745884, 0.0027244258265745882, 0.07722017700205634, 0.9169896018994191, 0.45356828801829707, 0.542662058879034, 0.8015033819616131, 0.04174496781050068, 0.15028188411780244, 0.868026425019068, 0.10987676266064153, 0.010987676266064152, 0.010987676266064152, 0.09990228075832512, 0.8880202734073344, 0.20203232778280242, 0.011884254575458966, 0.17826381863188448, 0.47537018301835865, 0.13072680033004863, 0.16540804925478547, 0.005012365128932893, 0.05012365128932893, 0.7719042298556655, 0.005012365128932893, 0.12255746640058038, 0.13481321304063842, 0.7353447984034822, 0.9936019919451892, 0.9822236054059124, 0.07213814662285117, 0.91615446211021, 0.9929539456945801, 0.3742147378510825, 0.6169486218625955, 0.9852972382743901, 0.024936041737335327, 0.018702031303001496, 0.8852294816754042, 0.06234010434333832, 0.08836948965236754, 0.19923303121624683, 0.07390902770925285, 0.40167949841985245, 0.11086354156387927, 0.06748215573453521, 0.00964030796207646, 0.0482015398103823, 0.5032021812807718, 0.12067198591865032, 0.051888953945019634, 0.06516287239607117, 0.06998975183281718, 0.13515262422888835, 0.01568735816942454, 0.006033599295932515, 0.032581436198035586, 0.9849893207110471, 0.9883424931330917, 0.9787163904638784, 0.3520005510931065, 0.04525721371197084, 0.10057158602660186, 0.18605743414921344, 0.19611459275187362, 0.09051442742394168, 0.025142896506650466, 0.18000186467051785, 0.4800049724547143, 0.33000341856261606, 0.3157462113137086, 0.11481680411407587, 0.04018588143992655, 0.4592672164563035, 0.06314924226274173, 0.08875339527986138, 0.7366531808228495, 0.15088077197576436, 0.017750679055972274, 0.31487618683065516, 0.35052254760393686, 0.05941060128880286, 0.13664438296424658, 0.041587420902162, 0.011882120257760571, 0.07723378167544372, 0.7517867766737437, 0.10280844809213589, 0.14136161612668685, 0.2895856415282036, 0.09652854717606787, 0.5653814906026833, 0.041369377361171945, 0.03080008143486351, 0.1694004478917493, 0.7854020765890195, 0.10472806292588634, 0.877097527004298, 0.10574569913261335, 0.10574569913261335, 0.5992256284181423, 0.18505497348207336, 0.3176939005820774, 0.6558841818468695, 0.02049638068271467, 0.9085941344077095, 0.03580666539537772, 0.05370999809306658, 0.9036913612935261, 0.01255126890685453, 0.037653806720563586, 0.037653806720563586, 0.25140873689462895, 0.7385131646279726, 0.9670570930914358, 0.9548016743148864, 0.03720006523304752, 0.46155522586656894, 0.14769767227730207, 0.08000290581687196, 0.17846802066840667, 0.006154069678220919, 0.11077325420797655, 0.012308139356441839, 0.7213606371159755, 0.02956396053753998, 0.13599421847268392, 0.11234305004265194, 0.11369212898451021, 0.08526909673838266, 0.7579475265634015, 0.04263454836919133, 0.31400933188217955, 0.6821582037440452, 0.16312012863449685, 0.8007715405693482, 0.014829102603136078, 0.18196899407043507, 0.8074874111875555, 0.04789712837372149, 0.16285023647065308, 0.7855129053290324, 0.7934469213649313, 0.0864150112377648, 0.10998274157533701, 0.983353697355015, 0.9890623087692682, 0.9678009796766107, 0.01099773840541603, 0.02199547681083206, 0.06563074861779171, 0.656307486177917, 0.08203843577223963, 0.11485381008113549, 0.06563074861779171, 0.8113598297974277, 0.11590854711391825, 0.07132833668548816, 0.9893808843521257, 0.9822236054059124, 0.2836940344534688, 0.00810554384152768, 0.048633263049166084, 0.19453305219666434, 0.00810554384152768, 0.10537206993985984, 0.3566439290272179, 0.5328619743490167, 0.19183031076564602, 0.26643098717450836, 0.1444373066241534, 0.11817597814703462, 0.7221865331207671, 0.0485586066501532, 0.2589792354674837, 0.3156309432259958, 0.2346999321424071, 0.12948961773374185, 0.11035027674636526, 0.15173163052625224, 0.058623584521506546, 0.06207203066983046, 0.1931129843061392, 0.42760732239216537, 0.012453845955702737, 0.12453845955702737, 0.024907691911405475, 0.8344076790320833, 0.0256513662786306, 0.0384770494179459, 0.0171009108524204, 0.7738162160720231, 0.0299265939917357, 0.1068806928276275, 0.9839637962058423, 0.9822236054059124, 0.854388094978652, 0.023733002638295888, 0.011866501319147944, 0.10086526121275752, 0.005933250659573972, 0.9900056828742344, 0.055794570148279723, 0.19528099551897904, 0.6416375567052168, 0.11158914029655945, 0.9615892997537413, 0.015635598369979534, 0.0234533975549693, 0.05093997058177555, 0.3311098087815411, 0.012734992645443888, 0.025469985290887776, 0.006367496322721944, 0.573074669044975, 0.13234523166585904, 0.14252563410169433, 0.07578744035566286, 0.398166850823781, 0.13347638749206295, 0.03506583061232162, 0.059951258788807936, 0.021491960697874544, 0.2527625600521885, 0.15797660003261782, 0.5876729521213383, 0.05381219503872081, 0.928260364417934, 0.013453048759680203, 0.707193027766105, 0.09159427769259794, 0.027691293255901705, 0.019170895331008873, 0.1341962673170621, 0.019170895331008873, 0.002130099481223208, 0.9863299522304514, 0.1997071582959246, 0.00907759810436021, 0.20878475640028482, 0.07262078483488169, 0.45387990521801047, 0.05446558862616126, 0.15837991117713923, 0.08446928596114094, 0.7496649129051257, 0.9897694659316703, 0.19601936341266055, 0.5390532493848166, 0.03981643319319668, 0.015314012766614106, 0.1317005097928813, 0.07963286638639336, 0.15315570738420695, 0.8232119271901123, 0.019144463423025868, 0.027080737829364925, 0.17602479589087203, 0.6228569700753933, 0.04062110674404739, 0.05416147565872985, 0.08124221348809478, 0.035147165113856724, 0.3202297265929168, 0.6443646937540399, 0.9918158350697996, 0.04926756815548112, 0.002593029902920059, 0.9438628846629015, 0.002593029902920059, 0.9724827437273309, 0.3770341554515299, 0.6201683304623296, 0.9861918635035793, 0.9813869890872815, 0.9911073469466957, 0.10571604122810965, 0.14800245771935353, 0.014095472163747954, 0.5849620947955401, 0.14095472163747955, 0.010006926710105411, 0.11382879132744905, 0.09631666958476459, 0.446559104438454, 0.07630281616455377, 0.07129935280950106, 0.11633052300497541, 0.07004848697073789, 0.8445554179197321, 0.13512886686715714, 0.9938594693783294, 0.03971548078211166, 0.8623932969829959, 0.01702092033519071, 0.07943096156422332, 0.9782456359367324, 0.9964205175706966, 0.15941070261287646, 0.717348161757944, 0.04649478826208897, 0.0066421126088698525, 0.07306323869756838, 0.21750934581196685, 0.05674156847268701, 0.14185392118171752, 0.05674156847268701, 0.4255617635451525, 0.09456928078781168, 0.29402434111997083, 0.029402434111997083, 0.044103651167995625, 0.49984137990395044, 0.1323109535039869, 0.8055302011499795, 0.18879614089452645, 0.24480996825207246, 0.10357344810664604, 0.11298921611634113, 0.5366987765526203, 0.10771072409816766, 0.8796375801350359, 0.0856213632851003, 0.10181999958228143, 0.011570454497986526, 0.03008318169476497, 0.04859590889154341, 0.5391831796061721, 0.05553818159033532, 0.12727499947785179, 0.701536452123044, 0.2948486537908446, 0.4093659893377348, 0.22042784041262645, 0.005248281914586344, 0.2309244042417991, 0.13645532977924493, 0.5779037955198874, 0.03467422773119324, 0.1733711386559662, 0.20804536638715945, 0.9895251987521594, 0.9865434516152861, 0.22987505559248522, 0.7534793488864794, 0.377930821674899, 0.6046893146798384], \"Term\": [\"according\", \"according\", \"according\", \"according\", \"affected\", \"affected cause\", \"aid\", \"aid\", \"aid\", \"aid\", \"aid\", \"aid\", \"air\", \"air\", \"also\", \"also\", \"also\", \"also\", \"also\", \"always\", \"always\", \"always\", \"amp\", \"amp\", \"amp\", \"amp\", \"amp\", \"amp\", \"amp\", \"amp\", \"amp\", \"amp original\", \"amplifying\", \"amplifying russian\", \"analysis\", \"analysis\", \"another\", \"another\", \"another\", \"another\", \"another\", \"another\", \"archive\", \"archive media\", \"archive video\", \"archived\", \"archived archive\", \"archived translation\", \"armed\", \"armed forces\", \"army\", \"army\", \"army\", \"army\", \"army\", \"army\", \"article\", \"article\", \"artillery\", \"artillery\", \"artillery\", \"attack\", \"attack\", \"attack\", \"attack\", \"attack\", \"attack\", \"attacks\", \"attacks\", \"attacks\", \"avoid\", \"avoid amplifying\", \"away\", \"away\", \"back\", \"back\", \"back\", \"back\", \"back\", \"back\", \"bakhmut\", \"bakhmut\", \"battle\", \"battle\", \"battle\", \"battle\", \"biden\", \"biden\", \"big\", \"block\", \"bomb\", \"border\", \"border\", \"call\", \"call\", \"canada\", \"canada\", \"cannot\", \"cannot\", \"cannot\", \"cause\", \"check\", \"children\", \"children\", \"children\", \"china\", \"citizens\", \"citizens\", \"citizens\", \"citizens\", \"citizens\", \"city\", \"city\", \"city\", \"city\", \"city\", \"civilians\", \"civilians\", \"civilians\", \"civilians\", \"civilians\", \"close\", \"close\", \"close\", \"come\", \"come\", \"come\", \"come\", \"come\", \"come\", \"come\", \"coming\", \"complete\", \"conflict\", \"continue\", \"continue\", \"continue\", \"continue\", \"continue\", \"continue\", \"control\", \"could\", \"could\", \"could\", \"could\", \"could\", \"countries\", \"countries\", \"countries\", \"countries\", \"countries\", \"countries\", \"countries\", \"country\", \"country\", \"country\", \"country\", \"country\", \"country\", \"crimes\", \"crimes\", \"crimes\", \"cup\", \"cup\", \"cup qatar\", \"cup qatar\", \"customers\", \"customers affected\", \"day\", \"day\", \"day\", \"day\", \"day\", \"day\", \"day\", \"days\", \"days\", \"days\", \"dead\", \"death\", \"death\", \"death\", \"defense\", \"defense\", \"destroy\", \"destroy\", \"destroy\", \"destroy\", \"destroyed\", \"destroyed\", \"destroyed\", \"done\", \"done\", \"done\", \"done\", \"drone\", \"drones\", \"drones\", \"drones\", \"due\", \"due\", \"due\", \"due\", \"due\", \"due\", \"elonmusk\", \"elonmusk\", \"end\", \"end\", \"end\", \"end\", \"energy\", \"energy\", \"energy\", \"england\", \"england vs\", \"english\", \"english\", \"eu\", \"europe\", \"europe\", \"europe\", \"europe\", \"even\", \"even\", \"even\", \"even\", \"even\", \"even\", \"every\", \"every\", \"every\", \"every\", \"every\", \"everyone\", \"everyone\", \"everyone\", \"everyone\", \"everyone\", \"everything\", \"everything\", \"failure\", \"failure\", \"family\", \"family\", \"far\", \"fifa\", \"fifa\", \"fifa world\", \"fifa world\", \"fight\", \"fight\", \"fight\", \"fight\", \"fighting\", \"fighting\", \"fighting\", \"fighting\", \"fire\", \"fire\", \"fired\", \"fired\", \"first\", \"footage\", \"footage\", \"forces\", \"forces\", \"forces\", \"forces\", \"foreign\", \"foreign\", \"france\", \"france\", \"front\", \"front\", \"front\", \"front\", \"fuck\", \"full\", \"full\", \"full\", \"full\", \"full\", \"game\", \"genocide\", \"genocide\", \"german\", \"germany\", \"germany\", \"germany\", \"germany live\", \"germany vs\", \"germany vs\", \"get\", \"get\", \"get\", \"get\", \"getting\", \"global\", \"global\", \"go\", \"go\", \"go\", \"go\", \"go\", \"go\", \"go\", \"go\", \"going\", \"going\", \"good\", \"good\", \"good\", \"good\", \"got\", \"government\", \"government\", \"government\", \"government\", \"government\", \"group\", \"group\", \"group\", \"group\", \"group\", \"group\", \"help\", \"help\", \"help\", \"help\", \"help\", \"help\", \"history\", \"history\", \"hit\", \"hit\", \"hit\", \"hit\", \"home\", \"home\", \"home\", \"home\", \"home\", \"home\", \"including\", \"including\", \"including\", \"including\", \"infrastructure\", \"infrastructure\", \"invasion\", \"invasion\", \"invasion\", \"investigation\", \"iran\", \"iran\", \"iran\", \"iran\", \"japan\", \"keep\", \"keep\", \"keep\", \"kherson\", \"kherson\", \"kherson\", \"kherson\", \"kill\", \"kill\", \"kill\", \"kill\", \"killed\", \"killed\", \"killed\", \"killed\", \"killed\", \"killed\", \"killed\", \"killing\", \"killing\", \"killing\", \"know\", \"know\", \"know\", \"know\", \"know\", \"kyiv\", \"kyiv\", \"kyiv\", \"kyiv\", \"kyiv\", \"last\", \"last\", \"last\", \"latest\", \"latest\", \"latest\", \"latest\", \"left\", \"left\", \"let\", \"lets\", \"life\", \"life\", \"like\", \"like\", \"like\", \"like\", \"like\", \"like\", \"like\", \"link\", \"link\", \"link\", \"link\", \"link fifa\", \"link live\", \"link text\", \"live\", \"live\", \"live link\", \"live link\", \"live stream\", \"live stream\", \"long\", \"long\", \"long\", \"look\", \"losses\", \"losses\", \"lost\", \"lost\", \"lost\", \"lower\", \"lower mainland\", \"made\", \"made\", \"mainland\", \"make\", \"make\", \"man\", \"many\", \"many\", \"many\", \"many\", \"many\", \"match\", \"match\", \"match\", \"match\", \"may\", \"may\", \"media\", \"media\", \"media\", \"media\", \"media\", \"media\", \"media\", \"mfa_russia\", \"mfa_russia\", \"mfa_russia\", \"military\", \"military\", \"military\", \"military\", \"military\", \"military\", \"military\", \"minister\", \"minister\", \"missile\", \"missile\", \"missile\", \"missiles\", \"missiles\", \"missiles\", \"money\", \"money\", \"money\", \"money\", \"money\", \"months\", \"months\", \"months\", \"morning\", \"moscow\", \"moscow\", \"much\", \"much\", \"much\", \"must\", \"must\", \"must\", \"must\", \"must\", \"national\", \"national\", \"national\", \"nato\", \"nato\", \"nato\", \"near\", \"near\", \"near block\", \"need\", \"need\", \"need\", \"need\", \"needs\", \"needs\", \"needs\", \"never\", \"never\", \"never\", \"never\", \"new\", \"new\", \"new\", \"new\", \"new\", \"new post\", \"new video\", \"news\", \"news\", \"news\", \"news\", \"news\", \"news\", \"news\", \"news\", \"next\", \"next\", \"next\", \"next\", \"next\", \"next\", \"next\", \"north\", \"north\", \"north\", \"nothing\", \"november\", \"november\", \"november\", \"november\", \"november\", \"nuclear\", \"oblast\", \"oblast\", \"official\", \"official\", \"oil\", \"old\", \"old\", \"old\", \"old\", \"old\", \"one\", \"one\", \"one\", \"one\", \"one\", \"one\", \"one\", \"one\", \"order\", \"order\", \"order\", \"order\", \"original\", \"original link\", \"people\", \"people\", \"people\", \"people\", \"people\", \"people\", \"people\", \"people\", \"place\", \"place\", \"pm\", \"pm\", \"pm\", \"poland\", \"poland\", \"poland\", \"portugal\", \"portugal\", \"post\", \"post\", \"post\", \"post archived\", \"potus\", \"potus\", \"potus\", \"power\", \"power\", \"power\", \"power\", \"power back\", \"power failure\", \"president\", \"president\", \"president\", \"president\", \"president\", \"president\", \"propaganda\", \"propaganda\", \"propaganda\", \"propaganda archive\", \"putin\", \"putin\", \"putin\", \"putin\", \"putin\", \"putin\", \"putin\", \"putins\", \"putins\", \"qatar\", \"qatar\", \"read\", \"read\", \"read\", \"real\", \"real\", \"real\", \"real\", \"really\", \"really\", \"regime\", \"regime\", \"regime\", \"regime\", \"regime\", \"region\", \"region\", \"region\", \"region\", \"region\", \"remember\", \"remember\", \"remember\", \"removed\", \"removed avoid\", \"report\", \"report\", \"reported\", \"reports\", \"reports\", \"results\", \"right\", \"right\", \"right\", \"right\", \"russia\", \"russia\", \"russia\", \"russia\", \"russia\", \"russia\", \"russia\", \"russia\", \"russian\", \"russian\", \"russian\", \"russian\", \"russian\", \"russian\", \"russian\", \"russian\", \"russian\", \"russian propaganda\", \"russian soldiers\", \"russian troops\", \"russians\", \"russians\", \"russians\", \"russians\", \"russians\", \"russians\", \"russians\", \"russias\", \"russias\", \"russias\", \"said\", \"said\", \"said\", \"said\", \"said\", \"say\", \"say\", \"say\", \"say\", \"says\", \"says\", \"says\", \"says\", \"says\", \"says\", \"says\", \"see\", \"see\", \"see\", \"send\", \"send\", \"send\", \"send\", \"shelling\", \"shelling\", \"shelling\", \"show\", \"show\", \"since\", \"since\", \"since\", \"since\", \"soldier\", \"soldier\", \"soldier\", \"soldiers\", \"soldiers\", \"soldiers\", \"south\", \"south\", \"south\", \"south\", \"spain\", \"spain\", \"spain vs\", \"start\", \"start\", \"state\", \"state\", \"state\", \"state\", \"state\", \"state\", \"state\", \"still\", \"still\", \"still\", \"still\", \"stop\", \"stop\", \"stop\", \"stop\", \"stream\", \"stream\", \"strike\", \"strike\", \"strike\", \"strikes\", \"strikes\", \"support\", \"support\", \"support\", \"take\", \"take\", \"take\", \"tank\", \"tanks\", \"team\", \"team\", \"team\", \"territory\", \"territory\", \"territory\", \"territory\", \"territory\", \"terrorist\", \"terrorist\", \"terrorist\", \"text\", \"text removed\", \"th\", \"th\", \"th\", \"th\", \"th\", \"th\", \"th\", \"thats\", \"thats\", \"thats\", \"thing\", \"thing\", \"thing\", \"think\", \"think\", \"think\", \"think\", \"think\", \"time\", \"time\", \"time\", \"time\", \"time\", \"time\", \"times\", \"times\", \"times\", \"times\", \"today\", \"today\", \"today\", \"today\", \"today\", \"today\", \"translation\", \"translation amp\", \"troops\", \"troops\", \"troops\", \"troops\", \"troops\", \"trump\", \"trying\", \"trying\", \"trying\", \"trying\", \"twitter\", \"twitter\", \"twitter\", \"two\", \"two\", \"two\", \"two\", \"two\", \"two\", \"ukraine\", \"ukraine\", \"ukraine\", \"ukraine\", \"ukraine\", \"ukraine\", \"ukraine\", \"ukraine\", \"ukraine war\", \"ukraine war\", \"ukraine war\", \"ukraines\", \"ukraines\", \"ukraines\", \"ukrainian\", \"ukrainian\", \"ukrainian\", \"ukrainian\", \"ukrainian\", \"ukrainian\", \"ukrainian\", \"ukrainian forces\", \"ukrainians\", \"ukrainians\", \"ukrainians\", \"ukrainians\", \"ukrainians\", \"ukrainians\", \"un\", \"un\", \"un\", \"update\", \"us\", \"us\", \"us\", \"us\", \"us\", \"us\", \"use\", \"use\", \"use\", \"used\", \"used\", \"used\", \"used\", \"used\", \"used\", \"via\", \"via\", \"via\", \"via youtube\", \"video\", \"video\", \"video\", \"video\", \"video archived\", \"vs\", \"vs\", \"vs germany\", \"vs iran\", \"vs japan\", \"want\", \"want\", \"want\", \"want\", \"want\", \"war\", \"war\", \"war\", \"war\", \"war\", \"war\", \"war\", \"war\", \"war crimes\", \"war crimes\", \"war ukraine\", \"watch\", \"watch\", \"watch\", \"watch\", \"water\", \"way\", \"weapons\", \"weapons\", \"weapons\", \"weapons\", \"weapons\", \"west\", \"west\", \"west\", \"west\", \"west\", \"west\", \"whole\", \"whole\", \"whole\", \"whole\", \"whole\", \"winter\", \"winter\", \"without\", \"without\", \"without\", \"without\", \"work\", \"work\", \"world\", \"world\", \"world\", \"world\", \"world\", \"world\", \"world\", \"world\", \"world cup\", \"world cup\", \"would\", \"would\", \"would\", \"would\", \"would\", \"year\", \"year\", \"year\", \"year\", \"yet\", \"youtube\", \"zelensky\", \"zelensky\", \"zelenskyyua\", \"zelenskyyua\"]}, \"R\": 30, \"lambda.step\": 0.01, \"plot.opts\": {\"xlab\": \"PC1\", \"ylab\": \"PC2\"}, \"topic.order\": [9, 2, 8, 3, 6, 5, 7, 4, 10, 1]};\n",
       "\n",
       "function LDAvis_load_lib(url, callback){\n",
       "  var s = document.createElement('script');\n",
       "  s.src = url;\n",
       "  s.async = true;\n",
       "  s.onreadystatechange = s.onload = callback;\n",
       "  s.onerror = function(){console.warn(\"failed to load library \" + url);};\n",
       "  document.getElementsByTagName(\"head\")[0].appendChild(s);\n",
       "}\n",
       "\n",
       "if(typeof(LDAvis) !== \"undefined\"){\n",
       "   // already loaded: just create the visualization\n",
       "   !function(LDAvis){\n",
       "       new LDAvis(\"#\" + \"ldavis_el751398614199945764935162128\", ldavis_el751398614199945764935162128_data);\n",
       "   }(LDAvis);\n",
       "}else if(typeof define === \"function\" && define.amd){\n",
       "   // require.js is available: use it to load d3/LDAvis\n",
       "   require.config({paths: {d3: \"https://d3js.org/d3.v5\"}});\n",
       "   require([\"d3\"], function(d3){\n",
       "      window.d3 = d3;\n",
       "      LDAvis_load_lib(\"https://cdn.jsdelivr.net/gh/bmabey/pyLDAvis@3.3.1/pyLDAvis/js/ldavis.v3.0.0.js\", function(){\n",
       "        new LDAvis(\"#\" + \"ldavis_el751398614199945764935162128\", ldavis_el751398614199945764935162128_data);\n",
       "      });\n",
       "    });\n",
       "}else{\n",
       "    // require.js not available: dynamically load d3 & LDAvis\n",
       "    LDAvis_load_lib(\"https://d3js.org/d3.v5.js\", function(){\n",
       "         LDAvis_load_lib(\"https://cdn.jsdelivr.net/gh/bmabey/pyLDAvis@3.3.1/pyLDAvis/js/ldavis.v3.0.0.js\", function(){\n",
       "                 new LDAvis(\"#\" + \"ldavis_el751398614199945764935162128\", ldavis_el751398614199945764935162128_data);\n",
       "            })\n",
       "         });\n",
       "}\n",
       "</script>"
      ],
      "text/plain": [
       "PreparedData(topic_coordinates=              x         y  topics  cluster       Freq\n",
       "topic                                                \n",
       "8      0.138399  0.079391       1        1  13.351273\n",
       "1      0.127877 -0.040699       2        1  13.052035\n",
       "7      0.137100 -0.065371       3        1  11.780332\n",
       "2      0.101419 -0.027811       4        1   9.751398\n",
       "5     -0.150903  0.432181       5        1   9.703228\n",
       "4      0.150288  0.043737       6        1   9.413586\n",
       "6      0.111079 -0.107484       7        1   9.116331\n",
       "3     -0.302425 -0.136825       8        1   8.142643\n",
       "9      0.078877 -0.072623       9        1   8.070554\n",
       "0     -0.391711 -0.104496      10        1   7.618620, topic_info=          Term        Freq       Total Category  logprob  loglift\n",
       "158       live  524.000000  524.000000  Default  30.0000  30.0000\n",
       "309      video  385.000000  385.000000  Default  29.0000  29.0000\n",
       "193        new  395.000000  395.000000  Default  28.0000  28.0000\n",
       "154       link  369.000000  369.000000  Default  27.0000  27.0000\n",
       "225      putin  367.000000  367.000000  Default  26.0000  26.0000\n",
       "..         ...         ...         ...      ...      ...      ...\n",
       "222  president   63.084321  192.928517  Topic10  -3.9356   1.4567\n",
       "332  world cup   57.930725  196.711090  Topic10  -4.0208   1.3521\n",
       "61         cup   58.118962  203.464788  Topic10  -4.0176   1.3216\n",
       "331      world   55.046160  432.135142  Topic10  -4.0719   0.5140\n",
       "115    germany   38.671472  224.242934  Topic10  -4.4249   0.8169\n",
       "\n",
       "[402 rows x 6 columns], token_table=      Topic      Freq         Term\n",
       "term                              \n",
       "0         3  0.272986    according\n",
       "0         6  0.034123    according\n",
       "0         9  0.079621    according\n",
       "0        10  0.614219    according\n",
       "2         1  0.985551     affected\n",
       "...     ...       ...          ...\n",
       "337       4  0.986543      youtube\n",
       "338       2  0.229875     zelensky\n",
       "338       7  0.753479     zelensky\n",
       "339       2  0.377931  zelenskyyua\n",
       "339       6  0.604689  zelenskyyua\n",
       "\n",
       "[964 rows x 3 columns], R=30, lambda_step=0.01, plot_opts={'xlab': 'PC1', 'ylab': 'PC2'}, topic_order=[9, 2, 8, 3, 6, 5, 7, 4, 10, 1])"
      ]
     },
     "execution_count": 53,
     "metadata": {},
     "output_type": "execute_result"
    }
   ],
   "source": [
    "pyLDAvis.sklearn.prepare(lda_tf, ntvf_features, ntvf)\n"
   ]
  },
  {
   "cell_type": "code",
   "execution_count": null,
   "id": "XGlLw70PK77R",
   "metadata": {
    "colab": {
     "base_uri": "https://localhost:8080/"
    },
    "id": "XGlLw70PK77R",
    "outputId": "f8710a27-95ab-4522-8168-3082d4332679"
   },
   "outputs": [
    {
     "data": {
      "text/plain": [
       "negative    24538\n",
       "positive    11901\n",
       "Name: sentiment, dtype: int64"
      ]
     },
     "execution_count": 54,
     "metadata": {},
     "output_type": "execute_result"
    }
   ],
   "source": [
    "df_2['sentiment'].value_counts()\n"
   ]
  },
  {
   "cell_type": "markdown",
   "id": "5477cd9b",
   "metadata": {
    "id": "5477cd9b"
   },
   "source": [
    "### Discussion"
   ]
  },
  {
   "cell_type": "markdown",
   "id": "9c54bfd1",
   "metadata": {
    "id": "9c54bfd1"
   },
   "source": [
    "The sentiment analysis was interesting. Though, mostly a tool to apply topic modeling to both positive and negative tweets. Breaking down the topic modeling based on positve and negative sentiments yields interesting results, and provides more insight into the general sentiment of the public. I performed the topic modeling on positive and negative tweets using both the CountVectorizer and tfidf. Ultimately I decided to keep the tfidf in my project because it provided more association between words/more impactful words in each topic. It seemed to have almost a smoothing affect.\n",
    "\n",
    "As you look through the different topics in the positive category, you will find the most salient words are similar (as are their meanings). Words  that come up often are peace, good, best, support, help, aid, US, Russia, Ukraine etc. Most of the words don't stand out as meaningful.\n",
    "\n",
    "There were more illuminating insights in the negative tweets. The more interesting topics seemed to come out of the negative category. Salient words like: 'live', 'link', 'germany', 'cup', 'poland', 'missile', 'progaganda', 'archive', 'video', 'kherson', and 'nato' dominated most topics. There are more than double the amount of tweets categorized as negative as there are positive, and this could play a role in which words are categorized as salient in each topic."
   ]
  },
  {
   "cell_type": "markdown",
   "id": "20d17d39",
   "metadata": {
    "id": "20d17d39"
   },
   "source": [
    "### Conclusion"
   ]
  },
  {
   "cell_type": "markdown",
   "id": "ukvv1j3UMQau",
   "metadata": {
    "id": "ukvv1j3UMQau"
   },
   "source": [
    "Overall, I found this project very interesting. I know the analysis I performed barely scratched the surface of what could be done with this dataset. In the future, I would probably try to add back in more columns, expand my analysis to include seeing what topics were retweeted the most, clustering tweets based on location, and comparing tweets in English to tweets in other languages, since this is an international issue."
   ]
  }
 ],
 "metadata": {
  "accelerator": "GPU",
  "colab": {
   "collapsed_sections": [
    "2b2e6367"
   ],
   "provenance": []
  },
  "gpuClass": "standard",
  "kernelspec": {
   "display_name": "Python 3 (ipykernel)",
   "language": "python",
   "name": "python3"
  },
  "language_info": {
   "codemirror_mode": {
    "name": "ipython",
    "version": 3
   },
   "file_extension": ".py",
   "mimetype": "text/x-python",
   "name": "python",
   "nbconvert_exporter": "python",
   "pygments_lexer": "ipython3",
   "version": "3.9.13"
  }
 },
 "nbformat": 4,
 "nbformat_minor": 5
}
